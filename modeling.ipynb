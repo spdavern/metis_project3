{
 "cells": [
  {
   "cell_type": "code",
   "execution_count": 1,
   "metadata": {
    "ExecuteTime": {
     "end_time": "2019-10-29T08:57:49.581696Z",
     "start_time": "2019-10-29T08:57:48.308469Z"
    }
   },
   "outputs": [
    {
     "name": "stdout",
     "output_type": "stream",
     "text": [
      "Populating the interactive namespace from numpy and matplotlib\n"
     ]
    }
   ],
   "source": [
    "import pandas as pd\n",
    "import numpy as np\n",
    "import pickle\n",
    "from sklearn.linear_model import LogisticRegression, LogisticRegressionCV\n",
    "from sklearn.model_selection import train_test_split\n",
    "from sklearn.metrics import classification_report\n",
    "from sklearn.metrics import f1_score\n",
    "# see https://ipython.readthedocs.io/en/stable/interactive/magics.html\n",
    "%pylab inline\n",
    "# sets backend to render higher res images\n",
    "%config InlineBackend.figure_formats = ['retina']\n",
    "import seaborn as sns\n",
    "sns.set_style(\"whitegrid\")"
   ]
  },
  {
   "cell_type": "markdown",
   "metadata": {},
   "source": [
    "# Load X_df and Y_df pickled in Feature Engineering"
   ]
  },
  {
   "cell_type": "code",
   "execution_count": 2,
   "metadata": {
    "ExecuteTime": {
     "end_time": "2019-10-29T08:57:49.795899Z",
     "start_time": "2019-10-29T08:57:49.584048Z"
    }
   },
   "outputs": [],
   "source": [
    "X_df = pd.read_pickle('./data/interim/X_df.pkl')\n",
    "Y_df = pd.read_pickle('./data/interim/Y_df.pkl')"
   ]
  },
  {
   "cell_type": "markdown",
   "metadata": {},
   "source": [
    "# X and Y are only columns used in modeling"
   ]
  },
  {
   "cell_type": "code",
   "execution_count": 3,
   "metadata": {
    "ExecuteTime": {
     "end_time": "2019-10-29T08:57:49.802411Z",
     "start_time": "2019-10-29T08:57:49.798311Z"
    }
   },
   "outputs": [],
   "source": [
    "X = X_df.drop(labels=['G1_Fall_RIT', 'G1_Winter_RIT', 'G1_Spring_RIT',\\\n",
    "                      'Last_G1_RIT_Season', 'Treatments'],axis=1)"
   ]
  },
  {
   "cell_type": "code",
   "execution_count": 4,
   "metadata": {
    "ExecuteTime": {
     "end_time": "2019-10-29T08:57:49.822397Z",
     "start_time": "2019-10-29T08:57:49.804626Z"
    }
   },
   "outputs": [
    {
     "data": {
      "text/html": [
       "<div>\n",
       "<style scoped>\n",
       "    .dataframe tbody tr th:only-of-type {\n",
       "        vertical-align: middle;\n",
       "    }\n",
       "\n",
       "    .dataframe tbody tr th {\n",
       "        vertical-align: top;\n",
       "    }\n",
       "\n",
       "    .dataframe thead th {\n",
       "        text-align: right;\n",
       "    }\n",
       "</style>\n",
       "<table border=\"1\" class=\"dataframe\">\n",
       "  <thead>\n",
       "    <tr style=\"text-align: right;\">\n",
       "      <th></th>\n",
       "      <th>StudentID</th>\n",
       "      <th>Last_G1_RIT</th>\n",
       "      <th>nTreatments</th>\n",
       "      <th>Female</th>\n",
       "      <th>HomeLanIsEng</th>\n",
       "      <th>PrimaryLanIsEng</th>\n",
       "      <th>LivingWithBothParents</th>\n",
       "      <th>RacialEthnicGroup__American Indian</th>\n",
       "      <th>RacialEthnicGroup__Asian</th>\n",
       "      <th>RacialEthnicGroup__Black</th>\n",
       "      <th>...</th>\n",
       "      <th>MostAttendedSchool__292</th>\n",
       "      <th>MostAttendedSchool__930</th>\n",
       "      <th>MostAttendedSchool__935</th>\n",
       "      <th>MostAttendedSchool__939</th>\n",
       "      <th>MostAttendedSchool__945</th>\n",
       "      <th>MostAttendedSchool__949</th>\n",
       "      <th>MostAttendedSchool__955</th>\n",
       "      <th>MostAttendedSchool__972</th>\n",
       "      <th>MostAttendedSchool__974</th>\n",
       "      <th>MostAttendedSchool__977</th>\n",
       "    </tr>\n",
       "  </thead>\n",
       "  <tbody>\n",
       "    <tr>\n",
       "      <td>0</td>\n",
       "      <td>3967736</td>\n",
       "      <td>178</td>\n",
       "      <td>0</td>\n",
       "      <td>0</td>\n",
       "      <td>0</td>\n",
       "      <td>0</td>\n",
       "      <td>0</td>\n",
       "      <td>0</td>\n",
       "      <td>0</td>\n",
       "      <td>0</td>\n",
       "      <td>...</td>\n",
       "      <td>1</td>\n",
       "      <td>0</td>\n",
       "      <td>0</td>\n",
       "      <td>0</td>\n",
       "      <td>0</td>\n",
       "      <td>0</td>\n",
       "      <td>0</td>\n",
       "      <td>0</td>\n",
       "      <td>0</td>\n",
       "      <td>0</td>\n",
       "    </tr>\n",
       "    <tr>\n",
       "      <td>1</td>\n",
       "      <td>3381735</td>\n",
       "      <td>173</td>\n",
       "      <td>0</td>\n",
       "      <td>1</td>\n",
       "      <td>0</td>\n",
       "      <td>0</td>\n",
       "      <td>1</td>\n",
       "      <td>0</td>\n",
       "      <td>1</td>\n",
       "      <td>0</td>\n",
       "      <td>...</td>\n",
       "      <td>0</td>\n",
       "      <td>0</td>\n",
       "      <td>0</td>\n",
       "      <td>0</td>\n",
       "      <td>0</td>\n",
       "      <td>0</td>\n",
       "      <td>0</td>\n",
       "      <td>0</td>\n",
       "      <td>0</td>\n",
       "      <td>0</td>\n",
       "    </tr>\n",
       "    <tr>\n",
       "      <td>2</td>\n",
       "      <td>3567417</td>\n",
       "      <td>196</td>\n",
       "      <td>0</td>\n",
       "      <td>0</td>\n",
       "      <td>0</td>\n",
       "      <td>1</td>\n",
       "      <td>1</td>\n",
       "      <td>0</td>\n",
       "      <td>0</td>\n",
       "      <td>0</td>\n",
       "      <td>...</td>\n",
       "      <td>0</td>\n",
       "      <td>0</td>\n",
       "      <td>0</td>\n",
       "      <td>0</td>\n",
       "      <td>0</td>\n",
       "      <td>0</td>\n",
       "      <td>0</td>\n",
       "      <td>0</td>\n",
       "      <td>0</td>\n",
       "      <td>0</td>\n",
       "    </tr>\n",
       "    <tr>\n",
       "      <td>3</td>\n",
       "      <td>3130417</td>\n",
       "      <td>211</td>\n",
       "      <td>0</td>\n",
       "      <td>0</td>\n",
       "      <td>1</td>\n",
       "      <td>1</td>\n",
       "      <td>0</td>\n",
       "      <td>0</td>\n",
       "      <td>0</td>\n",
       "      <td>0</td>\n",
       "      <td>...</td>\n",
       "      <td>0</td>\n",
       "      <td>0</td>\n",
       "      <td>0</td>\n",
       "      <td>0</td>\n",
       "      <td>0</td>\n",
       "      <td>0</td>\n",
       "      <td>0</td>\n",
       "      <td>0</td>\n",
       "      <td>0</td>\n",
       "      <td>0</td>\n",
       "    </tr>\n",
       "    <tr>\n",
       "      <td>4</td>\n",
       "      <td>3670417</td>\n",
       "      <td>192</td>\n",
       "      <td>0</td>\n",
       "      <td>0</td>\n",
       "      <td>0</td>\n",
       "      <td>0</td>\n",
       "      <td>1</td>\n",
       "      <td>0</td>\n",
       "      <td>0</td>\n",
       "      <td>1</td>\n",
       "      <td>...</td>\n",
       "      <td>0</td>\n",
       "      <td>0</td>\n",
       "      <td>0</td>\n",
       "      <td>0</td>\n",
       "      <td>0</td>\n",
       "      <td>0</td>\n",
       "      <td>0</td>\n",
       "      <td>0</td>\n",
       "      <td>0</td>\n",
       "      <td>0</td>\n",
       "    </tr>\n",
       "  </tbody>\n",
       "</table>\n",
       "<p>5 rows × 84 columns</p>\n",
       "</div>"
      ],
      "text/plain": [
       "  StudentID Last_G1_RIT  nTreatments  Female  HomeLanIsEng  PrimaryLanIsEng  \\\n",
       "0   3967736         178            0       0             0                0   \n",
       "1   3381735         173            0       1             0                0   \n",
       "2   3567417         196            0       0             0                1   \n",
       "3   3130417         211            0       0             1                1   \n",
       "4   3670417         192            0       0             0                0   \n",
       "\n",
       "   LivingWithBothParents  RacialEthnicGroup__American Indian  \\\n",
       "0                      0                                   0   \n",
       "1                      1                                   0   \n",
       "2                      1                                   0   \n",
       "3                      0                                   0   \n",
       "4                      1                                   0   \n",
       "\n",
       "   RacialEthnicGroup__Asian  RacialEthnicGroup__Black  ...  \\\n",
       "0                         0                         0  ...   \n",
       "1                         1                         0  ...   \n",
       "2                         0                         0  ...   \n",
       "3                         0                         0  ...   \n",
       "4                         0                         1  ...   \n",
       "\n",
       "   MostAttendedSchool__292  MostAttendedSchool__930  MostAttendedSchool__935  \\\n",
       "0                        1                        0                        0   \n",
       "1                        0                        0                        0   \n",
       "2                        0                        0                        0   \n",
       "3                        0                        0                        0   \n",
       "4                        0                        0                        0   \n",
       "\n",
       "   MostAttendedSchool__939  MostAttendedSchool__945  MostAttendedSchool__949  \\\n",
       "0                        0                        0                        0   \n",
       "1                        0                        0                        0   \n",
       "2                        0                        0                        0   \n",
       "3                        0                        0                        0   \n",
       "4                        0                        0                        0   \n",
       "\n",
       "   MostAttendedSchool__955  MostAttendedSchool__972  MostAttendedSchool__974  \\\n",
       "0                        0                        0                        0   \n",
       "1                        0                        0                        0   \n",
       "2                        0                        0                        0   \n",
       "3                        0                        0                        0   \n",
       "4                        0                        0                        0   \n",
       "\n",
       "   MostAttendedSchool__977  \n",
       "0                        0  \n",
       "1                        0  \n",
       "2                        0  \n",
       "3                        0  \n",
       "4                        0  \n",
       "\n",
       "[5 rows x 84 columns]"
      ]
     },
     "execution_count": 4,
     "metadata": {},
     "output_type": "execute_result"
    }
   ],
   "source": [
    "X.head()"
   ]
  },
  {
   "cell_type": "code",
   "execution_count": 5,
   "metadata": {
    "ExecuteTime": {
     "end_time": "2019-10-29T08:57:49.829066Z",
     "start_time": "2019-10-29T08:57:49.824106Z"
    }
   },
   "outputs": [],
   "source": [
    "# X = X_df[['StudentID','Female','HomeLanIsEng','PrimaryLanIsEng',\\\n",
    "#           'LivingWithBothParents','Last_G1_RIT','nTreatments']].copy()\n",
    "Y = Y_df[['Score','LevelCode','MetStandard']].copy()"
   ]
  },
  {
   "cell_type": "markdown",
   "metadata": {},
   "source": [
    "# Cleaning up X and Y\n",
    "Including:\n",
    "* Replacing Last_G1_RIT None values with NaN\n",
    "* Dropping NA's"
   ]
  },
  {
   "cell_type": "code",
   "execution_count": 6,
   "metadata": {
    "ExecuteTime": {
     "end_time": "2019-10-29T08:57:49.853623Z",
     "start_time": "2019-10-29T08:57:49.830708Z"
    }
   },
   "outputs": [
    {
     "name": "stdout",
     "output_type": "stream",
     "text": [
      "The next dataframe should have no rows if successful:\n"
     ]
    },
    {
     "data": {
      "text/html": [
       "<div>\n",
       "<style scoped>\n",
       "    .dataframe tbody tr th:only-of-type {\n",
       "        vertical-align: middle;\n",
       "    }\n",
       "\n",
       "    .dataframe tbody tr th {\n",
       "        vertical-align: top;\n",
       "    }\n",
       "\n",
       "    .dataframe thead th {\n",
       "        text-align: right;\n",
       "    }\n",
       "</style>\n",
       "<table border=\"1\" class=\"dataframe\">\n",
       "  <thead>\n",
       "    <tr style=\"text-align: right;\">\n",
       "      <th></th>\n",
       "      <th>Last_G1_RIT</th>\n",
       "      <th>nTreatments</th>\n",
       "      <th>Female</th>\n",
       "      <th>HomeLanIsEng</th>\n",
       "      <th>PrimaryLanIsEng</th>\n",
       "      <th>LivingWithBothParents</th>\n",
       "      <th>RacialEthnicGroup__American Indian</th>\n",
       "      <th>RacialEthnicGroup__Asian</th>\n",
       "      <th>RacialEthnicGroup__Black</th>\n",
       "      <th>RacialEthnicGroup__Hispanic</th>\n",
       "      <th>...</th>\n",
       "      <th>MostAttendedSchool__939</th>\n",
       "      <th>MostAttendedSchool__945</th>\n",
       "      <th>MostAttendedSchool__949</th>\n",
       "      <th>MostAttendedSchool__955</th>\n",
       "      <th>MostAttendedSchool__972</th>\n",
       "      <th>MostAttendedSchool__974</th>\n",
       "      <th>MostAttendedSchool__977</th>\n",
       "      <th>Score</th>\n",
       "      <th>LevelCode</th>\n",
       "      <th>MetStandard</th>\n",
       "    </tr>\n",
       "    <tr>\n",
       "      <th>StudentID</th>\n",
       "      <th></th>\n",
       "      <th></th>\n",
       "      <th></th>\n",
       "      <th></th>\n",
       "      <th></th>\n",
       "      <th></th>\n",
       "      <th></th>\n",
       "      <th></th>\n",
       "      <th></th>\n",
       "      <th></th>\n",
       "      <th></th>\n",
       "      <th></th>\n",
       "      <th></th>\n",
       "      <th></th>\n",
       "      <th></th>\n",
       "      <th></th>\n",
       "      <th></th>\n",
       "      <th></th>\n",
       "      <th></th>\n",
       "      <th></th>\n",
       "      <th></th>\n",
       "    </tr>\n",
       "  </thead>\n",
       "  <tbody>\n",
       "  </tbody>\n",
       "</table>\n",
       "<p>0 rows × 86 columns</p>\n",
       "</div>"
      ],
      "text/plain": [
       "Empty DataFrame\n",
       "Columns: [Last_G1_RIT, nTreatments, Female, HomeLanIsEng, PrimaryLanIsEng, LivingWithBothParents, RacialEthnicGroup__American Indian, RacialEthnicGroup__Asian, RacialEthnicGroup__Black, RacialEthnicGroup__Hispanic, RacialEthnicGroup__Multiracial, RacialEthnicGroup__Pacific Islander, RacialEthnicGroup__White, MostAttendedSchool__201, MostAttendedSchool__202, MostAttendedSchool__203, MostAttendedSchool__204, MostAttendedSchool__205, MostAttendedSchool__207, MostAttendedSchool__208, MostAttendedSchool__209, MostAttendedSchool__211, MostAttendedSchool__212, MostAttendedSchool__215, MostAttendedSchool__218, MostAttendedSchool__219, MostAttendedSchool__220, MostAttendedSchool__221, MostAttendedSchool__222, MostAttendedSchool__225, MostAttendedSchool__226, MostAttendedSchool__229, MostAttendedSchool__230, MostAttendedSchool__233, MostAttendedSchool__234, MostAttendedSchool__235, MostAttendedSchool__236, MostAttendedSchool__239, MostAttendedSchool__241, MostAttendedSchool__242, MostAttendedSchool__243, MostAttendedSchool__244, MostAttendedSchool__245, MostAttendedSchool__246, MostAttendedSchool__247, MostAttendedSchool__248, MostAttendedSchool__249, MostAttendedSchool__251, MostAttendedSchool__252, MostAttendedSchool__255, MostAttendedSchool__256, MostAttendedSchool__257, MostAttendedSchool__259, MostAttendedSchool__261, MostAttendedSchool__262, MostAttendedSchool__264, MostAttendedSchool__266, MostAttendedSchool__267, MostAttendedSchool__268, MostAttendedSchool__269, MostAttendedSchool__270, MostAttendedSchool__272, MostAttendedSchool__273, MostAttendedSchool__275, MostAttendedSchool__276, MostAttendedSchool__277, MostAttendedSchool__279, MostAttendedSchool__281, MostAttendedSchool__282, MostAttendedSchool__286, MostAttendedSchool__288, MostAttendedSchool__289, MostAttendedSchool__291, MostAttendedSchool__292, MostAttendedSchool__930, MostAttendedSchool__935, MostAttendedSchool__939, MostAttendedSchool__945, MostAttendedSchool__949, MostAttendedSchool__955, MostAttendedSchool__972, MostAttendedSchool__974, MostAttendedSchool__977, Score, LevelCode, MetStandard]\n",
       "Index: []\n",
       "\n",
       "[0 rows x 86 columns]"
      ]
     },
     "execution_count": 6,
     "metadata": {},
     "output_type": "execute_result"
    }
   ],
   "source": [
    "df = pd.concat([X, Y.reset_index(drop=True)], axis=1)\n",
    "df.set_index('StudentID',inplace=True)\n",
    "df['Last_G1_RIT'].replace({None:np.nan},inplace=True)\n",
    "df.dropna(inplace=True)\n",
    "print('The next dataframe should have no rows if successful:')\n",
    "df[df.isnull().any(axis=1)]"
   ]
  },
  {
   "cell_type": "markdown",
   "metadata": {},
   "source": [
    "# Extracting Cleaned X and Y"
   ]
  },
  {
   "cell_type": "code",
   "execution_count": 7,
   "metadata": {
    "ExecuteTime": {
     "end_time": "2019-10-29T08:57:49.861867Z",
     "start_time": "2019-10-29T08:57:49.855734Z"
    }
   },
   "outputs": [],
   "source": [
    "X = df.iloc[:,:-3]\n",
    "Y = df[['MetStandard']]"
   ]
  },
  {
   "cell_type": "markdown",
   "metadata": {},
   "source": [
    "# Train-Test split data:\n",
    "I'll split off test data and then create a CV data set."
   ]
  },
  {
   "cell_type": "code",
   "execution_count": 8,
   "metadata": {
    "ExecuteTime": {
     "end_time": "2019-10-29T08:57:49.877389Z",
     "start_time": "2019-10-29T08:57:49.865759Z"
    }
   },
   "outputs": [],
   "source": [
    "X_tr, X_te, Y_tr, Y_te = train_test_split(X, Y, test_size=0.2, random_state=42)\n",
    "x_train, x_cv, y_train, y_cv = train_test_split(X_tr,Y_tr, test_size=0.2, random_state=42)"
   ]
  },
  {
   "cell_type": "markdown",
   "metadata": {},
   "source": [
    "# Fit Logistic Regression Model"
   ]
  },
  {
   "cell_type": "code",
   "execution_count": 9,
   "metadata": {
    "ExecuteTime": {
     "end_time": "2019-10-29T08:57:50.310256Z",
     "start_time": "2019-10-29T08:57:49.880025Z"
    }
   },
   "outputs": [
    {
     "name": "stderr",
     "output_type": "stream",
     "text": [
      "[Parallel(n_jobs=1)]: Using backend SequentialBackend with 1 concurrent workers.\n",
      "[Parallel(n_jobs=1)]: Done   1 out of   1 | elapsed:    0.4s finished\n"
     ]
    },
    {
     "data": {
      "text/plain": [
       "0.8764044943820225"
      ]
     },
     "execution_count": 9,
     "metadata": {},
     "output_type": "execute_result"
    }
   ],
   "source": [
    "logR = LogisticRegression(C=500,solver='lbfgs',verbose=True,max_iter=1000)\n",
    "logR.fit(x_train, y_train.MetStandard.ravel())\n",
    "y_cv_pred = logR.predict(x_cv)\n",
    "f1_score(y_cv_pred, y_cv.MetStandard.ravel(),pos_label='Y')"
   ]
  },
  {
   "cell_type": "code",
   "execution_count": 10,
   "metadata": {
    "ExecuteTime": {
     "end_time": "2019-10-29T08:57:50.337875Z",
     "start_time": "2019-10-29T08:57:50.312884Z"
    },
    "scrolled": true
   },
   "outputs": [
    {
     "name": "stdout",
     "output_type": "stream",
     "text": [
      "              precision    recall  f1-score   support\n",
      "\n",
      "           N       0.70      0.71      0.71       167\n",
      "           Y       0.88      0.87      0.88       402\n",
      "\n",
      "    accuracy                           0.83       569\n",
      "   macro avg       0.79      0.79      0.79       569\n",
      "weighted avg       0.83      0.83      0.83       569\n",
      "\n"
     ]
    }
   ],
   "source": [
    "print(classification_report(y_cv,y_cv_pred))"
   ]
  },
  {
   "cell_type": "code",
   "execution_count": 11,
   "metadata": {
    "ExecuteTime": {
     "end_time": "2019-10-29T08:57:50.352497Z",
     "start_time": "2019-10-29T08:57:50.340335Z"
    }
   },
   "outputs": [
    {
     "data": {
      "text/html": [
       "<div>\n",
       "<style scoped>\n",
       "    .dataframe tbody tr th:only-of-type {\n",
       "        vertical-align: middle;\n",
       "    }\n",
       "\n",
       "    .dataframe tbody tr th {\n",
       "        vertical-align: top;\n",
       "    }\n",
       "\n",
       "    .dataframe thead th {\n",
       "        text-align: right;\n",
       "    }\n",
       "</style>\n",
       "<table border=\"1\" class=\"dataframe\">\n",
       "  <thead>\n",
       "    <tr style=\"text-align: right;\">\n",
       "      <th></th>\n",
       "      <th>feature</th>\n",
       "      <th>coefficient</th>\n",
       "    </tr>\n",
       "  </thead>\n",
       "  <tbody>\n",
       "    <tr>\n",
       "      <td>0</td>\n",
       "      <td>Last_G1_RIT</td>\n",
       "      <td>0.126218</td>\n",
       "    </tr>\n",
       "    <tr>\n",
       "      <td>1</td>\n",
       "      <td>nTreatments</td>\n",
       "      <td>-1.061937</td>\n",
       "    </tr>\n",
       "    <tr>\n",
       "      <td>2</td>\n",
       "      <td>Female</td>\n",
       "      <td>0.242113</td>\n",
       "    </tr>\n",
       "    <tr>\n",
       "      <td>3</td>\n",
       "      <td>HomeLanIsEng</td>\n",
       "      <td>-0.154898</td>\n",
       "    </tr>\n",
       "    <tr>\n",
       "      <td>4</td>\n",
       "      <td>PrimaryLanIsEng</td>\n",
       "      <td>0.370983</td>\n",
       "    </tr>\n",
       "    <tr>\n",
       "      <td>5</td>\n",
       "      <td>LivingWithBothParents</td>\n",
       "      <td>0.585249</td>\n",
       "    </tr>\n",
       "    <tr>\n",
       "      <td>6</td>\n",
       "      <td>RacialEthnicGroup__American Indian</td>\n",
       "      <td>-4.335870</td>\n",
       "    </tr>\n",
       "    <tr>\n",
       "      <td>7</td>\n",
       "      <td>RacialEthnicGroup__Asian</td>\n",
       "      <td>-1.936229</td>\n",
       "    </tr>\n",
       "    <tr>\n",
       "      <td>8</td>\n",
       "      <td>RacialEthnicGroup__Black</td>\n",
       "      <td>-2.729931</td>\n",
       "    </tr>\n",
       "    <tr>\n",
       "      <td>9</td>\n",
       "      <td>RacialEthnicGroup__Hispanic</td>\n",
       "      <td>-2.768585</td>\n",
       "    </tr>\n",
       "    <tr>\n",
       "      <td>10</td>\n",
       "      <td>RacialEthnicGroup__Multiracial</td>\n",
       "      <td>-2.583396</td>\n",
       "    </tr>\n",
       "    <tr>\n",
       "      <td>11</td>\n",
       "      <td>RacialEthnicGroup__Pacific Islander</td>\n",
       "      <td>-3.031917</td>\n",
       "    </tr>\n",
       "    <tr>\n",
       "      <td>12</td>\n",
       "      <td>RacialEthnicGroup__White</td>\n",
       "      <td>-2.055058</td>\n",
       "    </tr>\n",
       "  </tbody>\n",
       "</table>\n",
       "</div>"
      ],
      "text/plain": [
       "                                feature  coefficient\n",
       "0                           Last_G1_RIT     0.126218\n",
       "1                           nTreatments    -1.061937\n",
       "2                                Female     0.242113\n",
       "3                          HomeLanIsEng    -0.154898\n",
       "4                       PrimaryLanIsEng     0.370983\n",
       "5                 LivingWithBothParents     0.585249\n",
       "6    RacialEthnicGroup__American Indian    -4.335870\n",
       "7              RacialEthnicGroup__Asian    -1.936229\n",
       "8              RacialEthnicGroup__Black    -2.729931\n",
       "9           RacialEthnicGroup__Hispanic    -2.768585\n",
       "10       RacialEthnicGroup__Multiracial    -2.583396\n",
       "11  RacialEthnicGroup__Pacific Islander    -3.031917\n",
       "12             RacialEthnicGroup__White    -2.055058"
      ]
     },
     "execution_count": 11,
     "metadata": {},
     "output_type": "execute_result"
    }
   ],
   "source": [
    "coef = pd.DataFrame({'feature':X.columns,'coefficient':logR.coef_[0]})\n",
    "coef.head(13)"
   ]
  },
  {
   "cell_type": "code",
   "execution_count": 12,
   "metadata": {
    "ExecuteTime": {
     "end_time": "2019-10-29T08:57:58.900632Z",
     "start_time": "2019-10-29T08:57:50.354848Z"
    }
   },
   "outputs": [
    {
     "data": {
      "text/plain": [
       "0.8759305210918114"
      ]
     },
     "execution_count": 12,
     "metadata": {},
     "output_type": "execute_result"
    }
   ],
   "source": [
    "logRcv = LogisticRegressionCV(Cs=500,cv=5,max_iter=1000)\n",
    "logRcv.fit(x_train, y_train.MetStandard.ravel())\n",
    "y_cv_pred = logRcv.predict(x_cv)\n",
    "f1_score(y_cv_pred, y_cv.MetStandard.ravel(),pos_label='Y')"
   ]
  },
  {
   "cell_type": "code",
   "execution_count": 13,
   "metadata": {
    "ExecuteTime": {
     "end_time": "2019-10-29T08:57:58.926585Z",
     "start_time": "2019-10-29T08:57:58.902794Z"
    }
   },
   "outputs": [
    {
     "name": "stdout",
     "output_type": "stream",
     "text": [
      "              precision    recall  f1-score   support\n",
      "\n",
      "           N       0.70      0.69      0.70       167\n",
      "           Y       0.87      0.88      0.88       402\n",
      "\n",
      "    accuracy                           0.82       569\n",
      "   macro avg       0.79      0.79      0.79       569\n",
      "weighted avg       0.82      0.82      0.82       569\n",
      "\n"
     ]
    }
   ],
   "source": [
    "print(classification_report(y_cv,y_cv_pred))"
   ]
  },
  {
   "cell_type": "code",
   "execution_count": null,
   "metadata": {},
   "outputs": [],
   "source": []
  }
 ],
 "metadata": {
  "kernelspec": {
   "display_name": "Python [conda env:metis] *",
   "language": "python",
   "name": "conda-env-metis-py"
  },
  "language_info": {
   "codemirror_mode": {
    "name": "ipython",
    "version": 3
   },
   "file_extension": ".py",
   "mimetype": "text/x-python",
   "name": "python",
   "nbconvert_exporter": "python",
   "pygments_lexer": "ipython3",
   "version": "3.7.3"
  },
  "toc": {
   "base_numbering": 1,
   "nav_menu": {},
   "number_sections": true,
   "sideBar": true,
   "skip_h1_title": false,
   "title_cell": "Table of Contents",
   "title_sidebar": "Contents",
   "toc_cell": false,
   "toc_position": {},
   "toc_section_display": true,
   "toc_window_display": true
  }
 },
 "nbformat": 4,
 "nbformat_minor": 2
}
