{
 "cells": [
  {
   "cell_type": "markdown",
   "metadata": {},
   "source": []
  },
  {
   "cell_type": "code",
   "execution_count": 1,
   "metadata": {
    "ExecuteTime": {
     "end_time": "2019-10-18T00:51:20.921338Z",
     "start_time": "2019-10-18T00:51:20.124780Z"
    }
   },
   "outputs": [],
   "source": [
    "import psycopg2 as pg\n",
    "import pandas as pd\n",
    "import pandas.io.sql as pd_sql"
   ]
  },
  {
   "cell_type": "code",
   "execution_count": 2,
   "metadata": {
    "ExecuteTime": {
     "end_time": "2019-10-18T00:51:21.061099Z",
     "start_time": "2019-10-18T00:51:20.923512Z"
    }
   },
   "outputs": [],
   "source": [
    "# We are also going to do some basic viz\n",
    "import matplotlib.pyplot as plt\n",
    "%matplotlib inline"
   ]
  },
  {
   "cell_type": "code",
   "execution_count": 3,
   "metadata": {
    "ExecuteTime": {
     "end_time": "2019-10-18T00:51:21.066296Z",
     "start_time": "2019-10-18T00:51:21.063607Z"
    }
   },
   "outputs": [],
   "source": [
    "# There is a bug in matplotlib. You cannot set the rc parameters in the same\n",
    "# cell that you use the \"%matplotlib inline\" magic command\n",
    "plt.style.use('ggplot')\n",
    "plt.rc('font', size=18)"
   ]
  },
  {
   "cell_type": "markdown",
   "metadata": {},
   "source": [
    "Open a connection to the Postgress database running on my local machine and create the 'seattle_public_schools' database:"
   ]
  },
  {
   "cell_type": "code",
   "execution_count": 4,
   "metadata": {
    "ExecuteTime": {
     "end_time": "2019-10-18T00:51:26.875513Z",
     "start_time": "2019-10-18T00:51:21.068420Z"
    }
   },
   "outputs": [
    {
     "name": "stdout",
     "output_type": "stream",
     "text": [
      "The database already exists.  Drop it? yes/[n]yes\n",
      "The existing database was dropped and a new empty one create!\n"
     ]
    }
   ],
   "source": [
    "from psycopg2.extensions import ISOLATION_LEVEL_AUTOCOMMIT, ISOLATION_LEVEL_DEFAULT\n",
    "connection_args = {\n",
    "    'host': 'localhost',  # We are connecting to our _local_ version of psql\n",
    "    'dbname': 'postgres',    # Connecting to the default database.\n",
    "    'port': 5432          # port we opened on AWS\n",
    "}\n",
    "connection = pg.connect(**connection_args)\n",
    "connection.set_isolation_level(ISOLATION_LEVEL_AUTOCOMMIT)\n",
    "cur = connection.cursor()\n",
    "dbname = \"seattle_public_schools\"\n",
    "try:\n",
    "    cur.execute('CREATE DATABASE ' + dbname)\n",
    "except pg.errors.DuplicateDatabase:\n",
    "    resp = input('The database already exists.  Drop it? yes/[n]')\n",
    "    if resp.lower() == 'yes':\n",
    "        cur.execute('DROP DATABASE ' + dbname)\n",
    "        cur.execute('CREATE DATABASE ' + dbname)\n",
    "        print('The existing database was dropped and a new empty one create!')\n",
    "    else:\n",
    "        print('Aborted.')\n",
    "cur.close()\n",
    "connection.set_isolation_level(ISOLATION_LEVEL_DEFAULT)\n",
    "connection.close()"
   ]
  },
  {
   "cell_type": "markdown",
   "metadata": {},
   "source": [
    "Create a connection to Postgres on my local machine:"
   ]
  },
  {
   "cell_type": "code",
   "execution_count": 5,
   "metadata": {
    "ExecuteTime": {
     "end_time": "2019-10-18T00:51:26.886434Z",
     "start_time": "2019-10-18T00:51:26.877829Z"
    }
   },
   "outputs": [],
   "source": [
    "# Postgres info to connect\n",
    "connection_args = {\n",
    "    'host': 'localhost',  # We are connecting to our _local_ version of psql\n",
    "    'dbname': dbname,    # Connecting to the default database.\n",
    "    'port': 5432          # port we opened on AWS\n",
    "}\n",
    "connection = pg.connect(**connection_args)"
   ]
  },
  {
   "cell_type": "code",
   "execution_count": 6,
   "metadata": {
    "ExecuteTime": {
     "end_time": "2019-10-18T00:51:26.891771Z",
     "start_time": "2019-10-18T00:51:26.888611Z"
    }
   },
   "outputs": [],
   "source": [
    "cur = connection.cursor()"
   ]
  },
  {
   "cell_type": "code",
   "execution_count": 7,
   "metadata": {
    "ExecuteTime": {
     "end_time": "2019-10-18T00:51:26.896778Z",
     "start_time": "2019-10-18T00:51:26.893648Z"
    }
   },
   "outputs": [],
   "source": [
    "cur.close()\n",
    "connection.close()"
   ]
  },
  {
   "cell_type": "markdown",
   "metadata": {},
   "source": [
    "I'm leaving this workstream at this point.  I was following this tutorial:\n",
    "https://www.dataquest.io/blog/loading-data-into-postgres/"
   ]
  }
 ],
 "metadata": {
  "kernelspec": {
   "display_name": "Python [conda env:metis] *",
   "language": "python",
   "name": "conda-env-metis-py"
  },
  "language_info": {
   "codemirror_mode": {
    "name": "ipython",
    "version": 3
   },
   "file_extension": ".py",
   "mimetype": "text/x-python",
   "name": "python",
   "nbconvert_exporter": "python",
   "pygments_lexer": "ipython3",
   "version": "3.7.3"
  },
  "toc": {
   "base_numbering": 1,
   "nav_menu": {},
   "number_sections": true,
   "sideBar": true,
   "skip_h1_title": false,
   "title_cell": "Table of Contents",
   "title_sidebar": "Contents",
   "toc_cell": false,
   "toc_position": {},
   "toc_section_display": true,
   "toc_window_display": false
  }
 },
 "nbformat": 4,
 "nbformat_minor": 2
}
