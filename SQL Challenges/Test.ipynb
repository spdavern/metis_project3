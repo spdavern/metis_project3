{
 "cells": [
  {
   "cell_type": "code",
   "execution_count": 1,
   "metadata": {
    "ExecuteTime": {
     "end_time": "2019-10-28T00:14:37.767113Z",
     "start_time": "2019-10-28T00:14:36.493687Z"
    }
   },
   "outputs": [],
   "source": [
    "import sqlalchemy as db\n",
    "import pandas as pd\n",
    "params = {\n",
    "    'host': '34.217.89.93',  # Replace with your own database IP Address.\n",
    "    'user': 'ubuntu',\n",
    "    'port': 5432\n",
    "}\n",
    "connection_string = f'postgres://ubuntu:{params[\"host\"]}@{params[\"host\"]}:{params[\"port\"]}/baseball'\n",
    "engine = db.create_engine(connection_string)\n",
    "connection = engine.connect()"
   ]
  },
  {
   "cell_type": "code",
   "execution_count": 2,
   "metadata": {
    "ExecuteTime": {
     "end_time": "2019-10-28T00:14:38.131062Z",
     "start_time": "2019-10-28T00:14:37.770054Z"
    }
   },
   "outputs": [],
   "source": [
    "metadata = db.MetaData()\n",
    "fielding = db.Table('fielding', metadata, autoload=True, autoload_with=engine)\n",
    "query = db.select([fielding.c.playerID, \\\n",
    "                  db.func.min(fielding.c.yearID).label('FirstYearPlayed'), \\\n",
    "                  db.func.max(fielding.c.yearID).label('LastYearPlayed')]).\\\n",
    "        group_by(fielding.c.playerID)\n",
    "results = connection.execute(query)"
   ]
  },
  {
   "cell_type": "code",
   "execution_count": 3,
   "metadata": {
    "ExecuteTime": {
     "end_time": "2019-10-28T00:14:38.192000Z",
     "start_time": "2019-10-28T00:14:38.133678Z"
    }
   },
   "outputs": [
    {
     "name": "stdout",
     "output_type": "stream",
     "text": [
      "(17981, 3)\n"
     ]
    },
    {
     "data": {
      "text/html": [
       "<div>\n",
       "<style scoped>\n",
       "    .dataframe tbody tr th:only-of-type {\n",
       "        vertical-align: middle;\n",
       "    }\n",
       "\n",
       "    .dataframe tbody tr th {\n",
       "        vertical-align: top;\n",
       "    }\n",
       "\n",
       "    .dataframe thead th {\n",
       "        text-align: right;\n",
       "    }\n",
       "</style>\n",
       "<table border=\"1\" class=\"dataframe\">\n",
       "  <thead>\n",
       "    <tr style=\"text-align: right;\">\n",
       "      <th></th>\n",
       "      <th>playerID</th>\n",
       "      <th>FirstYearPlayed</th>\n",
       "      <th>LastYearPlayed</th>\n",
       "    </tr>\n",
       "  </thead>\n",
       "  <tbody>\n",
       "    <tr>\n",
       "      <td>0</td>\n",
       "      <td>jacobar01</td>\n",
       "      <td>1939</td>\n",
       "      <td>1939</td>\n",
       "    </tr>\n",
       "    <tr>\n",
       "      <td>1</td>\n",
       "      <td>kriegbi01</td>\n",
       "      <td>1884</td>\n",
       "      <td>1887</td>\n",
       "    </tr>\n",
       "    <tr>\n",
       "      <td>2</td>\n",
       "      <td>peppela01</td>\n",
       "      <td>1954</td>\n",
       "      <td>1957</td>\n",
       "    </tr>\n",
       "    <tr>\n",
       "      <td>3</td>\n",
       "      <td>loesbi01</td>\n",
       "      <td>1950</td>\n",
       "      <td>1961</td>\n",
       "    </tr>\n",
       "    <tr>\n",
       "      <td>4</td>\n",
       "      <td>cathete01</td>\n",
       "      <td>1912</td>\n",
       "      <td>1915</td>\n",
       "    </tr>\n",
       "  </tbody>\n",
       "</table>\n",
       "</div>"
      ],
      "text/plain": [
       "    playerID  FirstYearPlayed  LastYearPlayed\n",
       "0  jacobar01             1939            1939\n",
       "1  kriegbi01             1884            1887\n",
       "2  peppela01             1954            1957\n",
       "3   loesbi01             1950            1961\n",
       "4  cathete01             1912            1915"
      ]
     },
     "execution_count": 3,
     "metadata": {},
     "output_type": "execute_result"
    }
   ],
   "source": [
    "df = pd.DataFrame(results)\n",
    "df.columns = results.keys()\n",
    "print(df.shape)\n",
    "df.head()"
   ]
  },
  {
   "cell_type": "code",
   "execution_count": 4,
   "metadata": {
    "ExecuteTime": {
     "end_time": "2019-10-28T00:14:38.197714Z",
     "start_time": "2019-10-28T00:14:38.194366Z"
    }
   },
   "outputs": [
    {
     "name": "stdout",
     "output_type": "stream",
     "text": [
      "SELECT fielding.\"playerID\", min(fielding.\"yearID\") AS \"FirstYearPlayed\", max(fielding.\"yearID\") AS \"LastYearPlayed\" \n",
      "FROM fielding GROUP BY fielding.\"playerID\"\n"
     ]
    }
   ],
   "source": [
    "print(query)"
   ]
  },
  {
   "cell_type": "code",
   "execution_count": 5,
   "metadata": {
    "ExecuteTime": {
     "end_time": "2019-10-28T00:14:38.306337Z",
     "start_time": "2019-10-28T00:14:38.199693Z"
    }
   },
   "outputs": [],
   "source": [
    "results = connection.execute('SELECT fielding.\"playerID\", \\\n",
    "                             min(fielding.\"yearID\") AS \"FirstYearPlayed\", \\\n",
    "                             max(fielding.\"yearID\") AS \"LastYearPlayed\" \\\n",
    "                             FROM fielding GROUP BY fielding.\"playerID\"')"
   ]
  },
  {
   "cell_type": "code",
   "execution_count": 6,
   "metadata": {
    "ExecuteTime": {
     "end_time": "2019-10-28T00:14:38.378926Z",
     "start_time": "2019-10-28T00:14:38.308686Z"
    }
   },
   "outputs": [
    {
     "name": "stdout",
     "output_type": "stream",
     "text": [
      "(17981, 3)\n"
     ]
    },
    {
     "data": {
      "text/html": [
       "<div>\n",
       "<style scoped>\n",
       "    .dataframe tbody tr th:only-of-type {\n",
       "        vertical-align: middle;\n",
       "    }\n",
       "\n",
       "    .dataframe tbody tr th {\n",
       "        vertical-align: top;\n",
       "    }\n",
       "\n",
       "    .dataframe thead th {\n",
       "        text-align: right;\n",
       "    }\n",
       "</style>\n",
       "<table border=\"1\" class=\"dataframe\">\n",
       "  <thead>\n",
       "    <tr style=\"text-align: right;\">\n",
       "      <th></th>\n",
       "      <th>playerID</th>\n",
       "      <th>FirstYearPlayed</th>\n",
       "      <th>LastYearPlayed</th>\n",
       "    </tr>\n",
       "  </thead>\n",
       "  <tbody>\n",
       "    <tr>\n",
       "      <td>0</td>\n",
       "      <td>jacobar01</td>\n",
       "      <td>1939</td>\n",
       "      <td>1939</td>\n",
       "    </tr>\n",
       "    <tr>\n",
       "      <td>1</td>\n",
       "      <td>kriegbi01</td>\n",
       "      <td>1884</td>\n",
       "      <td>1887</td>\n",
       "    </tr>\n",
       "    <tr>\n",
       "      <td>2</td>\n",
       "      <td>peppela01</td>\n",
       "      <td>1954</td>\n",
       "      <td>1957</td>\n",
       "    </tr>\n",
       "    <tr>\n",
       "      <td>3</td>\n",
       "      <td>loesbi01</td>\n",
       "      <td>1950</td>\n",
       "      <td>1961</td>\n",
       "    </tr>\n",
       "    <tr>\n",
       "      <td>4</td>\n",
       "      <td>cathete01</td>\n",
       "      <td>1912</td>\n",
       "      <td>1915</td>\n",
       "    </tr>\n",
       "  </tbody>\n",
       "</table>\n",
       "</div>"
      ],
      "text/plain": [
       "    playerID  FirstYearPlayed  LastYearPlayed\n",
       "0  jacobar01             1939            1939\n",
       "1  kriegbi01             1884            1887\n",
       "2  peppela01             1954            1957\n",
       "3   loesbi01             1950            1961\n",
       "4  cathete01             1912            1915"
      ]
     },
     "execution_count": 6,
     "metadata": {},
     "output_type": "execute_result"
    }
   ],
   "source": [
    "df = pd.DataFrame(results)\n",
    "df.columns = results.keys()\n",
    "print(df.shape)\n",
    "df.head()"
   ]
  },
  {
   "cell_type": "code",
   "execution_count": 7,
   "metadata": {
    "ExecuteTime": {
     "end_time": "2019-10-28T00:14:38.538609Z",
     "start_time": "2019-10-28T00:14:38.381118Z"
    }
   },
   "outputs": [],
   "source": [
    "from sqlalchemy.orm import sessionmaker\n",
    "# create a configured \"Session\" class\n",
    "Session = sessionmaker(bind=engine)\n",
    "# create a Session\n",
    "session = Session()       \n",
    "playRange = session.query(fielding.c.playerID.label('playerID'), \\\n",
    "                          db.func.min(fielding.c.yearID).label('FirstYearPlayed'), \\\n",
    "                          db.func.max(fielding.c.yearID).label('LastYearPlayed')).\\\n",
    "            group_by(fielding.c.playerID).subquery()\n",
    "query = db.select([playRange])\n",
    "results = connection.execute(query).fetchall()"
   ]
  },
  {
   "cell_type": "code",
   "execution_count": 8,
   "metadata": {
    "ExecuteTime": {
     "end_time": "2019-10-28T00:14:38.562335Z",
     "start_time": "2019-10-28T00:14:38.541734Z"
    }
   },
   "outputs": [
    {
     "name": "stdout",
     "output_type": "stream",
     "text": [
      "(17981, 3)\n"
     ]
    },
    {
     "data": {
      "text/html": [
       "<div>\n",
       "<style scoped>\n",
       "    .dataframe tbody tr th:only-of-type {\n",
       "        vertical-align: middle;\n",
       "    }\n",
       "\n",
       "    .dataframe tbody tr th {\n",
       "        vertical-align: top;\n",
       "    }\n",
       "\n",
       "    .dataframe thead th {\n",
       "        text-align: right;\n",
       "    }\n",
       "</style>\n",
       "<table border=\"1\" class=\"dataframe\">\n",
       "  <thead>\n",
       "    <tr style=\"text-align: right;\">\n",
       "      <th></th>\n",
       "      <th>playerID</th>\n",
       "      <th>FirstYearPlayed</th>\n",
       "      <th>LastYearPlayed</th>\n",
       "    </tr>\n",
       "  </thead>\n",
       "  <tbody>\n",
       "    <tr>\n",
       "      <td>0</td>\n",
       "      <td>jacobar01</td>\n",
       "      <td>1939</td>\n",
       "      <td>1939</td>\n",
       "    </tr>\n",
       "    <tr>\n",
       "      <td>1</td>\n",
       "      <td>kriegbi01</td>\n",
       "      <td>1884</td>\n",
       "      <td>1887</td>\n",
       "    </tr>\n",
       "    <tr>\n",
       "      <td>2</td>\n",
       "      <td>peppela01</td>\n",
       "      <td>1954</td>\n",
       "      <td>1957</td>\n",
       "    </tr>\n",
       "    <tr>\n",
       "      <td>3</td>\n",
       "      <td>loesbi01</td>\n",
       "      <td>1950</td>\n",
       "      <td>1961</td>\n",
       "    </tr>\n",
       "    <tr>\n",
       "      <td>4</td>\n",
       "      <td>cathete01</td>\n",
       "      <td>1912</td>\n",
       "      <td>1915</td>\n",
       "    </tr>\n",
       "  </tbody>\n",
       "</table>\n",
       "</div>"
      ],
      "text/plain": [
       "    playerID  FirstYearPlayed  LastYearPlayed\n",
       "0  jacobar01             1939            1939\n",
       "1  kriegbi01             1884            1887\n",
       "2  peppela01             1954            1957\n",
       "3   loesbi01             1950            1961\n",
       "4  cathete01             1912            1915"
      ]
     },
     "execution_count": 8,
     "metadata": {},
     "output_type": "execute_result"
    }
   ],
   "source": [
    "df = pd.DataFrame(results)\n",
    "df.columns = results[0].keys()\n",
    "print(df.shape)\n",
    "df.head()"
   ]
  },
  {
   "cell_type": "markdown",
   "metadata": {},
   "source": [
    "Suggestion from Roberto:"
   ]
  },
  {
   "cell_type": "code",
   "execution_count": 12,
   "metadata": {
    "ExecuteTime": {
     "end_time": "2019-10-28T00:16:29.567174Z",
     "start_time": "2019-10-28T00:16:29.396937Z"
    },
    "scrolled": true
   },
   "outputs": [
    {
     "data": {
      "text/html": [
       "<div>\n",
       "<style scoped>\n",
       "    .dataframe tbody tr th:only-of-type {\n",
       "        vertical-align: middle;\n",
       "    }\n",
       "\n",
       "    .dataframe tbody tr th {\n",
       "        vertical-align: top;\n",
       "    }\n",
       "\n",
       "    .dataframe thead th {\n",
       "        text-align: right;\n",
       "    }\n",
       "</style>\n",
       "<table border=\"1\" class=\"dataframe\">\n",
       "  <thead>\n",
       "    <tr style=\"text-align: right;\">\n",
       "      <th></th>\n",
       "      <th>playerID</th>\n",
       "      <th>FirstYearPlayed</th>\n",
       "      <th>LastYearPlayed</th>\n",
       "    </tr>\n",
       "  </thead>\n",
       "  <tbody>\n",
       "    <tr>\n",
       "      <td>0</td>\n",
       "      <td>jacobar01</td>\n",
       "      <td>1939</td>\n",
       "      <td>1939</td>\n",
       "    </tr>\n",
       "    <tr>\n",
       "      <td>1</td>\n",
       "      <td>kriegbi01</td>\n",
       "      <td>1884</td>\n",
       "      <td>1887</td>\n",
       "    </tr>\n",
       "    <tr>\n",
       "      <td>2</td>\n",
       "      <td>peppela01</td>\n",
       "      <td>1954</td>\n",
       "      <td>1957</td>\n",
       "    </tr>\n",
       "    <tr>\n",
       "      <td>3</td>\n",
       "      <td>loesbi01</td>\n",
       "      <td>1950</td>\n",
       "      <td>1961</td>\n",
       "    </tr>\n",
       "    <tr>\n",
       "      <td>4</td>\n",
       "      <td>cathete01</td>\n",
       "      <td>1912</td>\n",
       "      <td>1915</td>\n",
       "    </tr>\n",
       "    <tr>\n",
       "      <td>...</td>\n",
       "      <td>...</td>\n",
       "      <td>...</td>\n",
       "      <td>...</td>\n",
       "    </tr>\n",
       "    <tr>\n",
       "      <td>17976</td>\n",
       "      <td>halldr01</td>\n",
       "      <td>1986</td>\n",
       "      <td>1990</td>\n",
       "    </tr>\n",
       "    <tr>\n",
       "      <td>17977</td>\n",
       "      <td>peppedo01</td>\n",
       "      <td>1966</td>\n",
       "      <td>1966</td>\n",
       "    </tr>\n",
       "    <tr>\n",
       "      <td>17978</td>\n",
       "      <td>sembeca01</td>\n",
       "      <td>1965</td>\n",
       "      <td>1970</td>\n",
       "    </tr>\n",
       "    <tr>\n",
       "      <td>17979</td>\n",
       "      <td>zinnfr01</td>\n",
       "      <td>1888</td>\n",
       "      <td>1888</td>\n",
       "    </tr>\n",
       "    <tr>\n",
       "      <td>17980</td>\n",
       "      <td>gladdda01</td>\n",
       "      <td>1983</td>\n",
       "      <td>1993</td>\n",
       "    </tr>\n",
       "  </tbody>\n",
       "</table>\n",
       "<p>17981 rows × 3 columns</p>\n",
       "</div>"
      ],
      "text/plain": [
       "        playerID  FirstYearPlayed  LastYearPlayed\n",
       "0      jacobar01             1939            1939\n",
       "1      kriegbi01             1884            1887\n",
       "2      peppela01             1954            1957\n",
       "3       loesbi01             1950            1961\n",
       "4      cathete01             1912            1915\n",
       "...          ...              ...             ...\n",
       "17976   halldr01             1986            1990\n",
       "17977  peppedo01             1966            1966\n",
       "17978  sembeca01             1965            1970\n",
       "17979   zinnfr01             1888            1888\n",
       "17980  gladdda01             1983            1993\n",
       "\n",
       "[17981 rows x 3 columns]"
      ]
     },
     "execution_count": 12,
     "metadata": {},
     "output_type": "execute_result"
    }
   ],
   "source": [
    "pd.read_sql_query(query, connection)"
   ]
  },
  {
   "cell_type": "code",
   "execution_count": 13,
   "metadata": {
    "ExecuteTime": {
     "end_time": "2019-10-28T00:23:13.124088Z",
     "start_time": "2019-10-28T00:23:13.120800Z"
    }
   },
   "outputs": [
    {
     "name": "stdout",
     "output_type": "stream",
     "text": [
      "SELECT anon_1.\"playerID\", anon_1.\"FirstYearPlayed\", anon_1.\"LastYearPlayed\" \n",
      "FROM (SELECT fielding.\"playerID\" AS \"playerID\", min(fielding.\"yearID\") AS \"FirstYearPlayed\", max(fielding.\"yearID\") AS \"LastYearPlayed\" \n",
      "FROM fielding GROUP BY fielding.\"playerID\") AS anon_1\n"
     ]
    }
   ],
   "source": [
    "print(query)"
   ]
  },
  {
   "cell_type": "code",
   "execution_count": 23,
   "metadata": {
    "ExecuteTime": {
     "end_time": "2019-10-28T00:37:49.044838Z",
     "start_time": "2019-10-28T00:37:48.884675Z"
    }
   },
   "outputs": [
    {
     "data": {
      "text/html": [
       "<div>\n",
       "<style scoped>\n",
       "    .dataframe tbody tr th:only-of-type {\n",
       "        vertical-align: middle;\n",
       "    }\n",
       "\n",
       "    .dataframe tbody tr th {\n",
       "        vertical-align: top;\n",
       "    }\n",
       "\n",
       "    .dataframe thead th {\n",
       "        text-align: right;\n",
       "    }\n",
       "</style>\n",
       "<table border=\"1\" class=\"dataframe\">\n",
       "  <thead>\n",
       "    <tr style=\"text-align: right;\">\n",
       "      <th></th>\n",
       "      <th>playerID</th>\n",
       "      <th>FirstYearPlayed</th>\n",
       "      <th>LastYearPlayed</th>\n",
       "    </tr>\n",
       "  </thead>\n",
       "  <tbody>\n",
       "    <tr>\n",
       "      <td>0</td>\n",
       "      <td>jacobar01</td>\n",
       "      <td>1939</td>\n",
       "      <td>1939</td>\n",
       "    </tr>\n",
       "    <tr>\n",
       "      <td>1</td>\n",
       "      <td>kriegbi01</td>\n",
       "      <td>1884</td>\n",
       "      <td>1887</td>\n",
       "    </tr>\n",
       "    <tr>\n",
       "      <td>2</td>\n",
       "      <td>peppela01</td>\n",
       "      <td>1954</td>\n",
       "      <td>1957</td>\n",
       "    </tr>\n",
       "    <tr>\n",
       "      <td>3</td>\n",
       "      <td>loesbi01</td>\n",
       "      <td>1950</td>\n",
       "      <td>1961</td>\n",
       "    </tr>\n",
       "    <tr>\n",
       "      <td>4</td>\n",
       "      <td>cathete01</td>\n",
       "      <td>1912</td>\n",
       "      <td>1915</td>\n",
       "    </tr>\n",
       "    <tr>\n",
       "      <td>...</td>\n",
       "      <td>...</td>\n",
       "      <td>...</td>\n",
       "      <td>...</td>\n",
       "    </tr>\n",
       "    <tr>\n",
       "      <td>17976</td>\n",
       "      <td>halldr01</td>\n",
       "      <td>1986</td>\n",
       "      <td>1990</td>\n",
       "    </tr>\n",
       "    <tr>\n",
       "      <td>17977</td>\n",
       "      <td>peppedo01</td>\n",
       "      <td>1966</td>\n",
       "      <td>1966</td>\n",
       "    </tr>\n",
       "    <tr>\n",
       "      <td>17978</td>\n",
       "      <td>sembeca01</td>\n",
       "      <td>1965</td>\n",
       "      <td>1970</td>\n",
       "    </tr>\n",
       "    <tr>\n",
       "      <td>17979</td>\n",
       "      <td>zinnfr01</td>\n",
       "      <td>1888</td>\n",
       "      <td>1888</td>\n",
       "    </tr>\n",
       "    <tr>\n",
       "      <td>17980</td>\n",
       "      <td>gladdda01</td>\n",
       "      <td>1983</td>\n",
       "      <td>1993</td>\n",
       "    </tr>\n",
       "  </tbody>\n",
       "</table>\n",
       "<p>17981 rows × 3 columns</p>\n",
       "</div>"
      ],
      "text/plain": [
       "        playerID  FirstYearPlayed  LastYearPlayed\n",
       "0      jacobar01             1939            1939\n",
       "1      kriegbi01             1884            1887\n",
       "2      peppela01             1954            1957\n",
       "3       loesbi01             1950            1961\n",
       "4      cathete01             1912            1915\n",
       "...          ...              ...             ...\n",
       "17976   halldr01             1986            1990\n",
       "17977  peppedo01             1966            1966\n",
       "17978  sembeca01             1965            1970\n",
       "17979   zinnfr01             1888            1888\n",
       "17980  gladdda01             1983            1993\n",
       "\n",
       "[17981 rows x 3 columns]"
      ]
     },
     "execution_count": 23,
     "metadata": {},
     "output_type": "execute_result"
    }
   ],
   "source": [
    "query = 'SELECT fielding.\"playerID\" AS \"playerID\",\\\n",
    "                min(fielding.\"yearID\") as \"FirstYearPlayed\",\\\n",
    "                max(fielding.\"yearID\") as \"LastYearPlayed\" \\\n",
    "                FROM fielding GROUP BY fielding.\"playerID\"'\n",
    "pd.read_sql_query(query, connection)"
   ]
  },
  {
   "cell_type": "code",
   "execution_count": null,
   "metadata": {},
   "outputs": [],
   "source": []
  }
 ],
 "metadata": {
  "kernelspec": {
   "display_name": "Python [conda env:metis] *",
   "language": "python",
   "name": "conda-env-metis-py"
  },
  "language_info": {
   "codemirror_mode": {
    "name": "ipython",
    "version": 3
   },
   "file_extension": ".py",
   "mimetype": "text/x-python",
   "name": "python",
   "nbconvert_exporter": "python",
   "pygments_lexer": "ipython3",
   "version": "3.7.3"
  },
  "toc": {
   "base_numbering": 1,
   "nav_menu": {},
   "number_sections": true,
   "sideBar": true,
   "skip_h1_title": false,
   "title_cell": "Table of Contents",
   "title_sidebar": "Contents",
   "toc_cell": false,
   "toc_position": {},
   "toc_section_display": true,
   "toc_window_display": false
  }
 },
 "nbformat": 4,
 "nbformat_minor": 2
}
