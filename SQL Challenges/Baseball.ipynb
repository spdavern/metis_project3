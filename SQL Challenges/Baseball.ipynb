{
 "cells": [
  {
   "cell_type": "markdown",
   "metadata": {},
   "source": [
    "# Challenge Set 9\n",
    "## Part II: Baseball Data\n",
    "\n",
    "*Introductory - Intermediate level SQL*\n",
    "\n",
    "--\n",
    "\n",
    "Please complete this exercise via SQLalchemy and Jupyter notebook.\n",
    "\n",
    "We will be working with the Lahman baseball data we uploaded to your AWS instance in class. \n",
    "\n",
    "\n",
    "1. What was the total spent on salaries by each team, each year?\n",
    "\n",
    "2. What is the first and last year played for each player? *Hint:* Create a new table from 'Fielding.csv'.\n",
    "\n",
    "3. Who has played the most all star games?\n",
    "\n",
    "4. Which school has generated the most distinct players? *Hint:* Create new table from 'CollegePlaying.csv'.\n",
    "\n",
    "5. Which players have the longest career? Assume that the `debut` and `finalGame` columns comprise the start and end, respectively, of a player's career. *Hint:* Create a new table from 'Master.csv'. Also note that strings can be converted to dates using the [`DATE`](https://wiki.postgresql.org/wiki/Working_with_Dates_and_Times_in_PostgreSQL#WORKING_with_DATETIME.2C_DATE.2C_and_INTERVAL_VALUES) function and can then be subtracted from each other yielding their difference in days.\n",
    "\n",
    "6. What is the distribution of debut months? *Hint:* Look at the `DATE` and [`EXTRACT`](https://www.postgresql.org/docs/current/static/functions-datetime.html#FUNCTIONS-DATETIME-EXTRACT) functions.\n",
    "\n",
    "7. What is the effect of table join order on mean salary for the players listed in the main (master) table? *Hint:* Perform two different queries, one that joins on playerID in the salary table and other that joins on the same column in the master table. You will have to use left joins for each since right joins are not currently supported with SQLalchemy.\n"
   ]
  },
  {
   "cell_type": "code",
   "execution_count": 1,
   "metadata": {
    "ExecuteTime": {
     "end_time": "2019-10-28T07:46:45.508589Z",
     "start_time": "2019-10-28T07:46:44.965698Z"
    }
   },
   "outputs": [],
   "source": [
    "import sqlalchemy as db\n",
    "import pandas as pd"
   ]
  },
  {
   "cell_type": "markdown",
   "metadata": {},
   "source": [
    "Create a connection to the AWS server instance running postgres:"
   ]
  },
  {
   "cell_type": "code",
   "execution_count": 2,
   "metadata": {
    "ExecuteTime": {
     "end_time": "2019-10-28T07:46:45.813937Z",
     "start_time": "2019-10-28T07:46:45.510561Z"
    }
   },
   "outputs": [
    {
     "data": {
      "text/plain": [
       "['allstarfull',\n",
       " 'salaries',\n",
       " 'schools',\n",
       " 'teams',\n",
       " 'fielding',\n",
       " 'master',\n",
       " 'schools_players']"
      ]
     },
     "execution_count": 2,
     "metadata": {},
     "output_type": "execute_result"
    }
   ],
   "source": [
    "params = {\n",
    "    'host': '34.217.89.93',\n",
    "    'user': 'ubuntu',\n",
    "    'port': 5432\n",
    "}\n",
    "connection_string = f'postgres://ubuntu:{params[\"host\"]}@{params[\"host\"]}:{params[\"port\"]}/baseball'\n",
    "engine = db.create_engine(connection_string)\n",
    "connection = engine.connect()\n",
    "metadata = db.MetaData()\n",
    "engine.table_names()"
   ]
  },
  {
   "cell_type": "markdown",
   "metadata": {},
   "source": [
    "Load the teams table if its not already loaded, then get a link to it:"
   ]
  },
  {
   "cell_type": "code",
   "execution_count": 3,
   "metadata": {
    "ExecuteTime": {
     "end_time": "2019-10-28T07:46:45.972001Z",
     "start_time": "2019-10-28T07:46:45.816332Z"
    }
   },
   "outputs": [
    {
     "name": "stdout",
     "output_type": "stream",
     "text": [
      "teams Database table already exists!  teams.drop(engine) and rerun to recreate.\n",
      "# of teams Table fields:  49\n"
     ]
    }
   ],
   "source": [
    "if not engine.dialect.has_table(engine,'teams'):\n",
    "    teams_df = pd.read_csv('baseballdata/teams.csv')\n",
    "    teams_df.to_sql('teams', con=engine)\n",
    "    del teams_df\n",
    "else:\n",
    "    print('teams Database table already exists!  teams.drop(engine) and rerun to recreate.')\n",
    "teams = db.Table('teams', metadata, autoload=True, autoload_with=engine)\n",
    "print('# of teams Table fields: ',len(teams.columns.keys()))"
   ]
  },
  {
   "cell_type": "code",
   "execution_count": 4,
   "metadata": {
    "ExecuteTime": {
     "end_time": "2019-10-28T07:46:46.125006Z",
     "start_time": "2019-10-28T07:46:45.974172Z"
    }
   },
   "outputs": [
    {
     "name": "stdout",
     "output_type": "stream",
     "text": [
      "salaries Database table already exists!  salaries.drop(engine) and rerun to recreate.\n",
      "# of salaries Table fields:  5\n"
     ]
    },
    {
     "data": {
      "text/plain": [
       "['yearid', 'teamid', 'lgid', 'playerid', 'salary']"
      ]
     },
     "execution_count": 4,
     "metadata": {},
     "output_type": "execute_result"
    }
   ],
   "source": [
    "if not engine.dialect.has_table(engine,'salaries'):\n",
    "    salaries_df = pd.read_csv('baseballdata/salaries.csv')\n",
    "    salaries_df.to_sql('salaries', con=engine)\n",
    "    del salaries_df\n",
    "else:\n",
    "    print('salaries Database table already exists!  salaries.drop(engine) and rerun to recreate.')\n",
    "salaries = db.Table('salaries', metadata, autoload=True, autoload_with=engine)\n",
    "print('# of salaries Table fields: ',len(salaries.columns.keys()))\n",
    "salaries.columns.keys()"
   ]
  },
  {
   "cell_type": "markdown",
   "metadata": {
    "ExecuteTime": {
     "end_time": "2019-10-27T06:10:03.486405Z",
     "start_time": "2019-10-27T06:10:03.187231Z"
    }
   },
   "source": [
    "## What was the total spent on salaries by each team, each year?\n",
    "\n",
    "Using information from these sites:  \n",
    "* https://towardsdatascience.com/sqlalchemy-python-tutorial-79a577141a91\n",
    "* https://docs.sqlalchemy.org/en/13/orm/session_basics.html#what-does-the-session-do\n",
    "* https://blog.miguelgrinberg.com/post/nested-queries-with-sqlalchemy-orm"
   ]
  },
  {
   "cell_type": "code",
   "execution_count": 5,
   "metadata": {
    "ExecuteTime": {
     "end_time": "2019-10-28T07:46:46.184607Z",
     "start_time": "2019-10-28T07:46:46.127038Z"
    }
   },
   "outputs": [],
   "source": [
    "from sqlalchemy.orm import sessionmaker\n",
    "# create a configured \"Session\" class\n",
    "Session = sessionmaker(bind=engine)\n",
    "# create a Session\n",
    "session = Session()"
   ]
  },
  {
   "cell_type": "code",
   "execution_count": 6,
   "metadata": {
    "ExecuteTime": {
     "end_time": "2019-10-28T07:46:46.189615Z",
     "start_time": "2019-10-28T07:46:46.186339Z"
    }
   },
   "outputs": [],
   "source": [
    "subq = session.query(teams.c.yearID,teams.c.lgID,teams.c.teamID,teams.c.name).subquery()"
   ]
  },
  {
   "cell_type": "code",
   "execution_count": 7,
   "metadata": {
    "ExecuteTime": {
     "end_time": "2019-10-28T07:46:46.193445Z",
     "start_time": "2019-10-28T07:46:46.191392Z"
    }
   },
   "outputs": [],
   "source": [
    "# results = connection.execute(subq)\n",
    "# df = pd.DataFrame(results)\n",
    "# df.columns = results.keys()\n",
    "# df[df.yearID>1984]"
   ]
  },
  {
   "cell_type": "code",
   "execution_count": 8,
   "metadata": {
    "ExecuteTime": {
     "end_time": "2019-10-28T07:46:46.201195Z",
     "start_time": "2019-10-28T07:46:46.196979Z"
    }
   },
   "outputs": [],
   "source": [
    "subq2 = session.query(salaries.c.yearid,\\\n",
    "                   salaries.c.lgid,\\\n",
    "                   salaries.c.teamid,\\\n",
    "                   db.func.sum(salaries.c.salary).label('Salaries')).\\\n",
    "                   group_by(salaries.c.yearid,\\\n",
    "                                salaries.c.lgid,\\\n",
    "                               salaries.c.teamid).order_by(salaries.c.yearid,\\\n",
    "                                                           salaries.c.lgid,\\\n",
    "                                                           salaries.c.teamid).subquery()"
   ]
  },
  {
   "cell_type": "code",
   "execution_count": 9,
   "metadata": {
    "ExecuteTime": {
     "end_time": "2019-10-28T07:46:46.206168Z",
     "start_time": "2019-10-28T07:46:46.203854Z"
    }
   },
   "outputs": [],
   "source": [
    "# results = connection.execute(subq2)\n",
    "# df = pd.DataFrame(results)\n",
    "# df.columns = results.keys()\n",
    "# df"
   ]
  },
  {
   "cell_type": "code",
   "execution_count": 10,
   "metadata": {
    "ExecuteTime": {
     "end_time": "2019-10-28T07:46:46.283499Z",
     "start_time": "2019-10-28T07:46:46.208595Z"
    }
   },
   "outputs": [
    {
     "data": {
      "text/html": [
       "<div>\n",
       "<style scoped>\n",
       "    .dataframe tbody tr th:only-of-type {\n",
       "        vertical-align: middle;\n",
       "    }\n",
       "\n",
       "    .dataframe tbody tr th {\n",
       "        vertical-align: top;\n",
       "    }\n",
       "\n",
       "    .dataframe thead th {\n",
       "        text-align: right;\n",
       "    }\n",
       "</style>\n",
       "<table border=\"1\" class=\"dataframe\">\n",
       "  <thead>\n",
       "    <tr style=\"text-align: right;\">\n",
       "      <th></th>\n",
       "      <th>yearid</th>\n",
       "      <th>lgid</th>\n",
       "      <th>name</th>\n",
       "      <th>Salaries</th>\n",
       "    </tr>\n",
       "  </thead>\n",
       "  <tbody>\n",
       "    <tr>\n",
       "      <td>0</td>\n",
       "      <td>1985</td>\n",
       "      <td>AL</td>\n",
       "      <td>Toronto Blue Jays</td>\n",
       "      <td>8812550.0</td>\n",
       "    </tr>\n",
       "    <tr>\n",
       "      <td>1</td>\n",
       "      <td>1985</td>\n",
       "      <td>AL</td>\n",
       "      <td>New York Yankees</td>\n",
       "      <td>14238204.0</td>\n",
       "    </tr>\n",
       "    <tr>\n",
       "      <td>2</td>\n",
       "      <td>1985</td>\n",
       "      <td>AL</td>\n",
       "      <td>Detroit Tigers</td>\n",
       "      <td>10348143.0</td>\n",
       "    </tr>\n",
       "    <tr>\n",
       "      <td>3</td>\n",
       "      <td>1985</td>\n",
       "      <td>AL</td>\n",
       "      <td>Baltimore Orioles</td>\n",
       "      <td>11560712.0</td>\n",
       "    </tr>\n",
       "    <tr>\n",
       "      <td>4</td>\n",
       "      <td>1985</td>\n",
       "      <td>AL</td>\n",
       "      <td>Boston Red Sox</td>\n",
       "      <td>10897560.0</td>\n",
       "    </tr>\n",
       "  </tbody>\n",
       "</table>\n",
       "</div>"
      ],
      "text/plain": [
       "   yearid lgid               name    Salaries\n",
       "0    1985   AL  Toronto Blue Jays   8812550.0\n",
       "1    1985   AL   New York Yankees  14238204.0\n",
       "2    1985   AL     Detroit Tigers  10348143.0\n",
       "3    1985   AL  Baltimore Orioles  11560712.0\n",
       "4    1985   AL     Boston Red Sox  10897560.0"
      ]
     },
     "execution_count": 10,
     "metadata": {},
     "output_type": "execute_result"
    }
   ],
   "source": [
    "query = db.select([subq2, subq])\n",
    "query = query.select_from(subq2.join(subq, db.and_(subq2.c.yearid==subq.c.yearID,\\\n",
    "                           subq2.c.lgid==subq.c.lgID,\\\n",
    "                           subq2.c.teamid==subq.c.teamID)))\n",
    "results = connection.execute(query).fetchall()\n",
    "df = pd.DataFrame(results)\n",
    "df.columns = results[0].keys()\n",
    "df[['yearid','lgid','name','Salaries']].head(5)\n"
   ]
  },
  {
   "cell_type": "code",
   "execution_count": 11,
   "metadata": {
    "ExecuteTime": {
     "end_time": "2019-10-28T07:46:46.287954Z",
     "start_time": "2019-10-28T07:46:46.285273Z"
    }
   },
   "outputs": [],
   "source": [
    "session.close()"
   ]
  },
  {
   "cell_type": "markdown",
   "metadata": {},
   "source": [
    "## What is the first and last year played for each player? \n",
    "Hint: Create a new table from 'Fielding.csv'."
   ]
  },
  {
   "cell_type": "code",
   "execution_count": 12,
   "metadata": {
    "ExecuteTime": {
     "end_time": "2019-10-28T07:46:46.443845Z",
     "start_time": "2019-10-28T07:46:46.289773Z"
    }
   },
   "outputs": [
    {
     "name": "stdout",
     "output_type": "stream",
     "text": [
      "fielding Database table already exists!  fielding.drop(engine) and rerun to recreate.\n",
      "# of fielding Table fields:  19\n"
     ]
    }
   ],
   "source": [
    "if not engine.dialect.has_table(engine,'fielding'):\n",
    "    fielding_df = pd.read_csv('baseballdata/Fielding.csv')\n",
    "    fielding_df.to_sql('fielding', con=engine)\n",
    "    del fielding_df\n",
    "else:\n",
    "    print('fielding Database table already exists!  fielding.drop(engine) and rerun to recreate.')\n",
    "fielding = db.Table('fielding', metadata, autoload=True, autoload_with=engine)\n",
    "print('# of fielding Table fields: ',len(fielding.columns.keys()))"
   ]
  },
  {
   "cell_type": "code",
   "execution_count": 13,
   "metadata": {
    "ExecuteTime": {
     "end_time": "2019-10-28T07:46:46.599138Z",
     "start_time": "2019-10-28T07:46:46.446328Z"
    }
   },
   "outputs": [
    {
     "name": "stdout",
     "output_type": "stream",
     "text": [
      "master Database table already exists!  master.drop(engine) and rerun to recreate.\n",
      "# of master Table fields:  25\n"
     ]
    }
   ],
   "source": [
    "if not engine.dialect.has_table(engine,'master'):\n",
    "    master_df = pd.read_csv('baseballdata/master.csv')\n",
    "    master_df.to_sql('master', con=engine)\n",
    "    del master_df\n",
    "else:\n",
    "    print('master Database table already exists!  master.drop(engine) and rerun to recreate.')\n",
    "master = db.Table('master', metadata, autoload=True, autoload_with=engine)\n",
    "print('# of master Table fields: ',len(master.columns.keys()))\n",
    "#master.columns.keys()"
   ]
  },
  {
   "cell_type": "markdown",
   "metadata": {},
   "source": [
    "The next two cells use the db.select method to get the two queries that need to be joined, but I can't figure out how to do the join."
   ]
  },
  {
   "cell_type": "code",
   "execution_count": 14,
   "metadata": {
    "ExecuteTime": {
     "end_time": "2019-10-28T07:46:49.875163Z",
     "start_time": "2019-10-28T07:46:46.601318Z"
    },
    "scrolled": true
   },
   "outputs": [],
   "source": [
    "query = db.select([fielding,master])\n",
    "query = query.select_from(fielding.join(master, fielding.c.playerID==master.c.playerID))\n",
    "results = connection.execute(query).fetchall()\n",
    "# df = pd.DataFrame(results)\n",
    "# df.columns = results[0].keys()\n",
    "# df.head()"
   ]
  },
  {
   "cell_type": "code",
   "execution_count": 15,
   "metadata": {
    "ExecuteTime": {
     "end_time": "2019-10-28T07:46:50.168037Z",
     "start_time": "2019-10-28T07:46:49.877091Z"
    }
   },
   "outputs": [
    {
     "data": {
      "text/html": [
       "<div>\n",
       "<style scoped>\n",
       "    .dataframe tbody tr th:only-of-type {\n",
       "        vertical-align: middle;\n",
       "    }\n",
       "\n",
       "    .dataframe tbody tr th {\n",
       "        vertical-align: top;\n",
       "    }\n",
       "\n",
       "    .dataframe thead th {\n",
       "        text-align: right;\n",
       "    }\n",
       "</style>\n",
       "<table border=\"1\" class=\"dataframe\">\n",
       "  <thead>\n",
       "    <tr style=\"text-align: right;\">\n",
       "      <th></th>\n",
       "      <th>playerID</th>\n",
       "      <th>FirstYearPlayed</th>\n",
       "      <th>LastYearPlayed</th>\n",
       "    </tr>\n",
       "  </thead>\n",
       "  <tbody>\n",
       "    <tr>\n",
       "      <td>0</td>\n",
       "      <td>jacobar01</td>\n",
       "      <td>1939</td>\n",
       "      <td>1939</td>\n",
       "    </tr>\n",
       "    <tr>\n",
       "      <td>1</td>\n",
       "      <td>kriegbi01</td>\n",
       "      <td>1884</td>\n",
       "      <td>1887</td>\n",
       "    </tr>\n",
       "    <tr>\n",
       "      <td>2</td>\n",
       "      <td>peppela01</td>\n",
       "      <td>1954</td>\n",
       "      <td>1957</td>\n",
       "    </tr>\n",
       "    <tr>\n",
       "      <td>3</td>\n",
       "      <td>loesbi01</td>\n",
       "      <td>1950</td>\n",
       "      <td>1961</td>\n",
       "    </tr>\n",
       "    <tr>\n",
       "      <td>4</td>\n",
       "      <td>cathete01</td>\n",
       "      <td>1912</td>\n",
       "      <td>1915</td>\n",
       "    </tr>\n",
       "  </tbody>\n",
       "</table>\n",
       "</div>"
      ],
      "text/plain": [
       "    playerID  FirstYearPlayed  LastYearPlayed\n",
       "0  jacobar01             1939            1939\n",
       "1  kriegbi01             1884            1887\n",
       "2  peppela01             1954            1957\n",
       "3   loesbi01             1950            1961\n",
       "4  cathete01             1912            1915"
      ]
     },
     "execution_count": 15,
     "metadata": {},
     "output_type": "execute_result"
    }
   ],
   "source": [
    "query = db.select([fielding.c.playerID, \\\n",
    "                  db.func.min(fielding.c.yearID).label('FirstYearPlayed'), \\\n",
    "                  db.func.max(fielding.c.yearID).label('LastYearPlayed')]).\\\n",
    "        group_by(fielding.c.playerID)\n",
    "results = connection.execute(query)\n",
    "df = pd.DataFrame(results)\n",
    "df.columns = results.keys()\n",
    "df.shape\n",
    "df.head()"
   ]
  },
  {
   "cell_type": "markdown",
   "metadata": {},
   "source": [
    "Using the Session method gives the answer:"
   ]
  },
  {
   "cell_type": "code",
   "execution_count": 16,
   "metadata": {
    "ExecuteTime": {
     "end_time": "2019-10-28T07:46:50.352133Z",
     "start_time": "2019-10-28T07:46:50.169683Z"
    }
   },
   "outputs": [
    {
     "data": {
      "text/html": [
       "<div>\n",
       "<style scoped>\n",
       "    .dataframe tbody tr th:only-of-type {\n",
       "        vertical-align: middle;\n",
       "    }\n",
       "\n",
       "    .dataframe tbody tr th {\n",
       "        vertical-align: top;\n",
       "    }\n",
       "\n",
       "    .dataframe thead th {\n",
       "        text-align: right;\n",
       "    }\n",
       "</style>\n",
       "<table border=\"1\" class=\"dataframe\">\n",
       "  <thead>\n",
       "    <tr style=\"text-align: right;\">\n",
       "      <th></th>\n",
       "      <th>nameFirst</th>\n",
       "      <th>nameLast</th>\n",
       "      <th>FirstYearPlayed</th>\n",
       "      <th>LastYearPlayed</th>\n",
       "    </tr>\n",
       "  </thead>\n",
       "  <tbody>\n",
       "    <tr>\n",
       "      <td>0</td>\n",
       "      <td>David</td>\n",
       "      <td>Aardsma</td>\n",
       "      <td>2004</td>\n",
       "      <td>2013</td>\n",
       "    </tr>\n",
       "    <tr>\n",
       "      <td>1</td>\n",
       "      <td>Hank</td>\n",
       "      <td>Aaron</td>\n",
       "      <td>1954</td>\n",
       "      <td>1976</td>\n",
       "    </tr>\n",
       "    <tr>\n",
       "      <td>2</td>\n",
       "      <td>Tommie</td>\n",
       "      <td>Aaron</td>\n",
       "      <td>1962</td>\n",
       "      <td>1971</td>\n",
       "    </tr>\n",
       "    <tr>\n",
       "      <td>3</td>\n",
       "      <td>Don</td>\n",
       "      <td>Aase</td>\n",
       "      <td>1977</td>\n",
       "      <td>1990</td>\n",
       "    </tr>\n",
       "    <tr>\n",
       "      <td>4</td>\n",
       "      <td>Andy</td>\n",
       "      <td>Abad</td>\n",
       "      <td>2001</td>\n",
       "      <td>2003</td>\n",
       "    </tr>\n",
       "  </tbody>\n",
       "</table>\n",
       "</div>"
      ],
      "text/plain": [
       "  nameFirst nameLast  FirstYearPlayed  LastYearPlayed\n",
       "0     David  Aardsma             2004            2013\n",
       "1      Hank    Aaron             1954            1976\n",
       "2    Tommie    Aaron             1962            1971\n",
       "3       Don     Aase             1977            1990\n",
       "4      Andy     Abad             2001            2003"
      ]
     },
     "execution_count": 16,
     "metadata": {},
     "output_type": "execute_result"
    }
   ],
   "source": [
    "# create a configured \"Session\" class\n",
    "Session = sessionmaker(bind=engine)\n",
    "# create a Session\n",
    "session = Session()       \n",
    "names = session.query(master.c.playerID,master.c.nameFirst,master.c.nameLast).subquery()\n",
    "playRange = session.query(fielding.c.playerID.label('playerID'), \\\n",
    "                          db.func.min(fielding.c.yearID).label('FirstYearPlayed'), \\\n",
    "                          db.func.max(fielding.c.yearID).label('LastYearPlayed')).\\\n",
    "            group_by(fielding.c.playerID).subquery()\n",
    "query = db.select([playRange, names])\n",
    "query = query.select_from(playRange.join(names, playRange.c.playerID==names.c.playerID))\n",
    "results = connection.execute(query).fetchall()\n",
    "session.close()\n",
    "df = pd.DataFrame(results)\n",
    "df.columns = results[0].keys()\n",
    "df[['nameFirst','nameLast','FirstYearPlayed','LastYearPlayed']].head(5)"
   ]
  },
  {
   "cell_type": "markdown",
   "metadata": {},
   "source": [
    "## Who has played the most all star games?"
   ]
  },
  {
   "cell_type": "code",
   "execution_count": 17,
   "metadata": {
    "ExecuteTime": {
     "end_time": "2019-10-28T07:46:50.482466Z",
     "start_time": "2019-10-28T07:46:50.353853Z"
    }
   },
   "outputs": [
    {
     "data": {
      "text/plain": [
       "['playerid',\n",
       " 'yearid',\n",
       " 'gamenum',\n",
       " 'gameid',\n",
       " 'teamid',\n",
       " 'lgid',\n",
       " 'gp',\n",
       " 'startingpos']"
      ]
     },
     "execution_count": 17,
     "metadata": {},
     "output_type": "execute_result"
    }
   ],
   "source": [
    "AllstarFull = db.Table('allstarfull', metadata, autoload=True, autoload_with=engine)\n",
    "AllstarFull.columns.keys()"
   ]
  },
  {
   "cell_type": "code",
   "execution_count": 18,
   "metadata": {
    "ExecuteTime": {
     "end_time": "2019-10-28T07:46:50.490997Z",
     "start_time": "2019-10-28T07:46:50.484969Z"
    }
   },
   "outputs": [],
   "source": [
    "# create a configured \"Session\" class\n",
    "Session = sessionmaker(bind=engine)\n",
    "# create a Session\n",
    "session = Session()       \n",
    "names = session.query(master.c.playerID,master.c.nameFirst,master.c.nameLast).subquery()\n",
    "allStarGames = session.query(AllstarFull.c.playerid.label('playerID'), \\\n",
    "                          db.func.count(AllstarFull.c.gameid).label('NumAllstarGames')).\\\n",
    "            group_by(AllstarFull.c.playerid).subquery()\n",
    "# query = db.select([allStarGames, names])\n",
    "# query = query.select_from(AllstarFull.join(names, AllstarFull.c.playerid==names.c.playerID))\n",
    "# results = connection.execute(query).fetchall()\n",
    "# session.close()\n",
    "# df = pd.DataFrame(results)\n",
    "# df.columns = results[0].keys()\n",
    "# df[['nameFirst','nameLast','NumAllstarGames']].head(5)"
   ]
  },
  {
   "cell_type": "markdown",
   "metadata": {},
   "source": [
    "Reverting to the method recommended by Roberto:"
   ]
  },
  {
   "cell_type": "code",
   "execution_count": 19,
   "metadata": {
    "ExecuteTime": {
     "end_time": "2019-10-28T07:46:50.511797Z",
     "start_time": "2019-10-28T07:46:50.492871Z"
    }
   },
   "outputs": [
    {
     "data": {
      "text/html": [
       "<div>\n",
       "<style scoped>\n",
       "    .dataframe tbody tr th:only-of-type {\n",
       "        vertical-align: middle;\n",
       "    }\n",
       "\n",
       "    .dataframe tbody tr th {\n",
       "        vertical-align: top;\n",
       "    }\n",
       "\n",
       "    .dataframe thead th {\n",
       "        text-align: right;\n",
       "    }\n",
       "</style>\n",
       "<table border=\"1\" class=\"dataframe\">\n",
       "  <thead>\n",
       "    <tr style=\"text-align: right;\">\n",
       "      <th></th>\n",
       "      <th>playerid</th>\n",
       "      <th>count</th>\n",
       "    </tr>\n",
       "  </thead>\n",
       "  <tbody>\n",
       "    <tr>\n",
       "      <td>0</td>\n",
       "      <td>aaronha01</td>\n",
       "      <td>25</td>\n",
       "    </tr>\n",
       "  </tbody>\n",
       "</table>\n",
       "</div>"
      ],
      "text/plain": [
       "    playerid  count\n",
       "0  aaronha01     25"
      ]
     },
     "execution_count": 19,
     "metadata": {},
     "output_type": "execute_result"
    }
   ],
   "source": [
    "query = 'SELECT playerid,\\\n",
    "                COUNT(gameid) \\\n",
    "         FROM allstarfull \\\n",
    "         GROUP BY playerid ORDER BY count DESC LIMIT 1'\n",
    "pd.read_sql_query(query, connection)"
   ]
  },
  {
   "cell_type": "code",
   "execution_count": 20,
   "metadata": {
    "ExecuteTime": {
     "end_time": "2019-10-28T07:46:50.535837Z",
     "start_time": "2019-10-28T07:46:50.513454Z"
    }
   },
   "outputs": [
    {
     "data": {
      "text/html": [
       "<div>\n",
       "<style scoped>\n",
       "    .dataframe tbody tr th:only-of-type {\n",
       "        vertical-align: middle;\n",
       "    }\n",
       "\n",
       "    .dataframe tbody tr th {\n",
       "        vertical-align: top;\n",
       "    }\n",
       "\n",
       "    .dataframe thead th {\n",
       "        text-align: right;\n",
       "    }\n",
       "</style>\n",
       "<table border=\"1\" class=\"dataframe\">\n",
       "  <thead>\n",
       "    <tr style=\"text-align: right;\">\n",
       "      <th></th>\n",
       "      <th>nameFirst</th>\n",
       "      <th>nameLast</th>\n",
       "      <th>NumAllstarGames</th>\n",
       "    </tr>\n",
       "  </thead>\n",
       "  <tbody>\n",
       "    <tr>\n",
       "      <td>0</td>\n",
       "      <td>Hank</td>\n",
       "      <td>Aaron</td>\n",
       "      <td>25</td>\n",
       "    </tr>\n",
       "  </tbody>\n",
       "</table>\n",
       "</div>"
      ],
      "text/plain": [
       "  nameFirst nameLast  NumAllstarGames\n",
       "0      Hank    Aaron               25"
      ]
     },
     "execution_count": 20,
     "metadata": {},
     "output_type": "execute_result"
    }
   ],
   "source": [
    "query = 'SELECT master.\"nameFirst\", master.\"nameLast\", tbl1.\"NumAllstarGames\" FROM \\\n",
    "         (SELECT playerid,\\\n",
    "                COUNT(gameid) as \"NumAllstarGames\" \\\n",
    "         FROM allstarfull \\\n",
    "         GROUP BY playerid ORDER BY \"NumAllstarGames\" DESC LIMIT 1) AS tbl1 \\\n",
    "         INNER JOIN master ON tbl1.playerid = master.\"playerID\"'\n",
    "pd.read_sql_query(query, connection)"
   ]
  },
  {
   "cell_type": "markdown",
   "metadata": {},
   "source": [
    "## Which school has generated the most distinct players?\n",
    "Hint: Create new table from 'CollegePlaying.csv'. (sic)  Actually is SchoolsPlayers.csv"
   ]
  },
  {
   "cell_type": "code",
   "execution_count": 21,
   "metadata": {
    "ExecuteTime": {
     "end_time": "2019-10-28T07:46:50.691361Z",
     "start_time": "2019-10-28T07:46:50.538279Z"
    }
   },
   "outputs": [
    {
     "name": "stdout",
     "output_type": "stream",
     "text": [
      "schools_players Database table already exists!  schools_players.drop(engine) and rerun to recreate.\n"
     ]
    },
    {
     "data": {
      "text/plain": [
       "['index', 'playerID', 'schoolID', 'yearMin', 'yearMax']"
      ]
     },
     "execution_count": 21,
     "metadata": {},
     "output_type": "execute_result"
    }
   ],
   "source": [
    "if not engine.dialect.has_table(engine,'schools_players'):\n",
    "    schools_players_df = pd.read_csv('baseballdata/SchoolsPlayers.csv')\n",
    "    schools_players_df.to_sql('schools_players', con=engine)\n",
    "    del schools_players_df\n",
    "else:\n",
    "    print('schools_players Database table already exists!  schools_players.drop(engine) and rerun to recreate.')\n",
    "schools_players = db.Table('schools_players', metadata, autoload=True, autoload_with=engine)\n",
    "schools_players.columns.keys()"
   ]
  },
  {
   "cell_type": "code",
   "execution_count": 22,
   "metadata": {
    "ExecuteTime": {
     "end_time": "2019-10-28T07:46:50.820257Z",
     "start_time": "2019-10-28T07:46:50.693576Z"
    }
   },
   "outputs": [
    {
     "data": {
      "text/plain": [
       "['schoolid', 'schoolname', 'schoolcity', 'schoolstate', 'schoolnick']"
      ]
     },
     "execution_count": 22,
     "metadata": {},
     "output_type": "execute_result"
    }
   ],
   "source": [
    "schools = db.Table('schools', metadata, autoload=True, autoload_with=engine)\n",
    "schools.columns.keys()"
   ]
  },
  {
   "cell_type": "code",
   "execution_count": 23,
   "metadata": {
    "ExecuteTime": {
     "end_time": "2019-10-28T07:46:50.854854Z",
     "start_time": "2019-10-28T07:46:50.825717Z"
    }
   },
   "outputs": [
    {
     "data": {
      "text/html": [
       "<div>\n",
       "<style scoped>\n",
       "    .dataframe tbody tr th:only-of-type {\n",
       "        vertical-align: middle;\n",
       "    }\n",
       "\n",
       "    .dataframe tbody tr th {\n",
       "        vertical-align: top;\n",
       "    }\n",
       "\n",
       "    .dataframe thead th {\n",
       "        text-align: right;\n",
       "    }\n",
       "</style>\n",
       "<table border=\"1\" class=\"dataframe\">\n",
       "  <thead>\n",
       "    <tr style=\"text-align: right;\">\n",
       "      <th></th>\n",
       "      <th>schoolname</th>\n",
       "      <th>players_generated</th>\n",
       "    </tr>\n",
       "  </thead>\n",
       "  <tbody>\n",
       "    <tr>\n",
       "      <td>0</td>\n",
       "      <td>University of Southern California</td>\n",
       "      <td>102</td>\n",
       "    </tr>\n",
       "    <tr>\n",
       "      <td>1</td>\n",
       "      <td>University of Texas at Austin</td>\n",
       "      <td>100</td>\n",
       "    </tr>\n",
       "    <tr>\n",
       "      <td>2</td>\n",
       "      <td>Arizona State University</td>\n",
       "      <td>98</td>\n",
       "    </tr>\n",
       "  </tbody>\n",
       "</table>\n",
       "</div>"
      ],
      "text/plain": [
       "                          schoolname  players_generated\n",
       "0  University of Southern California                102\n",
       "1      University of Texas at Austin                100\n",
       "2           Arizona State University                 98"
      ]
     },
     "execution_count": 23,
     "metadata": {},
     "output_type": "execute_result"
    }
   ],
   "source": [
    "query = 'SELECT schools.schoolname, schl.players_generated FROM \\\n",
    "         (SELECT \"schoolID\",\\\n",
    "                COUNT(DISTINCT \"playerID\") AS players_generated \\\n",
    "         FROM schools_players \\\n",
    "         GROUP BY \"schoolID\" \\\n",
    "         ORDER BY players_generated DESC LIMIT 3) AS schl \\\n",
    "         INNER JOIN schools ON schl.\"schoolID\"=schools.schoolid \\\n",
    "         ORDER BY schl.players_generated DESC'\n",
    "pd.read_sql_query(query, connection)"
   ]
  },
  {
   "cell_type": "markdown",
   "metadata": {},
   "source": [
    "## Which players have the longest career? \n",
    "Assume that the `debut` and `finalGame` columns comprise the start and end, respectively, of a player's career. *Hint:* Create a new table from 'Master.csv'. Also note that strings can be converted to dates using the [`DATE`](https://wiki.postgresql.org/wiki/Working_with_Dates_and_Times_in_PostgreSQL#WORKING_with_DATETIME.2C_DATE.2C_and_INTERVAL_VALUES) function and can then be subtracted from each other yielding their difference in days."
   ]
  },
  {
   "cell_type": "code",
   "execution_count": 24,
   "metadata": {
    "ExecuteTime": {
     "end_time": "2019-10-28T07:46:50.860774Z",
     "start_time": "2019-10-28T07:46:50.857217Z"
    }
   },
   "outputs": [
    {
     "name": "stdout",
     "output_type": "stream",
     "text": [
      "debut TEXT\n",
      "finalGame TEXT\n"
     ]
    }
   ],
   "source": [
    "for c in master.columns:\n",
    "    if c.name=='debut' or c.name=='finalGame':\n",
    "        print(c.name, c.type)"
   ]
  },
  {
   "cell_type": "code",
   "execution_count": 25,
   "metadata": {
    "ExecuteTime": {
     "end_time": "2019-10-28T07:46:50.911556Z",
     "start_time": "2019-10-28T07:46:50.862767Z"
    }
   },
   "outputs": [
    {
     "data": {
      "text/html": [
       "<div>\n",
       "<style scoped>\n",
       "    .dataframe tbody tr th:only-of-type {\n",
       "        vertical-align: middle;\n",
       "    }\n",
       "\n",
       "    .dataframe tbody tr th {\n",
       "        vertical-align: top;\n",
       "    }\n",
       "\n",
       "    .dataframe thead th {\n",
       "        text-align: right;\n",
       "    }\n",
       "</style>\n",
       "<table border=\"1\" class=\"dataframe\">\n",
       "  <thead>\n",
       "    <tr style=\"text-align: right;\">\n",
       "      <th></th>\n",
       "      <th>nameFirst</th>\n",
       "      <th>nameLast</th>\n",
       "      <th>career</th>\n",
       "    </tr>\n",
       "  </thead>\n",
       "  <tbody>\n",
       "    <tr>\n",
       "      <td>0</td>\n",
       "      <td>Nick</td>\n",
       "      <td>Altrock</td>\n",
       "      <td>12862</td>\n",
       "    </tr>\n",
       "    <tr>\n",
       "      <td>1</td>\n",
       "      <td>Jim</td>\n",
       "      <td>O'Rourke</td>\n",
       "      <td>11836</td>\n",
       "    </tr>\n",
       "    <tr>\n",
       "      <td>2</td>\n",
       "      <td>Minnie</td>\n",
       "      <td>Minoso</td>\n",
       "      <td>11492</td>\n",
       "    </tr>\n",
       "    <tr>\n",
       "      <td>3</td>\n",
       "      <td>Charley</td>\n",
       "      <td>O'Leary</td>\n",
       "      <td>11126</td>\n",
       "    </tr>\n",
       "    <tr>\n",
       "      <td>4</td>\n",
       "      <td>Arlie</td>\n",
       "      <td>Latham</td>\n",
       "      <td>10678</td>\n",
       "    </tr>\n",
       "  </tbody>\n",
       "</table>\n",
       "</div>"
      ],
      "text/plain": [
       "  nameFirst  nameLast  career\n",
       "0      Nick   Altrock   12862\n",
       "1       Jim  O'Rourke   11836\n",
       "2    Minnie    Minoso   11492\n",
       "3   Charley   O'Leary   11126\n",
       "4     Arlie    Latham   10678"
      ]
     },
     "execution_count": 25,
     "metadata": {},
     "output_type": "execute_result"
    }
   ],
   "source": [
    "query = 'SELECT * FROM \\\n",
    "        (SELECT \"nameFirst\", \\\n",
    "                \"nameLast\", \\\n",
    "                 (DATE(\"finalGame\") - DATE(debut)) as career \\\n",
    "         FROM master) AS tbl1 \\\n",
    "         WHERE tbl1.career IS NOT NULL \\\n",
    "         ORDER BY tbl1.career DESC LIMIT 5'\n",
    "pd.read_sql_query(query, connection)"
   ]
  },
  {
   "cell_type": "markdown",
   "metadata": {},
   "source": [
    "## What is the distribution of debut months? \n",
    "Hint: Look at the DATE and EXTRACT functions."
   ]
  },
  {
   "cell_type": "code",
   "execution_count": 26,
   "metadata": {
    "ExecuteTime": {
     "end_time": "2019-10-28T07:46:50.943958Z",
     "start_time": "2019-10-28T07:46:50.913344Z"
    }
   },
   "outputs": [
    {
     "data": {
      "text/html": [
       "<div>\n",
       "<style scoped>\n",
       "    .dataframe tbody tr th:only-of-type {\n",
       "        vertical-align: middle;\n",
       "    }\n",
       "\n",
       "    .dataframe tbody tr th {\n",
       "        vertical-align: top;\n",
       "    }\n",
       "\n",
       "    .dataframe thead th {\n",
       "        text-align: right;\n",
       "    }\n",
       "</style>\n",
       "<table border=\"1\" class=\"dataframe\">\n",
       "  <thead>\n",
       "    <tr style=\"text-align: right;\">\n",
       "      <th></th>\n",
       "      <th>count</th>\n",
       "    </tr>\n",
       "  </thead>\n",
       "  <tbody>\n",
       "    <tr>\n",
       "      <td>0</td>\n",
       "      <td>0</td>\n",
       "    </tr>\n",
       "    <tr>\n",
       "      <td>1</td>\n",
       "      <td>2230</td>\n",
       "    </tr>\n",
       "    <tr>\n",
       "      <td>2</td>\n",
       "      <td>1893</td>\n",
       "    </tr>\n",
       "    <tr>\n",
       "      <td>3</td>\n",
       "      <td>1978</td>\n",
       "    </tr>\n",
       "    <tr>\n",
       "      <td>4</td>\n",
       "      <td>1943</td>\n",
       "    </tr>\n",
       "    <tr>\n",
       "      <td>5</td>\n",
       "      <td>308</td>\n",
       "    </tr>\n",
       "    <tr>\n",
       "      <td>6</td>\n",
       "      <td>4711</td>\n",
       "    </tr>\n",
       "    <tr>\n",
       "      <td>7</td>\n",
       "      <td>5061</td>\n",
       "    </tr>\n",
       "    <tr>\n",
       "      <td>8</td>\n",
       "      <td>41</td>\n",
       "    </tr>\n",
       "  </tbody>\n",
       "</table>\n",
       "</div>"
      ],
      "text/plain": [
       "   count\n",
       "0      0\n",
       "1   2230\n",
       "2   1893\n",
       "3   1978\n",
       "4   1943\n",
       "5    308\n",
       "6   4711\n",
       "7   5061\n",
       "8     41"
      ]
     },
     "execution_count": 26,
     "metadata": {},
     "output_type": "execute_result"
    }
   ],
   "source": [
    "query = 'SELECT count(dist.month) FROM \\\n",
    "         (SELECT EXTRACT(month from DATE(debut)) AS month FROM master) AS dist\\\n",
    "         GROUP BY dist.month'\n",
    "pd.read_sql_query(query, connection)"
   ]
  },
  {
   "cell_type": "markdown",
   "metadata": {},
   "source": [
    "## What is the effect of table join order on mean salary for the players listed in the main (master) table? \n",
    "Hint: Perform two different queries, one that joins on playerID in the salary table and other that joins on the same column in the master table. You will have to use left joins for each since right joins are not currently supported with SQLalchemy."
   ]
  },
  {
   "cell_type": "code",
   "execution_count": 27,
   "metadata": {
    "ExecuteTime": {
     "end_time": "2019-10-28T07:46:50.947689Z",
     "start_time": "2019-10-28T07:46:50.945551Z"
    }
   },
   "outputs": [],
   "source": [
    "#master.columns.keys()"
   ]
  },
  {
   "cell_type": "code",
   "execution_count": 28,
   "metadata": {
    "ExecuteTime": {
     "end_time": "2019-10-28T07:46:50.953809Z",
     "start_time": "2019-10-28T07:46:50.949712Z"
    }
   },
   "outputs": [
    {
     "data": {
      "text/plain": [
       "['yearid', 'teamid', 'lgid', 'playerid', 'salary']"
      ]
     },
     "execution_count": 28,
     "metadata": {},
     "output_type": "execute_result"
    }
   ],
   "source": [
    "salaries.columns.keys()"
   ]
  },
  {
   "cell_type": "code",
   "execution_count": 29,
   "metadata": {
    "ExecuteTime": {
     "end_time": "2019-10-28T07:46:51.077097Z",
     "start_time": "2019-10-28T07:46:50.955587Z"
    }
   },
   "outputs": [
    {
     "name": "stdout",
     "output_type": "stream",
     "text": [
      "<class 'pandas.core.frame.DataFrame'>\n",
      "RangeIndex: 23956 entries, 0 to 23955\n",
      "Data columns (total 3 columns):\n",
      "nameFirst    23956 non-null object\n",
      "nameLast     23956 non-null object\n",
      "salary       23956 non-null float64\n",
      "dtypes: float64(1), object(2)\n",
      "memory usage: 561.6+ KB\n"
     ]
    }
   ],
   "source": [
    "query = 'SELECT master.\"nameFirst\", master.\"nameLast\", salary FROM salaries \\\n",
    "         LEFT JOIN master ON salaries.playerid=master.\"playerID\" \\\n",
    "         ORDER BY salary DESC'\n",
    "pd.read_sql_query(query, connection).info()"
   ]
  },
  {
   "cell_type": "code",
   "execution_count": 30,
   "metadata": {
    "ExecuteTime": {
     "end_time": "2019-10-28T07:46:51.234959Z",
     "start_time": "2019-10-28T07:46:51.078882Z"
    }
   },
   "outputs": [
    {
     "name": "stdout",
     "output_type": "stream",
     "text": [
      "<class 'pandas.core.frame.DataFrame'>\n",
      "RangeIndex: 37642 entries, 0 to 37641\n",
      "Data columns (total 3 columns):\n",
      "nameFirst    37598 non-null object\n",
      "nameLast     37642 non-null object\n",
      "salary       23956 non-null float64\n",
      "dtypes: float64(1), object(2)\n",
      "memory usage: 882.4+ KB\n"
     ]
    }
   ],
   "source": [
    "query = 'SELECT master.\"nameFirst\", master.\"nameLast\", salary FROM master \\\n",
    "         LEFT JOIN salaries ON master.\"playerID\"=salaries.playerID \\\n",
    "         WHERE salary IS NOT NULL \\\n",
    "         ORDER BY salary DESC'\n",
    "query = 'SELECT master.\"nameFirst\", master.\"nameLast\", salary FROM master \\\n",
    "         LEFT JOIN salaries ON master.\"playerID\"=salaries.playerID \\\n",
    "         ORDER BY salary DESC'\n",
    "pd.read_sql_query(query, connection).info()"
   ]
  },
  {
   "cell_type": "code",
   "execution_count": 31,
   "metadata": {
    "ExecuteTime": {
     "end_time": "2019-10-28T07:46:51.299725Z",
     "start_time": "2019-10-28T07:46:51.237308Z"
    }
   },
   "outputs": [
    {
     "name": "stdout",
     "output_type": "stream",
     "text": [
      "<class 'pandas.core.frame.DataFrame'>\n",
      "RangeIndex: 23956 entries, 0 to 23955\n",
      "Data columns (total 1 columns):\n",
      "salary    23956 non-null float64\n",
      "dtypes: float64(1)\n",
      "memory usage: 187.3 KB\n"
     ]
    }
   ],
   "source": [
    "query = 'SELECT salary FROM salaries ORDER BY salary DESC'\n",
    "pd.read_sql_query(query, connection).info()"
   ]
  },
  {
   "cell_type": "markdown",
   "metadata": {},
   "source": [
    "So, the `SELECT` must only return NOT NULL values and then the `JOIN` is performed on the remaining rows. The `SELECT` on the master table first gets all playerID's and the `JOIN` returns NaN for the rows where the is no salary information. "
   ]
  },
  {
   "cell_type": "code",
   "execution_count": null,
   "metadata": {},
   "outputs": [],
   "source": []
  }
 ],
 "metadata": {
  "kernelspec": {
   "display_name": "Python [conda env:metis] *",
   "language": "python",
   "name": "conda-env-metis-py"
  },
  "language_info": {
   "codemirror_mode": {
    "name": "ipython",
    "version": 3
   },
   "file_extension": ".py",
   "mimetype": "text/x-python",
   "name": "python",
   "nbconvert_exporter": "python",
   "pygments_lexer": "ipython3",
   "version": "3.7.3"
  },
  "toc": {
   "base_numbering": 1,
   "nav_menu": {},
   "number_sections": true,
   "sideBar": true,
   "skip_h1_title": false,
   "title_cell": "Table of Contents",
   "title_sidebar": "Contents",
   "toc_cell": false,
   "toc_position": {},
   "toc_section_display": true,
   "toc_window_display": false
  }
 },
 "nbformat": 4,
 "nbformat_minor": 2
}
