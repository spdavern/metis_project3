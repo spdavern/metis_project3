{
 "cells": [
  {
   "cell_type": "markdown",
   "metadata": {},
   "source": [
    "# pyscopg2 using SSL?"
   ]
  },
  {
   "cell_type": "code",
   "execution_count": null,
   "metadata": {
    "ExecuteTime": {
     "end_time": "2019-10-25T19:17:19.503329Z",
     "start_time": "2019-10-25T19:17:19.443497Z"
    }
   },
   "outputs": [],
   "source": [
    "import psycopg2 as pg\n",
    "IP4_Public_IP = '52.27.126.213'\n",
    "dbname = 'postgres'"
   ]
  },
  {
   "cell_type": "code",
   "execution_count": null,
   "metadata": {
    "ExecuteTime": {
     "end_time": "2019-10-25T19:17:20.926878Z",
     "start_time": "2019-10-25T19:17:20.622755Z"
    }
   },
   "outputs": [],
   "source": [
    "connection_args = {\n",
    "    'host': IP4_Public_IP,  # My AWS instance\n",
    "    'user': 'ubuntu',\n",
    "    'dbname': dbname,        # Connecting to the default database.\n",
    "    'port': 5432             # port we opened on AWS\n",
    "}\n",
    "connection = pg.connect(**connection_args)"
   ]
  },
  {
   "cell_type": "code",
   "execution_count": null,
   "metadata": {
    "ExecuteTime": {
     "end_time": "2019-10-25T19:17:46.431236Z",
     "start_time": "2019-10-25T19:17:46.422905Z"
    }
   },
   "outputs": [],
   "source": [
    "connection.info.dsn_parameters"
   ]
  },
  {
   "cell_type": "code",
   "execution_count": null,
   "metadata": {
    "ExecuteTime": {
     "end_time": "2019-10-25T19:17:48.767055Z",
     "start_time": "2019-10-25T19:17:48.763208Z"
    }
   },
   "outputs": [],
   "source": [
    "connection.info.dsn_parameters"
   ]
  },
  {
   "cell_type": "code",
   "execution_count": null,
   "metadata": {
    "ExecuteTime": {
     "end_time": "2019-10-25T19:17:50.911561Z",
     "start_time": "2019-10-25T19:17:50.907827Z"
    },
    "scrolled": true
   },
   "outputs": [],
   "source": [
    "connection.info.ssl_in_use"
   ]
  },
  {
   "cell_type": "code",
   "execution_count": null,
   "metadata": {
    "ExecuteTime": {
     "end_time": "2019-10-25T19:17:52.534080Z",
     "start_time": "2019-10-25T19:17:52.531191Z"
    }
   },
   "outputs": [],
   "source": [
    "connection.close()"
   ]
  },
  {
   "cell_type": "code",
   "execution_count": null,
   "metadata": {
    "ExecuteTime": {
     "end_time": "2019-10-25T19:18:01.141451Z",
     "start_time": "2019-10-25T19:18:01.098811Z"
    }
   },
   "outputs": [],
   "source": [
    "dbname = 'postgres'\n",
    "connection_args = {\n",
    "    'host': IP4_Public_IP,  # My AWS instance\n",
    "    'user': 'ubuntu',\n",
    "    'dbname': dbname,      # Connecting to the default database.\n",
    "    'port': 5432 ,         # port we opened on AWS\n",
    "    'sslmode':'disable'\n",
    "}\n",
    "connection = pg.connect(**connection_args)"
   ]
  },
  {
   "cell_type": "code",
   "execution_count": null,
   "metadata": {
    "ExecuteTime": {
     "end_time": "2019-10-25T19:18:02.406926Z",
     "start_time": "2019-10-25T19:18:02.403400Z"
    }
   },
   "outputs": [],
   "source": [
    "connection.info.ssl_in_use"
   ]
  },
  {
   "cell_type": "code",
   "execution_count": null,
   "metadata": {
    "ExecuteTime": {
     "end_time": "2019-10-25T19:18:04.381991Z",
     "start_time": "2019-10-25T19:18:04.379096Z"
    }
   },
   "outputs": [],
   "source": [
    "connection.close()"
   ]
  },
  {
   "cell_type": "code",
   "execution_count": null,
   "metadata": {
    "ExecuteTime": {
     "end_time": "2019-10-25T19:18:05.537323Z",
     "start_time": "2019-10-25T19:18:05.482730Z"
    }
   },
   "outputs": [],
   "source": [
    "connection_args = {\n",
    "    'host': 'localhost',  # We are connecting to our _local_ version of psql\n",
    "    'dbname': 'postgres', # Connecting to the default database.\n",
    "    'port': 5432          # port we opened on AWS\n",
    "}\n",
    "connection = pg.connect(**connection_args)"
   ]
  },
  {
   "cell_type": "code",
   "execution_count": null,
   "metadata": {
    "ExecuteTime": {
     "end_time": "2019-10-25T19:18:09.198757Z",
     "start_time": "2019-10-25T19:18:09.194777Z"
    }
   },
   "outputs": [],
   "source": [
    " connection.info.ssl_in_use"
   ]
  },
  {
   "cell_type": "code",
   "execution_count": null,
   "metadata": {
    "ExecuteTime": {
     "end_time": "2019-10-25T19:18:11.703196Z",
     "start_time": "2019-10-25T19:18:11.699301Z"
    }
   },
   "outputs": [],
   "source": [
    "connection.info.dsn_parameters"
   ]
  },
  {
   "cell_type": "code",
   "execution_count": null,
   "metadata": {
    "ExecuteTime": {
     "end_time": "2019-10-25T19:18:13.941189Z",
     "start_time": "2019-10-25T19:18:13.938513Z"
    }
   },
   "outputs": [],
   "source": [
    "connection.close()"
   ]
  },
  {
   "cell_type": "code",
   "execution_count": null,
   "metadata": {},
   "outputs": [],
   "source": []
  }
 ],
 "metadata": {
  "kernelspec": {
   "display_name": "Python [conda env:metis] *",
   "language": "python",
   "name": "conda-env-metis-py"
  },
  "language_info": {
   "codemirror_mode": {
    "name": "ipython",
    "version": 3
   },
   "file_extension": ".py",
   "mimetype": "text/x-python",
   "name": "python",
   "nbconvert_exporter": "python",
   "pygments_lexer": "ipython3",
   "version": "3.7.3"
  },
  "toc": {
   "base_numbering": 1,
   "nav_menu": {},
   "number_sections": true,
   "sideBar": true,
   "skip_h1_title": false,
   "title_cell": "Table of Contents",
   "title_sidebar": "Contents",
   "toc_cell": false,
   "toc_position": {},
   "toc_section_display": true,
   "toc_window_display": false
  }
 },
 "nbformat": 4,
 "nbformat_minor": 2
}
