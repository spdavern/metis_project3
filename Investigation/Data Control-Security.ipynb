{
 "cells": [
  {
   "cell_type": "markdown",
   "metadata": {},
   "source": [
    "# pyscopg2 using SSL?"
   ]
  },
  {
   "cell_type": "code",
   "execution_count": null,
   "metadata": {
    "ExecuteTime": {
     "end_time": "2019-10-25T05:02:16.285788Z",
     "start_time": "2019-10-25T05:02:16.271998Z"
    }
   },
   "outputs": [],
   "source": [
    "import psycopg2 as pg\n",
    "IP4_Public_IP = '54.218.1.211'\n",
    "dbname = 'postgres'"
   ]
  },
  {
   "cell_type": "code",
   "execution_count": null,
   "metadata": {
    "ExecuteTime": {
     "start_time": "2019-10-25T05:01:14.173Z"
    }
   },
   "outputs": [],
   "source": [
    "connection_args = {\n",
    "    'host': IP4_Public_IP,  # My AWS instance\n",
    "    'user': 'ubuntu',\n",
    "    'dbname': dbname,        # Connecting to the default database.\n",
    "    'port': 5432             # port we opened on AWS\n",
    "}\n",
    "connection = pg.connect(**connection_args)"
   ]
  },
  {
   "cell_type": "code",
   "execution_count": null,
   "metadata": {},
   "outputs": [],
   "source": [
    "connection."
   ]
  },
  {
   "cell_type": "code",
   "execution_count": null,
   "metadata": {
    "ExecuteTime": {
     "end_time": "2019-10-25T04:55:21.547151Z",
     "start_time": "2019-10-25T04:55:21.538472Z"
    }
   },
   "outputs": [],
   "source": [
    "connection.info.dsn_parameters"
   ]
  },
  {
   "cell_type": "code",
   "execution_count": null,
   "metadata": {
    "ExecuteTime": {
     "end_time": "2019-10-25T04:55:25.277658Z",
     "start_time": "2019-10-25T04:55:25.273947Z"
    },
    "scrolled": true
   },
   "outputs": [],
   "source": [
    "connection.info.ssl_in_use"
   ]
  },
  {
   "cell_type": "code",
   "execution_count": null,
   "metadata": {
    "ExecuteTime": {
     "end_time": "2019-10-25T04:55:27.629883Z",
     "start_time": "2019-10-25T04:55:27.627118Z"
    }
   },
   "outputs": [],
   "source": [
    "connection.close()"
   ]
  },
  {
   "cell_type": "code",
   "execution_count": null,
   "metadata": {
    "ExecuteTime": {
     "end_time": "2019-10-25T04:55:33.447908Z",
     "start_time": "2019-10-25T04:55:33.387713Z"
    }
   },
   "outputs": [],
   "source": [
    "dbname = 'postgres'\n",
    "connection_args = {\n",
    "    'host': IP4_Public_IP,  # My AWS instance\n",
    "    'user': 'ubuntu',\n",
    "    'dbname': dbname,      # Connecting to the default database.\n",
    "    'port': 5432 ,         # port we opened on AWS\n",
    "    'sslmode':'disable'\n",
    "}\n",
    "connection = pg.connect(**connection_args)"
   ]
  },
  {
   "cell_type": "code",
   "execution_count": null,
   "metadata": {
    "ExecuteTime": {
     "end_time": "2019-10-25T04:55:34.463359Z",
     "start_time": "2019-10-25T04:55:34.459296Z"
    }
   },
   "outputs": [],
   "source": [
    "connection.info.ssl_in_use"
   ]
  },
  {
   "cell_type": "code",
   "execution_count": null,
   "metadata": {
    "ExecuteTime": {
     "end_time": "2019-10-25T04:55:35.397143Z",
     "start_time": "2019-10-25T04:55:35.394557Z"
    }
   },
   "outputs": [],
   "source": [
    "connection.close()"
   ]
  },
  {
   "cell_type": "code",
   "execution_count": null,
   "metadata": {
    "ExecuteTime": {
     "end_time": "2019-10-25T05:02:19.212827Z",
     "start_time": "2019-10-25T05:02:19.205588Z"
    }
   },
   "outputs": [],
   "source": [
    "connection_args = {\n",
    "    'host': 'localhost',  # We are connecting to our _local_ version of psql\n",
    "    'dbname': 'postgres', # Connecting to the default database.\n",
    "    'port': 5432          # port we opened on AWS\n",
    "}\n",
    "connection = pg.connect(**connection_args)"
   ]
  },
  {
   "cell_type": "code",
   "execution_count": null,
   "metadata": {
    "ExecuteTime": {
     "end_time": "2019-10-25T04:55:37.718044Z",
     "start_time": "2019-10-25T04:55:37.713566Z"
    }
   },
   "outputs": [],
   "source": [
    " connection.info.ssl_in_use"
   ]
  },
  {
   "cell_type": "code",
   "execution_count": null,
   "metadata": {
    "ExecuteTime": {
     "end_time": "2019-10-25T04:55:38.500863Z",
     "start_time": "2019-10-25T04:55:38.497061Z"
    }
   },
   "outputs": [],
   "source": [
    "connection.info.dsn_parameters"
   ]
  },
  {
   "cell_type": "code",
   "execution_count": null,
   "metadata": {
    "ExecuteTime": {
     "end_time": "2019-10-25T04:55:39.805560Z",
     "start_time": "2019-10-25T04:55:39.802702Z"
    }
   },
   "outputs": [],
   "source": [
    "connection.close()"
   ]
  },
  {
   "cell_type": "code",
   "execution_count": null,
   "metadata": {},
   "outputs": [],
   "source": []
  }
 ],
 "metadata": {
  "kernelspec": {
   "display_name": "Python [conda env:metis] *",
   "language": "python",
   "name": "conda-env-metis-py"
  },
  "language_info": {
   "codemirror_mode": {
    "name": "ipython",
    "version": 3
   },
   "file_extension": ".py",
   "mimetype": "text/x-python",
   "name": "python",
   "nbconvert_exporter": "python",
   "pygments_lexer": "ipython3",
   "version": "3.7.3"
  },
  "toc": {
   "base_numbering": 1,
   "nav_menu": {},
   "number_sections": true,
   "sideBar": true,
   "skip_h1_title": false,
   "title_cell": "Table of Contents",
   "title_sidebar": "Contents",
   "toc_cell": false,
   "toc_position": {},
   "toc_section_display": true,
   "toc_window_display": false
  }
 },
 "nbformat": 4,
 "nbformat_minor": 2
}
