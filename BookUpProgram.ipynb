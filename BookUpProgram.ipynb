{
 "cells": [
  {
   "cell_type": "markdown",
   "metadata": {},
   "source": [
    "This workbook creates the python dictionary that encodes which schools and which grades Page Ahead served with the Book Up program:"
   ]
  },
  {
   "cell_type": "code",
   "execution_count": 1,
   "metadata": {
    "ExecuteTime": {
     "end_time": "2019-10-21T08:13:48.791805Z",
     "start_time": "2019-10-21T08:13:48.788716Z"
    }
   },
   "outputs": [],
   "source": [
    "from collections import defaultdict\n",
    "import pickle"
   ]
  },
  {
   "cell_type": "markdown",
   "metadata": {},
   "source": [
    "The book_up_dict dictionary is defined in accordance with the file 'Seattle Onboarding History.xlsx'"
   ]
  },
  {
   "cell_type": "code",
   "execution_count": 2,
   "metadata": {
    "ExecuteTime": {
     "end_time": "2019-10-21T08:13:48.805447Z",
     "start_time": "2019-10-21T08:13:48.794017Z"
    }
   },
   "outputs": [],
   "source": [
    "all_schools=[226,215,251,219,221,220,233,235,256,252,207,257,264,273,275,236,286,267]\n",
    "book_up_dict = defaultdict(list)\n",
    "for grade in ['K']:\n",
    "    book_up_dict[('2013-14',grade)]=[251,219,221,233,207,257,275,236]\n",
    "    book_up_dict[('2014-15',grade)]=[215,251,219,221,220,233,275,267]\n",
    "    book_up_dict[('2016-17',grade)]=[226,215,251,219,221,220,233,235,252,207,257,264,273,275,236,286,267]\n",
    "for grade in ['1']:\n",
    "    book_up_dict[('2014-15',grade)]=[251,219,221,233,275]\n",
    "    book_up_dict[('2016-17',grade)]=[215,251,219,221,220,233,275,267]\n",
    "for grade in ['2']:\n",
    "    book_up_dict[('2014-15',grade)]=[219,221,233,275]\n",
    "    book_up_dict[('2015-16',grade)]=[251,219,221,233,275]\n",
    "    book_up_dict[('2016-17',grade)]=[215,251,219,221,220,233,275,267]\n",
    "    book_up_dict[('2017-18',grade)]=[215,251,219,221,220,233,275,267]\n",
    "for grade in ['K','1']:\n",
    "    book_up_dict[('2011-12',grade)]=[219,221,233,207,275]\n",
    "    book_up_dict[('2015-16',grade)]=[215,251,219,221,220,233,275,267]\n",
    "    book_up_dict[('2017-18',grade)]=all_schools.copy()\n",
    "for grade in ['K','1','2']:\n",
    "    book_up_dict[('2012-13',grade)]=[219,221,233,207,275]\n",
    "    book_up_dict[('2018-19',grade)]=all_schools.copy()\n",
    "for grade in ['1','2','3']:\n",
    "    book_up_dict[('2013-14',grade)]=[219,221,233,207,275]"
   ]
  },
  {
   "cell_type": "markdown",
   "metadata": {},
   "source": [
    "This is how to use book_up_dict:"
   ]
  },
  {
   "cell_type": "code",
   "execution_count": 3,
   "metadata": {
    "ExecuteTime": {
     "end_time": "2019-10-21T08:13:48.817764Z",
     "start_time": "2019-10-21T08:13:48.808180Z"
    },
    "scrolled": true
   },
   "outputs": [
    {
     "data": {
      "text/plain": [
       "[215, 251, 219, 221, 220, 233, 275, 267]"
      ]
     },
     "execution_count": 3,
     "metadata": {},
     "output_type": "execute_result"
    }
   ],
   "source": [
    "book_up_dict['2014-15','K']"
   ]
  },
  {
   "cell_type": "markdown",
   "metadata": {},
   "source": [
    "Pickling book_up_dict:"
   ]
  },
  {
   "cell_type": "code",
   "execution_count": 4,
   "metadata": {
    "ExecuteTime": {
     "end_time": "2019-10-21T08:13:48.823356Z",
     "start_time": "2019-10-21T08:13:48.820370Z"
    }
   },
   "outputs": [],
   "source": [
    "with open('./data/interim/book_up_dict.pickle', 'wb') as handle:\n",
    "    pickle.dump(book_up_dict, handle, protocol=pickle.HIGHEST_PROTOCOL)"
   ]
  },
  {
   "cell_type": "markdown",
   "metadata": {},
   "source": [
    "Verifying the loaded object is the same as the original:"
   ]
  },
  {
   "cell_type": "code",
   "execution_count": 5,
   "metadata": {
    "ExecuteTime": {
     "end_time": "2019-10-21T08:13:48.828643Z",
     "start_time": "2019-10-21T08:13:48.824958Z"
    }
   },
   "outputs": [],
   "source": [
    "with open('./data/interim/book_up_dict.pickle', 'rb') as handle:\n",
    "    test = pickle.load(handle)\n",
    "assert test == book_up_dict"
   ]
  },
  {
   "cell_type": "markdown",
   "metadata": {},
   "source": [
    "TODO:\n",
    "  book_up_dict is intended to suppy the list of schools for a given school year and grade.  I expect to use it to check if a school/grade is being served using `school_ID in book_up_dict\\[school year,grade\\]`, then if true the student got books that summer.  Given that intended use, it would probably most efficient for the schools in the lists above to be in size order so when checking students from those schools they're confirmed first."
   ]
  },
  {
   "cell_type": "code",
   "execution_count": 6,
   "metadata": {
    "ExecuteTime": {
     "end_time": "2019-10-21T08:13:48.838205Z",
     "start_time": "2019-10-21T08:13:48.830354Z"
    }
   },
   "outputs": [
    {
     "data": {
      "text/plain": [
       "defaultdict(list,\n",
       "            {('2013-14', 'K'): [251, 219, 221, 233, 207, 257, 275, 236],\n",
       "             ('2014-15', 'K'): [215, 251, 219, 221, 220, 233, 275, 267],\n",
       "             ('2016-17', 'K'): [226,\n",
       "              215,\n",
       "              251,\n",
       "              219,\n",
       "              221,\n",
       "              220,\n",
       "              233,\n",
       "              235,\n",
       "              252,\n",
       "              207,\n",
       "              257,\n",
       "              264,\n",
       "              273,\n",
       "              275,\n",
       "              236,\n",
       "              286,\n",
       "              267],\n",
       "             ('2014-15', '1'): [251, 219, 221, 233, 275],\n",
       "             ('2016-17', '1'): [215, 251, 219, 221, 220, 233, 275, 267],\n",
       "             ('2014-15', '2'): [219, 221, 233, 275],\n",
       "             ('2015-16', '2'): [251, 219, 221, 233, 275],\n",
       "             ('2016-17', '2'): [215, 251, 219, 221, 220, 233, 275, 267],\n",
       "             ('2017-18', '2'): [215, 251, 219, 221, 220, 233, 275, 267],\n",
       "             ('2011-12', 'K'): [219, 221, 233, 207, 275],\n",
       "             ('2015-16', 'K'): [215, 251, 219, 221, 220, 233, 275, 267],\n",
       "             ('2017-18', 'K'): [226,\n",
       "              215,\n",
       "              251,\n",
       "              219,\n",
       "              221,\n",
       "              220,\n",
       "              233,\n",
       "              235,\n",
       "              256,\n",
       "              252,\n",
       "              207,\n",
       "              257,\n",
       "              264,\n",
       "              273,\n",
       "              275,\n",
       "              236,\n",
       "              286,\n",
       "              267],\n",
       "             ('2011-12', '1'): [219, 221, 233, 207, 275],\n",
       "             ('2015-16', '1'): [215, 251, 219, 221, 220, 233, 275, 267],\n",
       "             ('2017-18', '1'): [226,\n",
       "              215,\n",
       "              251,\n",
       "              219,\n",
       "              221,\n",
       "              220,\n",
       "              233,\n",
       "              235,\n",
       "              256,\n",
       "              252,\n",
       "              207,\n",
       "              257,\n",
       "              264,\n",
       "              273,\n",
       "              275,\n",
       "              236,\n",
       "              286,\n",
       "              267],\n",
       "             ('2012-13', 'K'): [219, 221, 233, 207, 275],\n",
       "             ('2018-19', 'K'): [226,\n",
       "              215,\n",
       "              251,\n",
       "              219,\n",
       "              221,\n",
       "              220,\n",
       "              233,\n",
       "              235,\n",
       "              256,\n",
       "              252,\n",
       "              207,\n",
       "              257,\n",
       "              264,\n",
       "              273,\n",
       "              275,\n",
       "              236,\n",
       "              286,\n",
       "              267],\n",
       "             ('2012-13', '1'): [219, 221, 233, 207, 275],\n",
       "             ('2018-19', '1'): [226,\n",
       "              215,\n",
       "              251,\n",
       "              219,\n",
       "              221,\n",
       "              220,\n",
       "              233,\n",
       "              235,\n",
       "              256,\n",
       "              252,\n",
       "              207,\n",
       "              257,\n",
       "              264,\n",
       "              273,\n",
       "              275,\n",
       "              236,\n",
       "              286,\n",
       "              267],\n",
       "             ('2012-13', '2'): [219, 221, 233, 207, 275],\n",
       "             ('2018-19', '2'): [226,\n",
       "              215,\n",
       "              251,\n",
       "              219,\n",
       "              221,\n",
       "              220,\n",
       "              233,\n",
       "              235,\n",
       "              256,\n",
       "              252,\n",
       "              207,\n",
       "              257,\n",
       "              264,\n",
       "              273,\n",
       "              275,\n",
       "              236,\n",
       "              286,\n",
       "              267],\n",
       "             ('2013-14', '1'): [219, 221, 233, 207, 275],\n",
       "             ('2013-14', '2'): [219, 221, 233, 207, 275],\n",
       "             ('2013-14', '3'): [219, 221, 233, 207, 275]})"
      ]
     },
     "execution_count": 6,
     "metadata": {},
     "output_type": "execute_result"
    }
   ],
   "source": [
    "book_up_dict"
   ]
  },
  {
   "cell_type": "code",
   "execution_count": null,
   "metadata": {},
   "outputs": [],
   "source": []
  }
 ],
 "metadata": {
  "kernelspec": {
   "display_name": "Python 3",
   "language": "python",
   "name": "python3"
  },
  "language_info": {
   "codemirror_mode": {
    "name": "ipython",
    "version": 3
   },
   "file_extension": ".py",
   "mimetype": "text/x-python",
   "name": "python",
   "nbconvert_exporter": "python",
   "pygments_lexer": "ipython3",
   "version": "3.7.3"
  },
  "toc": {
   "base_numbering": 1,
   "nav_menu": {},
   "number_sections": true,
   "sideBar": true,
   "skip_h1_title": false,
   "title_cell": "Table of Contents",
   "title_sidebar": "Contents",
   "toc_cell": false,
   "toc_position": {},
   "toc_section_display": true,
   "toc_window_display": false
  }
 },
 "nbformat": 4,
 "nbformat_minor": 2
}
