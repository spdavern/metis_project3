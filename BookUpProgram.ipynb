{
 "cells": [
  {
   "cell_type": "markdown",
   "metadata": {},
   "source": [
    "This workbook creates the dataframe that encodes which schools and which grades Page Ahead served with the Book Up program:"
   ]
  },
  {
   "cell_type": "code",
   "execution_count": 1,
   "metadata": {
    "ExecuteTime": {
     "end_time": "2019-10-20T07:49:00.155627Z",
     "start_time": "2019-10-20T07:49:00.152927Z"
    }
   },
   "outputs": [],
   "source": [
    "from collections import defaultdict\n",
    "import pickle"
   ]
  },
  {
   "cell_type": "markdown",
   "metadata": {},
   "source": [
    "The bu_df dictionary is defined in accordance with the file 'Seattle Onboarding History.xlsx'"
   ]
  },
  {
   "cell_type": "code",
   "execution_count": 2,
   "metadata": {
    "ExecuteTime": {
     "end_time": "2019-10-20T07:49:00.170932Z",
     "start_time": "2019-10-20T07:49:00.159654Z"
    }
   },
   "outputs": [],
   "source": [
    "all_schools=[226,215,251,219,221,220,233,235,256,252,207,257,264,273,275,236,286,267]\n",
    "bu_df = defaultdict(list)\n",
    "for grade in ['K']:\n",
    "    bu_df[('2014-15',grade)]=[251,219,221,233,207,257,275,236]\n",
    "    bu_df[('2015-16',grade)]=[215,251,219,221,220,233,275,267]\n",
    "    bu_df[('2016-17',grade)]=[215,251,219,221,220,233,275,267]\n",
    "    bu_df[('2017-18',grade)]=[226,215,251,219,221,220,233,235,252,207,257,264,273,275,236,286,267]\n",
    "for grade in [1]:\n",
    "    bu_df[('2015-16',grade)]=[251,219,221,233,275]\n",
    "    bu_df[('2016-17',grade)]=[215,251,219,221,220,233,275,267]\n",
    "    bu_df[('2017-18',grade)]=[215,251,219,221,220,233,275,267]\n",
    "for grade in [2]:\n",
    "    bu_df[('2016-17',grade)]=[251,219,221,233,275]\n",
    "    bu_df[('2017-18',grade)]=[215,251,219,221,220,233,275,267]\n",
    "    bu_df[('2018-19',grade)]=[215,251,219,221,220,233,275,267]\n",
    "for grade in ['K',1]:\n",
    "    bu_df[('2012-13',grade)]=[219,221,233,207,275]\n",
    "    bu_df[('2018-19',grade)]=all_schools.copy()\n",
    "for grade in ['K',1,2]:\n",
    "    bu_df[('2013-14',grade)]=[219,221,233,207,275]\n",
    "    bu_df[('2019-20',grade)]=all_schools.copy()\n",
    "for grade in [1,2,3]:\n",
    "    bu_df[('2014-15',grade)]=[219,221,233,207,275]"
   ]
  },
  {
   "cell_type": "markdown",
   "metadata": {},
   "source": [
    "This is how to use bu_df:"
   ]
  },
  {
   "cell_type": "code",
   "execution_count": 3,
   "metadata": {
    "ExecuteTime": {
     "end_time": "2019-10-20T07:49:00.182839Z",
     "start_time": "2019-10-20T07:49:00.173394Z"
    },
    "scrolled": true
   },
   "outputs": [
    {
     "data": {
      "text/plain": [
       "[251, 219, 221, 233, 207, 257, 275, 236]"
      ]
     },
     "execution_count": 3,
     "metadata": {},
     "output_type": "execute_result"
    }
   ],
   "source": [
    "bu_df['2014-15','K']"
   ]
  },
  {
   "cell_type": "markdown",
   "metadata": {},
   "source": [
    "Pickling bu_df:"
   ]
  },
  {
   "cell_type": "code",
   "execution_count": 4,
   "metadata": {
    "ExecuteTime": {
     "end_time": "2019-10-20T07:49:00.189351Z",
     "start_time": "2019-10-20T07:49:00.185711Z"
    }
   },
   "outputs": [],
   "source": [
    "with open('./data/interim/bu_df.pickle', 'wb') as handle:\n",
    "    pickle.dump(bu_df, handle, protocol=pickle.HIGHEST_PROTOCOL)"
   ]
  },
  {
   "cell_type": "markdown",
   "metadata": {},
   "source": [
    "Verifying the loaded object is the same as the original:"
   ]
  },
  {
   "cell_type": "code",
   "execution_count": 5,
   "metadata": {
    "ExecuteTime": {
     "end_time": "2019-10-20T07:49:00.196787Z",
     "start_time": "2019-10-20T07:49:00.192021Z"
    }
   },
   "outputs": [
    {
     "data": {
      "text/plain": [
       "True"
      ]
     },
     "execution_count": 5,
     "metadata": {},
     "output_type": "execute_result"
    }
   ],
   "source": [
    "with open('./data/interim/bu_df.pickle', 'rb') as handle:\n",
    "    test_df = pickle.load(handle)\n",
    "test_df == bu_df"
   ]
  },
  {
   "cell_type": "code",
   "execution_count": null,
   "metadata": {},
   "outputs": [],
   "source": []
  }
 ],
 "metadata": {
  "kernelspec": {
   "display_name": "Python [conda env:metis] *",
   "language": "python",
   "name": "conda-env-metis-py"
  },
  "language_info": {
   "codemirror_mode": {
    "name": "ipython",
    "version": 3
   },
   "file_extension": ".py",
   "mimetype": "text/x-python",
   "name": "python",
   "nbconvert_exporter": "python",
   "pygments_lexer": "ipython3",
   "version": "3.7.3"
  },
  "toc": {
   "base_numbering": 1,
   "nav_menu": {},
   "number_sections": true,
   "sideBar": true,
   "skip_h1_title": false,
   "title_cell": "Table of Contents",
   "title_sidebar": "Contents",
   "toc_cell": false,
   "toc_position": {},
   "toc_section_display": true,
   "toc_window_display": false
  }
 },
 "nbformat": 4,
 "nbformat_minor": 2
}
