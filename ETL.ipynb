{
 "cells": [
  {
   "cell_type": "code",
   "execution_count": 1,
   "metadata": {
    "ExecuteTime": {
     "end_time": "2019-10-19T22:37:59.410091Z",
     "start_time": "2019-10-19T22:37:58.922015Z"
    }
   },
   "outputs": [],
   "source": [
    "import pandas as pd"
   ]
  },
  {
   "cell_type": "markdown",
   "metadata": {},
   "source": [
    "# Load\n",
    "Function to import the MAP assessments from csv files which contain the RIT Scores for K-12.  \n",
    "Function to import the SBAC assessments from its csv file."
   ]
  },
  {
   "cell_type": "code",
   "execution_count": 2,
   "metadata": {
    "ExecuteTime": {
     "end_time": "2019-10-19T22:38:04.964865Z",
     "start_time": "2019-10-19T22:38:04.957808Z"
    }
   },
   "outputs": [],
   "source": [
    "def load_map_df_from_csv(start_year,end_year):\n",
    "    data_folder = './data/raw/'\n",
    "    filename_common = '_ADR-301-MAP-Assessment-Scores.csv'\n",
    "    map_df = None\n",
    "    for yr in range(start_year,end_year+1):\n",
    "        df = pd.read_csv(data_folder+str(yr)+filename_common, encoding = \"ISO-8859-1\")\n",
    "        if map_df is None:\n",
    "            map_df = df.copy()\n",
    "        else:\n",
    "            map_df = map_df.append(df, ignore_index = True).copy()\n",
    "    return map_df\n",
    "\n",
    "def load_sbac_df_from_csv(start_year,end_year):\n",
    "    data_folder = './data/raw/'\n",
    "    filename_common = '_ADR-311-State-Assessment-Scores.csv'\n",
    "    sbac_df = None\n",
    "    for yr in range(start_year,end_year+1):\n",
    "        df = pd.read_csv(data_folder+str(yr)+filename_common, encoding = \"ISO-8859-1\")\n",
    "        if sbac_df is None:\n",
    "            sbac_df = df.copy()\n",
    "        else:\n",
    "            sbac_df = sbac_df.append(df, ignore_index = True).copy()\n",
    "    return sbac_df"
   ]
  },
  {
   "cell_type": "markdown",
   "metadata": {},
   "source": [
    "Load the testing data:"
   ]
  },
  {
   "cell_type": "code",
   "execution_count": 3,
   "metadata": {
    "ExecuteTime": {
     "end_time": "2019-10-19T22:38:09.454694Z",
     "start_time": "2019-10-19T22:38:07.815947Z"
    }
   },
   "outputs": [
    {
     "name": "stdout",
     "output_type": "stream",
     "text": [
      "41,211 K-12 students of MAP data loaded.\n",
      "29,917 K-12 students of SBAC data loaded.\n"
     ]
    }
   ],
   "source": [
    "map_df = load_map_df_from_csv(2015,2018)\n",
    "print(\"{:,}\".format(map_df.StudentID.nunique()),\"K-12 students of MAP data loaded.\")\n",
    "sbac_df = load_sbac_df_from_csv(2018,2018)\n",
    "print(\"{:,}\".format(sbac_df.StudentID.nunique()),\"K-12 students of SBAC data loaded.\")"
   ]
  },
  {
   "cell_type": "markdown",
   "metadata": {
    "ExecuteTime": {
     "end_time": "2019-10-18T06:32:43.009837Z",
     "start_time": "2019-10-18T06:32:43.005465Z"
    }
   },
   "source": [
    "# Clean\n",
    "Function to clean the K-2 data:\n",
    "* Drop columns originally related to personally identifiable information: LastName, FirstName, PhoneNumber\n",
    "* Drop discontinued data column: OnTrackToGraduate\n",
    "* Remove all rows that contain SubjectArea='Mathematics'\n",
    "* Remove all rows for kids in grades 3-12.\n",
    "* Correct column data types."
   ]
  },
  {
   "cell_type": "code",
   "execution_count": 4,
   "metadata": {
    "ExecuteTime": {
     "end_time": "2019-10-19T22:38:13.177583Z",
     "start_time": "2019-10-19T22:38:13.171478Z"
    },
    "scrolled": false
   },
   "outputs": [],
   "source": [
    "def clean_map_df(map_df):\n",
    "    map_df.drop(columns=['LastName','FirstName','PhoneNumber','OnTrackToGraduate'],\\\n",
    "                inplace=True)\n",
    "    map_df = map_df[map_df.SubjectArea != 'Mathematics']\n",
    "    map_df = map_df[map_df.CurrentGrade.isin(['K','1','2'])]\n",
    "    map_df = map_df.astype({'StudentID':'int32',\\\n",
    "                        'CurrentEnrollmentSchoolID':'int32',\\\n",
    "                        'TestSchoolID':'int32',\\\n",
    "                        'RITScore':'int32',\\\n",
    "                        'PercentileRank':pd.Int32Dtype(),\\\n",
    "                        'MetGrowthLastFallToThisFall':pd.Int32Dtype(),\\\n",
    "                        'MetGrowthLastSpringToThisSpring':pd.Int32Dtype(),\\\n",
    "                        'MetGrowthLastFallToThisSpring':pd.Int32Dtype()})\n",
    "    map_df.TestSchoolYear = map_df.TestSchoolYear.str.replace('\\x96','-')\n",
    "    map_df.ExtractSchoolYear = map_df.ExtractSchoolYear.str.replace('\\x96','-')\n",
    "    map_df.BirthDate = pd.to_datetime(map_df.BirthDate)\n",
    "    map_df.USAEntryDate = pd.to_datetime(map_df.USAEntryDate,errors='coerce')\n",
    "    return map_df\n",
    "\n",
    "# I've commented this out for now while I was troubleshooting whey I can't find the\n",
    "# 2015 Kindergartener's in the SBAC file.\n",
    "# def clean_sbac_df(SBAC_df):\n",
    "#     SBAC_df.drop(columns=['LastName','FirstName','PhoneNumber','OnTrackToGraduate'],\\\n",
    "#                 inplace=True)\n",
    "#     SBAC_df = SBAC_df[SBAC_df.SubjectArea == 'Reading/ELA'].copy()\n",
    "#     SBAC_df = SBAC_df[SBAC_df.TestGrade == 3]\n",
    "#     SBAC_df.BirthDate = pd.to_datetime(SBAC_df.BirthDate)\n",
    "#     SBAC_df.USAEntryDate = pd.to_datetime(SBAC_df.USAEntryDate,errors='coerce')\n",
    "#     SBAC_df.TestSchoolYear = SBAC_df.TestSchoolYear.str.replace('\\x96','-')\n",
    "#     SBAC_df.ExtractSchoolYear = SBAC_df.ExtractSchoolYear.str.replace('\\x96','-')\n",
    "#     return SBAC_df"
   ]
  },
  {
   "cell_type": "markdown",
   "metadata": {},
   "source": [
    "Clean the MAP (K-2) data:"
   ]
  },
  {
   "cell_type": "code",
   "execution_count": 5,
   "metadata": {
    "ExecuteTime": {
     "end_time": "2019-10-19T22:41:04.153790Z",
     "start_time": "2019-10-19T22:41:03.847252Z"
    }
   },
   "outputs": [
    {
     "name": "stdout",
     "output_type": "stream",
     "text": [
      "<class 'pandas.core.frame.DataFrame'>\n",
      "Int64Index: 82049 entries, 3 to 224858\n",
      "Data columns (total 30 columns):\n",
      "StudentID                          82049 non-null int32\n",
      "CurrentEnrollmentSchoolID          82049 non-null int32\n",
      "CurrentEnrollmentSchoolName        82049 non-null object\n",
      "CurrentGrade                       82049 non-null object\n",
      "TestSchoolYear                     82049 non-null object\n",
      "TestSeason                         82049 non-null object\n",
      "TestSchoolID                       82049 non-null int32\n",
      "TestSchoolName                     82049 non-null object\n",
      "TestGrade                          82049 non-null object\n",
      "SubjectArea                        82049 non-null object\n",
      "TestName                           82049 non-null object\n",
      "RITScore                           82049 non-null int32\n",
      "PercentileRank                     82048 non-null Int32\n",
      "MetGrowthLastFallToThisFall        8673 non-null Int32\n",
      "MetGrowthLastSpringToThisSpring    19367 non-null Int32\n",
      "MetGrowthLastFallToThisSpring      14522 non-null Int32\n",
      "BirthDate                          82049 non-null datetime64[ns]\n",
      "Gender                             82049 non-null object\n",
      "RacialEthnicGroup                  82049 non-null object\n",
      "ELLStatus                          82049 non-null object\n",
      "IEPStatus                          82049 non-null object\n",
      "Student504Status                   82049 non-null object\n",
      "GiftedStatus                       82049 non-null object\n",
      "PrimaryLanguage                    82049 non-null object\n",
      "HomeLanguage                       82049 non-null object\n",
      "LivingWith                         82049 non-null object\n",
      "USAEntryDate                       5089 non-null datetime64[ns]\n",
      "BirthCountry                       82049 non-null object\n",
      "ProjectedGradYear                  82049 non-null object\n",
      "ExtractSchoolYear                  82049 non-null object\n",
      "dtypes: Int32(4), datetime64[ns](2), int32(4), object(20)\n",
      "memory usage: 17.2+ MB\n"
     ]
    }
   ],
   "source": [
    "map_df = clean_map_df(map_df)\n",
    "map_df.info()"
   ]
  },
  {
   "cell_type": "markdown",
   "metadata": {},
   "source": [
    "I may want to open this dataframe in Numbers:"
   ]
  },
  {
   "cell_type": "code",
   "execution_count": 6,
   "metadata": {
    "ExecuteTime": {
     "end_time": "2019-10-19T22:49:17.611413Z",
     "start_time": "2019-10-19T22:49:15.783101Z"
    }
   },
   "outputs": [],
   "source": [
    "#map_df.to_csv('./data/interim/map_df.csv')"
   ]
  },
  {
   "cell_type": "code",
   "execution_count": 75,
   "metadata": {
    "ExecuteTime": {
     "end_time": "2019-10-20T00:39:59.838942Z",
     "start_time": "2019-10-20T00:39:59.813021Z"
    },
    "scrolled": true
   },
   "outputs": [
    {
     "data": {
      "text/plain": [
       "CurrentGrade  TestSeason  TestSchoolYear\n",
       "K             Fall        2015-16            860\n",
       "                          2016-17            832\n",
       "                          2017-18            485\n",
       "                          2018-19            516\n",
       "              Spring      2015-16           2556\n",
       "                          2016-17           2463\n",
       "                          2017-18           2419\n",
       "              Winter      2015-16           4346\n",
       "                          2016-17           4326\n",
       "                          2017-18           4211\n",
       "                          2018-19           4259\n",
       "Name: RITScore, dtype: int64"
      ]
     },
     "execution_count": 75,
     "metadata": {},
     "output_type": "execute_result"
    }
   ],
   "source": [
    "map_df[map_df.CurrentGrade=='K'].groupby(['CurrentGrade','TestSeason','TestSchoolYear']).RITScore.count()"
   ]
  },
  {
   "cell_type": "markdown",
   "metadata": {},
   "source": [
    "Interesting that there are a lot more Kindergarteners tested in Winter and few in the Fall.  What is that all about?"
   ]
  },
  {
   "cell_type": "code",
   "execution_count": 56,
   "metadata": {
    "ExecuteTime": {
     "end_time": "2019-10-20T00:16:04.884745Z",
     "start_time": "2019-10-20T00:16:04.863467Z"
    },
    "scrolled": false
   },
   "outputs": [
    {
     "data": {
      "text/plain": [
       "TestSchoolID  TestSeason\n",
       "201           Winter        103\n",
       "202           Winter         45\n",
       "203           Winter         69\n",
       "204           Fall           88\n",
       "              Spring         83\n",
       "              Winter         87\n",
       "205           Spring         72\n",
       "              Winter         73\n",
       "207           Fall           40\n",
       "              Spring         41\n",
       "              Winter         38\n",
       "208           Fall           70\n",
       "              Spring         72\n",
       "              Winter         70\n",
       "209           Winter        121\n",
       "211           Winter         97\n",
       "212           Spring         40\n",
       "              Winter         43\n",
       "215           Spring         61\n",
       "              Winter         55\n",
       "218           Spring          1\n",
       "              Winter         46\n",
       "219           Fall           39\n",
       "              Spring         42\n",
       "              Winter         42\n",
       "Name: RITScore, dtype: int64"
      ]
     },
     "execution_count": 56,
     "metadata": {},
     "output_type": "execute_result"
    }
   ],
   "source": [
    "map_df[(map_df.CurrentGrade=='K') & (map_df.TestSchoolYear=='2015-16')].groupby(['TestSchoolID','TestSeason']).RITScore.count()[:25]"
   ]
  },
  {
   "cell_type": "markdown",
   "metadata": {},
   "source": [
    "Schools definitely test kids with different frequencies!  Are they spreading the testing out over multiple testing seasons or are they retesting kids at each testing season?"
   ]
  },
  {
   "cell_type": "code",
   "execution_count": 58,
   "metadata": {
    "ExecuteTime": {
     "end_time": "2019-10-20T00:20:20.290413Z",
     "start_time": "2019-10-20T00:20:20.259397Z"
    },
    "scrolled": false
   },
   "outputs": [
    {
     "data": {
      "text/html": [
       "<div>\n",
       "<style scoped>\n",
       "    .dataframe tbody tr th:only-of-type {\n",
       "        vertical-align: middle;\n",
       "    }\n",
       "\n",
       "    .dataframe tbody tr th {\n",
       "        vertical-align: top;\n",
       "    }\n",
       "\n",
       "    .dataframe thead th {\n",
       "        text-align: right;\n",
       "    }\n",
       "</style>\n",
       "<table border=\"1\" class=\"dataframe\">\n",
       "  <thead>\n",
       "    <tr style=\"text-align: right;\">\n",
       "      <th></th>\n",
       "      <th>StudentID</th>\n",
       "      <th>CurrentEnrollmentSchoolID</th>\n",
       "      <th>CurrentEnrollmentSchoolName</th>\n",
       "      <th>CurrentGrade</th>\n",
       "      <th>TestSchoolYear</th>\n",
       "      <th>TestSeason</th>\n",
       "      <th>TestSchoolID</th>\n",
       "      <th>TestSchoolName</th>\n",
       "      <th>TestGrade</th>\n",
       "      <th>SubjectArea</th>\n",
       "      <th>TestName</th>\n",
       "      <th>RITScore</th>\n",
       "    </tr>\n",
       "  </thead>\n",
       "  <tbody>\n",
       "    <tr>\n",
       "      <td>628</td>\n",
       "      <td>3787446</td>\n",
       "      <td>204</td>\n",
       "      <td>Daniel Bagley Elementary</td>\n",
       "      <td>K</td>\n",
       "      <td>2015-16</td>\n",
       "      <td>Fall</td>\n",
       "      <td>204</td>\n",
       "      <td>Daniel Bagley Elementary</td>\n",
       "      <td>K</td>\n",
       "      <td>Reading</td>\n",
       "      <td>Reading K-2 - Common Core 2010</td>\n",
       "      <td>150</td>\n",
       "    </tr>\n",
       "    <tr>\n",
       "      <td>630</td>\n",
       "      <td>3787446</td>\n",
       "      <td>204</td>\n",
       "      <td>Daniel Bagley Elementary</td>\n",
       "      <td>K</td>\n",
       "      <td>2015-16</td>\n",
       "      <td>Spring</td>\n",
       "      <td>204</td>\n",
       "      <td>Daniel Bagley Elementary</td>\n",
       "      <td>K</td>\n",
       "      <td>Reading</td>\n",
       "      <td>Reading K-2 - Common Core 2010</td>\n",
       "      <td>178</td>\n",
       "    </tr>\n",
       "    <tr>\n",
       "      <td>632</td>\n",
       "      <td>3787446</td>\n",
       "      <td>204</td>\n",
       "      <td>Daniel Bagley Elementary</td>\n",
       "      <td>K</td>\n",
       "      <td>2015-16</td>\n",
       "      <td>Winter</td>\n",
       "      <td>204</td>\n",
       "      <td>Daniel Bagley Elementary</td>\n",
       "      <td>K</td>\n",
       "      <td>Reading</td>\n",
       "      <td>Reading K-2 - Common Core 2010</td>\n",
       "      <td>166</td>\n",
       "    </tr>\n",
       "    <tr>\n",
       "      <td>693</td>\n",
       "      <td>3391445</td>\n",
       "      <td>204</td>\n",
       "      <td>Daniel Bagley Elementary</td>\n",
       "      <td>K</td>\n",
       "      <td>2015-16</td>\n",
       "      <td>Fall</td>\n",
       "      <td>204</td>\n",
       "      <td>Daniel Bagley Elementary</td>\n",
       "      <td>K</td>\n",
       "      <td>Reading</td>\n",
       "      <td>Reading K-2 - Common Core 2010</td>\n",
       "      <td>156</td>\n",
       "    </tr>\n",
       "    <tr>\n",
       "      <td>695</td>\n",
       "      <td>3391445</td>\n",
       "      <td>204</td>\n",
       "      <td>Daniel Bagley Elementary</td>\n",
       "      <td>K</td>\n",
       "      <td>2015-16</td>\n",
       "      <td>Spring</td>\n",
       "      <td>204</td>\n",
       "      <td>Daniel Bagley Elementary</td>\n",
       "      <td>K</td>\n",
       "      <td>Reading</td>\n",
       "      <td>Reading K-2 - Common Core 2010</td>\n",
       "      <td>179</td>\n",
       "    </tr>\n",
       "    <tr>\n",
       "      <td>697</td>\n",
       "      <td>3391445</td>\n",
       "      <td>204</td>\n",
       "      <td>Daniel Bagley Elementary</td>\n",
       "      <td>K</td>\n",
       "      <td>2015-16</td>\n",
       "      <td>Winter</td>\n",
       "      <td>204</td>\n",
       "      <td>Daniel Bagley Elementary</td>\n",
       "      <td>K</td>\n",
       "      <td>Reading</td>\n",
       "      <td>Reading K-2 - Common Core 2010</td>\n",
       "      <td>164</td>\n",
       "    </tr>\n",
       "    <tr>\n",
       "      <td>700</td>\n",
       "      <td>3322445</td>\n",
       "      <td>204</td>\n",
       "      <td>Daniel Bagley Elementary</td>\n",
       "      <td>K</td>\n",
       "      <td>2015-16</td>\n",
       "      <td>Fall</td>\n",
       "      <td>204</td>\n",
       "      <td>Daniel Bagley Elementary</td>\n",
       "      <td>K</td>\n",
       "      <td>Reading</td>\n",
       "      <td>Reading K-2 - Common Core 2010</td>\n",
       "      <td>146</td>\n",
       "    </tr>\n",
       "    <tr>\n",
       "      <td>702</td>\n",
       "      <td>3322445</td>\n",
       "      <td>204</td>\n",
       "      <td>Daniel Bagley Elementary</td>\n",
       "      <td>K</td>\n",
       "      <td>2015-16</td>\n",
       "      <td>Spring</td>\n",
       "      <td>204</td>\n",
       "      <td>Daniel Bagley Elementary</td>\n",
       "      <td>K</td>\n",
       "      <td>Reading</td>\n",
       "      <td>Reading K-2 - Common Core 2010</td>\n",
       "      <td>162</td>\n",
       "    </tr>\n",
       "    <tr>\n",
       "      <td>704</td>\n",
       "      <td>3322445</td>\n",
       "      <td>204</td>\n",
       "      <td>Daniel Bagley Elementary</td>\n",
       "      <td>K</td>\n",
       "      <td>2015-16</td>\n",
       "      <td>Winter</td>\n",
       "      <td>204</td>\n",
       "      <td>Daniel Bagley Elementary</td>\n",
       "      <td>K</td>\n",
       "      <td>Reading</td>\n",
       "      <td>Reading K-2 - Common Core 2010</td>\n",
       "      <td>146</td>\n",
       "    </tr>\n",
       "    <tr>\n",
       "      <td>1471</td>\n",
       "      <td>3204445</td>\n",
       "      <td>204</td>\n",
       "      <td>Daniel Bagley Elementary</td>\n",
       "      <td>K</td>\n",
       "      <td>2015-16</td>\n",
       "      <td>Fall</td>\n",
       "      <td>204</td>\n",
       "      <td>Daniel Bagley Elementary</td>\n",
       "      <td>K</td>\n",
       "      <td>Reading</td>\n",
       "      <td>Reading K-2 - Common Core 2010</td>\n",
       "      <td>149</td>\n",
       "    </tr>\n",
       "    <tr>\n",
       "      <td>1473</td>\n",
       "      <td>3204445</td>\n",
       "      <td>204</td>\n",
       "      <td>Daniel Bagley Elementary</td>\n",
       "      <td>K</td>\n",
       "      <td>2015-16</td>\n",
       "      <td>Spring</td>\n",
       "      <td>204</td>\n",
       "      <td>Daniel Bagley Elementary</td>\n",
       "      <td>K</td>\n",
       "      <td>Reading</td>\n",
       "      <td>Reading K-2 - Common Core 2010</td>\n",
       "      <td>166</td>\n",
       "    </tr>\n",
       "    <tr>\n",
       "      <td>1475</td>\n",
       "      <td>3204445</td>\n",
       "      <td>204</td>\n",
       "      <td>Daniel Bagley Elementary</td>\n",
       "      <td>K</td>\n",
       "      <td>2015-16</td>\n",
       "      <td>Winter</td>\n",
       "      <td>204</td>\n",
       "      <td>Daniel Bagley Elementary</td>\n",
       "      <td>K</td>\n",
       "      <td>Reading</td>\n",
       "      <td>Reading K-2 - Common Core 2010</td>\n",
       "      <td>154</td>\n",
       "    </tr>\n",
       "    <tr>\n",
       "      <td>2042</td>\n",
       "      <td>3797444</td>\n",
       "      <td>204</td>\n",
       "      <td>Daniel Bagley Elementary</td>\n",
       "      <td>K</td>\n",
       "      <td>2015-16</td>\n",
       "      <td>Fall</td>\n",
       "      <td>204</td>\n",
       "      <td>Daniel Bagley Elementary</td>\n",
       "      <td>K</td>\n",
       "      <td>Reading</td>\n",
       "      <td>Reading K-2 - Common Core 2010</td>\n",
       "      <td>146</td>\n",
       "    </tr>\n",
       "    <tr>\n",
       "      <td>2391</td>\n",
       "      <td>3540446</td>\n",
       "      <td>204</td>\n",
       "      <td>Daniel Bagley Elementary</td>\n",
       "      <td>K</td>\n",
       "      <td>2015-16</td>\n",
       "      <td>Fall</td>\n",
       "      <td>204</td>\n",
       "      <td>Daniel Bagley Elementary</td>\n",
       "      <td>K</td>\n",
       "      <td>Reading</td>\n",
       "      <td>Reading K-2 - Common Core 2010</td>\n",
       "      <td>147</td>\n",
       "    </tr>\n",
       "    <tr>\n",
       "      <td>2393</td>\n",
       "      <td>3540446</td>\n",
       "      <td>204</td>\n",
       "      <td>Daniel Bagley Elementary</td>\n",
       "      <td>K</td>\n",
       "      <td>2015-16</td>\n",
       "      <td>Spring</td>\n",
       "      <td>204</td>\n",
       "      <td>Daniel Bagley Elementary</td>\n",
       "      <td>K</td>\n",
       "      <td>Reading</td>\n",
       "      <td>Reading K-2 - Common Core 2010</td>\n",
       "      <td>161</td>\n",
       "    </tr>\n",
       "  </tbody>\n",
       "</table>\n",
       "</div>"
      ],
      "text/plain": [
       "      StudentID  CurrentEnrollmentSchoolID CurrentEnrollmentSchoolName  \\\n",
       "628     3787446                        204    Daniel Bagley Elementary   \n",
       "630     3787446                        204    Daniel Bagley Elementary   \n",
       "632     3787446                        204    Daniel Bagley Elementary   \n",
       "693     3391445                        204    Daniel Bagley Elementary   \n",
       "695     3391445                        204    Daniel Bagley Elementary   \n",
       "697     3391445                        204    Daniel Bagley Elementary   \n",
       "700     3322445                        204    Daniel Bagley Elementary   \n",
       "702     3322445                        204    Daniel Bagley Elementary   \n",
       "704     3322445                        204    Daniel Bagley Elementary   \n",
       "1471    3204445                        204    Daniel Bagley Elementary   \n",
       "1473    3204445                        204    Daniel Bagley Elementary   \n",
       "1475    3204445                        204    Daniel Bagley Elementary   \n",
       "2042    3797444                        204    Daniel Bagley Elementary   \n",
       "2391    3540446                        204    Daniel Bagley Elementary   \n",
       "2393    3540446                        204    Daniel Bagley Elementary   \n",
       "\n",
       "     CurrentGrade TestSchoolYear TestSeason  TestSchoolID  \\\n",
       "628             K        2015-16       Fall           204   \n",
       "630             K        2015-16     Spring           204   \n",
       "632             K        2015-16     Winter           204   \n",
       "693             K        2015-16       Fall           204   \n",
       "695             K        2015-16     Spring           204   \n",
       "697             K        2015-16     Winter           204   \n",
       "700             K        2015-16       Fall           204   \n",
       "702             K        2015-16     Spring           204   \n",
       "704             K        2015-16     Winter           204   \n",
       "1471            K        2015-16       Fall           204   \n",
       "1473            K        2015-16     Spring           204   \n",
       "1475            K        2015-16     Winter           204   \n",
       "2042            K        2015-16       Fall           204   \n",
       "2391            K        2015-16       Fall           204   \n",
       "2393            K        2015-16     Spring           204   \n",
       "\n",
       "                TestSchoolName TestGrade SubjectArea  \\\n",
       "628   Daniel Bagley Elementary         K     Reading   \n",
       "630   Daniel Bagley Elementary         K     Reading   \n",
       "632   Daniel Bagley Elementary         K     Reading   \n",
       "693   Daniel Bagley Elementary         K     Reading   \n",
       "695   Daniel Bagley Elementary         K     Reading   \n",
       "697   Daniel Bagley Elementary         K     Reading   \n",
       "700   Daniel Bagley Elementary         K     Reading   \n",
       "702   Daniel Bagley Elementary         K     Reading   \n",
       "704   Daniel Bagley Elementary         K     Reading   \n",
       "1471  Daniel Bagley Elementary         K     Reading   \n",
       "1473  Daniel Bagley Elementary         K     Reading   \n",
       "1475  Daniel Bagley Elementary         K     Reading   \n",
       "2042  Daniel Bagley Elementary         K     Reading   \n",
       "2391  Daniel Bagley Elementary         K     Reading   \n",
       "2393  Daniel Bagley Elementary         K     Reading   \n",
       "\n",
       "                            TestName  RITScore  \n",
       "628   Reading K-2 - Common Core 2010       150  \n",
       "630   Reading K-2 - Common Core 2010       178  \n",
       "632   Reading K-2 - Common Core 2010       166  \n",
       "693   Reading K-2 - Common Core 2010       156  \n",
       "695   Reading K-2 - Common Core 2010       179  \n",
       "697   Reading K-2 - Common Core 2010       164  \n",
       "700   Reading K-2 - Common Core 2010       146  \n",
       "702   Reading K-2 - Common Core 2010       162  \n",
       "704   Reading K-2 - Common Core 2010       146  \n",
       "1471  Reading K-2 - Common Core 2010       149  \n",
       "1473  Reading K-2 - Common Core 2010       166  \n",
       "1475  Reading K-2 - Common Core 2010       154  \n",
       "2042  Reading K-2 - Common Core 2010       146  \n",
       "2391  Reading K-2 - Common Core 2010       147  \n",
       "2393  Reading K-2 - Common Core 2010       161  "
      ]
     },
     "execution_count": 58,
     "metadata": {},
     "output_type": "execute_result"
    }
   ],
   "source": [
    "map_df[(map_df.CurrentGrade=='K') & (map_df.TestSchoolYear=='2015-16') & (map_df.TestSchoolID==204)].iloc[:15,:12]"
   ]
  },
  {
   "cell_type": "markdown",
   "metadata": {},
   "source": [
    "Well at least Daniel Bagley tests each kid in each season."
   ]
  },
  {
   "cell_type": "code",
   "execution_count": 76,
   "metadata": {
    "ExecuteTime": {
     "end_time": "2019-10-20T00:43:11.705493Z",
     "start_time": "2019-10-20T00:43:11.671748Z"
    },
    "scrolled": true
   },
   "outputs": [
    {
     "data": {
      "text/plain": [
       "CurrentGrade  TestSeason  TestSchoolYear\n",
       "1             Fall        2015-16           2132\n",
       "                          2016-17           2299\n",
       "                          2017-18           2104\n",
       "                          2018-19           2197\n",
       "              Spring      2015-16           4447\n",
       "                          2016-17           4469\n",
       "                          2017-18           4183\n",
       "              Winter      2015-16           1615\n",
       "                          2016-17           1717\n",
       "                          2017-18           1376\n",
       "                          2018-19           1245\n",
       "2             Fall        2015-16           2326\n",
       "                          2016-17           2425\n",
       "                          2017-18           2098\n",
       "                          2018-19           2260\n",
       "              Spring      2015-16           4154\n",
       "                          2016-17           4346\n",
       "                          2017-18           4111\n",
       "              Winter      2015-16           1506\n",
       "                          2016-17           1537\n",
       "                          2017-18           1183\n",
       "                          2018-19           1043\n",
       "K             Fall        2015-16            860\n",
       "                          2016-17            832\n",
       "                          2017-18            485\n",
       "                          2018-19            516\n",
       "              Spring      2015-16           2556\n",
       "                          2016-17           2463\n",
       "                          2017-18           2419\n",
       "              Winter      2015-16           4346\n",
       "                          2016-17           4325\n",
       "                          2017-18           4211\n",
       "                          2018-19           4259\n",
       "Name: StudentID, dtype: int64"
      ]
     },
     "execution_count": 76,
     "metadata": {},
     "output_type": "execute_result"
    }
   ],
   "source": [
    "map_df.groupby(['CurrentGrade','TestSeason','TestSchoolYear']).StudentID.nunique()"
   ]
  },
  {
   "cell_type": "code",
   "execution_count": 36,
   "metadata": {
    "ExecuteTime": {
     "end_time": "2019-10-19T23:50:38.773521Z",
     "start_time": "2019-10-19T23:50:38.755263Z"
    },
    "scrolled": false
   },
   "outputs": [
    {
     "data": {
      "text/plain": [
       "CurrentGrade  TestSeason  TestSchoolYear\n",
       "1             Fall        2015-16           164.819418\n",
       "                          2016-17           164.668552\n",
       "                          2017-18           162.963878\n",
       "                          2018-19           164.008648\n",
       "              Spring      2015-16           182.655948\n",
       "                          2016-17           181.134034\n",
       "                          2017-18           181.757112\n",
       "              Winter      2015-16           172.505263\n",
       "                          2016-17           169.976704\n",
       "                          2017-18           171.947674\n",
       "                          2018-19           170.859438\n",
       "2             Fall        2015-16           179.739467\n",
       "                          2016-17           181.244948\n",
       "                          2017-18           178.886136\n",
       "                          2018-19           181.165487\n",
       "              Spring      2015-16           194.033702\n",
       "                          2016-17           193.702485\n",
       "                          2017-18           193.917578\n",
       "              Winter      2015-16           183.553785\n",
       "                          2016-17           182.838647\n",
       "                          2017-18           183.802198\n",
       "                          2018-19           183.955896\n",
       "K             Fall        2015-16           142.837209\n",
       "                          2016-17           141.544471\n",
       "                          2017-18           141.065979\n",
       "                          2018-19           140.655039\n",
       "              Spring      2015-16           161.833333\n",
       "                          2016-17           159.858709\n",
       "                          2017-18           160.875155\n",
       "              Winter      2015-16           153.669351\n",
       "                          2016-17           152.994452\n",
       "                          2017-18           150.835194\n",
       "                          2018-19           152.069030\n",
       "Name: RITScore, dtype: float64"
      ]
     },
     "execution_count": 36,
     "metadata": {},
     "output_type": "execute_result"
    }
   ],
   "source": [
    "map_df.groupby(['CurrentGrade','TestSeason','TestSchoolYear']).RITScore.mean()"
   ]
  },
  {
   "cell_type": "markdown",
   "metadata": {},
   "source": [
    "From this it is highly likely that in the MAP score data fall comes before winter which comes before spring."
   ]
  },
  {
   "cell_type": "code",
   "execution_count": 59,
   "metadata": {
    "ExecuteTime": {
     "end_time": "2019-10-20T00:26:20.313442Z",
     "start_time": "2019-10-20T00:26:20.289524Z"
    }
   },
   "outputs": [
    {
     "data": {
      "text/plain": [
       "StudentID  TestSeason\n",
       "3000448    Winter        166\n",
       "3000457    Winter        160\n",
       "3001440    Spring        162\n",
       "           Winter        161\n",
       "3001441    Spring        161\n",
       "3001452    Fall          139\n",
       "           Spring        160\n",
       "           Winter        155\n",
       "3001459    Winter        167\n",
       "3002441    Spring        149\n",
       "           Winter        143\n",
       "3002444    Winter        170\n",
       "3002445    Winter        147\n",
       "3003440    Spring        160\n",
       "           Winter        165\n",
       "3003444    Spring        163\n",
       "           Winter        155\n",
       "3003446    Winter        162\n",
       "3003448    Winter        161\n",
       "3004413    Spring        151\n",
       "           Winter        144\n",
       "3004440    Winter        167\n",
       "3004441    Winter        161\n",
       "3004452    Spring        120\n",
       "           Winter        120\n",
       "3005440    Winter        172\n",
       "3005444    Fall          165\n",
       "           Spring        188\n",
       "           Winter        170\n",
       "3005446    Winter        132\n",
       "3006441    Winter        161\n",
       "3006444    Winter        155\n",
       "3006445    Fall          159\n",
       "           Spring        180\n",
       "           Winter        174\n",
       "3006446    Fall          130\n",
       "           Spring        143\n",
       "           Winter        132\n",
       "3006448    Spring        161\n",
       "           Winter        146\n",
       "3006452    Fall          140\n",
       "           Spring        155\n",
       "           Winter        142\n",
       "3006453    Spring        152\n",
       "           Winter        151\n",
       "3006457    Fall          149\n",
       "           Spring        169\n",
       "           Winter        154\n",
       "3007441    Winter        162\n",
       "3007446    Spring        174\n",
       "Name: RITScore, dtype: int32"
      ]
     },
     "execution_count": 59,
     "metadata": {},
     "output_type": "execute_result"
    }
   ],
   "source": [
    "map_df[(map_df.TestSchoolYear=='2015-16') & (map_df.CurrentGrade=='K')].groupby(['StudentID','TestSeason']).RITScore.mean()[:50]"
   ]
  },
  {
   "cell_type": "markdown",
   "metadata": {},
   "source": [
    "Individual kids definitely get tested in multiple seasons in some schools!"
   ]
  },
  {
   "cell_type": "markdown",
   "metadata": {},
   "source": [
    "For the MAP data files:"
   ]
  },
  {
   "cell_type": "code",
   "execution_count": 70,
   "metadata": {
    "ExecuteTime": {
     "end_time": "2019-10-20T00:32:32.965461Z",
     "start_time": "2019-10-20T00:32:32.934794Z"
    }
   },
   "outputs": [
    {
     "name": "stdout",
     "output_type": "stream",
     "text": [
      "#Rows were TestGrade!=CurrentGrade: 65\n",
      "#Rows were TestGrade==CurrentGrade: 81984\n"
     ]
    }
   ],
   "source": [
    "print('#Rows were TestGrade!=CurrentGrade:',len(map_df[map_df.TestGrade != map_df.CurrentGrade]))\n",
    "print('#Rows were TestGrade==CurrentGrade:',len(map_df[map_df.TestGrade == map_df.CurrentGrade]))"
   ]
  },
  {
   "cell_type": "markdown",
   "metadata": {},
   "source": [
    "For the SBAC data file:"
   ]
  },
  {
   "cell_type": "code",
   "execution_count": 73,
   "metadata": {
    "ExecuteTime": {
     "end_time": "2019-10-20T00:34:20.011556Z",
     "start_time": "2019-10-20T00:34:19.992488Z"
    }
   },
   "outputs": [
    {
     "name": "stdout",
     "output_type": "stream",
     "text": [
      "#Rows where TestGrade!=CurrentGrade-1: 325\n",
      "#Rows where TestGrade==CurrentGrade-1: 65115\n"
     ]
    }
   ],
   "source": [
    "print('#Rows where TestGrade!=CurrentGrade-1:',len(sbac_df[sbac_df.TestGrade!=sbac_df.CurrentGrade-1]))\n",
    "print('#Rows where TestGrade==CurrentGrade-1:',len(sbac_df[sbac_df.TestGrade==sbac_df.CurrentGrade-1]))"
   ]
  },
  {
   "cell_type": "code",
   "execution_count": 77,
   "metadata": {
    "ExecuteTime": {
     "end_time": "2019-10-20T00:54:44.268074Z",
     "start_time": "2019-10-20T00:54:44.265501Z"
    }
   },
   "outputs": [],
   "source": [
    "def get_student_data(studentID):\n",
    "    df = map_df[map_df.StudentID==studentID]\n",
    "    return df"
   ]
  },
  {
   "cell_type": "markdown",
   "metadata": {},
   "source": [
    "Let's look at some samples of student's data:"
   ]
  },
  {
   "cell_type": "code",
   "execution_count": 102,
   "metadata": {
    "ExecuteTime": {
     "end_time": "2019-10-20T01:10:01.713349Z",
     "start_time": "2019-10-20T01:10:01.681500Z"
    },
    "scrolled": false
   },
   "outputs": [
    {
     "data": {
      "text/html": [
       "<div>\n",
       "<style scoped>\n",
       "    .dataframe tbody tr th:only-of-type {\n",
       "        vertical-align: middle;\n",
       "    }\n",
       "\n",
       "    .dataframe tbody tr th {\n",
       "        vertical-align: top;\n",
       "    }\n",
       "\n",
       "    .dataframe thead th {\n",
       "        text-align: right;\n",
       "    }\n",
       "</style>\n",
       "<table border=\"1\" class=\"dataframe\">\n",
       "  <thead>\n",
       "    <tr style=\"text-align: right;\">\n",
       "      <th></th>\n",
       "      <th>StudentID</th>\n",
       "      <th>CurrentEnrollmentSchoolID</th>\n",
       "      <th>CurrentEnrollmentSchoolName</th>\n",
       "      <th>CurrentGrade</th>\n",
       "      <th>TestSchoolYear</th>\n",
       "      <th>TestSeason</th>\n",
       "      <th>TestSchoolID</th>\n",
       "      <th>TestSchoolName</th>\n",
       "      <th>TestGrade</th>\n",
       "      <th>SubjectArea</th>\n",
       "      <th>...</th>\n",
       "      <th>IEPStatus</th>\n",
       "      <th>Student504Status</th>\n",
       "      <th>GiftedStatus</th>\n",
       "      <th>PrimaryLanguage</th>\n",
       "      <th>HomeLanguage</th>\n",
       "      <th>LivingWith</th>\n",
       "      <th>USAEntryDate</th>\n",
       "      <th>BirthCountry</th>\n",
       "      <th>ProjectedGradYear</th>\n",
       "      <th>ExtractSchoolYear</th>\n",
       "    </tr>\n",
       "  </thead>\n",
       "  <tbody>\n",
       "    <tr>\n",
       "      <td>18526</td>\n",
       "      <td>3588445</td>\n",
       "      <td>292</td>\n",
       "      <td>Hazel Wolf K-8 School</td>\n",
       "      <td>K</td>\n",
       "      <td>2015-16</td>\n",
       "      <td>Spring</td>\n",
       "      <td>292</td>\n",
       "      <td>Hazel Wolf K-8 School</td>\n",
       "      <td>K</td>\n",
       "      <td>Reading</td>\n",
       "      <td>...</td>\n",
       "      <td>N</td>\n",
       "      <td>N</td>\n",
       "      <td>Not Eligible</td>\n",
       "      <td>English</td>\n",
       "      <td>English</td>\n",
       "      <td>Both Parents</td>\n",
       "      <td>NaT</td>\n",
       "      <td>USA</td>\n",
       "      <td>(n/a)</td>\n",
       "      <td>2015-16</td>\n",
       "    </tr>\n",
       "    <tr>\n",
       "      <td>18528</td>\n",
       "      <td>3588445</td>\n",
       "      <td>292</td>\n",
       "      <td>Hazel Wolf K-8 School</td>\n",
       "      <td>K</td>\n",
       "      <td>2015-16</td>\n",
       "      <td>Winter</td>\n",
       "      <td>292</td>\n",
       "      <td>Hazel Wolf K-8 School</td>\n",
       "      <td>K</td>\n",
       "      <td>Reading</td>\n",
       "      <td>...</td>\n",
       "      <td>N</td>\n",
       "      <td>N</td>\n",
       "      <td>Not Eligible</td>\n",
       "      <td>English</td>\n",
       "      <td>English</td>\n",
       "      <td>Both Parents</td>\n",
       "      <td>NaT</td>\n",
       "      <td>USA</td>\n",
       "      <td>(n/a)</td>\n",
       "      <td>2015-16</td>\n",
       "    </tr>\n",
       "    <tr>\n",
       "      <td>79234</td>\n",
       "      <td>3588445</td>\n",
       "      <td>292</td>\n",
       "      <td>Hazel Wolf K-8 School</td>\n",
       "      <td>1</td>\n",
       "      <td>2016-17</td>\n",
       "      <td>Spring</td>\n",
       "      <td>292</td>\n",
       "      <td>Hazel Wolf K-8 School</td>\n",
       "      <td>1</td>\n",
       "      <td>Reading</td>\n",
       "      <td>...</td>\n",
       "      <td>N</td>\n",
       "      <td>N</td>\n",
       "      <td>Not Eligible</td>\n",
       "      <td>English</td>\n",
       "      <td>English</td>\n",
       "      <td>Both Parents</td>\n",
       "      <td>NaT</td>\n",
       "      <td>USA</td>\n",
       "      <td>(n/a)</td>\n",
       "      <td>2016-17</td>\n",
       "    </tr>\n",
       "    <tr>\n",
       "      <td>79236</td>\n",
       "      <td>3588445</td>\n",
       "      <td>292</td>\n",
       "      <td>Hazel Wolf K-8 School</td>\n",
       "      <td>1</td>\n",
       "      <td>2016-17</td>\n",
       "      <td>Winter</td>\n",
       "      <td>292</td>\n",
       "      <td>Hazel Wolf K-8 School</td>\n",
       "      <td>1</td>\n",
       "      <td>Reading</td>\n",
       "      <td>...</td>\n",
       "      <td>N</td>\n",
       "      <td>N</td>\n",
       "      <td>Not Eligible</td>\n",
       "      <td>English</td>\n",
       "      <td>English</td>\n",
       "      <td>Both Parents</td>\n",
       "      <td>NaT</td>\n",
       "      <td>USA</td>\n",
       "      <td>(n/a)</td>\n",
       "      <td>2016-17</td>\n",
       "    </tr>\n",
       "    <tr>\n",
       "      <td>146429</td>\n",
       "      <td>3588445</td>\n",
       "      <td>292</td>\n",
       "      <td>Hazel Wolf K-8 School</td>\n",
       "      <td>2</td>\n",
       "      <td>2017-18</td>\n",
       "      <td>Spring</td>\n",
       "      <td>292</td>\n",
       "      <td>Hazel Wolf K-8 School</td>\n",
       "      <td>2</td>\n",
       "      <td>Reading</td>\n",
       "      <td>...</td>\n",
       "      <td>N</td>\n",
       "      <td>N</td>\n",
       "      <td>Not Eligible</td>\n",
       "      <td>English</td>\n",
       "      <td>English</td>\n",
       "      <td>Both Parents</td>\n",
       "      <td>NaT</td>\n",
       "      <td>USA</td>\n",
       "      <td>(n/a)</td>\n",
       "      <td>2017-18</td>\n",
       "    </tr>\n",
       "    <tr>\n",
       "      <td>146431</td>\n",
       "      <td>3588445</td>\n",
       "      <td>292</td>\n",
       "      <td>Hazel Wolf K-8 School</td>\n",
       "      <td>2</td>\n",
       "      <td>2017-18</td>\n",
       "      <td>Winter</td>\n",
       "      <td>292</td>\n",
       "      <td>Hazel Wolf K-8 School</td>\n",
       "      <td>2</td>\n",
       "      <td>Reading</td>\n",
       "      <td>...</td>\n",
       "      <td>N</td>\n",
       "      <td>N</td>\n",
       "      <td>Not Eligible</td>\n",
       "      <td>English</td>\n",
       "      <td>English</td>\n",
       "      <td>Both Parents</td>\n",
       "      <td>NaT</td>\n",
       "      <td>USA</td>\n",
       "      <td>(n/a)</td>\n",
       "      <td>2017-18</td>\n",
       "    </tr>\n",
       "  </tbody>\n",
       "</table>\n",
       "<p>6 rows × 30 columns</p>\n",
       "</div>"
      ],
      "text/plain": [
       "        StudentID  CurrentEnrollmentSchoolID CurrentEnrollmentSchoolName  \\\n",
       "18526     3588445                        292       Hazel Wolf K-8 School   \n",
       "18528     3588445                        292       Hazel Wolf K-8 School   \n",
       "79234     3588445                        292       Hazel Wolf K-8 School   \n",
       "79236     3588445                        292       Hazel Wolf K-8 School   \n",
       "146429    3588445                        292       Hazel Wolf K-8 School   \n",
       "146431    3588445                        292       Hazel Wolf K-8 School   \n",
       "\n",
       "       CurrentGrade TestSchoolYear TestSeason  TestSchoolID  \\\n",
       "18526             K        2015-16     Spring           292   \n",
       "18528             K        2015-16     Winter           292   \n",
       "79234             1        2016-17     Spring           292   \n",
       "79236             1        2016-17     Winter           292   \n",
       "146429            2        2017-18     Spring           292   \n",
       "146431            2        2017-18     Winter           292   \n",
       "\n",
       "               TestSchoolName TestGrade SubjectArea  ... IEPStatus  \\\n",
       "18526   Hazel Wolf K-8 School         K     Reading  ...         N   \n",
       "18528   Hazel Wolf K-8 School         K     Reading  ...         N   \n",
       "79234   Hazel Wolf K-8 School         1     Reading  ...         N   \n",
       "79236   Hazel Wolf K-8 School         1     Reading  ...         N   \n",
       "146429  Hazel Wolf K-8 School         2     Reading  ...         N   \n",
       "146431  Hazel Wolf K-8 School         2     Reading  ...         N   \n",
       "\n",
       "        Student504Status  GiftedStatus  PrimaryLanguage  HomeLanguage  \\\n",
       "18526                  N  Not Eligible          English       English   \n",
       "18528                  N  Not Eligible          English       English   \n",
       "79234                  N  Not Eligible          English       English   \n",
       "79236                  N  Not Eligible          English       English   \n",
       "146429                 N  Not Eligible          English       English   \n",
       "146431                 N  Not Eligible          English       English   \n",
       "\n",
       "          LivingWith USAEntryDate BirthCountry ProjectedGradYear  \\\n",
       "18526   Both Parents          NaT          USA             (n/a)   \n",
       "18528   Both Parents          NaT          USA             (n/a)   \n",
       "79234   Both Parents          NaT          USA             (n/a)   \n",
       "79236   Both Parents          NaT          USA             (n/a)   \n",
       "146429  Both Parents          NaT          USA             (n/a)   \n",
       "146431  Both Parents          NaT          USA             (n/a)   \n",
       "\n",
       "       ExtractSchoolYear  \n",
       "18526            2015-16  \n",
       "18528            2015-16  \n",
       "79234            2016-17  \n",
       "79236            2016-17  \n",
       "146429           2017-18  \n",
       "146431           2017-18  \n",
       "\n",
       "[6 rows x 30 columns]"
      ]
     },
     "execution_count": 102,
     "metadata": {},
     "output_type": "execute_result"
    }
   ],
   "source": [
    "get_student_data(map_df.StudentID.sample().values[0])"
   ]
  },
  {
   "cell_type": "code",
   "execution_count": 150,
   "metadata": {
    "ExecuteTime": {
     "end_time": "2019-10-20T03:36:22.740810Z",
     "start_time": "2019-10-20T03:36:22.688721Z"
    },
    "scrolled": true
   },
   "outputs": [
    {
     "data": {
      "text/plain": [
       "3506410"
      ]
     },
     "execution_count": 150,
     "metadata": {},
     "output_type": "execute_result"
    }
   ],
   "source": [
    "living_with_situations = map_df.groupby(['StudentID']).LivingWith.nunique()\n",
    "living_with_situations[living_with_situations>1].sample().index[0]"
   ]
  },
  {
   "cell_type": "code",
   "execution_count": 143,
   "metadata": {
    "ExecuteTime": {
     "end_time": "2019-10-20T01:40:53.078621Z",
     "start_time": "2019-10-20T01:40:53.070707Z"
    }
   },
   "outputs": [
    {
     "data": {
      "text/plain": [
       "49845     Agency/Social S\n",
       "49846     Agency/Social S\n",
       "122858             Mother\n",
       "122860             Mother\n",
       "122894             Mother\n",
       "Name: LivingWith, dtype: object"
      ]
     },
     "execution_count": 143,
     "metadata": {},
     "output_type": "execute_result"
    }
   ],
   "source": [
    "get_student_data(living_with_situations[living_with_situations>1].sample().index[0]).LivingWith"
   ]
  },
  {
   "cell_type": "markdown",
   "metadata": {},
   "source": []
  },
  {
   "cell_type": "code",
   "execution_count": 173,
   "metadata": {
    "ExecuteTime": {
     "end_time": "2019-10-20T03:56:59.982493Z",
     "start_time": "2019-10-20T03:56:59.965755Z"
    }
   },
   "outputs": [
    {
     "data": {
      "text/plain": [
       "Series([], Name: CurrentEnrollmentSchoolID, dtype: int64)"
      ]
     },
     "execution_count": 173,
     "metadata": {},
     "output_type": "execute_result"
    }
   ],
   "source": [
    "schools_df = map_df.groupby(['CurrentEnrollmentSchoolID','CurrentEnrollmentSchoolName']).size().reset_index(name='Freq').drop(columns=['Freq'])\n",
    "school_names = schools_df.set_index('CurrentEnrollmentSchoolID')\n",
    "school_IDs = schools_df.set_index('CurrentEnrollmentSchoolName')"
   ]
  },
  {
   "cell_type": "markdown",
   "metadata": {},
   "source": [
    "Confirming that there are no duplicate school numbers in the collection:"
   ]
  },
  {
   "cell_type": "code",
   "execution_count": 186,
   "metadata": {
    "ExecuteTime": {
     "end_time": "2019-10-20T04:05:49.250026Z",
     "start_time": "2019-10-20T04:05:49.244297Z"
    }
   },
   "outputs": [
    {
     "data": {
      "text/plain": [
       "Series([], Name: CurrentEnrollmentSchoolID, dtype: int64)"
      ]
     },
     "execution_count": 186,
     "metadata": {},
     "output_type": "execute_result"
    }
   ],
   "source": [
    "uniqueIDs = schools_df.groupby(['CurrentEnrollmentSchoolID']).CurrentEnrollmentSchoolID.nunique()\n",
    "uniqueIDs[uniqueIDs>1]"
   ]
  },
  {
   "cell_type": "markdown",
   "metadata": {},
   "source": [
    "This is how to refer to a school name from its ID #:"
   ]
  },
  {
   "cell_type": "code",
   "execution_count": 185,
   "metadata": {
    "ExecuteTime": {
     "end_time": "2019-10-20T04:03:09.694635Z",
     "start_time": "2019-10-20T04:03:09.690028Z"
    }
   },
   "outputs": [
    {
     "data": {
      "text/plain": [
       "'Adams Elementary'"
      ]
     },
     "execution_count": 185,
     "metadata": {},
     "output_type": "execute_result"
    }
   ],
   "source": [
    "school_names.loc[201][0]"
   ]
  },
  {
   "cell_type": "markdown",
   "metadata": {},
   "source": [
    "Taking the list of school names from the Seattle Onboarding History.xlsx workbook, I'll figure out what school ID's these schools are:"
   ]
  },
  {
   "cell_type": "code",
   "execution_count": 187,
   "metadata": {
    "ExecuteTime": {
     "end_time": "2019-10-20T04:20:17.453050Z",
     "start_time": "2019-10-20T04:20:17.449901Z"
    }
   },
   "outputs": [],
   "source": [
    "schoolNames = ['Bailey Gatzert Elementary',\n",
    "'Concord International',\n",
    "'Dearborn Park International School',\n",
    "'Dunlap Elementary School',\n",
    "'Emerson Elementary',\n",
    "'Graham HIll Elementary',\n",
    "'Hawthorne Elementary School',\n",
    "'Highland Park Elementary',\n",
    "'John Muir Elementary',\n",
    "'Maple Elementary',\n",
    "'Martin Luther King Jr. Elementary',\n",
    "'Northgate Elementary School',\n",
    "'Rainier View Elementary',\n",
    "'Sanislo Elementary',\n",
    "'Van Asselt Elementary',\n",
    "'West Seattle Elementary',\n",
    "'Wing Luke Elementary',\n",
    "'Roxhill Elementary School']"
   ]
  },
  {
   "cell_type": "code",
   "execution_count": 261,
   "metadata": {
    "ExecuteTime": {
     "end_time": "2019-10-20T05:08:12.726091Z",
     "start_time": "2019-10-20T05:08:12.697716Z"
    }
   },
   "outputs": [
    {
     "name": "stdout",
     "output_type": "stream",
     "text": [
      "Bailey Gatzert Elementary \n",
      " CurrentEnrollmentSchoolID\n",
      "226    Bailey Gatzert Elementary\n",
      "Name: CurrentEnrollmentSchoolName, dtype: object\n",
      "Concord International \n",
      " CurrentEnrollmentSchoolID\n",
      "215    Concord International School\n",
      "Name: CurrentEnrollmentSchoolName, dtype: object\n",
      "Dearborn Park International School \n",
      " CurrentEnrollmentSchoolID\n",
      "251    Dearborn Park International School\n",
      "Name: CurrentEnrollmentSchoolName, dtype: object\n",
      "Dunlap Elementary School \n",
      " CurrentEnrollmentSchoolID\n",
      "219    Dunlap Elementary\n",
      "Name: CurrentEnrollmentSchoolName, dtype: object\n",
      "Emerson Elementary \n",
      " CurrentEnrollmentSchoolID\n",
      "221    Emerson Elementary\n",
      "Name: CurrentEnrollmentSchoolName, dtype: object\n",
      "Graham HIll Elementary \n",
      " CurrentEnrollmentSchoolID\n",
      "220    Graham Hill Elementary\n",
      "Name: CurrentEnrollmentSchoolName, dtype: object\n",
      "Hawthorne Elementary School \n",
      " CurrentEnrollmentSchoolID\n",
      "233    Hawthorne Elementary\n",
      "Name: CurrentEnrollmentSchoolName, dtype: object\n",
      "Highland Park Elementary \n",
      " CurrentEnrollmentSchoolID\n",
      "235    Highland Park Elementary\n",
      "Name: CurrentEnrollmentSchoolName, dtype: object\n",
      "John Muir Elementary \n",
      " CurrentEnrollmentSchoolID\n",
      "234                   John Hay Elementary\n",
      "241    John Stanford International School\n",
      "256                  John Muir Elementary\n",
      "266                John Rogers Elementary\n",
      "Name: CurrentEnrollmentSchoolName, dtype: object\n",
      "Maple Elementary \n",
      " CurrentEnrollmentSchoolID\n",
      "252    Maple Elementary\n",
      "Name: CurrentEnrollmentSchoolName, dtype: object\n",
      "Martin Luther King Jr. Elementary \n",
      " CurrentEnrollmentSchoolID\n",
      "207    Martin Luther King Jr. Elementary\n",
      "Name: CurrentEnrollmentSchoolName, dtype: object\n",
      "Northgate Elementary School \n",
      " CurrentEnrollmentSchoolID\n",
      "257    Northgate Elementary\n",
      "Name: CurrentEnrollmentSchoolName, dtype: object\n",
      "Rainier View Elementary \n",
      " CurrentEnrollmentSchoolID\n",
      "264    Rainier View Elementary\n",
      "Name: CurrentEnrollmentSchoolName, dtype: object\n",
      "Sanislo Elementary \n",
      " CurrentEnrollmentSchoolID\n",
      "273    Sanislo Elementary\n",
      "Name: CurrentEnrollmentSchoolName, dtype: object\n",
      "Van Asselt Elementary \n",
      " CurrentEnrollmentSchoolID\n",
      "275    Van Asselt Elementary\n",
      "Name: CurrentEnrollmentSchoolName, dtype: object\n",
      "West Seattle Elementary \n",
      " CurrentEnrollmentSchoolID\n",
      "236     West Seattle Elementary\n",
      "281    West Woodland Elementary\n",
      "Name: CurrentEnrollmentSchoolName, dtype: object\n",
      "Wing Luke Elementary \n",
      " CurrentEnrollmentSchoolID\n",
      "286    Wing Luke Elementary\n",
      "Name: CurrentEnrollmentSchoolName, dtype: object\n",
      "Roxhill Elementary School \n",
      " CurrentEnrollmentSchoolID\n",
      "267    Roxhill Elementary\n",
      "Name: CurrentEnrollmentSchoolName, dtype: object\n"
     ]
    }
   ],
   "source": [
    "for name in schoolNames:\n",
    "    for part in name.split():\n",
    "        if school_names.CurrentEnrollmentSchoolName.str.contains(part).any():\n",
    "            print(name,'\\n', school_names[school_names.CurrentEnrollmentSchoolName.str.contains(part)].CurrentEnrollmentSchoolName)\n",
    "            break"
   ]
  },
  {
   "cell_type": "code",
   "execution_count": null,
   "metadata": {},
   "outputs": [],
   "source": []
  },
  {
   "cell_type": "code",
   "execution_count": null,
   "metadata": {},
   "outputs": [],
   "source": []
  },
  {
   "cell_type": "code",
   "execution_count": null,
   "metadata": {},
   "outputs": [],
   "source": []
  },
  {
   "cell_type": "code",
   "execution_count": null,
   "metadata": {},
   "outputs": [],
   "source": []
  },
  {
   "cell_type": "markdown",
   "metadata": {},
   "source": [
    "Clean the SBAC data:"
   ]
  },
  {
   "cell_type": "code",
   "execution_count": null,
   "metadata": {
    "ExecuteTime": {
     "end_time": "2019-10-18T20:51:14.482218Z",
     "start_time": "2019-10-18T20:51:14.212256Z"
    }
   },
   "outputs": [],
   "source": [
    "# This cell is for making reloading the SBAC data easy:\n",
    "sbac_df = load_sbac_df_from_csv(2018,2018)\n",
    "print(sbac_df.StudentID.nunique(),\" K-12 students of SBAC data loaded.\")"
   ]
  },
  {
   "cell_type": "markdown",
   "metadata": {},
   "source": [
    "Notice that I'm __*not*__ filtering to only include 3rd graders:"
   ]
  },
  {
   "cell_type": "code",
   "execution_count": null,
   "metadata": {
    "ExecuteTime": {
     "end_time": "2019-10-18T20:51:16.451934Z",
     "start_time": "2019-10-18T20:51:16.442234Z"
    }
   },
   "outputs": [],
   "source": [
    "def clean_sbac_df(SBAC_df):\n",
    "    SBAC_df.drop(columns=['LastName','FirstName','PhoneNumber','OnTrackToGraduate'],\\\n",
    "                inplace=True)\n",
    "    SBAC_df = SBAC_df[SBAC_df.SubjectArea == 'Reading/ELA'].copy()\n",
    "    #SBAC_df = SBAC_df[SBAC_df.TestGrade == 3]\n",
    "    SBAC_df.BirthDate = pd.to_datetime(SBAC_df.BirthDate)\n",
    "    SBAC_df.USAEntryDate = pd.to_datetime(SBAC_df.USAEntryDate,errors='coerce')\n",
    "    SBAC_df.TestSchoolYear = SBAC_df.TestSchoolYear.str.replace('\\x96','-')\n",
    "    SBAC_df.ExtractSchoolYear = SBAC_df.ExtractSchoolYear.str.replace('\\x96','-')\n",
    "    return SBAC_df"
   ]
  },
  {
   "cell_type": "code",
   "execution_count": null,
   "metadata": {
    "ExecuteTime": {
     "end_time": "2019-10-18T20:51:18.427709Z",
     "start_time": "2019-10-18T20:51:18.339949Z"
    },
    "scrolled": true
   },
   "outputs": [],
   "source": [
    "sbac_df = clean_sbac_df(sbac_df)\n",
    "#sbac_df.info()"
   ]
  },
  {
   "cell_type": "code",
   "execution_count": null,
   "metadata": {
    "ExecuteTime": {
     "end_time": "2019-10-18T20:51:27.117661Z",
     "start_time": "2019-10-18T20:51:27.108515Z"
    }
   },
   "outputs": [],
   "source": [
    "map_df.TestSchoolYear.iloc[0]"
   ]
  },
  {
   "cell_type": "code",
   "execution_count": null,
   "metadata": {
    "ExecuteTime": {
     "end_time": "2019-10-18T20:51:28.607372Z",
     "start_time": "2019-10-18T20:51:28.587520Z"
    },
    "scrolled": true
   },
   "outputs": [],
   "source": [
    "map_df[(map_df.TestSchoolYear=='2015-16') & (map_df.CurrentGrade=='K')].StudentID.nunique()"
   ]
  },
  {
   "cell_type": "code",
   "execution_count": null,
   "metadata": {
    "ExecuteTime": {
     "end_time": "2019-10-18T20:51:30.386192Z",
     "start_time": "2019-10-18T20:51:30.379286Z"
    }
   },
   "outputs": [],
   "source": [
    "sbac_df.StudentID.nunique()"
   ]
  },
  {
   "cell_type": "code",
   "execution_count": null,
   "metadata": {
    "ExecuteTime": {
     "end_time": "2019-10-18T20:51:34.962334Z",
     "start_time": "2019-10-18T20:51:34.941071Z"
    },
    "scrolled": false
   },
   "outputs": [],
   "source": [
    "kinder2015 = map_df[(map_df.TestSchoolYear=='2015-16') & (map_df.CurrentGrade=='1')]\n",
    "sbac_df[sbac_df.StudentID.isin(kinder2015.StudentID)].TestGrade.value_counts()"
   ]
  },
  {
   "cell_type": "code",
   "execution_count": null,
   "metadata": {
    "ExecuteTime": {
     "end_time": "2019-10-18T20:51:40.017204Z",
     "start_time": "2019-10-18T20:51:40.010899Z"
    }
   },
   "outputs": [],
   "source": [
    "sbac_df.CurrentGrade.value_counts().sort_index()"
   ]
  },
  {
   "cell_type": "code",
   "execution_count": null,
   "metadata": {
    "ExecuteTime": {
     "end_time": "2019-10-18T20:51:44.570302Z",
     "start_time": "2019-10-18T20:51:44.562809Z"
    }
   },
   "outputs": [],
   "source": [
    "sbac_df[sbac_df.CurrentGrade==4].StudentID.nunique()"
   ]
  },
  {
   "cell_type": "code",
   "execution_count": null,
   "metadata": {
    "ExecuteTime": {
     "end_time": "2019-10-18T20:59:01.428234Z",
     "start_time": "2019-10-18T20:59:01.412278Z"
    }
   },
   "outputs": [],
   "source": [
    "schools = map_df[['CurrentEnrollmentSchoolID','CurrentEnrollmentSchoolName']]\n",
    "schools.groupby(['CurrentEnrollmentSchoolID','CurrentEnrollmentSchoolName']).size()"
   ]
  },
  {
   "cell_type": "code",
   "execution_count": null,
   "metadata": {
    "ExecuteTime": {
     "end_time": "2019-10-18T21:13:05.003642Z",
     "start_time": "2019-10-18T21:13:04.995559Z"
    }
   },
   "outputs": [],
   "source": [
    "sbac_df.TestSchoolYear.value_counts()"
   ]
  },
  {
   "cell_type": "code",
   "execution_count": null,
   "metadata": {},
   "outputs": [],
   "source": []
  },
  {
   "cell_type": "code",
   "execution_count": null,
   "metadata": {
    "ExecuteTime": {
     "end_time": "2019-10-18T19:52:21.727254Z",
     "start_time": "2019-10-18T19:52:21.723516Z"
    }
   },
   "outputs": [],
   "source": [
    "def has_bookup_for_2015_kinder(school):\n",
    "    \"\"\"\n",
    "    input\n",
    "    \"\"\"\n",
    "    return 1 if school in []"
   ]
  }
 ],
 "metadata": {
  "kernelspec": {
   "display_name": "Python [conda env:metis] *",
   "language": "python",
   "name": "conda-env-metis-py"
  },
  "language_info": {
   "codemirror_mode": {
    "name": "ipython",
    "version": 3
   },
   "file_extension": ".py",
   "mimetype": "text/x-python",
   "name": "python",
   "nbconvert_exporter": "python",
   "pygments_lexer": "ipython3",
   "version": "3.7.3"
  },
  "toc": {
   "base_numbering": 1,
   "nav_menu": {},
   "number_sections": true,
   "sideBar": true,
   "skip_h1_title": false,
   "title_cell": "Table of Contents",
   "title_sidebar": "Contents",
   "toc_cell": false,
   "toc_position": {},
   "toc_section_display": true,
   "toc_window_display": false
  }
 },
 "nbformat": 4,
 "nbformat_minor": 2
}
