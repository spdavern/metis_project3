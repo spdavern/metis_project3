{
 "cells": [
  {
   "cell_type": "code",
   "execution_count": 1,
   "metadata": {
    "ExecuteTime": {
     "end_time": "2019-10-21T23:52:24.833937Z",
     "start_time": "2019-10-21T23:52:24.256873Z"
    }
   },
   "outputs": [],
   "source": [
    "import pandas as pd\n",
    "import numpy as np\n",
    "from collections import defaultdict\n",
    "import pickle"
   ]
  },
  {
   "cell_type": "markdown",
   "metadata": {},
   "source": [
    "# Load\n",
    "Function to import the MAP assessments from csv files which contain the RIT Scores for K-12.  \n",
    "Function to import the SBAC assessments from its csv file."
   ]
  },
  {
   "cell_type": "code",
   "execution_count": 2,
   "metadata": {
    "ExecuteTime": {
     "end_time": "2019-10-21T23:52:24.842078Z",
     "start_time": "2019-10-21T23:52:24.835972Z"
    }
   },
   "outputs": [],
   "source": [
    "def load_map_df_from_csv(start_year,end_year):\n",
    "    data_folder = './data/raw/'\n",
    "    filename_common = '_ADR-301-MAP-Assessment-Scores.csv'\n",
    "    map_df = None\n",
    "    for yr in range(start_year,end_year+1):\n",
    "        df = pd.read_csv(data_folder+str(yr)+filename_common, encoding = \"ISO-8859-1\")\n",
    "        if map_df is None:\n",
    "            map_df = df.copy()\n",
    "        else:\n",
    "            map_df = map_df.append(df, ignore_index = True).copy()\n",
    "    return map_df\n",
    "\n",
    "def load_sbac_df_from_csv(start_year,end_year):\n",
    "    data_folder = './data/raw/'\n",
    "    filename_common = '_ADR-311-State-Assessment-Scores.csv'\n",
    "    sbac_df = None\n",
    "    for yr in range(start_year,end_year+1):\n",
    "        df = pd.read_csv(data_folder+str(yr)+filename_common, encoding = \"ISO-8859-1\")\n",
    "        if sbac_df is None:\n",
    "            sbac_df = df.copy()\n",
    "        else:\n",
    "            sbac_df = sbac_df.append(df, ignore_index = True).copy()\n",
    "    return sbac_df"
   ]
  },
  {
   "cell_type": "markdown",
   "metadata": {},
   "source": [
    "Load the testing data:"
   ]
  },
  {
   "cell_type": "code",
   "execution_count": 3,
   "metadata": {
    "ExecuteTime": {
     "end_time": "2019-10-21T23:52:26.588623Z",
     "start_time": "2019-10-21T23:52:24.845333Z"
    }
   },
   "outputs": [
    {
     "name": "stdout",
     "output_type": "stream",
     "text": [
      "41,211 K-12 students of MAP data loaded.\n",
      "29,917 K-12 students of SBAC data loaded.\n"
     ]
    }
   ],
   "source": [
    "map_df = load_map_df_from_csv(2015,2018)\n",
    "print(\"{:,}\".format(map_df.StudentID.nunique()),\"K-12 students of MAP data loaded.\")\n",
    "sbac_df = load_sbac_df_from_csv(2018,2018)\n",
    "print(\"{:,}\".format(sbac_df.StudentID.nunique()),\"K-12 students of SBAC data loaded.\")"
   ]
  },
  {
   "cell_type": "markdown",
   "metadata": {
    "ExecuteTime": {
     "end_time": "2019-10-18T06:32:43.009837Z",
     "start_time": "2019-10-18T06:32:43.005465Z"
    }
   },
   "source": [
    "# Clean\n",
    "Function to clean the K-2 data:\n",
    "* Drop columns originally related to personally identifiable information: LastName, FirstName, PhoneNumber\n",
    "* Drop discontinued data column: OnTrackToGraduate\n",
    "* Remove all rows that contain SubjectArea='Mathematics'\n",
    "* Remove all rows for kids in grades 3-12.\n",
    "* Correct column data types."
   ]
  },
  {
   "cell_type": "code",
   "execution_count": 4,
   "metadata": {
    "ExecuteTime": {
     "end_time": "2019-10-21T23:52:26.598236Z",
     "start_time": "2019-10-21T23:52:26.591537Z"
    },
    "scrolled": false
   },
   "outputs": [],
   "source": [
    "def clean_map_df(map_df):\n",
    "    map_df.drop(columns=['LastName','FirstName','PhoneNumber','OnTrackToGraduate'],\\\n",
    "                inplace=True)\n",
    "    map_df = map_df[map_df.SubjectArea != 'Mathematics']\n",
    "    map_df = map_df[map_df.CurrentGrade.isin(['K','1','2'])]\n",
    "    map_df = map_df.astype({'StudentID':'int32',\\\n",
    "                        'CurrentEnrollmentSchoolID':'int32',\\\n",
    "                        'TestSchoolID':'int32',\\\n",
    "                        'RITScore':'int32',\\\n",
    "                        'PercentileRank':pd.Int32Dtype(),\\\n",
    "                        'MetGrowthLastFallToThisFall':pd.Int32Dtype(),\\\n",
    "                        'MetGrowthLastSpringToThisSpring':pd.Int32Dtype(),\\\n",
    "                        'MetGrowthLastFallToThisSpring':pd.Int32Dtype()})\n",
    "    map_df.TestSchoolYear = map_df.TestSchoolYear.str.replace('\\x96','-')\n",
    "    map_df.ExtractSchoolYear = map_df.ExtractSchoolYear.str.replace('\\x96','-')\n",
    "    map_df.BirthDate = pd.to_datetime(map_df.BirthDate)\n",
    "    map_df.USAEntryDate = pd.to_datetime(map_df.USAEntryDate,errors='coerce')\n",
    "    return map_df\n",
    "\n",
    "# I've commented this out for now while I was troubleshooting whey I can't find the\n",
    "# 2015 Kindergartener's in the SBAC file.\n",
    "# def clean_sbac_df(SBAC_df):\n",
    "#     SBAC_df.drop(columns=['LastName','FirstName','PhoneNumber','OnTrackToGraduate'],\\\n",
    "#                 inplace=True)\n",
    "#     SBAC_df = SBAC_df[SBAC_df.SubjectArea == 'Reading/ELA'].copy()\n",
    "#     SBAC_df = SBAC_df[SBAC_df.TestGrade == 3]\n",
    "#     SBAC_df.BirthDate = pd.to_datetime(SBAC_df.BirthDate)\n",
    "#     SBAC_df.USAEntryDate = pd.to_datetime(SBAC_df.USAEntryDate,errors='coerce')\n",
    "#     SBAC_df.TestSchoolYear = SBAC_df.TestSchoolYear.str.replace('\\x96','-')\n",
    "#     SBAC_df.ExtractSchoolYear = SBAC_df.ExtractSchoolYear.str.replace('\\x96','-')\n",
    "#     return SBAC_df"
   ]
  },
  {
   "cell_type": "markdown",
   "metadata": {},
   "source": [
    "Clean the MAP (K-2) data:"
   ]
  },
  {
   "cell_type": "code",
   "execution_count": 5,
   "metadata": {
    "ExecuteTime": {
     "end_time": "2019-10-21T23:52:26.926340Z",
     "start_time": "2019-10-21T23:52:26.600425Z"
    }
   },
   "outputs": [
    {
     "name": "stdout",
     "output_type": "stream",
     "text": [
      "<class 'pandas.core.frame.DataFrame'>\n",
      "Int64Index: 82049 entries, 3 to 224858\n",
      "Data columns (total 30 columns):\n",
      "StudentID                          82049 non-null int32\n",
      "CurrentEnrollmentSchoolID          82049 non-null int32\n",
      "CurrentEnrollmentSchoolName        82049 non-null object\n",
      "CurrentGrade                       82049 non-null object\n",
      "TestSchoolYear                     82049 non-null object\n",
      "TestSeason                         82049 non-null object\n",
      "TestSchoolID                       82049 non-null int32\n",
      "TestSchoolName                     82049 non-null object\n",
      "TestGrade                          82049 non-null object\n",
      "SubjectArea                        82049 non-null object\n",
      "TestName                           82049 non-null object\n",
      "RITScore                           82049 non-null int32\n",
      "PercentileRank                     82048 non-null Int32\n",
      "MetGrowthLastFallToThisFall        8673 non-null Int32\n",
      "MetGrowthLastSpringToThisSpring    19367 non-null Int32\n",
      "MetGrowthLastFallToThisSpring      14522 non-null Int32\n",
      "BirthDate                          82049 non-null datetime64[ns]\n",
      "Gender                             82049 non-null object\n",
      "RacialEthnicGroup                  82049 non-null object\n",
      "ELLStatus                          82049 non-null object\n",
      "IEPStatus                          82049 non-null object\n",
      "Student504Status                   82049 non-null object\n",
      "GiftedStatus                       82049 non-null object\n",
      "PrimaryLanguage                    82049 non-null object\n",
      "HomeLanguage                       82049 non-null object\n",
      "LivingWith                         82049 non-null object\n",
      "USAEntryDate                       5089 non-null datetime64[ns]\n",
      "BirthCountry                       82049 non-null object\n",
      "ProjectedGradYear                  82049 non-null object\n",
      "ExtractSchoolYear                  82049 non-null object\n",
      "dtypes: Int32(4), datetime64[ns](2), int32(4), object(20)\n",
      "memory usage: 17.2+ MB\n"
     ]
    }
   ],
   "source": [
    "map_df = clean_map_df(map_df)\n",
    "map_df.info()"
   ]
  },
  {
   "cell_type": "markdown",
   "metadata": {},
   "source": [
    "I may want to open this dataframe in Numbers:"
   ]
  },
  {
   "cell_type": "code",
   "execution_count": 6,
   "metadata": {
    "ExecuteTime": {
     "end_time": "2019-10-21T23:52:26.930910Z",
     "start_time": "2019-10-21T23:52:26.928218Z"
    }
   },
   "outputs": [],
   "source": [
    "#map_df.to_csv('./data/interim/map_df.csv')"
   ]
  },
  {
   "cell_type": "code",
   "execution_count": 7,
   "metadata": {
    "ExecuteTime": {
     "end_time": "2019-10-21T23:52:26.970956Z",
     "start_time": "2019-10-21T23:52:26.932885Z"
    },
    "scrolled": true
   },
   "outputs": [
    {
     "data": {
      "text/plain": [
       "CurrentGrade  TestSeason  TestSchoolYear\n",
       "K             Fall        2015-16            860\n",
       "                          2016-17            832\n",
       "                          2017-18            485\n",
       "                          2018-19            516\n",
       "              Spring      2015-16           2556\n",
       "                          2016-17           2463\n",
       "                          2017-18           2419\n",
       "              Winter      2015-16           4346\n",
       "                          2016-17           4326\n",
       "                          2017-18           4211\n",
       "                          2018-19           4259\n",
       "Name: RITScore, dtype: int64"
      ]
     },
     "execution_count": 7,
     "metadata": {},
     "output_type": "execute_result"
    }
   ],
   "source": [
    "map_df[map_df.CurrentGrade=='K'].groupby(['CurrentGrade','TestSeason','TestSchoolYear']).RITScore.count()"
   ]
  },
  {
   "cell_type": "markdown",
   "metadata": {},
   "source": [
    "Interesting that there are a lot more Kindergarteners tested in Winter and few in the Fall.  What is that all about?"
   ]
  },
  {
   "cell_type": "code",
   "execution_count": 8,
   "metadata": {
    "ExecuteTime": {
     "end_time": "2019-10-21T23:52:26.996111Z",
     "start_time": "2019-10-21T23:52:26.974143Z"
    },
    "scrolled": false
   },
   "outputs": [
    {
     "data": {
      "text/plain": [
       "TestSchoolID  TestSeason\n",
       "201           Winter        103\n",
       "202           Winter         45\n",
       "203           Winter         69\n",
       "204           Fall           88\n",
       "              Spring         83\n",
       "              Winter         87\n",
       "205           Spring         72\n",
       "              Winter         73\n",
       "207           Fall           40\n",
       "              Spring         41\n",
       "              Winter         38\n",
       "208           Fall           70\n",
       "              Spring         72\n",
       "              Winter         70\n",
       "209           Winter        121\n",
       "211           Winter         97\n",
       "212           Spring         40\n",
       "              Winter         43\n",
       "215           Spring         61\n",
       "              Winter         55\n",
       "218           Spring          1\n",
       "              Winter         46\n",
       "219           Fall           39\n",
       "              Spring         42\n",
       "              Winter         42\n",
       "Name: RITScore, dtype: int64"
      ]
     },
     "execution_count": 8,
     "metadata": {},
     "output_type": "execute_result"
    }
   ],
   "source": [
    "map_df[(map_df.CurrentGrade=='K') & (map_df.TestSchoolYear=='2015-16')].groupby(['TestSchoolID','TestSeason']).RITScore.count()[:25]"
   ]
  },
  {
   "cell_type": "markdown",
   "metadata": {},
   "source": [
    "Schools definitely test kids with different frequencies!  Are they spreading the testing out over multiple testing seasons or are they retesting kids at each testing season?"
   ]
  },
  {
   "cell_type": "code",
   "execution_count": 9,
   "metadata": {
    "ExecuteTime": {
     "end_time": "2019-10-21T23:52:27.031086Z",
     "start_time": "2019-10-21T23:52:26.999981Z"
    },
    "scrolled": false
   },
   "outputs": [
    {
     "data": {
      "text/html": [
       "<div>\n",
       "<style scoped>\n",
       "    .dataframe tbody tr th:only-of-type {\n",
       "        vertical-align: middle;\n",
       "    }\n",
       "\n",
       "    .dataframe tbody tr th {\n",
       "        vertical-align: top;\n",
       "    }\n",
       "\n",
       "    .dataframe thead th {\n",
       "        text-align: right;\n",
       "    }\n",
       "</style>\n",
       "<table border=\"1\" class=\"dataframe\">\n",
       "  <thead>\n",
       "    <tr style=\"text-align: right;\">\n",
       "      <th></th>\n",
       "      <th>StudentID</th>\n",
       "      <th>CurrentEnrollmentSchoolID</th>\n",
       "      <th>CurrentEnrollmentSchoolName</th>\n",
       "      <th>CurrentGrade</th>\n",
       "      <th>TestSchoolYear</th>\n",
       "      <th>TestSeason</th>\n",
       "      <th>TestSchoolID</th>\n",
       "      <th>TestSchoolName</th>\n",
       "      <th>TestGrade</th>\n",
       "      <th>SubjectArea</th>\n",
       "      <th>TestName</th>\n",
       "      <th>RITScore</th>\n",
       "    </tr>\n",
       "  </thead>\n",
       "  <tbody>\n",
       "    <tr>\n",
       "      <td>628</td>\n",
       "      <td>3787446</td>\n",
       "      <td>204</td>\n",
       "      <td>Daniel Bagley Elementary</td>\n",
       "      <td>K</td>\n",
       "      <td>2015-16</td>\n",
       "      <td>Fall</td>\n",
       "      <td>204</td>\n",
       "      <td>Daniel Bagley Elementary</td>\n",
       "      <td>K</td>\n",
       "      <td>Reading</td>\n",
       "      <td>Reading K-2 - Common Core 2010</td>\n",
       "      <td>150</td>\n",
       "    </tr>\n",
       "    <tr>\n",
       "      <td>630</td>\n",
       "      <td>3787446</td>\n",
       "      <td>204</td>\n",
       "      <td>Daniel Bagley Elementary</td>\n",
       "      <td>K</td>\n",
       "      <td>2015-16</td>\n",
       "      <td>Spring</td>\n",
       "      <td>204</td>\n",
       "      <td>Daniel Bagley Elementary</td>\n",
       "      <td>K</td>\n",
       "      <td>Reading</td>\n",
       "      <td>Reading K-2 - Common Core 2010</td>\n",
       "      <td>178</td>\n",
       "    </tr>\n",
       "    <tr>\n",
       "      <td>632</td>\n",
       "      <td>3787446</td>\n",
       "      <td>204</td>\n",
       "      <td>Daniel Bagley Elementary</td>\n",
       "      <td>K</td>\n",
       "      <td>2015-16</td>\n",
       "      <td>Winter</td>\n",
       "      <td>204</td>\n",
       "      <td>Daniel Bagley Elementary</td>\n",
       "      <td>K</td>\n",
       "      <td>Reading</td>\n",
       "      <td>Reading K-2 - Common Core 2010</td>\n",
       "      <td>166</td>\n",
       "    </tr>\n",
       "    <tr>\n",
       "      <td>693</td>\n",
       "      <td>3391445</td>\n",
       "      <td>204</td>\n",
       "      <td>Daniel Bagley Elementary</td>\n",
       "      <td>K</td>\n",
       "      <td>2015-16</td>\n",
       "      <td>Fall</td>\n",
       "      <td>204</td>\n",
       "      <td>Daniel Bagley Elementary</td>\n",
       "      <td>K</td>\n",
       "      <td>Reading</td>\n",
       "      <td>Reading K-2 - Common Core 2010</td>\n",
       "      <td>156</td>\n",
       "    </tr>\n",
       "    <tr>\n",
       "      <td>695</td>\n",
       "      <td>3391445</td>\n",
       "      <td>204</td>\n",
       "      <td>Daniel Bagley Elementary</td>\n",
       "      <td>K</td>\n",
       "      <td>2015-16</td>\n",
       "      <td>Spring</td>\n",
       "      <td>204</td>\n",
       "      <td>Daniel Bagley Elementary</td>\n",
       "      <td>K</td>\n",
       "      <td>Reading</td>\n",
       "      <td>Reading K-2 - Common Core 2010</td>\n",
       "      <td>179</td>\n",
       "    </tr>\n",
       "    <tr>\n",
       "      <td>697</td>\n",
       "      <td>3391445</td>\n",
       "      <td>204</td>\n",
       "      <td>Daniel Bagley Elementary</td>\n",
       "      <td>K</td>\n",
       "      <td>2015-16</td>\n",
       "      <td>Winter</td>\n",
       "      <td>204</td>\n",
       "      <td>Daniel Bagley Elementary</td>\n",
       "      <td>K</td>\n",
       "      <td>Reading</td>\n",
       "      <td>Reading K-2 - Common Core 2010</td>\n",
       "      <td>164</td>\n",
       "    </tr>\n",
       "    <tr>\n",
       "      <td>700</td>\n",
       "      <td>3322445</td>\n",
       "      <td>204</td>\n",
       "      <td>Daniel Bagley Elementary</td>\n",
       "      <td>K</td>\n",
       "      <td>2015-16</td>\n",
       "      <td>Fall</td>\n",
       "      <td>204</td>\n",
       "      <td>Daniel Bagley Elementary</td>\n",
       "      <td>K</td>\n",
       "      <td>Reading</td>\n",
       "      <td>Reading K-2 - Common Core 2010</td>\n",
       "      <td>146</td>\n",
       "    </tr>\n",
       "    <tr>\n",
       "      <td>702</td>\n",
       "      <td>3322445</td>\n",
       "      <td>204</td>\n",
       "      <td>Daniel Bagley Elementary</td>\n",
       "      <td>K</td>\n",
       "      <td>2015-16</td>\n",
       "      <td>Spring</td>\n",
       "      <td>204</td>\n",
       "      <td>Daniel Bagley Elementary</td>\n",
       "      <td>K</td>\n",
       "      <td>Reading</td>\n",
       "      <td>Reading K-2 - Common Core 2010</td>\n",
       "      <td>162</td>\n",
       "    </tr>\n",
       "    <tr>\n",
       "      <td>704</td>\n",
       "      <td>3322445</td>\n",
       "      <td>204</td>\n",
       "      <td>Daniel Bagley Elementary</td>\n",
       "      <td>K</td>\n",
       "      <td>2015-16</td>\n",
       "      <td>Winter</td>\n",
       "      <td>204</td>\n",
       "      <td>Daniel Bagley Elementary</td>\n",
       "      <td>K</td>\n",
       "      <td>Reading</td>\n",
       "      <td>Reading K-2 - Common Core 2010</td>\n",
       "      <td>146</td>\n",
       "    </tr>\n",
       "    <tr>\n",
       "      <td>1471</td>\n",
       "      <td>3204445</td>\n",
       "      <td>204</td>\n",
       "      <td>Daniel Bagley Elementary</td>\n",
       "      <td>K</td>\n",
       "      <td>2015-16</td>\n",
       "      <td>Fall</td>\n",
       "      <td>204</td>\n",
       "      <td>Daniel Bagley Elementary</td>\n",
       "      <td>K</td>\n",
       "      <td>Reading</td>\n",
       "      <td>Reading K-2 - Common Core 2010</td>\n",
       "      <td>149</td>\n",
       "    </tr>\n",
       "    <tr>\n",
       "      <td>1473</td>\n",
       "      <td>3204445</td>\n",
       "      <td>204</td>\n",
       "      <td>Daniel Bagley Elementary</td>\n",
       "      <td>K</td>\n",
       "      <td>2015-16</td>\n",
       "      <td>Spring</td>\n",
       "      <td>204</td>\n",
       "      <td>Daniel Bagley Elementary</td>\n",
       "      <td>K</td>\n",
       "      <td>Reading</td>\n",
       "      <td>Reading K-2 - Common Core 2010</td>\n",
       "      <td>166</td>\n",
       "    </tr>\n",
       "    <tr>\n",
       "      <td>1475</td>\n",
       "      <td>3204445</td>\n",
       "      <td>204</td>\n",
       "      <td>Daniel Bagley Elementary</td>\n",
       "      <td>K</td>\n",
       "      <td>2015-16</td>\n",
       "      <td>Winter</td>\n",
       "      <td>204</td>\n",
       "      <td>Daniel Bagley Elementary</td>\n",
       "      <td>K</td>\n",
       "      <td>Reading</td>\n",
       "      <td>Reading K-2 - Common Core 2010</td>\n",
       "      <td>154</td>\n",
       "    </tr>\n",
       "    <tr>\n",
       "      <td>2042</td>\n",
       "      <td>3797444</td>\n",
       "      <td>204</td>\n",
       "      <td>Daniel Bagley Elementary</td>\n",
       "      <td>K</td>\n",
       "      <td>2015-16</td>\n",
       "      <td>Fall</td>\n",
       "      <td>204</td>\n",
       "      <td>Daniel Bagley Elementary</td>\n",
       "      <td>K</td>\n",
       "      <td>Reading</td>\n",
       "      <td>Reading K-2 - Common Core 2010</td>\n",
       "      <td>146</td>\n",
       "    </tr>\n",
       "    <tr>\n",
       "      <td>2391</td>\n",
       "      <td>3540446</td>\n",
       "      <td>204</td>\n",
       "      <td>Daniel Bagley Elementary</td>\n",
       "      <td>K</td>\n",
       "      <td>2015-16</td>\n",
       "      <td>Fall</td>\n",
       "      <td>204</td>\n",
       "      <td>Daniel Bagley Elementary</td>\n",
       "      <td>K</td>\n",
       "      <td>Reading</td>\n",
       "      <td>Reading K-2 - Common Core 2010</td>\n",
       "      <td>147</td>\n",
       "    </tr>\n",
       "    <tr>\n",
       "      <td>2393</td>\n",
       "      <td>3540446</td>\n",
       "      <td>204</td>\n",
       "      <td>Daniel Bagley Elementary</td>\n",
       "      <td>K</td>\n",
       "      <td>2015-16</td>\n",
       "      <td>Spring</td>\n",
       "      <td>204</td>\n",
       "      <td>Daniel Bagley Elementary</td>\n",
       "      <td>K</td>\n",
       "      <td>Reading</td>\n",
       "      <td>Reading K-2 - Common Core 2010</td>\n",
       "      <td>161</td>\n",
       "    </tr>\n",
       "  </tbody>\n",
       "</table>\n",
       "</div>"
      ],
      "text/plain": [
       "      StudentID  CurrentEnrollmentSchoolID CurrentEnrollmentSchoolName  \\\n",
       "628     3787446                        204    Daniel Bagley Elementary   \n",
       "630     3787446                        204    Daniel Bagley Elementary   \n",
       "632     3787446                        204    Daniel Bagley Elementary   \n",
       "693     3391445                        204    Daniel Bagley Elementary   \n",
       "695     3391445                        204    Daniel Bagley Elementary   \n",
       "697     3391445                        204    Daniel Bagley Elementary   \n",
       "700     3322445                        204    Daniel Bagley Elementary   \n",
       "702     3322445                        204    Daniel Bagley Elementary   \n",
       "704     3322445                        204    Daniel Bagley Elementary   \n",
       "1471    3204445                        204    Daniel Bagley Elementary   \n",
       "1473    3204445                        204    Daniel Bagley Elementary   \n",
       "1475    3204445                        204    Daniel Bagley Elementary   \n",
       "2042    3797444                        204    Daniel Bagley Elementary   \n",
       "2391    3540446                        204    Daniel Bagley Elementary   \n",
       "2393    3540446                        204    Daniel Bagley Elementary   \n",
       "\n",
       "     CurrentGrade TestSchoolYear TestSeason  TestSchoolID  \\\n",
       "628             K        2015-16       Fall           204   \n",
       "630             K        2015-16     Spring           204   \n",
       "632             K        2015-16     Winter           204   \n",
       "693             K        2015-16       Fall           204   \n",
       "695             K        2015-16     Spring           204   \n",
       "697             K        2015-16     Winter           204   \n",
       "700             K        2015-16       Fall           204   \n",
       "702             K        2015-16     Spring           204   \n",
       "704             K        2015-16     Winter           204   \n",
       "1471            K        2015-16       Fall           204   \n",
       "1473            K        2015-16     Spring           204   \n",
       "1475            K        2015-16     Winter           204   \n",
       "2042            K        2015-16       Fall           204   \n",
       "2391            K        2015-16       Fall           204   \n",
       "2393            K        2015-16     Spring           204   \n",
       "\n",
       "                TestSchoolName TestGrade SubjectArea  \\\n",
       "628   Daniel Bagley Elementary         K     Reading   \n",
       "630   Daniel Bagley Elementary         K     Reading   \n",
       "632   Daniel Bagley Elementary         K     Reading   \n",
       "693   Daniel Bagley Elementary         K     Reading   \n",
       "695   Daniel Bagley Elementary         K     Reading   \n",
       "697   Daniel Bagley Elementary         K     Reading   \n",
       "700   Daniel Bagley Elementary         K     Reading   \n",
       "702   Daniel Bagley Elementary         K     Reading   \n",
       "704   Daniel Bagley Elementary         K     Reading   \n",
       "1471  Daniel Bagley Elementary         K     Reading   \n",
       "1473  Daniel Bagley Elementary         K     Reading   \n",
       "1475  Daniel Bagley Elementary         K     Reading   \n",
       "2042  Daniel Bagley Elementary         K     Reading   \n",
       "2391  Daniel Bagley Elementary         K     Reading   \n",
       "2393  Daniel Bagley Elementary         K     Reading   \n",
       "\n",
       "                            TestName  RITScore  \n",
       "628   Reading K-2 - Common Core 2010       150  \n",
       "630   Reading K-2 - Common Core 2010       178  \n",
       "632   Reading K-2 - Common Core 2010       166  \n",
       "693   Reading K-2 - Common Core 2010       156  \n",
       "695   Reading K-2 - Common Core 2010       179  \n",
       "697   Reading K-2 - Common Core 2010       164  \n",
       "700   Reading K-2 - Common Core 2010       146  \n",
       "702   Reading K-2 - Common Core 2010       162  \n",
       "704   Reading K-2 - Common Core 2010       146  \n",
       "1471  Reading K-2 - Common Core 2010       149  \n",
       "1473  Reading K-2 - Common Core 2010       166  \n",
       "1475  Reading K-2 - Common Core 2010       154  \n",
       "2042  Reading K-2 - Common Core 2010       146  \n",
       "2391  Reading K-2 - Common Core 2010       147  \n",
       "2393  Reading K-2 - Common Core 2010       161  "
      ]
     },
     "execution_count": 9,
     "metadata": {},
     "output_type": "execute_result"
    }
   ],
   "source": [
    "map_df[(map_df.CurrentGrade=='K') & (map_df.TestSchoolYear=='2015-16') & (map_df.TestSchoolID==204)].iloc[:15,:12]"
   ]
  },
  {
   "cell_type": "markdown",
   "metadata": {},
   "source": [
    "Well at least Daniel Bagley tests each kid in each season."
   ]
  },
  {
   "cell_type": "code",
   "execution_count": 10,
   "metadata": {
    "ExecuteTime": {
     "end_time": "2019-10-21T23:52:27.065496Z",
     "start_time": "2019-10-21T23:52:27.033392Z"
    },
    "scrolled": true
   },
   "outputs": [
    {
     "data": {
      "text/plain": [
       "CurrentGrade  TestSeason  TestSchoolYear\n",
       "1             Fall        2015-16           2132\n",
       "                          2016-17           2299\n",
       "                          2017-18           2104\n",
       "                          2018-19           2197\n",
       "              Spring      2015-16           4447\n",
       "                          2016-17           4469\n",
       "                          2017-18           4183\n",
       "              Winter      2015-16           1615\n",
       "                          2016-17           1717\n",
       "                          2017-18           1376\n",
       "                          2018-19           1245\n",
       "2             Fall        2015-16           2326\n",
       "                          2016-17           2425\n",
       "                          2017-18           2098\n",
       "                          2018-19           2260\n",
       "              Spring      2015-16           4154\n",
       "                          2016-17           4346\n",
       "                          2017-18           4111\n",
       "              Winter      2015-16           1506\n",
       "                          2016-17           1537\n",
       "                          2017-18           1183\n",
       "                          2018-19           1043\n",
       "K             Fall        2015-16            860\n",
       "                          2016-17            832\n",
       "                          2017-18            485\n",
       "                          2018-19            516\n",
       "              Spring      2015-16           2556\n",
       "                          2016-17           2463\n",
       "                          2017-18           2419\n",
       "              Winter      2015-16           4346\n",
       "                          2016-17           4325\n",
       "                          2017-18           4211\n",
       "                          2018-19           4259\n",
       "Name: StudentID, dtype: int64"
      ]
     },
     "execution_count": 10,
     "metadata": {},
     "output_type": "execute_result"
    }
   ],
   "source": [
    "map_df.groupby(['CurrentGrade','TestSeason','TestSchoolYear']).StudentID.nunique()"
   ]
  },
  {
   "cell_type": "code",
   "execution_count": 11,
   "metadata": {
    "ExecuteTime": {
     "end_time": "2019-10-21T23:52:27.086233Z",
     "start_time": "2019-10-21T23:52:27.067320Z"
    },
    "scrolled": false
   },
   "outputs": [
    {
     "data": {
      "text/plain": [
       "CurrentGrade  TestSeason  TestSchoolYear\n",
       "1             Fall        2015-16           164.819418\n",
       "                          2016-17           164.668552\n",
       "                          2017-18           162.963878\n",
       "                          2018-19           164.008648\n",
       "              Spring      2015-16           182.655948\n",
       "                          2016-17           181.134034\n",
       "                          2017-18           181.757112\n",
       "              Winter      2015-16           172.505263\n",
       "                          2016-17           169.976704\n",
       "                          2017-18           171.947674\n",
       "                          2018-19           170.859438\n",
       "2             Fall        2015-16           179.739467\n",
       "                          2016-17           181.244948\n",
       "                          2017-18           178.886136\n",
       "                          2018-19           181.165487\n",
       "              Spring      2015-16           194.033702\n",
       "                          2016-17           193.702485\n",
       "                          2017-18           193.917578\n",
       "              Winter      2015-16           183.553785\n",
       "                          2016-17           182.838647\n",
       "                          2017-18           183.802198\n",
       "                          2018-19           183.955896\n",
       "K             Fall        2015-16           142.837209\n",
       "                          2016-17           141.544471\n",
       "                          2017-18           141.065979\n",
       "                          2018-19           140.655039\n",
       "              Spring      2015-16           161.833333\n",
       "                          2016-17           159.858709\n",
       "                          2017-18           160.875155\n",
       "              Winter      2015-16           153.669351\n",
       "                          2016-17           152.994452\n",
       "                          2017-18           150.835194\n",
       "                          2018-19           152.069030\n",
       "Name: RITScore, dtype: float64"
      ]
     },
     "execution_count": 11,
     "metadata": {},
     "output_type": "execute_result"
    }
   ],
   "source": [
    "map_df.groupby(['CurrentGrade','TestSeason','TestSchoolYear']).RITScore.mean()"
   ]
  },
  {
   "cell_type": "markdown",
   "metadata": {},
   "source": [
    "From this it is highly likely that in the MAP score data fall comes before winter which comes before spring."
   ]
  },
  {
   "cell_type": "code",
   "execution_count": 12,
   "metadata": {
    "ExecuteTime": {
     "end_time": "2019-10-21T23:52:27.113333Z",
     "start_time": "2019-10-21T23:52:27.088385Z"
    }
   },
   "outputs": [
    {
     "data": {
      "text/plain": [
       "StudentID  TestSeason\n",
       "3000448    Winter        166\n",
       "3000457    Winter        160\n",
       "3001440    Spring        162\n",
       "           Winter        161\n",
       "3001441    Spring        161\n",
       "3001452    Fall          139\n",
       "           Spring        160\n",
       "           Winter        155\n",
       "3001459    Winter        167\n",
       "3002441    Spring        149\n",
       "           Winter        143\n",
       "3002444    Winter        170\n",
       "3002445    Winter        147\n",
       "3003440    Spring        160\n",
       "           Winter        165\n",
       "3003444    Spring        163\n",
       "           Winter        155\n",
       "3003446    Winter        162\n",
       "3003448    Winter        161\n",
       "3004413    Spring        151\n",
       "           Winter        144\n",
       "3004440    Winter        167\n",
       "3004441    Winter        161\n",
       "3004452    Spring        120\n",
       "           Winter        120\n",
       "3005440    Winter        172\n",
       "3005444    Fall          165\n",
       "           Spring        188\n",
       "           Winter        170\n",
       "3005446    Winter        132\n",
       "3006441    Winter        161\n",
       "3006444    Winter        155\n",
       "3006445    Fall          159\n",
       "           Spring        180\n",
       "           Winter        174\n",
       "3006446    Fall          130\n",
       "           Spring        143\n",
       "           Winter        132\n",
       "3006448    Spring        161\n",
       "           Winter        146\n",
       "3006452    Fall          140\n",
       "           Spring        155\n",
       "           Winter        142\n",
       "3006453    Spring        152\n",
       "           Winter        151\n",
       "3006457    Fall          149\n",
       "           Spring        169\n",
       "           Winter        154\n",
       "3007441    Winter        162\n",
       "3007446    Spring        174\n",
       "Name: RITScore, dtype: int32"
      ]
     },
     "execution_count": 12,
     "metadata": {},
     "output_type": "execute_result"
    }
   ],
   "source": [
    "map_df[(map_df.TestSchoolYear=='2015-16') & (map_df.CurrentGrade=='K')].groupby(['StudentID','TestSeason']).RITScore.mean()[:50]"
   ]
  },
  {
   "cell_type": "markdown",
   "metadata": {},
   "source": [
    "Individual kids definitely get tested in multiple seasons in some schools!"
   ]
  },
  {
   "cell_type": "markdown",
   "metadata": {},
   "source": [
    "For the MAP data files:"
   ]
  },
  {
   "cell_type": "code",
   "execution_count": 13,
   "metadata": {
    "ExecuteTime": {
     "end_time": "2019-10-21T23:52:27.151458Z",
     "start_time": "2019-10-21T23:52:27.115101Z"
    },
    "scrolled": true
   },
   "outputs": [
    {
     "name": "stdout",
     "output_type": "stream",
     "text": [
      "#Rows were TestGrade!=CurrentGrade: 65\n",
      "#Rows were TestGrade==CurrentGrade: 81984\n"
     ]
    }
   ],
   "source": [
    "print('#Rows were TestGrade!=CurrentGrade:',len(map_df[map_df.TestGrade != map_df.CurrentGrade]))\n",
    "print('#Rows were TestGrade==CurrentGrade:',len(map_df[map_df.TestGrade == map_df.CurrentGrade]))"
   ]
  },
  {
   "cell_type": "markdown",
   "metadata": {},
   "source": [
    "So, the MAP files, except for the rare occassions TestGrade is also CurrentGrade."
   ]
  },
  {
   "cell_type": "markdown",
   "metadata": {},
   "source": [
    "For the SBAC data file:"
   ]
  },
  {
   "cell_type": "code",
   "execution_count": 14,
   "metadata": {
    "ExecuteTime": {
     "end_time": "2019-10-21T23:52:27.183875Z",
     "start_time": "2019-10-21T23:52:27.153973Z"
    }
   },
   "outputs": [
    {
     "name": "stdout",
     "output_type": "stream",
     "text": [
      "#Rows where TestGrade!=CurrentGrade-1: 325\n",
      "#Rows where TestGrade==CurrentGrade-1: 65115\n"
     ]
    }
   ],
   "source": [
    "print('#Rows where TestGrade!=CurrentGrade-1:',len(sbac_df[sbac_df.TestGrade!=sbac_df.CurrentGrade-1]))\n",
    "print('#Rows where TestGrade==CurrentGrade-1:',len(sbac_df[sbac_df.TestGrade==sbac_df.CurrentGrade-1]))"
   ]
  },
  {
   "cell_type": "code",
   "execution_count": 15,
   "metadata": {
    "ExecuteTime": {
     "end_time": "2019-10-21T23:52:27.189084Z",
     "start_time": "2019-10-21T23:52:27.185753Z"
    }
   },
   "outputs": [],
   "source": [
    "def get_student_data(studentID):\n",
    "    df = map_df[map_df.StudentID==studentID]\n",
    "    return df"
   ]
  },
  {
   "cell_type": "markdown",
   "metadata": {},
   "source": [
    "Let's look at some samples of student's data:"
   ]
  },
  {
   "cell_type": "code",
   "execution_count": 16,
   "metadata": {
    "ExecuteTime": {
     "end_time": "2019-10-21T23:52:27.221370Z",
     "start_time": "2019-10-21T23:52:27.191787Z"
    },
    "scrolled": false
   },
   "outputs": [
    {
     "data": {
      "text/html": [
       "<div>\n",
       "<style scoped>\n",
       "    .dataframe tbody tr th:only-of-type {\n",
       "        vertical-align: middle;\n",
       "    }\n",
       "\n",
       "    .dataframe tbody tr th {\n",
       "        vertical-align: top;\n",
       "    }\n",
       "\n",
       "    .dataframe thead th {\n",
       "        text-align: right;\n",
       "    }\n",
       "</style>\n",
       "<table border=\"1\" class=\"dataframe\">\n",
       "  <thead>\n",
       "    <tr style=\"text-align: right;\">\n",
       "      <th></th>\n",
       "      <th>StudentID</th>\n",
       "      <th>CurrentEnrollmentSchoolID</th>\n",
       "      <th>CurrentEnrollmentSchoolName</th>\n",
       "      <th>CurrentGrade</th>\n",
       "      <th>TestSchoolYear</th>\n",
       "      <th>TestSeason</th>\n",
       "      <th>TestSchoolID</th>\n",
       "      <th>TestSchoolName</th>\n",
       "      <th>TestGrade</th>\n",
       "      <th>SubjectArea</th>\n",
       "      <th>...</th>\n",
       "      <th>IEPStatus</th>\n",
       "      <th>Student504Status</th>\n",
       "      <th>GiftedStatus</th>\n",
       "      <th>PrimaryLanguage</th>\n",
       "      <th>HomeLanguage</th>\n",
       "      <th>LivingWith</th>\n",
       "      <th>USAEntryDate</th>\n",
       "      <th>BirthCountry</th>\n",
       "      <th>ProjectedGradYear</th>\n",
       "      <th>ExtractSchoolYear</th>\n",
       "    </tr>\n",
       "  </thead>\n",
       "  <tbody>\n",
       "    <tr>\n",
       "      <td>111736</td>\n",
       "      <td>3073451</td>\n",
       "      <td>261</td>\n",
       "      <td>Olympic Hills Elementary</td>\n",
       "      <td>K</td>\n",
       "      <td>2016-17</td>\n",
       "      <td>Spring</td>\n",
       "      <td>261</td>\n",
       "      <td>Olympic Hills Elementary</td>\n",
       "      <td>K</td>\n",
       "      <td>Reading</td>\n",
       "      <td>...</td>\n",
       "      <td>N</td>\n",
       "      <td>N</td>\n",
       "      <td>Not Eligible</td>\n",
       "      <td>English</td>\n",
       "      <td>English</td>\n",
       "      <td>Both Parents</td>\n",
       "      <td>NaT</td>\n",
       "      <td>USA</td>\n",
       "      <td>(n/a)</td>\n",
       "      <td>2016-17</td>\n",
       "    </tr>\n",
       "    <tr>\n",
       "      <td>111738</td>\n",
       "      <td>3073451</td>\n",
       "      <td>261</td>\n",
       "      <td>Olympic Hills Elementary</td>\n",
       "      <td>K</td>\n",
       "      <td>2016-17</td>\n",
       "      <td>Winter</td>\n",
       "      <td>261</td>\n",
       "      <td>Olympic Hills Elementary</td>\n",
       "      <td>K</td>\n",
       "      <td>Reading</td>\n",
       "      <td>...</td>\n",
       "      <td>N</td>\n",
       "      <td>N</td>\n",
       "      <td>Not Eligible</td>\n",
       "      <td>English</td>\n",
       "      <td>English</td>\n",
       "      <td>Both Parents</td>\n",
       "      <td>NaT</td>\n",
       "      <td>USA</td>\n",
       "      <td>(n/a)</td>\n",
       "      <td>2016-17</td>\n",
       "    </tr>\n",
       "    <tr>\n",
       "      <td>180588</td>\n",
       "      <td>3073451</td>\n",
       "      <td>261</td>\n",
       "      <td>Olympic Hills Elementary</td>\n",
       "      <td>1</td>\n",
       "      <td>2017-18</td>\n",
       "      <td>Spring</td>\n",
       "      <td>261</td>\n",
       "      <td>Olympic Hills Elementary</td>\n",
       "      <td>1</td>\n",
       "      <td>Reading</td>\n",
       "      <td>...</td>\n",
       "      <td>N</td>\n",
       "      <td>N</td>\n",
       "      <td>Not Eligible</td>\n",
       "      <td>English</td>\n",
       "      <td>English</td>\n",
       "      <td>Both Parents</td>\n",
       "      <td>NaT</td>\n",
       "      <td>USA</td>\n",
       "      <td>(n/a)</td>\n",
       "      <td>2017-18</td>\n",
       "    </tr>\n",
       "    <tr>\n",
       "      <td>180589</td>\n",
       "      <td>3073451</td>\n",
       "      <td>261</td>\n",
       "      <td>Olympic Hills Elementary</td>\n",
       "      <td>1</td>\n",
       "      <td>2017-18</td>\n",
       "      <td>Winter</td>\n",
       "      <td>261</td>\n",
       "      <td>Olympic Hills Elementary</td>\n",
       "      <td>1</td>\n",
       "      <td>Reading</td>\n",
       "      <td>...</td>\n",
       "      <td>N</td>\n",
       "      <td>N</td>\n",
       "      <td>Not Eligible</td>\n",
       "      <td>English</td>\n",
       "      <td>English</td>\n",
       "      <td>Both Parents</td>\n",
       "      <td>NaT</td>\n",
       "      <td>USA</td>\n",
       "      <td>(n/a)</td>\n",
       "      <td>2017-18</td>\n",
       "    </tr>\n",
       "    <tr>\n",
       "      <td>224064</td>\n",
       "      <td>3073451</td>\n",
       "      <td>261</td>\n",
       "      <td>Olympic Hills Elementary</td>\n",
       "      <td>2</td>\n",
       "      <td>2018-19</td>\n",
       "      <td>Winter</td>\n",
       "      <td>261</td>\n",
       "      <td>Olympic Hills Elementary</td>\n",
       "      <td>2</td>\n",
       "      <td>Reading</td>\n",
       "      <td>...</td>\n",
       "      <td>N</td>\n",
       "      <td>N</td>\n",
       "      <td>Not Eligible</td>\n",
       "      <td>English</td>\n",
       "      <td>English</td>\n",
       "      <td>Both Parents</td>\n",
       "      <td>NaT</td>\n",
       "      <td>USA</td>\n",
       "      <td>(n/a)</td>\n",
       "      <td>2018-19</td>\n",
       "    </tr>\n",
       "  </tbody>\n",
       "</table>\n",
       "<p>5 rows × 30 columns</p>\n",
       "</div>"
      ],
      "text/plain": [
       "        StudentID  CurrentEnrollmentSchoolID CurrentEnrollmentSchoolName  \\\n",
       "111736    3073451                        261    Olympic Hills Elementary   \n",
       "111738    3073451                        261    Olympic Hills Elementary   \n",
       "180588    3073451                        261    Olympic Hills Elementary   \n",
       "180589    3073451                        261    Olympic Hills Elementary   \n",
       "224064    3073451                        261    Olympic Hills Elementary   \n",
       "\n",
       "       CurrentGrade TestSchoolYear TestSeason  TestSchoolID  \\\n",
       "111736            K        2016-17     Spring           261   \n",
       "111738            K        2016-17     Winter           261   \n",
       "180588            1        2017-18     Spring           261   \n",
       "180589            1        2017-18     Winter           261   \n",
       "224064            2        2018-19     Winter           261   \n",
       "\n",
       "                  TestSchoolName TestGrade SubjectArea  ... IEPStatus  \\\n",
       "111736  Olympic Hills Elementary         K     Reading  ...         N   \n",
       "111738  Olympic Hills Elementary         K     Reading  ...         N   \n",
       "180588  Olympic Hills Elementary         1     Reading  ...         N   \n",
       "180589  Olympic Hills Elementary         1     Reading  ...         N   \n",
       "224064  Olympic Hills Elementary         2     Reading  ...         N   \n",
       "\n",
       "        Student504Status  GiftedStatus  PrimaryLanguage  HomeLanguage  \\\n",
       "111736                 N  Not Eligible          English       English   \n",
       "111738                 N  Not Eligible          English       English   \n",
       "180588                 N  Not Eligible          English       English   \n",
       "180589                 N  Not Eligible          English       English   \n",
       "224064                 N  Not Eligible          English       English   \n",
       "\n",
       "          LivingWith USAEntryDate BirthCountry ProjectedGradYear  \\\n",
       "111736  Both Parents          NaT          USA             (n/a)   \n",
       "111738  Both Parents          NaT          USA             (n/a)   \n",
       "180588  Both Parents          NaT          USA             (n/a)   \n",
       "180589  Both Parents          NaT          USA             (n/a)   \n",
       "224064  Both Parents          NaT          USA             (n/a)   \n",
       "\n",
       "       ExtractSchoolYear  \n",
       "111736           2016-17  \n",
       "111738           2016-17  \n",
       "180588           2017-18  \n",
       "180589           2017-18  \n",
       "224064           2018-19  \n",
       "\n",
       "[5 rows x 30 columns]"
      ]
     },
     "execution_count": 16,
     "metadata": {},
     "output_type": "execute_result"
    }
   ],
   "source": [
    "get_student_data(map_df.StudentID.sample().values[0])"
   ]
  },
  {
   "cell_type": "code",
   "execution_count": 17,
   "metadata": {
    "ExecuteTime": {
     "end_time": "2019-10-21T23:52:27.283235Z",
     "start_time": "2019-10-21T23:52:27.223070Z"
    },
    "scrolled": true
   },
   "outputs": [
    {
     "data": {
      "text/plain": [
       "3380444"
      ]
     },
     "execution_count": 17,
     "metadata": {},
     "output_type": "execute_result"
    }
   ],
   "source": [
    "living_with_situations = map_df.groupby(['StudentID']).LivingWith.nunique()\n",
    "living_with_situations[living_with_situations>1].sample().index[0]"
   ]
  },
  {
   "cell_type": "code",
   "execution_count": 18,
   "metadata": {
    "ExecuteTime": {
     "end_time": "2019-10-21T23:52:27.293996Z",
     "start_time": "2019-10-21T23:52:27.285367Z"
    }
   },
   "outputs": [
    {
     "data": {
      "text/plain": [
       "5001      (Unknown)\n",
       "5003      (Unknown)\n",
       "138481       Mother\n",
       "138483       Mother\n",
       "Name: LivingWith, dtype: object"
      ]
     },
     "execution_count": 18,
     "metadata": {},
     "output_type": "execute_result"
    }
   ],
   "source": [
    "get_student_data(living_with_situations[living_with_situations>1].sample().index[0]).LivingWith"
   ]
  },
  {
   "cell_type": "markdown",
   "metadata": {},
   "source": [
    "This work grabs all the unique school ID, school Name combinations in the MAP df.  I'll verify there aren't data entry issues."
   ]
  },
  {
   "cell_type": "code",
   "execution_count": 19,
   "metadata": {
    "ExecuteTime": {
     "end_time": "2019-10-21T23:52:27.311570Z",
     "start_time": "2019-10-21T23:52:27.295754Z"
    }
   },
   "outputs": [],
   "source": [
    "schools_df = map_df.groupby(['CurrentEnrollmentSchoolID','CurrentEnrollmentSchoolName']).size().reset_index(name='Freq').drop(columns=['Freq'])\n",
    "school_names = schools_df.set_index('CurrentEnrollmentSchoolID')\n",
    "school_IDs = schools_df.set_index('CurrentEnrollmentSchoolName')"
   ]
  },
  {
   "cell_type": "markdown",
   "metadata": {},
   "source": [
    "Confirming that there are no duplicate school numbers in the collection:"
   ]
  },
  {
   "cell_type": "code",
   "execution_count": 20,
   "metadata": {
    "ExecuteTime": {
     "end_time": "2019-10-21T23:52:27.319789Z",
     "start_time": "2019-10-21T23:52:27.313239Z"
    }
   },
   "outputs": [
    {
     "data": {
      "text/plain": [
       "Series([], Name: CurrentEnrollmentSchoolID, dtype: int64)"
      ]
     },
     "execution_count": 20,
     "metadata": {},
     "output_type": "execute_result"
    }
   ],
   "source": [
    "uniqueIDs = schools_df.groupby(['CurrentEnrollmentSchoolID']).CurrentEnrollmentSchoolID.nunique()\n",
    "uniqueIDs[uniqueIDs>1]"
   ]
  },
  {
   "cell_type": "markdown",
   "metadata": {},
   "source": [
    "This is how to refer to a school name from its ID #:"
   ]
  },
  {
   "cell_type": "code",
   "execution_count": 21,
   "metadata": {
    "ExecuteTime": {
     "end_time": "2019-10-21T23:52:27.328297Z",
     "start_time": "2019-10-21T23:52:27.322279Z"
    }
   },
   "outputs": [
    {
     "data": {
      "text/plain": [
       "'Adams Elementary'"
      ]
     },
     "execution_count": 21,
     "metadata": {},
     "output_type": "execute_result"
    }
   ],
   "source": [
    "school_names.loc[201][0]"
   ]
  },
  {
   "cell_type": "markdown",
   "metadata": {},
   "source": [
    "Taking the list of school names from the Seattle Onboarding History.xlsx workbook, I'll figure out what school ID's these schools are:"
   ]
  },
  {
   "cell_type": "code",
   "execution_count": 22,
   "metadata": {
    "ExecuteTime": {
     "end_time": "2019-10-21T23:52:27.335019Z",
     "start_time": "2019-10-21T23:52:27.330608Z"
    }
   },
   "outputs": [],
   "source": [
    "schoolNames = ['Bailey Gatzert Elementary',\n",
    "'Concord International',\n",
    "'Dearborn Park International School',\n",
    "'Dunlap Elementary School',\n",
    "'Emerson Elementary',\n",
    "'Graham HIll Elementary',\n",
    "'Hawthorne Elementary School',\n",
    "'Highland Park Elementary',\n",
    "'John Muir Elementary',\n",
    "'Maple Elementary',\n",
    "'Martin Luther King Jr. Elementary',\n",
    "'Northgate Elementary School',\n",
    "'Rainier View Elementary',\n",
    "'Sanislo Elementary',\n",
    "'Van Asselt Elementary',\n",
    "'West Seattle Elementary',\n",
    "'Wing Luke Elementary',\n",
    "'Roxhill Elementary School']"
   ]
  },
  {
   "cell_type": "code",
   "execution_count": 23,
   "metadata": {
    "ExecuteTime": {
     "end_time": "2019-10-21T23:52:27.378737Z",
     "start_time": "2019-10-21T23:52:27.342552Z"
    }
   },
   "outputs": [
    {
     "name": "stdout",
     "output_type": "stream",
     "text": [
      "Bailey Gatzert Elementary \n",
      " CurrentEnrollmentSchoolID\n",
      "226    Bailey Gatzert Elementary\n",
      "Name: CurrentEnrollmentSchoolName, dtype: object\n",
      "Concord International \n",
      " CurrentEnrollmentSchoolID\n",
      "215    Concord International School\n",
      "Name: CurrentEnrollmentSchoolName, dtype: object\n",
      "Dearborn Park International School \n",
      " CurrentEnrollmentSchoolID\n",
      "251    Dearborn Park International School\n",
      "Name: CurrentEnrollmentSchoolName, dtype: object\n",
      "Dunlap Elementary School \n",
      " CurrentEnrollmentSchoolID\n",
      "219    Dunlap Elementary\n",
      "Name: CurrentEnrollmentSchoolName, dtype: object\n",
      "Emerson Elementary \n",
      " CurrentEnrollmentSchoolID\n",
      "221    Emerson Elementary\n",
      "Name: CurrentEnrollmentSchoolName, dtype: object\n",
      "Graham HIll Elementary \n",
      " CurrentEnrollmentSchoolID\n",
      "220    Graham Hill Elementary\n",
      "Name: CurrentEnrollmentSchoolName, dtype: object\n",
      "Hawthorne Elementary School \n",
      " CurrentEnrollmentSchoolID\n",
      "233    Hawthorne Elementary\n",
      "Name: CurrentEnrollmentSchoolName, dtype: object\n",
      "Highland Park Elementary \n",
      " CurrentEnrollmentSchoolID\n",
      "235    Highland Park Elementary\n",
      "Name: CurrentEnrollmentSchoolName, dtype: object\n",
      "John Muir Elementary \n",
      " CurrentEnrollmentSchoolID\n",
      "234                   John Hay Elementary\n",
      "241    John Stanford International School\n",
      "256                  John Muir Elementary\n",
      "266                John Rogers Elementary\n",
      "Name: CurrentEnrollmentSchoolName, dtype: object\n",
      "Maple Elementary \n",
      " CurrentEnrollmentSchoolID\n",
      "252    Maple Elementary\n",
      "Name: CurrentEnrollmentSchoolName, dtype: object\n",
      "Martin Luther King Jr. Elementary \n",
      " CurrentEnrollmentSchoolID\n",
      "207    Martin Luther King Jr. Elementary\n",
      "Name: CurrentEnrollmentSchoolName, dtype: object\n",
      "Northgate Elementary School \n",
      " CurrentEnrollmentSchoolID\n",
      "257    Northgate Elementary\n",
      "Name: CurrentEnrollmentSchoolName, dtype: object\n",
      "Rainier View Elementary \n",
      " CurrentEnrollmentSchoolID\n",
      "264    Rainier View Elementary\n",
      "Name: CurrentEnrollmentSchoolName, dtype: object\n",
      "Sanislo Elementary \n",
      " CurrentEnrollmentSchoolID\n",
      "273    Sanislo Elementary\n",
      "Name: CurrentEnrollmentSchoolName, dtype: object\n",
      "Van Asselt Elementary \n",
      " CurrentEnrollmentSchoolID\n",
      "275    Van Asselt Elementary\n",
      "Name: CurrentEnrollmentSchoolName, dtype: object\n",
      "West Seattle Elementary \n",
      " CurrentEnrollmentSchoolID\n",
      "236     West Seattle Elementary\n",
      "281    West Woodland Elementary\n",
      "Name: CurrentEnrollmentSchoolName, dtype: object\n",
      "Wing Luke Elementary \n",
      " CurrentEnrollmentSchoolID\n",
      "286    Wing Luke Elementary\n",
      "Name: CurrentEnrollmentSchoolName, dtype: object\n",
      "Roxhill Elementary School \n",
      " CurrentEnrollmentSchoolID\n",
      "267    Roxhill Elementary\n",
      "Name: CurrentEnrollmentSchoolName, dtype: object\n"
     ]
    }
   ],
   "source": [
    "for name in schoolNames:\n",
    "    for part in name.split():\n",
    "        if school_names.CurrentEnrollmentSchoolName.str.contains(part).any():\n",
    "            print(name,'\\n', school_names[school_names.CurrentEnrollmentSchoolName.str.contains(part)].CurrentEnrollmentSchoolName)\n",
    "            break"
   ]
  },
  {
   "cell_type": "markdown",
   "metadata": {},
   "source": [
    "Believing dictionaries are faster to access I'll convert the dataframes to dictionaries and show examples of how to use them:"
   ]
  },
  {
   "cell_type": "code",
   "execution_count": 24,
   "metadata": {
    "ExecuteTime": {
     "end_time": "2019-10-21T23:52:27.391256Z",
     "start_time": "2019-10-21T23:52:27.384742Z"
    },
    "scrolled": true
   },
   "outputs": [
    {
     "data": {
      "text/plain": [
       "'Adams Elementary'"
      ]
     },
     "execution_count": 24,
     "metadata": {},
     "output_type": "execute_result"
    }
   ],
   "source": [
    "school_names_dct = school_names.rename(columns={'CurrentEnrollmentSchoolName':'Name'}).to_dict()\n",
    "school_names_dct['Name'][201]"
   ]
  },
  {
   "cell_type": "code",
   "execution_count": 25,
   "metadata": {
    "ExecuteTime": {
     "end_time": "2019-10-21T23:52:27.398694Z",
     "start_time": "2019-10-21T23:52:27.393703Z"
    },
    "scrolled": true
   },
   "outputs": [
    {
     "data": {
      "text/plain": [
       "201"
      ]
     },
     "execution_count": 25,
     "metadata": {},
     "output_type": "execute_result"
    }
   ],
   "source": [
    "school_IDs_dct = school_IDs.rename(columns={'CurrentEnrollmentSchoolID':'ID'}).to_dict()\n",
    "school_IDs_dct['ID']['Adams Elementary']"
   ]
  },
  {
   "cell_type": "code",
   "execution_count": 26,
   "metadata": {
    "ExecuteTime": {
     "end_time": "2019-10-21T23:52:27.714520Z",
     "start_time": "2019-10-21T23:52:27.401553Z"
    }
   },
   "outputs": [],
   "source": [
    "map_df.to_pickle('./data/interim/map_df.pkl')"
   ]
  },
  {
   "cell_type": "markdown",
   "metadata": {},
   "source": [
    "Clean the SBAC data:"
   ]
  },
  {
   "cell_type": "code",
   "execution_count": 27,
   "metadata": {
    "ExecuteTime": {
     "end_time": "2019-10-21T23:52:28.002014Z",
     "start_time": "2019-10-21T23:52:27.716315Z"
    }
   },
   "outputs": [
    {
     "name": "stdout",
     "output_type": "stream",
     "text": [
      "29917  K-12 students of SBAC data loaded.\n"
     ]
    }
   ],
   "source": [
    "# This cell is for making reloading the SBAC data easy:\n",
    "sbac_df = load_sbac_df_from_csv(2018,2018)\n",
    "print(sbac_df.StudentID.nunique(),\" K-12 students of SBAC data loaded.\")"
   ]
  },
  {
   "cell_type": "markdown",
   "metadata": {},
   "source": [
    "Notice that I'm __*not*__ filtering to only include 3rd graders:"
   ]
  },
  {
   "cell_type": "code",
   "execution_count": 28,
   "metadata": {
    "ExecuteTime": {
     "end_time": "2019-10-21T23:52:28.008626Z",
     "start_time": "2019-10-21T23:52:28.003819Z"
    }
   },
   "outputs": [],
   "source": [
    "def clean_sbac_df(SBAC_df):\n",
    "    SBAC_df.drop(columns=['LastName','FirstName','PhoneNumber','OnTrackToGraduate'],\\\n",
    "                inplace=True)\n",
    "    SBAC_df = SBAC_df[SBAC_df.SubjectArea == 'Reading/ELA'].copy()\n",
    "    #SBAC_df = SBAC_df[SBAC_df.TestGrade == 3]\n",
    "    SBAC_df.BirthDate = pd.to_datetime(SBAC_df.BirthDate)\n",
    "    SBAC_df.USAEntryDate = pd.to_datetime(SBAC_df.USAEntryDate,errors='coerce')\n",
    "    SBAC_df.TestSchoolYear = SBAC_df.TestSchoolYear.str.replace('\\x96','-')\n",
    "    SBAC_df.ExtractSchoolYear = SBAC_df.ExtractSchoolYear.str.replace('\\x96','-')\n",
    "    SBAC_df.replace({'MetStandard':{'-':np.nan}},inplace=True)\n",
    "    return SBAC_df"
   ]
  },
  {
   "cell_type": "code",
   "execution_count": 29,
   "metadata": {
    "ExecuteTime": {
     "end_time": "2019-10-21T23:52:28.105455Z",
     "start_time": "2019-10-21T23:52:28.010625Z"
    },
    "scrolled": true
   },
   "outputs": [],
   "source": [
    "sbac_df = clean_sbac_df(sbac_df)\n",
    "#sbac_df.info()"
   ]
  },
  {
   "cell_type": "code",
   "execution_count": 30,
   "metadata": {
    "ExecuteTime": {
     "end_time": "2019-10-21T23:52:28.111831Z",
     "start_time": "2019-10-21T23:52:28.107342Z"
    }
   },
   "outputs": [
    {
     "data": {
      "text/plain": [
       "'2015-16'"
      ]
     },
     "execution_count": 30,
     "metadata": {},
     "output_type": "execute_result"
    }
   ],
   "source": [
    "map_df.TestSchoolYear.iloc[0]"
   ]
  },
  {
   "cell_type": "code",
   "execution_count": 31,
   "metadata": {
    "ExecuteTime": {
     "end_time": "2019-10-21T23:52:28.120316Z",
     "start_time": "2019-10-21T23:52:28.114088Z"
    }
   },
   "outputs": [
    {
     "data": {
      "text/plain": [
       "26926"
      ]
     },
     "execution_count": 31,
     "metadata": {},
     "output_type": "execute_result"
    }
   ],
   "source": [
    "sbac_df.StudentID.nunique()"
   ]
  },
  {
   "cell_type": "code",
   "execution_count": 32,
   "metadata": {
    "ExecuteTime": {
     "end_time": "2019-10-21T23:52:28.141567Z",
     "start_time": "2019-10-21T23:52:28.122355Z"
    },
    "scrolled": true
   },
   "outputs": [
    {
     "data": {
      "text/plain": [
       "4614"
      ]
     },
     "execution_count": 32,
     "metadata": {},
     "output_type": "execute_result"
    }
   ],
   "source": [
    "map_df[(map_df.TestSchoolYear=='2015-16') & (map_df.CurrentGrade=='1')].StudentID.nunique()"
   ]
  },
  {
   "cell_type": "code",
   "execution_count": 33,
   "metadata": {
    "ExecuteTime": {
     "end_time": "2019-10-21T23:52:28.165154Z",
     "start_time": "2019-10-21T23:52:28.143916Z"
    }
   },
   "outputs": [
    {
     "data": {
      "text/plain": [
       "3    4\n",
       "Name: TestGrade, dtype: int64"
      ]
     },
     "execution_count": 33,
     "metadata": {},
     "output_type": "execute_result"
    }
   ],
   "source": [
    "MAP2015 = map_df[(map_df.TestSchoolYear=='2015-16') & (map_df.CurrentGrade=='K')]\n",
    "sbac_df[sbac_df.StudentID.isin(MAP2015.StudentID)].TestGrade.value_counts()"
   ]
  },
  {
   "cell_type": "code",
   "execution_count": 34,
   "metadata": {
    "ExecuteTime": {
     "end_time": "2019-10-21T23:52:28.188691Z",
     "start_time": "2019-10-21T23:52:28.166902Z"
    },
    "scrolled": true
   },
   "outputs": [
    {
     "data": {
      "text/plain": [
       "3    3611\n",
       "4       2\n",
       "Name: TestGrade, dtype: int64"
      ]
     },
     "execution_count": 34,
     "metadata": {},
     "output_type": "execute_result"
    }
   ],
   "source": [
    "MAP2015 = map_df[(map_df.TestSchoolYear=='2015-16') & (map_df.CurrentGrade=='1')]\n",
    "sbac_df[sbac_df.StudentID.isin(MAP2015.StudentID)].TestGrade.value_counts()"
   ]
  },
  {
   "cell_type": "code",
   "execution_count": 35,
   "metadata": {
    "ExecuteTime": {
     "end_time": "2019-10-21T23:52:28.196285Z",
     "start_time": "2019-10-21T23:52:28.190479Z"
    },
    "scrolled": true
   },
   "outputs": [
    {
     "data": {
      "text/plain": [
       "3     4436\n",
       "4     4291\n",
       "5     3920\n",
       "6     3650\n",
       "7     3630\n",
       "8     3178\n",
       "9        1\n",
       "10    3366\n",
       "11     355\n",
       "12     112\n",
       "Name: TestGrade, dtype: int64"
      ]
     },
     "execution_count": 35,
     "metadata": {},
     "output_type": "execute_result"
    }
   ],
   "source": [
    "sbac_df.TestGrade.value_counts().sort_index()"
   ]
  },
  {
   "cell_type": "markdown",
   "metadata": {},
   "source": [
    "The last 4 cells are a key result! The 3rd grade student's in the SBAC file where 1st graders the 2015-16 school year.  Of the 4,614 1st graders in 2015-16 school year, 3,611 are represented in the 4,436 3rd graders in the 2017-18 SBAC file."
   ]
  },
  {
   "cell_type": "code",
   "execution_count": 36,
   "metadata": {
    "ExecuteTime": {
     "end_time": "2019-10-21T23:52:28.206202Z",
     "start_time": "2019-10-21T23:52:28.198468Z"
    },
    "scrolled": true
   },
   "outputs": [
    {
     "data": {
      "text/plain": [
       "4435"
      ]
     },
     "execution_count": 36,
     "metadata": {},
     "output_type": "execute_result"
    }
   ],
   "source": [
    "sbac_df[sbac_df.TestGrade==3].StudentID.nunique()"
   ]
  },
  {
   "cell_type": "markdown",
   "metadata": {},
   "source": [
    "Is there 1 duplicate student ID in the 3rd graders in the SBAC data?  Why doesn't value_counts and nunique give the exact same result?"
   ]
  },
  {
   "cell_type": "code",
   "execution_count": 37,
   "metadata": {
    "ExecuteTime": {
     "end_time": "2019-10-21T23:52:28.220106Z",
     "start_time": "2019-10-21T23:52:28.208494Z"
    },
    "scrolled": true
   },
   "outputs": [
    {
     "data": {
      "text/plain": [
       "2017-18    26939\n",
       "Name: TestSchoolYear, dtype: int64"
      ]
     },
     "execution_count": 37,
     "metadata": {},
     "output_type": "execute_result"
    }
   ],
   "source": [
    "sbac_df.TestSchoolYear.value_counts()"
   ]
  },
  {
   "cell_type": "code",
   "execution_count": 38,
   "metadata": {
    "ExecuteTime": {
     "end_time": "2019-10-21T23:52:28.285622Z",
     "start_time": "2019-10-21T23:52:28.222634Z"
    }
   },
   "outputs": [
    {
     "data": {
      "text/html": [
       "<div>\n",
       "<style scoped>\n",
       "    .dataframe tbody tr th:only-of-type {\n",
       "        vertical-align: middle;\n",
       "    }\n",
       "\n",
       "    .dataframe tbody tr th {\n",
       "        vertical-align: top;\n",
       "    }\n",
       "\n",
       "    .dataframe thead th {\n",
       "        text-align: right;\n",
       "    }\n",
       "</style>\n",
       "<table border=\"1\" class=\"dataframe\">\n",
       "  <thead>\n",
       "    <tr style=\"text-align: right;\">\n",
       "      <th></th>\n",
       "      <th>StudentID</th>\n",
       "      <th>CurrentEnrollmentSchoolID</th>\n",
       "      <th>CurrentEnrollmentSchoolName</th>\n",
       "      <th>CurrentGrade</th>\n",
       "      <th>TestSchoolYear</th>\n",
       "      <th>TestSeason</th>\n",
       "      <th>TestSchoolID</th>\n",
       "      <th>TestSchoolName</th>\n",
       "      <th>TestGrade</th>\n",
       "      <th>SubjectArea</th>\n",
       "      <th>...</th>\n",
       "      <th>IEPStatus</th>\n",
       "      <th>Student504Status</th>\n",
       "      <th>GiftedStatus</th>\n",
       "      <th>PrimaryLanguage</th>\n",
       "      <th>HomeLanguage</th>\n",
       "      <th>LivingWith</th>\n",
       "      <th>USAEntryDate</th>\n",
       "      <th>BirthCountry</th>\n",
       "      <th>ProjectedGradYear</th>\n",
       "      <th>ExtractSchoolYear</th>\n",
       "    </tr>\n",
       "  </thead>\n",
       "  <tbody>\n",
       "    <tr>\n",
       "      <td>0</td>\n",
       "      <td>3339737</td>\n",
       "      <td>201</td>\n",
       "      <td>Adams Elementary</td>\n",
       "      <td>5</td>\n",
       "      <td>2017-18</td>\n",
       "      <td>Spring</td>\n",
       "      <td>201</td>\n",
       "      <td>Adams Elementary</td>\n",
       "      <td>4</td>\n",
       "      <td>Reading/ELA</td>\n",
       "      <td>...</td>\n",
       "      <td>N</td>\n",
       "      <td>N</td>\n",
       "      <td>Not Eligible</td>\n",
       "      <td>English</td>\n",
       "      <td>English</td>\n",
       "      <td>Both Parents</td>\n",
       "      <td>NaT</td>\n",
       "      <td>USA</td>\n",
       "      <td>(n/a)</td>\n",
       "      <td>2018-19</td>\n",
       "    </tr>\n",
       "    <tr>\n",
       "      <td>2</td>\n",
       "      <td>3096737</td>\n",
       "      <td>246</td>\n",
       "      <td>Loyal Heights Elementary</td>\n",
       "      <td>5</td>\n",
       "      <td>2017-18</td>\n",
       "      <td>Spring</td>\n",
       "      <td>246</td>\n",
       "      <td>Loyal Heights Elementary</td>\n",
       "      <td>4</td>\n",
       "      <td>Reading/ELA</td>\n",
       "      <td>...</td>\n",
       "      <td>N</td>\n",
       "      <td>N</td>\n",
       "      <td>Eligible (Highly Capable)</td>\n",
       "      <td>English</td>\n",
       "      <td>English</td>\n",
       "      <td>Both Parents</td>\n",
       "      <td>NaT</td>\n",
       "      <td>USA</td>\n",
       "      <td>(n/a)</td>\n",
       "      <td>2018-19</td>\n",
       "    </tr>\n",
       "    <tr>\n",
       "      <td>4</td>\n",
       "      <td>3066737</td>\n",
       "      <td>292</td>\n",
       "      <td>Hazel Wolf K-8 School</td>\n",
       "      <td>5</td>\n",
       "      <td>2017-18</td>\n",
       "      <td>Spring</td>\n",
       "      <td>292</td>\n",
       "      <td>Hazel Wolf K-8 School</td>\n",
       "      <td>4</td>\n",
       "      <td>Reading/ELA</td>\n",
       "      <td>...</td>\n",
       "      <td>N</td>\n",
       "      <td>N</td>\n",
       "      <td>Not Eligible</td>\n",
       "      <td>English</td>\n",
       "      <td>English</td>\n",
       "      <td>Mother</td>\n",
       "      <td>NaT</td>\n",
       "      <td>USA</td>\n",
       "      <td>(n/a)</td>\n",
       "      <td>2018-19</td>\n",
       "    </tr>\n",
       "    <tr>\n",
       "      <td>6</td>\n",
       "      <td>3007737</td>\n",
       "      <td>270</td>\n",
       "      <td>Genesee Hill Elementary</td>\n",
       "      <td>5</td>\n",
       "      <td>2017-18</td>\n",
       "      <td>Spring</td>\n",
       "      <td>270</td>\n",
       "      <td>Genesee Hill Elementary</td>\n",
       "      <td>4</td>\n",
       "      <td>Reading/ELA</td>\n",
       "      <td>...</td>\n",
       "      <td>N</td>\n",
       "      <td>N</td>\n",
       "      <td>Not Eligible</td>\n",
       "      <td>English</td>\n",
       "      <td>English</td>\n",
       "      <td>Both Parents</td>\n",
       "      <td>NaT</td>\n",
       "      <td>USA</td>\n",
       "      <td>(n/a)</td>\n",
       "      <td>2018-19</td>\n",
       "    </tr>\n",
       "    <tr>\n",
       "      <td>8</td>\n",
       "      <td>3326733</td>\n",
       "      <td>246</td>\n",
       "      <td>Loyal Heights Elementary</td>\n",
       "      <td>5</td>\n",
       "      <td>2017-18</td>\n",
       "      <td>Spring</td>\n",
       "      <td>246</td>\n",
       "      <td>Loyal Heights Elementary</td>\n",
       "      <td>4</td>\n",
       "      <td>Reading/ELA</td>\n",
       "      <td>...</td>\n",
       "      <td>N</td>\n",
       "      <td>N</td>\n",
       "      <td>Not Eligible</td>\n",
       "      <td>English</td>\n",
       "      <td>English</td>\n",
       "      <td>Mother</td>\n",
       "      <td>NaT</td>\n",
       "      <td>USA</td>\n",
       "      <td>(n/a)</td>\n",
       "      <td>2018-19</td>\n",
       "    </tr>\n",
       "    <tr>\n",
       "      <td>...</td>\n",
       "      <td>...</td>\n",
       "      <td>...</td>\n",
       "      <td>...</td>\n",
       "      <td>...</td>\n",
       "      <td>...</td>\n",
       "      <td>...</td>\n",
       "      <td>...</td>\n",
       "      <td>...</td>\n",
       "      <td>...</td>\n",
       "      <td>...</td>\n",
       "      <td>...</td>\n",
       "      <td>...</td>\n",
       "      <td>...</td>\n",
       "      <td>...</td>\n",
       "      <td>...</td>\n",
       "      <td>...</td>\n",
       "      <td>...</td>\n",
       "      <td>...</td>\n",
       "      <td>...</td>\n",
       "      <td>...</td>\n",
       "      <td>...</td>\n",
       "    </tr>\n",
       "    <tr>\n",
       "      <td>65428</td>\n",
       "      <td>3349780</td>\n",
       "      <td>11</td>\n",
       "      <td>Ballard High School</td>\n",
       "      <td>9</td>\n",
       "      <td>2017-18</td>\n",
       "      <td>Spring</td>\n",
       "      <td>105</td>\n",
       "      <td>Hamilton International Middle School</td>\n",
       "      <td>8</td>\n",
       "      <td>Reading/ELA</td>\n",
       "      <td>...</td>\n",
       "      <td>N</td>\n",
       "      <td>N</td>\n",
       "      <td>Not Eligible</td>\n",
       "      <td>English</td>\n",
       "      <td>English</td>\n",
       "      <td>Mother</td>\n",
       "      <td>NaT</td>\n",
       "      <td>USA</td>\n",
       "      <td>2022</td>\n",
       "      <td>2018-19</td>\n",
       "    </tr>\n",
       "    <tr>\n",
       "      <td>65431</td>\n",
       "      <td>3882780</td>\n",
       "      <td>113</td>\n",
       "      <td>Eagle Staff Middle School</td>\n",
       "      <td>6</td>\n",
       "      <td>2017-18</td>\n",
       "      <td>Spring</td>\n",
       "      <td>204</td>\n",
       "      <td>Daniel Bagley Elementary</td>\n",
       "      <td>5</td>\n",
       "      <td>Reading/ELA</td>\n",
       "      <td>...</td>\n",
       "      <td>N</td>\n",
       "      <td>N</td>\n",
       "      <td>Served (Advanced Learning)</td>\n",
       "      <td>English</td>\n",
       "      <td>English</td>\n",
       "      <td>Both Parents</td>\n",
       "      <td>NaT</td>\n",
       "      <td>USA</td>\n",
       "      <td>(n/a)</td>\n",
       "      <td>2018-19</td>\n",
       "    </tr>\n",
       "    <tr>\n",
       "      <td>65434</td>\n",
       "      <td>3101786</td>\n",
       "      <td>360</td>\n",
       "      <td>Interagency Academy</td>\n",
       "      <td>11</td>\n",
       "      <td>2017-18</td>\n",
       "      <td>Spring</td>\n",
       "      <td>17</td>\n",
       "      <td>Roosevelt High School</td>\n",
       "      <td>10</td>\n",
       "      <td>Reading/ELA</td>\n",
       "      <td>...</td>\n",
       "      <td>N</td>\n",
       "      <td>N</td>\n",
       "      <td>Not Eligible</td>\n",
       "      <td>English</td>\n",
       "      <td>English</td>\n",
       "      <td>Mother</td>\n",
       "      <td>NaT</td>\n",
       "      <td>USA</td>\n",
       "      <td>2020</td>\n",
       "      <td>2018-19</td>\n",
       "    </tr>\n",
       "    <tr>\n",
       "      <td>65436</td>\n",
       "      <td>3628786</td>\n",
       "      <td>117</td>\n",
       "      <td>Washington Middle School</td>\n",
       "      <td>8</td>\n",
       "      <td>2017-18</td>\n",
       "      <td>Spring</td>\n",
       "      <td>117</td>\n",
       "      <td>Washington Middle School</td>\n",
       "      <td>7</td>\n",
       "      <td>Reading/ELA</td>\n",
       "      <td>...</td>\n",
       "      <td>N</td>\n",
       "      <td>N</td>\n",
       "      <td>Not Eligible</td>\n",
       "      <td>Somali</td>\n",
       "      <td>Somali</td>\n",
       "      <td>Both Parents</td>\n",
       "      <td>2011-11-30</td>\n",
       "      <td>KEN</td>\n",
       "      <td>(n/a)</td>\n",
       "      <td>2018-19</td>\n",
       "    </tr>\n",
       "    <tr>\n",
       "      <td>65438</td>\n",
       "      <td>3144784</td>\n",
       "      <td>20</td>\n",
       "      <td>Ingraham International High School</td>\n",
       "      <td>11</td>\n",
       "      <td>2017-18</td>\n",
       "      <td>Spring</td>\n",
       "      <td>20</td>\n",
       "      <td>Ingraham International High School</td>\n",
       "      <td>10</td>\n",
       "      <td>Reading/ELA</td>\n",
       "      <td>...</td>\n",
       "      <td>N</td>\n",
       "      <td>N</td>\n",
       "      <td>Served (Highly Capable Cohort)</td>\n",
       "      <td>English</td>\n",
       "      <td>English</td>\n",
       "      <td>Both Parents</td>\n",
       "      <td>NaT</td>\n",
       "      <td>USA</td>\n",
       "      <td>2020</td>\n",
       "      <td>2018-19</td>\n",
       "    </tr>\n",
       "  </tbody>\n",
       "</table>\n",
       "<p>26939 rows × 30 columns</p>\n",
       "</div>"
      ],
      "text/plain": [
       "       StudentID  CurrentEnrollmentSchoolID  \\\n",
       "0        3339737                        201   \n",
       "2        3096737                        246   \n",
       "4        3066737                        292   \n",
       "6        3007737                        270   \n",
       "8        3326733                        246   \n",
       "...          ...                        ...   \n",
       "65428    3349780                         11   \n",
       "65431    3882780                        113   \n",
       "65434    3101786                        360   \n",
       "65436    3628786                        117   \n",
       "65438    3144784                         20   \n",
       "\n",
       "              CurrentEnrollmentSchoolName  CurrentGrade TestSchoolYear  \\\n",
       "0                        Adams Elementary             5        2017-18   \n",
       "2                Loyal Heights Elementary             5        2017-18   \n",
       "4                   Hazel Wolf K-8 School             5        2017-18   \n",
       "6                 Genesee Hill Elementary             5        2017-18   \n",
       "8                Loyal Heights Elementary             5        2017-18   \n",
       "...                                   ...           ...            ...   \n",
       "65428                 Ballard High School             9        2017-18   \n",
       "65431           Eagle Staff Middle School             6        2017-18   \n",
       "65434                 Interagency Academy            11        2017-18   \n",
       "65436            Washington Middle School             8        2017-18   \n",
       "65438  Ingraham International High School            11        2017-18   \n",
       "\n",
       "      TestSeason  TestSchoolID                        TestSchoolName  \\\n",
       "0         Spring           201                      Adams Elementary   \n",
       "2         Spring           246              Loyal Heights Elementary   \n",
       "4         Spring           292                 Hazel Wolf K-8 School   \n",
       "6         Spring           270               Genesee Hill Elementary   \n",
       "8         Spring           246              Loyal Heights Elementary   \n",
       "...          ...           ...                                   ...   \n",
       "65428     Spring           105  Hamilton International Middle School   \n",
       "65431     Spring           204              Daniel Bagley Elementary   \n",
       "65434     Spring            17                 Roosevelt High School   \n",
       "65436     Spring           117              Washington Middle School   \n",
       "65438     Spring            20    Ingraham International High School   \n",
       "\n",
       "       TestGrade  SubjectArea  ... IEPStatus Student504Status  \\\n",
       "0              4  Reading/ELA  ...         N                N   \n",
       "2              4  Reading/ELA  ...         N                N   \n",
       "4              4  Reading/ELA  ...         N                N   \n",
       "6              4  Reading/ELA  ...         N                N   \n",
       "8              4  Reading/ELA  ...         N                N   \n",
       "...          ...          ...  ...       ...              ...   \n",
       "65428          8  Reading/ELA  ...         N                N   \n",
       "65431          5  Reading/ELA  ...         N                N   \n",
       "65434         10  Reading/ELA  ...         N                N   \n",
       "65436          7  Reading/ELA  ...         N                N   \n",
       "65438         10  Reading/ELA  ...         N                N   \n",
       "\n",
       "                         GiftedStatus  PrimaryLanguage HomeLanguage  \\\n",
       "0                        Not Eligible          English      English   \n",
       "2           Eligible (Highly Capable)          English      English   \n",
       "4                        Not Eligible          English      English   \n",
       "6                        Not Eligible          English      English   \n",
       "8                        Not Eligible          English      English   \n",
       "...                               ...              ...          ...   \n",
       "65428                    Not Eligible          English      English   \n",
       "65431      Served (Advanced Learning)          English      English   \n",
       "65434                    Not Eligible          English      English   \n",
       "65436                    Not Eligible           Somali       Somali   \n",
       "65438  Served (Highly Capable Cohort)          English      English   \n",
       "\n",
       "         LivingWith USAEntryDate BirthCountry ProjectedGradYear  \\\n",
       "0      Both Parents          NaT          USA             (n/a)   \n",
       "2      Both Parents          NaT          USA             (n/a)   \n",
       "4            Mother          NaT          USA             (n/a)   \n",
       "6      Both Parents          NaT          USA             (n/a)   \n",
       "8            Mother          NaT          USA             (n/a)   \n",
       "...             ...          ...          ...               ...   \n",
       "65428        Mother          NaT          USA              2022   \n",
       "65431  Both Parents          NaT          USA             (n/a)   \n",
       "65434        Mother          NaT          USA              2020   \n",
       "65436  Both Parents   2011-11-30          KEN             (n/a)   \n",
       "65438  Both Parents          NaT          USA              2020   \n",
       "\n",
       "      ExtractSchoolYear  \n",
       "0               2018-19  \n",
       "2               2018-19  \n",
       "4               2018-19  \n",
       "6               2018-19  \n",
       "8               2018-19  \n",
       "...                 ...  \n",
       "65428           2018-19  \n",
       "65431           2018-19  \n",
       "65434           2018-19  \n",
       "65436           2018-19  \n",
       "65438           2018-19  \n",
       "\n",
       "[26939 rows x 30 columns]"
      ]
     },
     "execution_count": 38,
     "metadata": {},
     "output_type": "execute_result"
    }
   ],
   "source": [
    "sbac_df"
   ]
  },
  {
   "cell_type": "code",
   "execution_count": 39,
   "metadata": {
    "ExecuteTime": {
     "end_time": "2019-10-21T23:52:28.296299Z",
     "start_time": "2019-10-21T23:52:28.288281Z"
    }
   },
   "outputs": [
    {
     "data": {
      "text/plain": [
       "Spring    26939\n",
       "Name: TestSeason, dtype: int64"
      ]
     },
     "execution_count": 39,
     "metadata": {},
     "output_type": "execute_result"
    }
   ],
   "source": [
    "sbac_df.TestSeason.value_counts()"
   ]
  },
  {
   "cell_type": "code",
   "execution_count": 40,
   "metadata": {
    "ExecuteTime": {
     "end_time": "2019-10-21T23:52:28.320197Z",
     "start_time": "2019-10-21T23:52:28.298110Z"
    }
   },
   "outputs": [],
   "source": [
    "targets = sbac_df[sbac_df.TestGrade==3]\n",
    "targets = targets.append(sbac_df[(sbac_df.StudentID.isin(MAP2015.StudentID)) & (sbac_df.TestGrade==4)])\n",
    "targets.to_pickle('./data/interim/targets.pkl')"
   ]
  },
  {
   "cell_type": "code",
   "execution_count": 41,
   "metadata": {
    "ExecuteTime": {
     "end_time": "2019-10-21T23:52:28.327159Z",
     "start_time": "2019-10-21T23:52:28.322312Z"
    }
   },
   "outputs": [
    {
     "data": {
      "text/plain": [
       "(4438, 30)"
      ]
     },
     "execution_count": 41,
     "metadata": {},
     "output_type": "execute_result"
    }
   ],
   "source": [
    "targets.shape"
   ]
  },
  {
   "cell_type": "code",
   "execution_count": 42,
   "metadata": {
    "ExecuteTime": {
     "end_time": "2019-10-21T23:52:28.465620Z",
     "start_time": "2019-10-21T23:52:28.329607Z"
    }
   },
   "outputs": [],
   "source": [
    "targets.to_csv('./data/interim/targets.csv')"
   ]
  },
  {
   "cell_type": "code",
   "execution_count": null,
   "metadata": {},
   "outputs": [],
   "source": []
  }
 ],
 "metadata": {
  "kernelspec": {
   "display_name": "Python [conda env:metis] *",
   "language": "python",
   "name": "conda-env-metis-py"
  },
  "language_info": {
   "codemirror_mode": {
    "name": "ipython",
    "version": 3
   },
   "file_extension": ".py",
   "mimetype": "text/x-python",
   "name": "python",
   "nbconvert_exporter": "python",
   "pygments_lexer": "ipython3",
   "version": "3.7.3"
  },
  "toc": {
   "base_numbering": 1,
   "nav_menu": {},
   "number_sections": true,
   "sideBar": true,
   "skip_h1_title": false,
   "title_cell": "Table of Contents",
   "title_sidebar": "Contents",
   "toc_cell": false,
   "toc_position": {},
   "toc_section_display": true,
   "toc_window_display": false
  }
 },
 "nbformat": 4,
 "nbformat_minor": 2
}
