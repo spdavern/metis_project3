{
 "cells": [
  {
   "cell_type": "code",
   "execution_count": 49,
   "metadata": {
    "ExecuteTime": {
     "end_time": "2019-10-18T03:59:49.317183Z",
     "start_time": "2019-10-18T03:59:49.315111Z"
    }
   },
   "outputs": [],
   "source": [
    "import pandas as pd\n",
    "import src.obtain"
   ]
  },
  {
   "cell_type": "markdown",
   "metadata": {},
   "source": [
    "Import the MAP assessments from csv files which contain the RIT Scores for K-2."
   ]
  },
  {
   "cell_type": "code",
   "execution_count": 50,
   "metadata": {
    "ExecuteTime": {
     "end_time": "2019-10-18T03:59:51.782439Z",
     "start_time": "2019-10-18T03:59:51.773037Z"
    },
    "scrolled": false
   },
   "outputs": [
    {
     "ename": "NameError",
     "evalue": "name 'pd' is not defined",
     "output_type": "error",
     "traceback": [
      "\u001b[0;31m---------------------------------------------------------------------------\u001b[0m",
      "\u001b[0;31mNameError\u001b[0m                                 Traceback (most recent call last)",
      "\u001b[0;32m<ipython-input-50-2ad795af8552>\u001b[0m in \u001b[0;36m<module>\u001b[0;34m\u001b[0m\n\u001b[0;32m----> 1\u001b[0;31m \u001b[0mmap_df\u001b[0m \u001b[0;34m=\u001b[0m \u001b[0msrc\u001b[0m\u001b[0;34m.\u001b[0m\u001b[0mobtain\u001b[0m\u001b[0;34m.\u001b[0m\u001b[0mload_map_df_from_csv\u001b[0m\u001b[0;34m(\u001b[0m\u001b[0;36m2015\u001b[0m\u001b[0;34m,\u001b[0m\u001b[0;36m2018\u001b[0m\u001b[0;34m)\u001b[0m\u001b[0;34m\u001b[0m\u001b[0;34m\u001b[0m\u001b[0m\n\u001b[0m",
      "\u001b[0;32m~/CloudStation/Metis/projects/project3/src/obtain.py\u001b[0m in \u001b[0;36mload_map_df_from_csv\u001b[0;34m(start_year, end_year)\u001b[0m\n\u001b[1;32m     10\u001b[0m     \u001b[0mmap_df\u001b[0m \u001b[0;34m=\u001b[0m \u001b[0;32mNone\u001b[0m\u001b[0;34m\u001b[0m\u001b[0;34m\u001b[0m\u001b[0m\n\u001b[1;32m     11\u001b[0m     \u001b[0;32mfor\u001b[0m \u001b[0myr\u001b[0m \u001b[0;32min\u001b[0m \u001b[0mrange\u001b[0m\u001b[0;34m(\u001b[0m\u001b[0mstart_year\u001b[0m\u001b[0;34m,\u001b[0m\u001b[0mend_year\u001b[0m\u001b[0;34m+\u001b[0m\u001b[0;36m1\u001b[0m\u001b[0;34m)\u001b[0m\u001b[0;34m:\u001b[0m\u001b[0;34m\u001b[0m\u001b[0;34m\u001b[0m\u001b[0m\n\u001b[0;32m---> 12\u001b[0;31m         \u001b[0mdf\u001b[0m \u001b[0;34m=\u001b[0m \u001b[0mpd\u001b[0m\u001b[0;34m.\u001b[0m\u001b[0mread_csv\u001b[0m\u001b[0;34m(\u001b[0m\u001b[0mdata_folder\u001b[0m\u001b[0;34m+\u001b[0m\u001b[0mstr\u001b[0m\u001b[0;34m(\u001b[0m\u001b[0myr\u001b[0m\u001b[0;34m)\u001b[0m\u001b[0;34m+\u001b[0m\u001b[0mfilename_common\u001b[0m\u001b[0;34m,\u001b[0m \u001b[0mencoding\u001b[0m \u001b[0;34m=\u001b[0m \u001b[0;34m\"ISO-8859-1\"\u001b[0m\u001b[0;34m)\u001b[0m\u001b[0;34m\u001b[0m\u001b[0;34m\u001b[0m\u001b[0m\n\u001b[0m\u001b[1;32m     13\u001b[0m         \u001b[0;32mif\u001b[0m \u001b[0mmap_df\u001b[0m \u001b[0;32mis\u001b[0m \u001b[0;32mNone\u001b[0m\u001b[0;34m:\u001b[0m\u001b[0;34m\u001b[0m\u001b[0;34m\u001b[0m\u001b[0m\n\u001b[1;32m     14\u001b[0m             \u001b[0mmap_df\u001b[0m \u001b[0;34m=\u001b[0m \u001b[0mdf\u001b[0m\u001b[0;34m.\u001b[0m\u001b[0mcopy\u001b[0m\u001b[0;34m(\u001b[0m\u001b[0;34m)\u001b[0m\u001b[0;34m\u001b[0m\u001b[0;34m\u001b[0m\u001b[0m\n",
      "\u001b[0;31mNameError\u001b[0m: name 'pd' is not defined"
     ]
    }
   ],
   "source": [
    "map_df = src.obtain.load_map_df_from_csv(2015,2018)"
   ]
  },
  {
   "cell_type": "code",
   "execution_count": null,
   "metadata": {},
   "outputs": [],
   "source": []
  },
  {
   "cell_type": "code",
   "execution_count": 43,
   "metadata": {
    "ExecuteTime": {
     "end_time": "2019-10-18T03:43:01.976446Z",
     "start_time": "2019-10-18T03:43:01.789577Z"
    }
   },
   "outputs": [
    {
     "name": "stdout",
     "output_type": "stream",
     "text": [
      "<class 'pandas.core.frame.DataFrame'>\n",
      "RangeIndex: 224860 entries, 0 to 224859\n",
      "Data columns (total 34 columns):\n",
      "StudentID                          224860 non-null int64\n",
      "LastName                           224860 non-null object\n",
      "FirstName                          224860 non-null object\n",
      "CurrentEnrollmentSchoolID          224860 non-null int64\n",
      "CurrentEnrollmentSchoolName        224860 non-null object\n",
      "CurrentGrade                       224860 non-null object\n",
      "TestSchoolYear                     224860 non-null object\n",
      "TestSeason                         224860 non-null object\n",
      "TestSchoolID                       224860 non-null int64\n",
      "TestSchoolName                     224860 non-null object\n",
      "TestGrade                          224860 non-null object\n",
      "SubjectArea                        224860 non-null object\n",
      "TestName                           224860 non-null object\n",
      "RITScore                           224860 non-null int64\n",
      "PercentileRank                     224004 non-null float64\n",
      "MetGrowthLastFallToThisFall        28503 non-null float64\n",
      "MetGrowthLastSpringToThisSpring    48012 non-null float64\n",
      "MetGrowthLastFallToThisSpring      39874 non-null float64\n",
      "BirthDate                          224860 non-null object\n",
      "Gender                             224860 non-null object\n",
      "RacialEthnicGroup                  224860 non-null object\n",
      "ELLStatus                          224860 non-null object\n",
      "IEPStatus                          224860 non-null object\n",
      "Student504Status                   224860 non-null object\n",
      "GiftedStatus                       224860 non-null object\n",
      "PrimaryLanguage                    224860 non-null object\n",
      "HomeLanguage                       224860 non-null object\n",
      "LivingWith                         224860 non-null object\n",
      "USAEntryDate                       20147 non-null object\n",
      "BirthCountry                       224860 non-null object\n",
      "PhoneNumber                        0 non-null float64\n",
      "ProjectedGradYear                  224860 non-null object\n",
      "OnTrackToGraduate                  224860 non-null object\n",
      "ExtractSchoolYear                  224860 non-null object\n",
      "dtypes: float64(5), int64(4), object(25)\n",
      "memory usage: 58.3+ MB\n"
     ]
    }
   ],
   "source": [
    "map_df.info()"
   ]
  },
  {
   "cell_type": "code",
   "execution_count": null,
   "metadata": {},
   "outputs": [],
   "source": []
  }
 ],
 "metadata": {
  "kernelspec": {
   "display_name": "Python [conda env:metis] *",
   "language": "python",
   "name": "conda-env-metis-py"
  },
  "language_info": {
   "codemirror_mode": {
    "name": "ipython",
    "version": 3
   },
   "file_extension": ".py",
   "mimetype": "text/x-python",
   "name": "python",
   "nbconvert_exporter": "python",
   "pygments_lexer": "ipython3",
   "version": "3.7.3"
  },
  "toc": {
   "base_numbering": 1,
   "nav_menu": {},
   "number_sections": true,
   "sideBar": true,
   "skip_h1_title": false,
   "title_cell": "Table of Contents",
   "title_sidebar": "Contents",
   "toc_cell": false,
   "toc_position": {},
   "toc_section_display": true,
   "toc_window_display": false
  }
 },
 "nbformat": 4,
 "nbformat_minor": 2
}
