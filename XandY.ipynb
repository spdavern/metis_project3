{
 "cells": [
  {
   "cell_type": "code",
   "execution_count": 1,
   "metadata": {
    "ExecuteTime": {
     "end_time": "2019-10-21T07:23:45.354364Z",
     "start_time": "2019-10-21T07:23:44.929775Z"
    }
   },
   "outputs": [],
   "source": [
    "import pandas as pd\n",
    "from collections import defaultdict\n",
    "import pickle"
   ]
  },
  {
   "cell_type": "markdown",
   "metadata": {},
   "source": [
    "Read in the relevant python data setup objects."
   ]
  },
  {
   "cell_type": "code",
   "execution_count": 39,
   "metadata": {
    "ExecuteTime": {
     "end_time": "2019-10-21T08:14:13.865771Z",
     "start_time": "2019-10-21T08:14:13.860672Z"
    }
   },
   "outputs": [
    {
     "data": {
      "text/plain": [
       "collections.defaultdict"
      ]
     },
     "execution_count": 39,
     "metadata": {},
     "output_type": "execute_result"
    }
   ],
   "source": [
    "with open('./data/interim/book_up_dict.pickle', 'rb') as handle:\n",
    "    bookup_dct = pickle.load(handle)\n",
    "type(bookup_dct)"
   ]
  },
  {
   "cell_type": "code",
   "execution_count": 14,
   "metadata": {
    "ExecuteTime": {
     "end_time": "2019-10-21T07:30:18.055208Z",
     "start_time": "2019-10-21T07:30:17.984119Z"
    }
   },
   "outputs": [
    {
     "name": "stdout",
     "output_type": "stream",
     "text": [
      "shape= (82049, 30)\n"
     ]
    },
    {
     "data": {
      "text/plain": [
       "Index(['StudentID', 'CurrentEnrollmentSchoolID', 'CurrentEnrollmentSchoolName',\n",
       "       'CurrentGrade', 'TestSchoolYear', 'TestSeason', 'TestSchoolID',\n",
       "       'TestSchoolName', 'TestGrade', 'SubjectArea', 'TestName', 'RITScore',\n",
       "       'PercentileRank', 'MetGrowthLastFallToThisFall',\n",
       "       'MetGrowthLastSpringToThisSpring', 'MetGrowthLastFallToThisSpring',\n",
       "       'BirthDate', 'Gender', 'RacialEthnicGroup', 'ELLStatus', 'IEPStatus',\n",
       "       'Student504Status', 'GiftedStatus', 'PrimaryLanguage', 'HomeLanguage',\n",
       "       'LivingWith', 'USAEntryDate', 'BirthCountry', 'ProjectedGradYear',\n",
       "       'ExtractSchoolYear'],\n",
       "      dtype='object')"
      ]
     },
     "execution_count": 14,
     "metadata": {},
     "output_type": "execute_result"
    }
   ],
   "source": [
    "map_df = pd.read_pickle(\"./data/interim/map_df.pkl\")\n",
    "print('shape=',map_df.shape)\n",
    "map_df.columns"
   ]
  },
  {
   "cell_type": "code",
   "execution_count": 15,
   "metadata": {
    "ExecuteTime": {
     "end_time": "2019-10-21T07:30:49.228048Z",
     "start_time": "2019-10-21T07:30:49.215164Z"
    }
   },
   "outputs": [
    {
     "name": "stdout",
     "output_type": "stream",
     "text": [
      "shape= (4438, 30)\n"
     ]
    },
    {
     "data": {
      "text/plain": [
       "Index(['StudentID', 'CurrentEnrollmentSchoolID', 'CurrentEnrollmentSchoolName',\n",
       "       'CurrentGrade', 'TestSchoolYear', 'TestSeason', 'TestSchoolID',\n",
       "       'TestSchoolName', 'TestGrade', 'SubjectArea', 'TestName', 'AttemptCode',\n",
       "       'Attempt', 'Score', 'LevelCode', 'MetStandard', 'BirthDate', 'Gender',\n",
       "       'RacialEthnicGroup', 'ELLStatus', 'IEPStatus', 'Student504Status',\n",
       "       'GiftedStatus', 'PrimaryLanguage', 'HomeLanguage', 'LivingWith',\n",
       "       'USAEntryDate', 'BirthCountry', 'ProjectedGradYear',\n",
       "       'ExtractSchoolYear'],\n",
       "      dtype='object')"
      ]
     },
     "execution_count": 15,
     "metadata": {},
     "output_type": "execute_result"
    }
   ],
   "source": [
    "targets_df = pd.read_pickle(\"./data/interim/targets.pkl\")\n",
    "print('shape=',targets_df.shape)\n",
    "targets_df.columns"
   ]
  },
  {
   "cell_type": "code",
   "execution_count": 185,
   "metadata": {
    "ExecuteTime": {
     "end_time": "2019-10-21T10:15:15.797502Z",
     "start_time": "2019-10-21T10:15:15.794784Z"
    }
   },
   "outputs": [],
   "source": [
    "def get_student_data(studentID):\n",
    "    \"\"\"Gets all records for studentID from the map_df\n",
    "    -----\n",
    "    input: a string containing the studentID\n",
    "    returns: a pandas dataframe of all columns of the map_df for studentID\n",
    "    \"\"\"\n",
    "    df = map_df[map_df.StudentID==studentID]\n",
    "    return df"
   ]
  },
  {
   "cell_type": "markdown",
   "metadata": {},
   "source": [
    "A get_student_data usage example for a random studentID from targets_df:\n",
    "* StudentID 3099442 was helpful for development of the get_treatments function."
   ]
  },
  {
   "cell_type": "code",
   "execution_count": 247,
   "metadata": {
    "ExecuteTime": {
     "end_time": "2019-10-21T11:08:01.118395Z",
     "start_time": "2019-10-21T11:08:01.097128Z"
    }
   },
   "outputs": [
    {
     "data": {
      "text/html": [
       "<div>\n",
       "<style scoped>\n",
       "    .dataframe tbody tr th:only-of-type {\n",
       "        vertical-align: middle;\n",
       "    }\n",
       "\n",
       "    .dataframe tbody tr th {\n",
       "        vertical-align: top;\n",
       "    }\n",
       "\n",
       "    .dataframe thead th {\n",
       "        text-align: right;\n",
       "    }\n",
       "</style>\n",
       "<table border=\"1\" class=\"dataframe\">\n",
       "  <thead>\n",
       "    <tr style=\"text-align: right;\">\n",
       "      <th></th>\n",
       "      <th>StudentID</th>\n",
       "      <th>CurrentEnrollmentSchoolID</th>\n",
       "      <th>CurrentEnrollmentSchoolName</th>\n",
       "      <th>CurrentGrade</th>\n",
       "      <th>TestSchoolYear</th>\n",
       "      <th>TestSeason</th>\n",
       "      <th>TestSchoolID</th>\n",
       "      <th>TestSchoolName</th>\n",
       "      <th>TestGrade</th>\n",
       "      <th>SubjectArea</th>\n",
       "      <th>...</th>\n",
       "      <th>IEPStatus</th>\n",
       "      <th>Student504Status</th>\n",
       "      <th>GiftedStatus</th>\n",
       "      <th>PrimaryLanguage</th>\n",
       "      <th>HomeLanguage</th>\n",
       "      <th>LivingWith</th>\n",
       "      <th>USAEntryDate</th>\n",
       "      <th>BirthCountry</th>\n",
       "      <th>ProjectedGradYear</th>\n",
       "      <th>ExtractSchoolYear</th>\n",
       "    </tr>\n",
       "  </thead>\n",
       "  <tbody>\n",
       "    <tr>\n",
       "      <td>36521</td>\n",
       "      <td>3099442</td>\n",
       "      <td>211</td>\n",
       "      <td>Frantz Coe Elementary</td>\n",
       "      <td>1</td>\n",
       "      <td>2015-16</td>\n",
       "      <td>Spring</td>\n",
       "      <td>211</td>\n",
       "      <td>Frantz Coe Elementary</td>\n",
       "      <td>1</td>\n",
       "      <td>Reading</td>\n",
       "      <td>...</td>\n",
       "      <td>N</td>\n",
       "      <td>N</td>\n",
       "      <td>Not Eligible</td>\n",
       "      <td>Spanish</td>\n",
       "      <td>Spanish</td>\n",
       "      <td>Both Parents</td>\n",
       "      <td>NaT</td>\n",
       "      <td>USA</td>\n",
       "      <td>(n/a)</td>\n",
       "      <td>2015-16</td>\n",
       "    </tr>\n",
       "    <tr>\n",
       "      <td>91366</td>\n",
       "      <td>3099442</td>\n",
       "      <td>267</td>\n",
       "      <td>Roxhill Elementary</td>\n",
       "      <td>2</td>\n",
       "      <td>2016-17</td>\n",
       "      <td>Fall</td>\n",
       "      <td>211</td>\n",
       "      <td>Frantz Coe Elementary</td>\n",
       "      <td>2</td>\n",
       "      <td>Reading</td>\n",
       "      <td>...</td>\n",
       "      <td>N</td>\n",
       "      <td>N</td>\n",
       "      <td>Not Eligible</td>\n",
       "      <td>Spanish</td>\n",
       "      <td>Spanish</td>\n",
       "      <td>Both Parents</td>\n",
       "      <td>NaT</td>\n",
       "      <td>USA</td>\n",
       "      <td>(n/a)</td>\n",
       "      <td>2016-17</td>\n",
       "    </tr>\n",
       "    <tr>\n",
       "      <td>91368</td>\n",
       "      <td>3099442</td>\n",
       "      <td>267</td>\n",
       "      <td>Roxhill Elementary</td>\n",
       "      <td>2</td>\n",
       "      <td>2016-17</td>\n",
       "      <td>Spring</td>\n",
       "      <td>267</td>\n",
       "      <td>Roxhill Elementary</td>\n",
       "      <td>2</td>\n",
       "      <td>Reading</td>\n",
       "      <td>...</td>\n",
       "      <td>N</td>\n",
       "      <td>N</td>\n",
       "      <td>Not Eligible</td>\n",
       "      <td>Spanish</td>\n",
       "      <td>Spanish</td>\n",
       "      <td>Both Parents</td>\n",
       "      <td>NaT</td>\n",
       "      <td>USA</td>\n",
       "      <td>(n/a)</td>\n",
       "      <td>2016-17</td>\n",
       "    </tr>\n",
       "  </tbody>\n",
       "</table>\n",
       "<p>3 rows × 30 columns</p>\n",
       "</div>"
      ],
      "text/plain": [
       "       StudentID  CurrentEnrollmentSchoolID CurrentEnrollmentSchoolName  \\\n",
       "36521    3099442                        211       Frantz Coe Elementary   \n",
       "91366    3099442                        267          Roxhill Elementary   \n",
       "91368    3099442                        267          Roxhill Elementary   \n",
       "\n",
       "      CurrentGrade TestSchoolYear TestSeason  TestSchoolID  \\\n",
       "36521            1        2015-16     Spring           211   \n",
       "91366            2        2016-17       Fall           211   \n",
       "91368            2        2016-17     Spring           267   \n",
       "\n",
       "              TestSchoolName TestGrade SubjectArea  ... IEPStatus  \\\n",
       "36521  Frantz Coe Elementary         1     Reading  ...         N   \n",
       "91366  Frantz Coe Elementary         2     Reading  ...         N   \n",
       "91368     Roxhill Elementary         2     Reading  ...         N   \n",
       "\n",
       "       Student504Status  GiftedStatus  PrimaryLanguage  HomeLanguage  \\\n",
       "36521                 N  Not Eligible          Spanish       Spanish   \n",
       "91366                 N  Not Eligible          Spanish       Spanish   \n",
       "91368                 N  Not Eligible          Spanish       Spanish   \n",
       "\n",
       "         LivingWith USAEntryDate BirthCountry ProjectedGradYear  \\\n",
       "36521  Both Parents          NaT          USA             (n/a)   \n",
       "91366  Both Parents          NaT          USA             (n/a)   \n",
       "91368  Both Parents          NaT          USA             (n/a)   \n",
       "\n",
       "      ExtractSchoolYear  \n",
       "36521           2015-16  \n",
       "91366           2016-17  \n",
       "91368           2016-17  \n",
       "\n",
       "[3 rows x 30 columns]"
      ]
     },
     "execution_count": 247,
     "metadata": {},
     "output_type": "execute_result"
    }
   ],
   "source": [
    "example = get_student_data(targets_df.StudentID.sample().values[0])\n",
    "example"
   ]
  },
  {
   "cell_type": "code",
   "execution_count": 41,
   "metadata": {
    "ExecuteTime": {
     "end_time": "2019-10-21T08:14:38.347914Z",
     "start_time": "2019-10-21T08:14:38.343623Z"
    }
   },
   "outputs": [
    {
     "data": {
      "text/plain": [
       "'1'"
      ]
     },
     "execution_count": 41,
     "metadata": {},
     "output_type": "execute_result"
    }
   ],
   "source": [
    "example.iloc[0].TestGrade"
   ]
  },
  {
   "cell_type": "code",
   "execution_count": 42,
   "metadata": {
    "ExecuteTime": {
     "end_time": "2019-10-21T08:14:40.643157Z",
     "start_time": "2019-10-21T08:14:40.638251Z"
    },
    "scrolled": true
   },
   "outputs": [
    {
     "data": {
      "text/plain": [
       "[215, 251, 219, 221, 220, 233, 275, 267]"
      ]
     },
     "execution_count": 42,
     "metadata": {},
     "output_type": "execute_result"
    }
   ],
   "source": [
    "bookup_dct[example.iloc[0].TestSchoolYear,example.iloc[0].TestGrade]"
   ]
  },
  {
   "cell_type": "code",
   "execution_count": 270,
   "metadata": {
    "ExecuteTime": {
     "end_time": "2019-10-21T11:29:51.021493Z",
     "start_time": "2019-10-21T11:29:51.016092Z"
    },
    "scrolled": true
   },
   "outputs": [],
   "source": [
    "sum = example.groupby(['TestSchoolYear','TestSchoolID','TestSeason']).RITScore.mean()"
   ]
  },
  {
   "cell_type": "code",
   "execution_count": 271,
   "metadata": {
    "ExecuteTime": {
     "end_time": "2019-10-21T11:29:51.403817Z",
     "start_time": "2019-10-21T11:29:51.399093Z"
    },
    "scrolled": true
   },
   "outputs": [
    {
     "data": {
      "text/plain": [
       "TestSchoolYear  TestSchoolID  TestSeason\n",
       "2015-16         211           Spring        176\n",
       "2016-17         211           Fall          157\n",
       "                267           Spring        184\n",
       "Name: RITScore, dtype: int32"
      ]
     },
     "execution_count": 271,
     "metadata": {},
     "output_type": "execute_result"
    }
   ],
   "source": [
    "sum"
   ]
  },
  {
   "cell_type": "code",
   "execution_count": 272,
   "metadata": {
    "ExecuteTime": {
     "end_time": "2019-10-21T11:30:00.567118Z",
     "start_time": "2019-10-21T11:30:00.557413Z"
    },
    "scrolled": true
   },
   "outputs": [
    {
     "data": {
      "text/plain": [
       "FrozenList([[211, 267], ['2'], ['Fall', 'Spring']])"
      ]
     },
     "execution_count": 272,
     "metadata": {},
     "output_type": "execute_result"
    }
   ],
   "source": [
    "singleYear = example[example.TestSchoolYear=='2016-17']\n",
    "gb=singleYear.groupby(['TestSchoolID','TestGrade','TestSeason']).RITScore.mean()\n",
    "gb.index.levels"
   ]
  },
  {
   "cell_type": "code",
   "execution_count": 273,
   "metadata": {
    "ExecuteTime": {
     "end_time": "2019-10-21T11:30:03.103977Z",
     "start_time": "2019-10-21T11:30:03.099094Z"
    },
    "scrolled": true
   },
   "outputs": [
    {
     "data": {
      "text/plain": [
       "TestSchoolID  TestGrade  TestSeason\n",
       "211           2          Fall          157\n",
       "267           2          Spring        184\n",
       "Name: RITScore, dtype: int32"
      ]
     },
     "execution_count": 273,
     "metadata": {},
     "output_type": "execute_result"
    }
   ],
   "source": [
    "gb"
   ]
  },
  {
   "cell_type": "code",
   "execution_count": 274,
   "metadata": {
    "ExecuteTime": {
     "end_time": "2019-10-21T11:30:13.498699Z",
     "start_time": "2019-10-21T11:30:13.494294Z"
    }
   },
   "outputs": [
    {
     "data": {
      "text/plain": [
       "FrozenList([['2015-16', '2016-17'], [211, 267], ['Fall', 'Spring']])"
      ]
     },
     "execution_count": 274,
     "metadata": {},
     "output_type": "execute_result"
    }
   ],
   "source": [
    "sum.index.levels"
   ]
  },
  {
   "cell_type": "code",
   "execution_count": 275,
   "metadata": {
    "ExecuteTime": {
     "end_time": "2019-10-21T11:30:15.748006Z",
     "start_time": "2019-10-21T11:30:15.743957Z"
    },
    "scrolled": false
   },
   "outputs": [
    {
     "name": "stdout",
     "output_type": "stream",
     "text": [
      "(211, '2', 'Fall') 176\n",
      "(267, '2', 'Spring') 157\n"
     ]
    }
   ],
   "source": [
    "for i in range(0,len(gb)):\n",
    "    print(gb.index[i],sum[i])"
   ]
  },
  {
   "cell_type": "code",
   "execution_count": 146,
   "metadata": {
    "ExecuteTime": {
     "end_time": "2019-10-21T09:15:14.770930Z",
     "start_time": "2019-10-21T09:15:14.767033Z"
    }
   },
   "outputs": [
    {
     "data": {
      "text/plain": [
       "array(['2015-16', '2016-17'], dtype=object)"
      ]
     },
     "execution_count": 146,
     "metadata": {},
     "output_type": "execute_result"
    }
   ],
   "source": [
    "example.TestSchoolYear.unique()"
   ]
  },
  {
   "cell_type": "code",
   "execution_count": null,
   "metadata": {},
   "outputs": [],
   "source": []
  },
  {
   "cell_type": "code",
   "execution_count": 302,
   "metadata": {
    "ExecuteTime": {
     "end_time": "2019-10-21T12:18:03.822951Z",
     "start_time": "2019-10-21T12:18:03.808006Z"
    }
   },
   "outputs": [
    {
     "name": "stdout",
     "output_type": "stream",
     "text": [
      "[(2017, 267)] 1\n"
     ]
    }
   ],
   "source": [
    "Treatments = []\n",
    "for yr in example.TestSchoolYear.unique():\n",
    "    yr_data = example[example.TestSchoolYear==yr]\n",
    "    gb=yr_data.groupby(['TestSchoolID','TestGrade','TestSeason']).RITScore.mean()\n",
    "    last = 0\n",
    "    last_ind = 0\n",
    "    for i in range(0,len(gb)):\n",
    "        position = ['Fall','Winter','Spring'].index(gb.index[i][2])\n",
    "        if position > last:\n",
    "            last_ind = i\n",
    "            last = position\n",
    "    SchoolID = gb.index[last_ind][0]\n",
    "    TestGrade = gb.index[last_ind][1]\n",
    "    if SchoolID in bookup_dct[yr,TestGrade]:\n",
    "        Treatments.append((int(yr[:4])+1,SchoolID))\n",
    "#     print(yr,SchoolID,TestGrade)\n",
    "#     print('len',len(gb))\n",
    "#     print(yr,gb.index[i],sum[i])\n",
    "#     print(yr,gb.index[i][2])\n",
    "print(Treatments,len(Treatments))"
   ]
  },
  {
   "cell_type": "code",
   "execution_count": null,
   "metadata": {},
   "outputs": [],
   "source": []
  },
  {
   "cell_type": "code",
   "execution_count": null,
   "metadata": {},
   "outputs": [],
   "source": []
  },
  {
   "cell_type": "code",
   "execution_count": 200,
   "metadata": {
    "ExecuteTime": {
     "end_time": "2019-10-21T10:37:50.262692Z",
     "start_time": "2019-10-21T10:37:50.258113Z"
    }
   },
   "outputs": [],
   "source": [
    "def get_RITs(stu_data,school_year):\n",
    "    \"\"\"Gets the mean any available MAP RIT scores for each test season\n",
    "    (Fall, Winter, Spring) of the 2015-16 school year (1st Grade).\n",
    "    -----\n",
    "    Inputs: A dataframe containing all the students data from the map_df\n",
    "            and the school year in the form of '2015-16'\n",
    "    Returns: G1_Fall_RIT, G1_Winter_RIT, G1_Spring_RIT for the given year if available.\n",
    "    \"\"\"\n",
    "    G1_Fall_RIT, G1_Winter_RIT, G1_Spring_RIT = None, None, None\n",
    "    yr_data = stu_data[stu_data.TestSchoolYear==school_year]\n",
    "    RIT_by_season = yr_data.groupby(['TestSeason']).RITScore.mean()\n",
    "    for season in RIT_by_season.index:\n",
    "        if season=='Fall':\n",
    "            G1_Fall_RIT=RIT_by_season[season]\n",
    "        if season=='Spring':\n",
    "            G1_Spring_RIT=RIT_by_season[season]\n",
    "        if season=='Winter':\n",
    "            G1_Winter_RIT=RIT_by_season[season]\n",
    "    return G1_Fall_RIT, G1_Winter_RIT, G1_Spring_RIT"
   ]
  },
  {
   "cell_type": "code",
   "execution_count": 208,
   "metadata": {
    "ExecuteTime": {
     "end_time": "2019-10-21T10:39:37.519637Z",
     "start_time": "2019-10-21T10:39:37.512863Z"
    },
    "scrolled": true
   },
   "outputs": [
    {
     "data": {
      "text/plain": [
       "(158, 170, 175)"
      ]
     },
     "execution_count": 208,
     "metadata": {},
     "output_type": "execute_result"
    }
   ],
   "source": [
    "get_RITs(example,'2015-16')"
   ]
  },
  {
   "cell_type": "code",
   "execution_count": 199,
   "metadata": {
    "ExecuteTime": {
     "end_time": "2019-10-21T10:35:06.774601Z",
     "start_time": "2019-10-21T10:35:06.771122Z"
    }
   },
   "outputs": [],
   "source": [
    "def get_last_RIT(Fall_RIT,Winter_RIT,Spring_RIT):\n",
    "    \"\"\"Returns the RIT score from latest in the school year.\n",
    "    ---\n",
    "    input: RIT scores for Fall, Winter and Spring\n",
    "    returns: the season name and the score of the score from latest in the school year.\n",
    "    \"\"\"\n",
    "    if Spring_RIT is not None:\n",
    "        return 'Spring',Spring_RIT\n",
    "    elif Winter_RIT is not None:\n",
    "        return 'Winter',Winter_RIT\n",
    "    elif Fall_RIT is not None:\n",
    "        return 'Fall', Fall_RIT\n",
    "    return None, None"
   ]
  },
  {
   "cell_type": "code",
   "execution_count": 310,
   "metadata": {
    "ExecuteTime": {
     "end_time": "2019-10-21T12:32:22.795214Z",
     "start_time": "2019-10-21T12:32:22.789010Z"
    }
   },
   "outputs": [],
   "source": [
    "def get_treatments(stu_data):\n",
    "    \"\"\"Determines a list of the year and school students would have received \n",
    "    Book Up program treatments from Page Ahead.\n",
    "    -----\n",
    "    input: A dataframe containing all rows of map_df for a given student\n",
    "    returns: A list of tuples of the year and school ID a student should have\n",
    "             received Book Up program books in the summer.\n",
    "    \"\"\"\n",
    "    treatments = []\n",
    "    # For each year of the student's data...\n",
    "    for yr in stu_data.TestSchoolYear.unique():\n",
    "        yr_data = stu_data[stu_data.TestSchoolYear==yr]\n",
    "        # Get a collection of the schools they tested at...\n",
    "        gb=yr_data.groupby(['TestSchoolID','TestGrade','TestSeason']).RITScore.mean()\n",
    "        # Determine which testing record was the last in the year to estimate\n",
    "        # which school they were attending...\n",
    "        last = 0\n",
    "        last_ind = 0\n",
    "        for i in range(0,len(gb)):\n",
    "            position = ['Fall','Winter','Spring'].index(gb.index[i][2])\n",
    "            if position > last:\n",
    "                last_ind = i\n",
    "                last = position\n",
    "        SchoolID = gb.index[last_ind][0]\n",
    "        TestGrade = gb.index[last_ind][1]\n",
    "        # If they school they were attending was being served by the Book Up program\n",
    "        # of Page Ahead then record the year and school in the treatments list.\n",
    "        if SchoolID in bookup_dct[yr,TestGrade]:\n",
    "            treatments.append((int(yr[:4])+1,SchoolID))\n",
    "    return treatments"
   ]
  },
  {
   "cell_type": "code",
   "execution_count": 311,
   "metadata": {
    "ExecuteTime": {
     "end_time": "2019-10-21T12:32:23.892502Z",
     "start_time": "2019-10-21T12:32:23.879503Z"
    }
   },
   "outputs": [
    {
     "data": {
      "text/plain": [
       "[(2017, 267)]"
      ]
     },
     "execution_count": 311,
     "metadata": {},
     "output_type": "execute_result"
    }
   ],
   "source": [
    "treat=get_treatments(example)\n",
    "treat"
   ]
  },
  {
   "cell_type": "code",
   "execution_count": 307,
   "metadata": {
    "ExecuteTime": {
     "end_time": "2019-10-21T12:23:31.931428Z",
     "start_time": "2019-10-21T12:23:31.793547Z"
    }
   },
   "outputs": [],
   "source": [
    "X_df = pd.DataFrame(columns=['StudentID','G1_Fall_RIT','G1_Winter_RIT','G1_Spring_RIT',\\\n",
    "                             'Last_G1_RIT','Last_G1_RIT_Season','Treatments','nTreatments'])\n",
    "for studentID in targets_df.StudentID[:10]:\n",
    "    Stu_data = get_student_data(studentID)\n",
    "    G1_Fall_RIT, G1_Winter_RIT, G1_Spring_RIT = get_RITs(Stu_data,'2015-16')\n",
    "    Last_RIT_Season, Last_RIT = get_last_RIT(G1_Fall_RIT, G1_Winter_RIT, G1_Spring_RIT)\n",
    "    treatments = get_treatments(Stu_data)\n",
    "    X_df = X_df.append({'StudentID':studentID,\n",
    "                        'G1_Fall_RIT':G1_Fall_RIT,\n",
    "                        'G1_Winter_RIT':G1_Winter_RIT,\n",
    "                        'G1_Spring_RIT':G1_Spring_RIT,\n",
    "                        'Last_G1_RIT':Last_RIT,\n",
    "                        'Last_G1_RIT_Season':Last_RIT_Season,\n",
    "                        'Treatments':treatments,\n",
    "                        'nTreatments':len(treatments)\n",
    "                       },ignore_index=True)"
   ]
  },
  {
   "cell_type": "code",
   "execution_count": 308,
   "metadata": {
    "ExecuteTime": {
     "end_time": "2019-10-21T12:23:32.647848Z",
     "start_time": "2019-10-21T12:23:32.635589Z"
    }
   },
   "outputs": [
    {
     "data": {
      "text/html": [
       "<div>\n",
       "<style scoped>\n",
       "    .dataframe tbody tr th:only-of-type {\n",
       "        vertical-align: middle;\n",
       "    }\n",
       "\n",
       "    .dataframe tbody tr th {\n",
       "        vertical-align: top;\n",
       "    }\n",
       "\n",
       "    .dataframe thead th {\n",
       "        text-align: right;\n",
       "    }\n",
       "</style>\n",
       "<table border=\"1\" class=\"dataframe\">\n",
       "  <thead>\n",
       "    <tr style=\"text-align: right;\">\n",
       "      <th></th>\n",
       "      <th>StudentID</th>\n",
       "      <th>G1_Fall_RIT</th>\n",
       "      <th>G1_Winter_RIT</th>\n",
       "      <th>G1_Spring_RIT</th>\n",
       "      <th>Last_G1_RIT</th>\n",
       "      <th>Last_G1_RIT_Season</th>\n",
       "      <th>Treatments</th>\n",
       "      <th>nTreatments</th>\n",
       "    </tr>\n",
       "  </thead>\n",
       "  <tbody>\n",
       "    <tr>\n",
       "      <td>0</td>\n",
       "      <td>3967736</td>\n",
       "      <td>None</td>\n",
       "      <td>166</td>\n",
       "      <td>178</td>\n",
       "      <td>178</td>\n",
       "      <td>Spring</td>\n",
       "      <td>[]</td>\n",
       "      <td>0</td>\n",
       "    </tr>\n",
       "    <tr>\n",
       "      <td>1</td>\n",
       "      <td>3381735</td>\n",
       "      <td>None</td>\n",
       "      <td>162</td>\n",
       "      <td>173</td>\n",
       "      <td>173</td>\n",
       "      <td>Spring</td>\n",
       "      <td>[]</td>\n",
       "      <td>0</td>\n",
       "    </tr>\n",
       "    <tr>\n",
       "      <td>2</td>\n",
       "      <td>3567417</td>\n",
       "      <td>None</td>\n",
       "      <td>None</td>\n",
       "      <td>196</td>\n",
       "      <td>196</td>\n",
       "      <td>Spring</td>\n",
       "      <td>[]</td>\n",
       "      <td>0</td>\n",
       "    </tr>\n",
       "    <tr>\n",
       "      <td>3</td>\n",
       "      <td>3130417</td>\n",
       "      <td>None</td>\n",
       "      <td>None</td>\n",
       "      <td>211</td>\n",
       "      <td>211</td>\n",
       "      <td>Spring</td>\n",
       "      <td>[]</td>\n",
       "      <td>0</td>\n",
       "    </tr>\n",
       "    <tr>\n",
       "      <td>4</td>\n",
       "      <td>3670417</td>\n",
       "      <td>179</td>\n",
       "      <td>187</td>\n",
       "      <td>192</td>\n",
       "      <td>192</td>\n",
       "      <td>Spring</td>\n",
       "      <td>[]</td>\n",
       "      <td>0</td>\n",
       "    </tr>\n",
       "    <tr>\n",
       "      <td>5</td>\n",
       "      <td>3623417</td>\n",
       "      <td>None</td>\n",
       "      <td>None</td>\n",
       "      <td>None</td>\n",
       "      <td>None</td>\n",
       "      <td>None</td>\n",
       "      <td>[]</td>\n",
       "      <td>0</td>\n",
       "    </tr>\n",
       "    <tr>\n",
       "      <td>6</td>\n",
       "      <td>3560413</td>\n",
       "      <td>164</td>\n",
       "      <td>None</td>\n",
       "      <td>172</td>\n",
       "      <td>172</td>\n",
       "      <td>Spring</td>\n",
       "      <td>[]</td>\n",
       "      <td>0</td>\n",
       "    </tr>\n",
       "    <tr>\n",
       "      <td>7</td>\n",
       "      <td>3540413</td>\n",
       "      <td>163</td>\n",
       "      <td>None</td>\n",
       "      <td>189</td>\n",
       "      <td>189</td>\n",
       "      <td>Spring</td>\n",
       "      <td>[]</td>\n",
       "      <td>0</td>\n",
       "    </tr>\n",
       "    <tr>\n",
       "      <td>8</td>\n",
       "      <td>3163413</td>\n",
       "      <td>186</td>\n",
       "      <td>198</td>\n",
       "      <td>199</td>\n",
       "      <td>199</td>\n",
       "      <td>Spring</td>\n",
       "      <td>[]</td>\n",
       "      <td>0</td>\n",
       "    </tr>\n",
       "    <tr>\n",
       "      <td>9</td>\n",
       "      <td>3158413</td>\n",
       "      <td>None</td>\n",
       "      <td>None</td>\n",
       "      <td>187</td>\n",
       "      <td>187</td>\n",
       "      <td>Spring</td>\n",
       "      <td>[]</td>\n",
       "      <td>0</td>\n",
       "    </tr>\n",
       "  </tbody>\n",
       "</table>\n",
       "</div>"
      ],
      "text/plain": [
       "  StudentID G1_Fall_RIT G1_Winter_RIT G1_Spring_RIT Last_G1_RIT  \\\n",
       "0   3967736        None           166           178         178   \n",
       "1   3381735        None           162           173         173   \n",
       "2   3567417        None          None           196         196   \n",
       "3   3130417        None          None           211         211   \n",
       "4   3670417         179           187           192         192   \n",
       "5   3623417        None          None          None        None   \n",
       "6   3560413         164          None           172         172   \n",
       "7   3540413         163          None           189         189   \n",
       "8   3163413         186           198           199         199   \n",
       "9   3158413        None          None           187         187   \n",
       "\n",
       "  Last_G1_RIT_Season Treatments nTreatments  \n",
       "0             Spring         []           0  \n",
       "1             Spring         []           0  \n",
       "2             Spring         []           0  \n",
       "3             Spring         []           0  \n",
       "4             Spring         []           0  \n",
       "5               None         []           0  \n",
       "6             Spring         []           0  \n",
       "7             Spring         []           0  \n",
       "8             Spring         []           0  \n",
       "9             Spring         []           0  "
      ]
     },
     "execution_count": 308,
     "metadata": {},
     "output_type": "execute_result"
    }
   ],
   "source": [
    "X_df"
   ]
  },
  {
   "cell_type": "code",
   "execution_count": null,
   "metadata": {},
   "outputs": [],
   "source": []
  }
 ],
 "metadata": {
  "kernelspec": {
   "display_name": "Python [conda env:metis] *",
   "language": "python",
   "name": "conda-env-metis-py"
  },
  "language_info": {
   "codemirror_mode": {
    "name": "ipython",
    "version": 3
   },
   "file_extension": ".py",
   "mimetype": "text/x-python",
   "name": "python",
   "nbconvert_exporter": "python",
   "pygments_lexer": "ipython3",
   "version": "3.7.3"
  },
  "toc": {
   "base_numbering": 1,
   "nav_menu": {},
   "number_sections": true,
   "sideBar": true,
   "skip_h1_title": false,
   "title_cell": "Table of Contents",
   "title_sidebar": "Contents",
   "toc_cell": false,
   "toc_position": {},
   "toc_section_display": true,
   "toc_window_display": false
  }
 },
 "nbformat": 4,
 "nbformat_minor": 2
}
