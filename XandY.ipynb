{
 "cells": [
  {
   "cell_type": "code",
   "execution_count": 1,
   "metadata": {
    "ExecuteTime": {
     "end_time": "2019-10-23T04:13:52.900753Z",
     "start_time": "2019-10-23T04:13:51.683599Z"
    }
   },
   "outputs": [
    {
     "name": "stdout",
     "output_type": "stream",
     "text": [
      "Populating the interactive namespace from numpy and matplotlib\n"
     ]
    }
   ],
   "source": [
    "import pandas as pd\n",
    "from collections import defaultdict\n",
    "import pickle\n",
    "# see https://ipython.readthedocs.io/en/stable/interactive/magics.html\n",
    "%pylab inline\n",
    "# sets backend to render higher res images\n",
    "%config InlineBackend.figure_formats = ['retina']\n",
    "import seaborn as sns\n",
    "sns.set_style(\"whitegrid\")"
   ]
  },
  {
   "cell_type": "markdown",
   "metadata": {},
   "source": [
    "# Load the Page Ahead Book Up program information"
   ]
  },
  {
   "cell_type": "code",
   "execution_count": 2,
   "metadata": {
    "ExecuteTime": {
     "end_time": "2019-10-23T04:13:52.910214Z",
     "start_time": "2019-10-23T04:13:52.902759Z"
    }
   },
   "outputs": [
    {
     "data": {
      "text/plain": [
       "collections.defaultdict"
      ]
     },
     "execution_count": 2,
     "metadata": {},
     "output_type": "execute_result"
    }
   ],
   "source": [
    "with open('./data/interim/book_up_dict.pickle', 'rb') as handle:\n",
    "    bookup_dct = pickle.load(handle)\n",
    "type(bookup_dct)"
   ]
  },
  {
   "cell_type": "markdown",
   "metadata": {},
   "source": [
    "# Load the Map Assessment student information"
   ]
  },
  {
   "cell_type": "code",
   "execution_count": 3,
   "metadata": {
    "ExecuteTime": {
     "end_time": "2019-10-23T04:13:53.274897Z",
     "start_time": "2019-10-23T04:13:52.913546Z"
    },
    "scrolled": true
   },
   "outputs": [
    {
     "name": "stdout",
     "output_type": "stream",
     "text": [
      "shape= (82049, 30)\n"
     ]
    },
    {
     "data": {
      "text/plain": [
       "Index(['StudentID', 'CurrentEnrollmentSchoolID', 'CurrentEnrollmentSchoolName',\n",
       "       'CurrentGrade', 'TestSchoolYear', 'TestSeason', 'TestSchoolID',\n",
       "       'TestSchoolName', 'TestGrade', 'SubjectArea', 'TestName', 'RITScore',\n",
       "       'PercentileRank', 'MetGrowthLastFallToThisFall',\n",
       "       'MetGrowthLastSpringToThisSpring', 'MetGrowthLastFallToThisSpring',\n",
       "       'BirthDate', 'Gender', 'RacialEthnicGroup', 'ELLStatus', 'IEPStatus',\n",
       "       'Student504Status', 'GiftedStatus', 'PrimaryLanguage', 'HomeLanguage',\n",
       "       'LivingWith', 'USAEntryDate', 'BirthCountry', 'ProjectedGradYear',\n",
       "       'ExtractSchoolYear'],\n",
       "      dtype='object')"
      ]
     },
     "execution_count": 3,
     "metadata": {},
     "output_type": "execute_result"
    }
   ],
   "source": [
    "map_df = pd.read_pickle(\"./data/interim/map_df.pkl\")\n",
    "print('shape=',map_df.shape)\n",
    "map_df.columns"
   ]
  },
  {
   "cell_type": "markdown",
   "metadata": {
    "ExecuteTime": {
     "end_time": "2019-10-21T13:18:12.124234Z",
     "start_time": "2019-10-21T13:18:12.122186Z"
    }
   },
   "source": [
    "# Load the Smarter Balance Assessment Score Information"
   ]
  },
  {
   "cell_type": "code",
   "execution_count": 4,
   "metadata": {
    "ExecuteTime": {
     "end_time": "2019-10-23T04:13:53.291688Z",
     "start_time": "2019-10-23T04:13:53.278133Z"
    }
   },
   "outputs": [
    {
     "name": "stdout",
     "output_type": "stream",
     "text": [
      "shape= (4438, 30)\n"
     ]
    },
    {
     "data": {
      "text/plain": [
       "Index(['StudentID', 'CurrentEnrollmentSchoolID', 'CurrentEnrollmentSchoolName',\n",
       "       'CurrentGrade', 'TestSchoolYear', 'TestSeason', 'TestSchoolID',\n",
       "       'TestSchoolName', 'TestGrade', 'SubjectArea', 'TestName', 'AttemptCode',\n",
       "       'Attempt', 'Score', 'LevelCode', 'MetStandard', 'BirthDate', 'Gender',\n",
       "       'RacialEthnicGroup', 'ELLStatus', 'IEPStatus', 'Student504Status',\n",
       "       'GiftedStatus', 'PrimaryLanguage', 'HomeLanguage', 'LivingWith',\n",
       "       'USAEntryDate', 'BirthCountry', 'ProjectedGradYear',\n",
       "       'ExtractSchoolYear'],\n",
       "      dtype='object')"
      ]
     },
     "execution_count": 4,
     "metadata": {},
     "output_type": "execute_result"
    }
   ],
   "source": [
    "targets_df = pd.read_pickle(\"./data/interim/targets.pkl\")\n",
    "print('shape=',targets_df.shape)\n",
    "targets_df.columns"
   ]
  },
  {
   "cell_type": "markdown",
   "metadata": {},
   "source": [
    "# A function that returns all the data for a given student"
   ]
  },
  {
   "cell_type": "code",
   "execution_count": 5,
   "metadata": {
    "ExecuteTime": {
     "end_time": "2019-10-23T04:13:53.297033Z",
     "start_time": "2019-10-23T04:13:53.293877Z"
    }
   },
   "outputs": [],
   "source": [
    "def get_student_data(studentID):\n",
    "    \"\"\"Gets all records for studentID from the map_df\n",
    "    -----\n",
    "    input: a string containing the studentID\n",
    "    returns: a pandas dataframe of all columns of the map_df for studentID\n",
    "    \"\"\"\n",
    "    df = map_df[map_df.StudentID==studentID]\n",
    "    return df"
   ]
  },
  {
   "cell_type": "markdown",
   "metadata": {},
   "source": [
    "A get_student_data usage example for a random studentID from targets_df:\n",
    "* StudentID 3099442 was helpful for development of the get_treatments function."
   ]
  },
  {
   "cell_type": "code",
   "execution_count": 6,
   "metadata": {
    "ExecuteTime": {
     "end_time": "2019-10-23T04:13:53.325537Z",
     "start_time": "2019-10-23T04:13:53.298668Z"
    }
   },
   "outputs": [
    {
     "data": {
      "text/html": [
       "<div>\n",
       "<style scoped>\n",
       "    .dataframe tbody tr th:only-of-type {\n",
       "        vertical-align: middle;\n",
       "    }\n",
       "\n",
       "    .dataframe tbody tr th {\n",
       "        vertical-align: top;\n",
       "    }\n",
       "\n",
       "    .dataframe thead th {\n",
       "        text-align: right;\n",
       "    }\n",
       "</style>\n",
       "<table border=\"1\" class=\"dataframe\">\n",
       "  <thead>\n",
       "    <tr style=\"text-align: right;\">\n",
       "      <th></th>\n",
       "      <th>StudentID</th>\n",
       "      <th>CurrentEnrollmentSchoolID</th>\n",
       "      <th>CurrentEnrollmentSchoolName</th>\n",
       "      <th>CurrentGrade</th>\n",
       "      <th>TestSchoolYear</th>\n",
       "      <th>TestSeason</th>\n",
       "      <th>TestSchoolID</th>\n",
       "      <th>TestSchoolName</th>\n",
       "      <th>TestGrade</th>\n",
       "      <th>SubjectArea</th>\n",
       "      <th>...</th>\n",
       "      <th>IEPStatus</th>\n",
       "      <th>Student504Status</th>\n",
       "      <th>GiftedStatus</th>\n",
       "      <th>PrimaryLanguage</th>\n",
       "      <th>HomeLanguage</th>\n",
       "      <th>LivingWith</th>\n",
       "      <th>USAEntryDate</th>\n",
       "      <th>BirthCountry</th>\n",
       "      <th>ProjectedGradYear</th>\n",
       "      <th>ExtractSchoolYear</th>\n",
       "    </tr>\n",
       "  </thead>\n",
       "  <tbody>\n",
       "    <tr>\n",
       "      <td>36521</td>\n",
       "      <td>3099442</td>\n",
       "      <td>211</td>\n",
       "      <td>Frantz Coe Elementary</td>\n",
       "      <td>1</td>\n",
       "      <td>2015-16</td>\n",
       "      <td>Spring</td>\n",
       "      <td>211</td>\n",
       "      <td>Frantz Coe Elementary</td>\n",
       "      <td>1</td>\n",
       "      <td>Reading</td>\n",
       "      <td>...</td>\n",
       "      <td>N</td>\n",
       "      <td>N</td>\n",
       "      <td>Not Eligible</td>\n",
       "      <td>Spanish</td>\n",
       "      <td>Spanish</td>\n",
       "      <td>Both Parents</td>\n",
       "      <td>NaT</td>\n",
       "      <td>USA</td>\n",
       "      <td>(n/a)</td>\n",
       "      <td>2015-16</td>\n",
       "    </tr>\n",
       "    <tr>\n",
       "      <td>91366</td>\n",
       "      <td>3099442</td>\n",
       "      <td>267</td>\n",
       "      <td>Roxhill Elementary</td>\n",
       "      <td>2</td>\n",
       "      <td>2016-17</td>\n",
       "      <td>Fall</td>\n",
       "      <td>211</td>\n",
       "      <td>Frantz Coe Elementary</td>\n",
       "      <td>2</td>\n",
       "      <td>Reading</td>\n",
       "      <td>...</td>\n",
       "      <td>N</td>\n",
       "      <td>N</td>\n",
       "      <td>Not Eligible</td>\n",
       "      <td>Spanish</td>\n",
       "      <td>Spanish</td>\n",
       "      <td>Both Parents</td>\n",
       "      <td>NaT</td>\n",
       "      <td>USA</td>\n",
       "      <td>(n/a)</td>\n",
       "      <td>2016-17</td>\n",
       "    </tr>\n",
       "    <tr>\n",
       "      <td>91368</td>\n",
       "      <td>3099442</td>\n",
       "      <td>267</td>\n",
       "      <td>Roxhill Elementary</td>\n",
       "      <td>2</td>\n",
       "      <td>2016-17</td>\n",
       "      <td>Spring</td>\n",
       "      <td>267</td>\n",
       "      <td>Roxhill Elementary</td>\n",
       "      <td>2</td>\n",
       "      <td>Reading</td>\n",
       "      <td>...</td>\n",
       "      <td>N</td>\n",
       "      <td>N</td>\n",
       "      <td>Not Eligible</td>\n",
       "      <td>Spanish</td>\n",
       "      <td>Spanish</td>\n",
       "      <td>Both Parents</td>\n",
       "      <td>NaT</td>\n",
       "      <td>USA</td>\n",
       "      <td>(n/a)</td>\n",
       "      <td>2016-17</td>\n",
       "    </tr>\n",
       "  </tbody>\n",
       "</table>\n",
       "<p>3 rows × 30 columns</p>\n",
       "</div>"
      ],
      "text/plain": [
       "       StudentID  CurrentEnrollmentSchoolID CurrentEnrollmentSchoolName  \\\n",
       "36521    3099442                        211       Frantz Coe Elementary   \n",
       "91366    3099442                        267          Roxhill Elementary   \n",
       "91368    3099442                        267          Roxhill Elementary   \n",
       "\n",
       "      CurrentGrade TestSchoolYear TestSeason  TestSchoolID  \\\n",
       "36521            1        2015-16     Spring           211   \n",
       "91366            2        2016-17       Fall           211   \n",
       "91368            2        2016-17     Spring           267   \n",
       "\n",
       "              TestSchoolName TestGrade SubjectArea  ... IEPStatus  \\\n",
       "36521  Frantz Coe Elementary         1     Reading  ...         N   \n",
       "91366  Frantz Coe Elementary         2     Reading  ...         N   \n",
       "91368     Roxhill Elementary         2     Reading  ...         N   \n",
       "\n",
       "       Student504Status  GiftedStatus  PrimaryLanguage  HomeLanguage  \\\n",
       "36521                 N  Not Eligible          Spanish       Spanish   \n",
       "91366                 N  Not Eligible          Spanish       Spanish   \n",
       "91368                 N  Not Eligible          Spanish       Spanish   \n",
       "\n",
       "         LivingWith USAEntryDate BirthCountry ProjectedGradYear  \\\n",
       "36521  Both Parents          NaT          USA             (n/a)   \n",
       "91366  Both Parents          NaT          USA             (n/a)   \n",
       "91368  Both Parents          NaT          USA             (n/a)   \n",
       "\n",
       "      ExtractSchoolYear  \n",
       "36521           2015-16  \n",
       "91366           2016-17  \n",
       "91368           2016-17  \n",
       "\n",
       "[3 rows x 30 columns]"
      ]
     },
     "execution_count": 6,
     "metadata": {},
     "output_type": "execute_result"
    }
   ],
   "source": [
    "example = get_student_data(targets_df.StudentID.sample().values[0])\n",
    "example = get_student_data(3099442)\n",
    "example"
   ]
  },
  {
   "cell_type": "markdown",
   "metadata": {},
   "source": [
    "An Example usage of the bookup_dct to find schools Page Ahead was serving for a given school year and grade:"
   ]
  },
  {
   "cell_type": "code",
   "execution_count": 7,
   "metadata": {
    "ExecuteTime": {
     "end_time": "2019-10-23T04:13:53.333642Z",
     "start_time": "2019-10-23T04:13:53.327623Z"
    },
    "scrolled": true
   },
   "outputs": [
    {
     "data": {
      "text/plain": [
       "[215, 251, 219, 221, 220, 233, 275, 267]"
      ]
     },
     "execution_count": 7,
     "metadata": {},
     "output_type": "execute_result"
    }
   ],
   "source": [
    "bookup_dct[example.iloc[0].TestSchoolYear,example.iloc[0].TestGrade]"
   ]
  },
  {
   "cell_type": "markdown",
   "metadata": {},
   "source": [
    "Work to develop the get_treatments function:"
   ]
  },
  {
   "cell_type": "code",
   "execution_count": 8,
   "metadata": {
    "ExecuteTime": {
     "end_time": "2019-10-23T04:13:53.347659Z",
     "start_time": "2019-10-23T04:13:53.338880Z"
    },
    "scrolled": true
   },
   "outputs": [],
   "source": [
    "summary = example.groupby(['TestSchoolYear','TestSchoolID','TestSeason']).RITScore.mean()"
   ]
  },
  {
   "cell_type": "code",
   "execution_count": 9,
   "metadata": {
    "ExecuteTime": {
     "end_time": "2019-10-23T04:13:53.357079Z",
     "start_time": "2019-10-23T04:13:53.351650Z"
    },
    "scrolled": true
   },
   "outputs": [
    {
     "data": {
      "text/plain": [
       "TestSchoolYear  TestSchoolID  TestSeason\n",
       "2015-16         211           Spring        176\n",
       "2016-17         211           Fall          157\n",
       "                267           Spring        184\n",
       "Name: RITScore, dtype: int32"
      ]
     },
     "execution_count": 9,
     "metadata": {},
     "output_type": "execute_result"
    }
   ],
   "source": [
    "summary"
   ]
  },
  {
   "cell_type": "code",
   "execution_count": 10,
   "metadata": {
    "ExecuteTime": {
     "end_time": "2019-10-23T04:13:53.371765Z",
     "start_time": "2019-10-23T04:13:53.359422Z"
    },
    "scrolled": true
   },
   "outputs": [
    {
     "data": {
      "text/plain": [
       "FrozenList([[211, 267], ['2'], ['Fall', 'Spring']])"
      ]
     },
     "execution_count": 10,
     "metadata": {},
     "output_type": "execute_result"
    }
   ],
   "source": [
    "singleYear = example[example.TestSchoolYear=='2016-17']\n",
    "gb=singleYear.groupby(['TestSchoolID','TestGrade','TestSeason']).RITScore.mean()\n",
    "gb.index.levels"
   ]
  },
  {
   "cell_type": "code",
   "execution_count": 11,
   "metadata": {
    "ExecuteTime": {
     "end_time": "2019-10-23T04:13:53.380689Z",
     "start_time": "2019-10-23T04:13:53.373826Z"
    },
    "scrolled": true
   },
   "outputs": [
    {
     "data": {
      "text/plain": [
       "TestSchoolID  TestGrade  TestSeason\n",
       "211           2          Fall          157\n",
       "267           2          Spring        184\n",
       "Name: RITScore, dtype: int32"
      ]
     },
     "execution_count": 11,
     "metadata": {},
     "output_type": "execute_result"
    }
   ],
   "source": [
    "gb"
   ]
  },
  {
   "cell_type": "code",
   "execution_count": 12,
   "metadata": {
    "ExecuteTime": {
     "end_time": "2019-10-23T04:13:53.386838Z",
     "start_time": "2019-10-23T04:13:53.382443Z"
    }
   },
   "outputs": [
    {
     "data": {
      "text/plain": [
       "FrozenList([['2015-16', '2016-17'], [211, 267], ['Fall', 'Spring']])"
      ]
     },
     "execution_count": 12,
     "metadata": {},
     "output_type": "execute_result"
    }
   ],
   "source": [
    "summary.index.levels"
   ]
  },
  {
   "cell_type": "code",
   "execution_count": 13,
   "metadata": {
    "ExecuteTime": {
     "end_time": "2019-10-23T04:13:53.394577Z",
     "start_time": "2019-10-23T04:13:53.389241Z"
    },
    "scrolled": false
   },
   "outputs": [
    {
     "name": "stdout",
     "output_type": "stream",
     "text": [
      "(211, '2', 'Fall') 176\n",
      "(267, '2', 'Spring') 157\n"
     ]
    }
   ],
   "source": [
    "for i in range(0,len(gb)):\n",
    "    print(gb.index[i],summary[i])"
   ]
  },
  {
   "cell_type": "code",
   "execution_count": 14,
   "metadata": {
    "ExecuteTime": {
     "end_time": "2019-10-23T04:13:53.402269Z",
     "start_time": "2019-10-23T04:13:53.397183Z"
    }
   },
   "outputs": [
    {
     "data": {
      "text/plain": [
       "array(['2015-16', '2016-17'], dtype=object)"
      ]
     },
     "execution_count": 14,
     "metadata": {},
     "output_type": "execute_result"
    }
   ],
   "source": [
    "example.TestSchoolYear.unique()"
   ]
  },
  {
   "cell_type": "markdown",
   "metadata": {},
   "source": [
    "Development cell for the get treatments function:"
   ]
  },
  {
   "cell_type": "code",
   "execution_count": 15,
   "metadata": {
    "ExecuteTime": {
     "end_time": "2019-10-23T04:13:53.421906Z",
     "start_time": "2019-10-23T04:13:53.404623Z"
    }
   },
   "outputs": [
    {
     "name": "stdout",
     "output_type": "stream",
     "text": [
      "[(2017, 267)] 1\n"
     ]
    }
   ],
   "source": [
    "Treatments = []\n",
    "for yr in example.TestSchoolYear.unique():\n",
    "    yr_data = example[example.TestSchoolYear==yr]\n",
    "    gb=yr_data.groupby(['TestSchoolID','TestGrade','TestSeason']).RITScore.mean()\n",
    "    last = 0\n",
    "    last_ind = 0\n",
    "    for i in range(0,len(gb)):\n",
    "        position = ['Fall','Winter','Spring'].index(gb.index[i][2])\n",
    "        if position > last:\n",
    "            last_ind = i\n",
    "            last = position\n",
    "    SchoolID = gb.index[last_ind][0]\n",
    "    TestGrade = gb.index[last_ind][1]\n",
    "    if SchoolID in bookup_dct[yr,TestGrade]:\n",
    "        Treatments.append((int(yr[:4])+1,SchoolID))\n",
    "#     print(yr,SchoolID,TestGrade)\n",
    "#     print('len',len(gb))\n",
    "#     print(yr,gb.index[i],summary[i])\n",
    "#     print(yr,gb.index[i][2])\n",
    "print(Treatments,len(Treatments))"
   ]
  },
  {
   "cell_type": "markdown",
   "metadata": {},
   "source": [
    "# Functions used to build the independent variables"
   ]
  },
  {
   "cell_type": "code",
   "execution_count": 16,
   "metadata": {
    "ExecuteTime": {
     "end_time": "2019-10-23T04:13:53.430684Z",
     "start_time": "2019-10-23T04:13:53.424924Z"
    }
   },
   "outputs": [],
   "source": [
    "def get_RITs(stu_data,school_year):\n",
    "    \"\"\"Gets the mean any available MAP RIT scores for each test season\n",
    "    (Fall, Winter, Spring) of the 2015-16 school year (1st Grade).\n",
    "    -----\n",
    "    Inputs: A dataframe containing all the students data from the map_df\n",
    "            and the school year in the form of '2015-16'\n",
    "    Returns: G1_Fall_RIT, G1_Winter_RIT, G1_Spring_RIT for the given year if available.\n",
    "    \"\"\"\n",
    "    G1_Fall_RIT, G1_Winter_RIT, G1_Spring_RIT = None, None, None\n",
    "    yr_data = stu_data[stu_data.TestSchoolYear==school_year]\n",
    "    RIT_by_season = yr_data.groupby(['TestSeason']).RITScore.mean()\n",
    "    for season in RIT_by_season.index:\n",
    "        if season=='Fall':\n",
    "            G1_Fall_RIT=RIT_by_season[season]\n",
    "        if season=='Spring':\n",
    "            G1_Spring_RIT=RIT_by_season[season]\n",
    "        if season=='Winter':\n",
    "            G1_Winter_RIT=RIT_by_season[season]\n",
    "    return G1_Fall_RIT, G1_Winter_RIT, G1_Spring_RIT"
   ]
  },
  {
   "cell_type": "code",
   "execution_count": 17,
   "metadata": {
    "ExecuteTime": {
     "end_time": "2019-10-23T04:13:53.441019Z",
     "start_time": "2019-10-23T04:13:53.432588Z"
    },
    "scrolled": true
   },
   "outputs": [
    {
     "data": {
      "text/plain": [
       "(None, None, 176)"
      ]
     },
     "execution_count": 17,
     "metadata": {},
     "output_type": "execute_result"
    }
   ],
   "source": [
    "get_RITs(example,'2015-16')"
   ]
  },
  {
   "cell_type": "code",
   "execution_count": 18,
   "metadata": {
    "ExecuteTime": {
     "end_time": "2019-10-23T04:13:53.446547Z",
     "start_time": "2019-10-23T04:13:53.443142Z"
    }
   },
   "outputs": [],
   "source": [
    "def get_last_RIT(Fall_RIT,Winter_RIT,Spring_RIT):\n",
    "    \"\"\"Returns the RIT score from latest in the school year.\n",
    "    ---\n",
    "    input: RIT scores for Fall, Winter and Spring\n",
    "    returns: the season name and the score of the score from latest in the school year.\n",
    "    \"\"\"\n",
    "    if Spring_RIT is not None:\n",
    "        return 'Spring',Spring_RIT\n",
    "    elif Winter_RIT is not None:\n",
    "        return 'Winter',Winter_RIT\n",
    "    elif Fall_RIT is not None:\n",
    "        return 'Fall', Fall_RIT\n",
    "    return None, None"
   ]
  },
  {
   "cell_type": "code",
   "execution_count": 19,
   "metadata": {
    "ExecuteTime": {
     "end_time": "2019-10-23T04:13:53.454650Z",
     "start_time": "2019-10-23T04:13:53.448763Z"
    }
   },
   "outputs": [],
   "source": [
    "def get_treatments(stu_data):\n",
    "    \"\"\"Determines a list of the year and school students would have received \n",
    "    Book Up program treatments from Page Ahead.\n",
    "    -----\n",
    "    input: A dataframe containing all rows of map_df for a given student\n",
    "    returns: A list of tuples of the year and school ID a student should have\n",
    "             received Book Up program books in the summer.\n",
    "    \"\"\"\n",
    "    treatments = []\n",
    "    # For each year of the student's data...\n",
    "    for yr in stu_data.TestSchoolYear.unique():\n",
    "        yr_data = stu_data[stu_data.TestSchoolYear==yr]\n",
    "        # Get a collection of the schools they tested at...\n",
    "        gb=yr_data.groupby(['TestSchoolID','TestGrade','TestSeason']).RITScore.mean()\n",
    "        # Determine which testing record was the last in the school year to estimate\n",
    "        # which school they were attending...\n",
    "        last = 0\n",
    "        last_ind = 0\n",
    "        for i in range(0,len(gb)):\n",
    "            position = ['Fall','Winter','Spring'].index(gb.index[i][2])\n",
    "            if position > last:\n",
    "                last_ind = i\n",
    "                last = position\n",
    "        SchoolID = gb.index[last_ind][0]\n",
    "        TestGrade = gb.index[last_ind][1]\n",
    "        # If the school they were attending was being served by the Book Up program\n",
    "        # of Page Ahead then record the year and school in the treatments list.\n",
    "        if SchoolID in bookup_dct[yr,TestGrade]:\n",
    "            treatments.append((int(yr[:4])+1,SchoolID))\n",
    "    return treatments"
   ]
  },
  {
   "cell_type": "markdown",
   "metadata": {},
   "source": [
    "Example usage of the get_treatments function with the example student data:"
   ]
  },
  {
   "cell_type": "code",
   "execution_count": 20,
   "metadata": {
    "ExecuteTime": {
     "end_time": "2019-10-23T04:13:53.469236Z",
     "start_time": "2019-10-23T04:13:53.456404Z"
    }
   },
   "outputs": [
    {
     "data": {
      "text/plain": [
       "[(2017, 267)]"
      ]
     },
     "execution_count": 20,
     "metadata": {},
     "output_type": "execute_result"
    }
   ],
   "source": [
    "treat=get_treatments(example)\n",
    "treat"
   ]
  },
  {
   "cell_type": "markdown",
   "metadata": {},
   "source": [
    "# Building the X dataframe:"
   ]
  },
  {
   "cell_type": "code",
   "execution_count": 21,
   "metadata": {
    "ExecuteTime": {
     "end_time": "2019-10-23T04:14:50.310643Z",
     "start_time": "2019-10-23T04:13:53.471375Z"
    }
   },
   "outputs": [],
   "source": [
    "X_df = pd.DataFrame(columns=['StudentID','G1_Fall_RIT','G1_Winter_RIT','G1_Spring_RIT',\\\n",
    "                             'Last_G1_RIT','Last_G1_RIT_Season','Treatments','nTreatments'])\n",
    "for studentID in targets_df.StudentID:\n",
    "    Stu_data = get_student_data(studentID)\n",
    "    G1_Fall_RIT, G1_Winter_RIT, G1_Spring_RIT = get_RITs(Stu_data,'2015-16')\n",
    "    Last_RIT_Season, Last_RIT = get_last_RIT(G1_Fall_RIT, G1_Winter_RIT, G1_Spring_RIT)\n",
    "    treatments = get_treatments(Stu_data)\n",
    "    X_df = X_df.append({'StudentID':studentID,\n",
    "                        'G1_Fall_RIT':G1_Fall_RIT,\n",
    "                        'G1_Winter_RIT':G1_Winter_RIT,\n",
    "                        'G1_Spring_RIT':G1_Spring_RIT,\n",
    "                        'Last_G1_RIT':Last_RIT,\n",
    "                        'Last_G1_RIT_Season':Last_RIT_Season,\n",
    "                        'Treatments':treatments,\n",
    "                        'nTreatments':int(len(treatments))\n",
    "                       },ignore_index=True)"
   ]
  },
  {
   "cell_type": "code",
   "execution_count": 22,
   "metadata": {
    "ExecuteTime": {
     "end_time": "2019-10-23T04:14:50.323043Z",
     "start_time": "2019-10-23T04:14:50.312435Z"
    },
    "scrolled": false
   },
   "outputs": [
    {
     "name": "stdout",
     "output_type": "stream",
     "text": [
      "<class 'pandas.core.frame.DataFrame'>\n",
      "RangeIndex: 4438 entries, 0 to 4437\n",
      "Data columns (total 8 columns):\n",
      "StudentID             4438 non-null object\n",
      "G1_Fall_RIT           1619 non-null object\n",
      "G1_Winter_RIT         1254 non-null object\n",
      "G1_Spring_RIT         3571 non-null object\n",
      "Last_G1_RIT           3625 non-null object\n",
      "Last_G1_RIT_Season    3625 non-null object\n",
      "Treatments            4438 non-null object\n",
      "nTreatments           4438 non-null object\n",
      "dtypes: object(8)\n",
      "memory usage: 277.5+ KB\n"
     ]
    }
   ],
   "source": [
    "X_df.info()"
   ]
  },
  {
   "cell_type": "markdown",
   "metadata": {},
   "source": [
    "Note that nTreatments is an ojbect.  I'll coerce it to an integer."
   ]
  },
  {
   "cell_type": "code",
   "execution_count": 23,
   "metadata": {
    "ExecuteTime": {
     "end_time": "2019-10-23T04:14:50.334775Z",
     "start_time": "2019-10-23T04:14:50.331232Z"
    }
   },
   "outputs": [],
   "source": [
    "X_df.nTreatments = pd.to_numeric(X_df.nTreatments)"
   ]
  },
  {
   "cell_type": "code",
   "execution_count": 24,
   "metadata": {
    "ExecuteTime": {
     "end_time": "2019-10-23T04:14:50.345503Z",
     "start_time": "2019-10-23T04:14:50.338070Z"
    },
    "scrolled": false
   },
   "outputs": [
    {
     "name": "stdout",
     "output_type": "stream",
     "text": [
      "<class 'pandas.core.frame.DataFrame'>\n",
      "RangeIndex: 4438 entries, 0 to 4437\n",
      "Data columns (total 8 columns):\n",
      "StudentID             4438 non-null object\n",
      "G1_Fall_RIT           1619 non-null object\n",
      "G1_Winter_RIT         1254 non-null object\n",
      "G1_Spring_RIT         3571 non-null object\n",
      "Last_G1_RIT           3625 non-null object\n",
      "Last_G1_RIT_Season    3625 non-null object\n",
      "Treatments            4438 non-null object\n",
      "nTreatments           4438 non-null int64\n",
      "dtypes: int64(1), object(7)\n",
      "memory usage: 277.5+ KB\n"
     ]
    }
   ],
   "source": [
    "X_df.info()"
   ]
  },
  {
   "cell_type": "code",
   "execution_count": 25,
   "metadata": {
    "ExecuteTime": {
     "end_time": "2019-10-23T04:14:50.371944Z",
     "start_time": "2019-10-23T04:14:50.348294Z"
    }
   },
   "outputs": [
    {
     "data": {
      "text/html": [
       "<div>\n",
       "<style scoped>\n",
       "    .dataframe tbody tr th:only-of-type {\n",
       "        vertical-align: middle;\n",
       "    }\n",
       "\n",
       "    .dataframe tbody tr th {\n",
       "        vertical-align: top;\n",
       "    }\n",
       "\n",
       "    .dataframe thead th {\n",
       "        text-align: right;\n",
       "    }\n",
       "</style>\n",
       "<table border=\"1\" class=\"dataframe\">\n",
       "  <thead>\n",
       "    <tr style=\"text-align: right;\">\n",
       "      <th></th>\n",
       "      <th>StudentID</th>\n",
       "      <th>G1_Fall_RIT</th>\n",
       "      <th>G1_Winter_RIT</th>\n",
       "      <th>G1_Spring_RIT</th>\n",
       "      <th>Last_G1_RIT</th>\n",
       "      <th>Last_G1_RIT_Season</th>\n",
       "      <th>Treatments</th>\n",
       "      <th>nTreatments</th>\n",
       "    </tr>\n",
       "  </thead>\n",
       "  <tbody>\n",
       "    <tr>\n",
       "      <td>19</td>\n",
       "      <td>3617411</td>\n",
       "      <td>165</td>\n",
       "      <td>169</td>\n",
       "      <td>178</td>\n",
       "      <td>178</td>\n",
       "      <td>Spring</td>\n",
       "      <td>[(2016, 275), (2017, 275)]</td>\n",
       "      <td>2</td>\n",
       "    </tr>\n",
       "    <tr>\n",
       "      <td>31</td>\n",
       "      <td>3911457</td>\n",
       "      <td>None</td>\n",
       "      <td>168</td>\n",
       "      <td>181</td>\n",
       "      <td>181</td>\n",
       "      <td>Spring</td>\n",
       "      <td>[(2016, 220), (2017, 220)]</td>\n",
       "      <td>2</td>\n",
       "    </tr>\n",
       "    <tr>\n",
       "      <td>35</td>\n",
       "      <td>3781456</td>\n",
       "      <td>None</td>\n",
       "      <td>None</td>\n",
       "      <td>135</td>\n",
       "      <td>135</td>\n",
       "      <td>Spring</td>\n",
       "      <td>[(2016, 215), (2017, 215)]</td>\n",
       "      <td>2</td>\n",
       "    </tr>\n",
       "    <tr>\n",
       "      <td>36</td>\n",
       "      <td>3781489</td>\n",
       "      <td>None</td>\n",
       "      <td>None</td>\n",
       "      <td>None</td>\n",
       "      <td>None</td>\n",
       "      <td>None</td>\n",
       "      <td>[(2017, 219)]</td>\n",
       "      <td>1</td>\n",
       "    </tr>\n",
       "    <tr>\n",
       "      <td>59</td>\n",
       "      <td>3163414</td>\n",
       "      <td>163</td>\n",
       "      <td>None</td>\n",
       "      <td>173</td>\n",
       "      <td>173</td>\n",
       "      <td>Spring</td>\n",
       "      <td>[(2016, 215), (2017, 215)]</td>\n",
       "      <td>2</td>\n",
       "    </tr>\n",
       "    <tr>\n",
       "      <td>...</td>\n",
       "      <td>...</td>\n",
       "      <td>...</td>\n",
       "      <td>...</td>\n",
       "      <td>...</td>\n",
       "      <td>...</td>\n",
       "      <td>...</td>\n",
       "      <td>...</td>\n",
       "      <td>...</td>\n",
       "    </tr>\n",
       "    <tr>\n",
       "      <td>4400</td>\n",
       "      <td>3632746</td>\n",
       "      <td>None</td>\n",
       "      <td>None</td>\n",
       "      <td>176</td>\n",
       "      <td>176</td>\n",
       "      <td>Spring</td>\n",
       "      <td>[(2016, 221)]</td>\n",
       "      <td>1</td>\n",
       "    </tr>\n",
       "    <tr>\n",
       "      <td>4402</td>\n",
       "      <td>3112415</td>\n",
       "      <td>None</td>\n",
       "      <td>164</td>\n",
       "      <td>169</td>\n",
       "      <td>169</td>\n",
       "      <td>Spring</td>\n",
       "      <td>[(2016, 251), (2017, 251)]</td>\n",
       "      <td>2</td>\n",
       "    </tr>\n",
       "    <tr>\n",
       "      <td>4414</td>\n",
       "      <td>3173411</td>\n",
       "      <td>140</td>\n",
       "      <td>153</td>\n",
       "      <td>166</td>\n",
       "      <td>166</td>\n",
       "      <td>Spring</td>\n",
       "      <td>[(2016, 275), (2017, 275)]</td>\n",
       "      <td>2</td>\n",
       "    </tr>\n",
       "    <tr>\n",
       "      <td>4419</td>\n",
       "      <td>3602411</td>\n",
       "      <td>None</td>\n",
       "      <td>177</td>\n",
       "      <td>166</td>\n",
       "      <td>166</td>\n",
       "      <td>Spring</td>\n",
       "      <td>[(2016, 251), (2017, 251)]</td>\n",
       "      <td>2</td>\n",
       "    </tr>\n",
       "    <tr>\n",
       "      <td>4427</td>\n",
       "      <td>3697418</td>\n",
       "      <td>None</td>\n",
       "      <td>145</td>\n",
       "      <td>157</td>\n",
       "      <td>157</td>\n",
       "      <td>Spring</td>\n",
       "      <td>[(2016, 251), (2017, 251)]</td>\n",
       "      <td>2</td>\n",
       "    </tr>\n",
       "  </tbody>\n",
       "</table>\n",
       "<p>442 rows × 8 columns</p>\n",
       "</div>"
      ],
      "text/plain": [
       "     StudentID G1_Fall_RIT G1_Winter_RIT G1_Spring_RIT Last_G1_RIT  \\\n",
       "19     3617411         165           169           178         178   \n",
       "31     3911457        None           168           181         181   \n",
       "35     3781456        None          None           135         135   \n",
       "36     3781489        None          None          None        None   \n",
       "59     3163414         163          None           173         173   \n",
       "...        ...         ...           ...           ...         ...   \n",
       "4400   3632746        None          None           176         176   \n",
       "4402   3112415        None           164           169         169   \n",
       "4414   3173411         140           153           166         166   \n",
       "4419   3602411        None           177           166         166   \n",
       "4427   3697418        None           145           157         157   \n",
       "\n",
       "     Last_G1_RIT_Season                  Treatments  nTreatments  \n",
       "19               Spring  [(2016, 275), (2017, 275)]            2  \n",
       "31               Spring  [(2016, 220), (2017, 220)]            2  \n",
       "35               Spring  [(2016, 215), (2017, 215)]            2  \n",
       "36                 None               [(2017, 219)]            1  \n",
       "59               Spring  [(2016, 215), (2017, 215)]            2  \n",
       "...                 ...                         ...          ...  \n",
       "4400             Spring               [(2016, 221)]            1  \n",
       "4402             Spring  [(2016, 251), (2017, 251)]            2  \n",
       "4414             Spring  [(2016, 275), (2017, 275)]            2  \n",
       "4419             Spring  [(2016, 251), (2017, 251)]            2  \n",
       "4427             Spring  [(2016, 251), (2017, 251)]            2  \n",
       "\n",
       "[442 rows x 8 columns]"
      ]
     },
     "execution_count": 25,
     "metadata": {},
     "output_type": "execute_result"
    }
   ],
   "source": [
    "X_df[X_df.nTreatments>0]"
   ]
  },
  {
   "cell_type": "code",
   "execution_count": 26,
   "metadata": {
    "ExecuteTime": {
     "end_time": "2019-10-23T04:14:50.383256Z",
     "start_time": "2019-10-23T04:14:50.374136Z"
    },
    "scrolled": true
   },
   "outputs": [
    {
     "name": "stdout",
     "output_type": "stream",
     "text": [
      "4438\n"
     ]
    },
    {
     "data": {
      "text/plain": [
       "0    3996\n",
       "2     337\n",
       "1     105\n",
       "Name: nTreatments, dtype: int64"
      ]
     },
     "execution_count": 26,
     "metadata": {},
     "output_type": "execute_result"
    }
   ],
   "source": [
    "print(len(X_df))\n",
    "X_df.nTreatments.value_counts()"
   ]
  },
  {
   "cell_type": "markdown",
   "metadata": {
    "ExecuteTime": {
     "end_time": "2019-10-21T13:10:44.737643Z",
     "start_time": "2019-10-21T13:10:44.735385Z"
    }
   },
   "source": [
    "# Building the Targets Dataframe"
   ]
  },
  {
   "cell_type": "code",
   "execution_count": 27,
   "metadata": {
    "ExecuteTime": {
     "end_time": "2019-10-23T04:14:50.401617Z",
     "start_time": "2019-10-23T04:14:50.386616Z"
    }
   },
   "outputs": [
    {
     "name": "stdout",
     "output_type": "stream",
     "text": [
      "4438\n"
     ]
    },
    {
     "data": {
      "text/plain": [
       "Y    2879\n",
       "N    1486\n",
       "Name: MetStandard, dtype: int64"
      ]
     },
     "execution_count": 27,
     "metadata": {},
     "output_type": "execute_result"
    }
   ],
   "source": [
    "Y_df = targets_df[targets_df.StudentID.isin(X_df.StudentID)][['StudentID',\n",
    "                                                              'Score',\n",
    "                                                              'LevelCode',\n",
    "                                                              'MetStandard']]\n",
    "print(len(Y_df))\n",
    "Y_df.MetStandard.value_counts()"
   ]
  },
  {
   "cell_type": "markdown",
   "metadata": {},
   "source": [
    "# Verify X and Y data are in the same StudentID order"
   ]
  },
  {
   "cell_type": "code",
   "execution_count": 28,
   "metadata": {
    "ExecuteTime": {
     "end_time": "2019-10-23T04:14:50.415285Z",
     "start_time": "2019-10-23T04:14:50.404805Z"
    },
    "scrolled": false
   },
   "outputs": [
    {
     "data": {
      "text/html": [
       "<div>\n",
       "<style scoped>\n",
       "    .dataframe tbody tr th:only-of-type {\n",
       "        vertical-align: middle;\n",
       "    }\n",
       "\n",
       "    .dataframe tbody tr th {\n",
       "        vertical-align: top;\n",
       "    }\n",
       "\n",
       "    .dataframe thead th {\n",
       "        text-align: right;\n",
       "    }\n",
       "</style>\n",
       "<table border=\"1\" class=\"dataframe\">\n",
       "  <thead>\n",
       "    <tr style=\"text-align: right;\">\n",
       "      <th></th>\n",
       "      <th>StudentID</th>\n",
       "      <th>Score</th>\n",
       "      <th>LevelCode</th>\n",
       "      <th>MetStandard</th>\n",
       "    </tr>\n",
       "  </thead>\n",
       "  <tbody>\n",
       "  </tbody>\n",
       "</table>\n",
       "</div>"
      ],
      "text/plain": [
       "Empty DataFrame\n",
       "Columns: [StudentID, Score, LevelCode, MetStandard]\n",
       "Index: []"
      ]
     },
     "execution_count": 28,
     "metadata": {},
     "output_type": "execute_result"
    }
   ],
   "source": [
    "Y_df[list(X_df.StudentID != Y_df.reset_index().StudentID)]"
   ]
  },
  {
   "cell_type": "code",
   "execution_count": 29,
   "metadata": {
    "ExecuteTime": {
     "end_time": "2019-10-23T04:14:50.428628Z",
     "start_time": "2019-10-23T04:14:50.417214Z"
    }
   },
   "outputs": [
    {
     "data": {
      "text/html": [
       "<div>\n",
       "<style scoped>\n",
       "    .dataframe tbody tr th:only-of-type {\n",
       "        vertical-align: middle;\n",
       "    }\n",
       "\n",
       "    .dataframe tbody tr th {\n",
       "        vertical-align: top;\n",
       "    }\n",
       "\n",
       "    .dataframe thead th {\n",
       "        text-align: right;\n",
       "    }\n",
       "</style>\n",
       "<table border=\"1\" class=\"dataframe\">\n",
       "  <thead>\n",
       "    <tr style=\"text-align: right;\">\n",
       "      <th></th>\n",
       "      <th>StudentID</th>\n",
       "      <th>Score</th>\n",
       "      <th>LevelCode</th>\n",
       "      <th>MetStandard</th>\n",
       "    </tr>\n",
       "  </thead>\n",
       "  <tbody>\n",
       "    <tr>\n",
       "      <td>32</td>\n",
       "      <td>3967736</td>\n",
       "      <td>2370.0</td>\n",
       "      <td>L2</td>\n",
       "      <td>N</td>\n",
       "    </tr>\n",
       "    <tr>\n",
       "      <td>35</td>\n",
       "      <td>3381735</td>\n",
       "      <td>2418.0</td>\n",
       "      <td>L2</td>\n",
       "      <td>N</td>\n",
       "    </tr>\n",
       "    <tr>\n",
       "      <td>57</td>\n",
       "      <td>3567417</td>\n",
       "      <td>2509.0</td>\n",
       "      <td>L4</td>\n",
       "      <td>Y</td>\n",
       "    </tr>\n",
       "    <tr>\n",
       "      <td>64</td>\n",
       "      <td>3130417</td>\n",
       "      <td>2525.0</td>\n",
       "      <td>L4</td>\n",
       "      <td>Y</td>\n",
       "    </tr>\n",
       "    <tr>\n",
       "      <td>66</td>\n",
       "      <td>3670417</td>\n",
       "      <td>2546.0</td>\n",
       "      <td>L4</td>\n",
       "      <td>Y</td>\n",
       "    </tr>\n",
       "    <tr>\n",
       "      <td>...</td>\n",
       "      <td>...</td>\n",
       "      <td>...</td>\n",
       "      <td>...</td>\n",
       "      <td>...</td>\n",
       "    </tr>\n",
       "    <tr>\n",
       "      <td>65279</td>\n",
       "      <td>3388733</td>\n",
       "      <td>2444.0</td>\n",
       "      <td>L3</td>\n",
       "      <td>Y</td>\n",
       "    </tr>\n",
       "    <tr>\n",
       "      <td>65380</td>\n",
       "      <td>3842783</td>\n",
       "      <td>2448.0</td>\n",
       "      <td>L3</td>\n",
       "      <td>Y</td>\n",
       "    </tr>\n",
       "    <tr>\n",
       "      <td>65420</td>\n",
       "      <td>3973780</td>\n",
       "      <td>2452.0</td>\n",
       "      <td>L3</td>\n",
       "      <td>Y</td>\n",
       "    </tr>\n",
       "    <tr>\n",
       "      <td>44699</td>\n",
       "      <td>3641452</td>\n",
       "      <td>2596.0</td>\n",
       "      <td>L4</td>\n",
       "      <td>Y</td>\n",
       "    </tr>\n",
       "    <tr>\n",
       "      <td>61022</td>\n",
       "      <td>3311443</td>\n",
       "      <td>2388.0</td>\n",
       "      <td>L1</td>\n",
       "      <td>N</td>\n",
       "    </tr>\n",
       "  </tbody>\n",
       "</table>\n",
       "<p>4438 rows × 4 columns</p>\n",
       "</div>"
      ],
      "text/plain": [
       "       StudentID   Score LevelCode MetStandard\n",
       "32       3967736  2370.0        L2           N\n",
       "35       3381735  2418.0        L2           N\n",
       "57       3567417  2509.0        L4           Y\n",
       "64       3130417  2525.0        L4           Y\n",
       "66       3670417  2546.0        L4           Y\n",
       "...          ...     ...       ...         ...\n",
       "65279    3388733  2444.0        L3           Y\n",
       "65380    3842783  2448.0        L3           Y\n",
       "65420    3973780  2452.0        L3           Y\n",
       "44699    3641452  2596.0        L4           Y\n",
       "61022    3311443  2388.0        L1           N\n",
       "\n",
       "[4438 rows x 4 columns]"
      ]
     },
     "execution_count": 29,
     "metadata": {},
     "output_type": "execute_result"
    }
   ],
   "source": [
    "Y_df"
   ]
  },
  {
   "cell_type": "markdown",
   "metadata": {
    "ExecuteTime": {
     "end_time": "2019-10-21T21:05:48.123397Z",
     "start_time": "2019-10-21T21:05:48.121307Z"
    }
   },
   "source": [
    "# MVP modeling"
   ]
  },
  {
   "cell_type": "code",
   "execution_count": 30,
   "metadata": {
    "ExecuteTime": {
     "end_time": "2019-10-23T04:14:50.917570Z",
     "start_time": "2019-10-23T04:14:50.431263Z"
    }
   },
   "outputs": [],
   "source": [
    "from sklearn.linear_model import LogisticRegression\n",
    "from sklearn.model_selection import train_test_split\n",
    "from sklearn.metrics import f1_score\n",
    "import numpy as np"
   ]
  },
  {
   "cell_type": "code",
   "execution_count": 31,
   "metadata": {
    "ExecuteTime": {
     "end_time": "2019-10-23T04:14:50.925595Z",
     "start_time": "2019-10-23T04:14:50.919267Z"
    }
   },
   "outputs": [],
   "source": [
    "X = X_df[['StudentID','Last_G1_RIT','nTreatments']].copy()\n",
    "Y = Y_df[['Score','LevelCode','MetStandard']].copy()"
   ]
  },
  {
   "cell_type": "markdown",
   "metadata": {},
   "source": [
    "Remove all nan's."
   ]
  },
  {
   "cell_type": "code",
   "execution_count": 32,
   "metadata": {
    "ExecuteTime": {
     "end_time": "2019-10-23T04:14:50.934709Z",
     "start_time": "2019-10-23T04:14:50.927340Z"
    }
   },
   "outputs": [
    {
     "data": {
      "text/plain": [
       "StudentID      813\n",
       "Last_G1_RIT      0\n",
       "nTreatments    813\n",
       "dtype: int64"
      ]
     },
     "execution_count": 32,
     "metadata": {},
     "output_type": "execute_result"
    }
   ],
   "source": [
    "X[X.isnull().any(axis=1)].count()"
   ]
  },
  {
   "cell_type": "markdown",
   "metadata": {},
   "source": [
    "Need to delete the same rows in both X and Y."
   ]
  },
  {
   "cell_type": "code",
   "execution_count": 33,
   "metadata": {
    "ExecuteTime": {
     "end_time": "2019-10-23T04:14:50.950860Z",
     "start_time": "2019-10-23T04:14:50.936280Z"
    }
   },
   "outputs": [
    {
     "data": {
      "text/html": [
       "<div>\n",
       "<style scoped>\n",
       "    .dataframe tbody tr th:only-of-type {\n",
       "        vertical-align: middle;\n",
       "    }\n",
       "\n",
       "    .dataframe tbody tr th {\n",
       "        vertical-align: top;\n",
       "    }\n",
       "\n",
       "    .dataframe thead th {\n",
       "        text-align: right;\n",
       "    }\n",
       "</style>\n",
       "<table border=\"1\" class=\"dataframe\">\n",
       "  <thead>\n",
       "    <tr style=\"text-align: right;\">\n",
       "      <th></th>\n",
       "      <th>Last_G1_RIT</th>\n",
       "      <th>nTreatments</th>\n",
       "      <th>Score</th>\n",
       "      <th>LevelCode</th>\n",
       "      <th>MetStandard</th>\n",
       "    </tr>\n",
       "    <tr>\n",
       "      <th>StudentID</th>\n",
       "      <th></th>\n",
       "      <th></th>\n",
       "      <th></th>\n",
       "      <th></th>\n",
       "      <th></th>\n",
       "    </tr>\n",
       "  </thead>\n",
       "  <tbody>\n",
       "  </tbody>\n",
       "</table>\n",
       "</div>"
      ],
      "text/plain": [
       "Empty DataFrame\n",
       "Columns: [Last_G1_RIT, nTreatments, Score, LevelCode, MetStandard]\n",
       "Index: []"
      ]
     },
     "execution_count": 33,
     "metadata": {},
     "output_type": "execute_result"
    }
   ],
   "source": [
    "df = pd.concat([X, Y.reset_index(drop=True)], axis=1)\n",
    "df.set_index('StudentID',inplace=True)\n",
    "df['Last_G1_RIT'].replace({None:np.nan},inplace=True)\n",
    "df.dropna(inplace=True)\n",
    "df[df.isnull().any(axis=1)]"
   ]
  },
  {
   "cell_type": "code",
   "execution_count": 34,
   "metadata": {
    "ExecuteTime": {
     "end_time": "2019-10-23T04:14:50.966205Z",
     "start_time": "2019-10-23T04:14:50.952643Z"
    }
   },
   "outputs": [
    {
     "data": {
      "text/html": [
       "<div>\n",
       "<style scoped>\n",
       "    .dataframe tbody tr th:only-of-type {\n",
       "        vertical-align: middle;\n",
       "    }\n",
       "\n",
       "    .dataframe tbody tr th {\n",
       "        vertical-align: top;\n",
       "    }\n",
       "\n",
       "    .dataframe thead th {\n",
       "        text-align: right;\n",
       "    }\n",
       "</style>\n",
       "<table border=\"1\" class=\"dataframe\">\n",
       "  <thead>\n",
       "    <tr style=\"text-align: right;\">\n",
       "      <th></th>\n",
       "      <th>Last_G1_RIT</th>\n",
       "      <th>nTreatments</th>\n",
       "      <th>Score</th>\n",
       "      <th>LevelCode</th>\n",
       "      <th>MetStandard</th>\n",
       "    </tr>\n",
       "    <tr>\n",
       "      <th>StudentID</th>\n",
       "      <th></th>\n",
       "      <th></th>\n",
       "      <th></th>\n",
       "      <th></th>\n",
       "      <th></th>\n",
       "    </tr>\n",
       "  </thead>\n",
       "  <tbody>\n",
       "    <tr>\n",
       "      <td>3967736</td>\n",
       "      <td>178.0</td>\n",
       "      <td>0</td>\n",
       "      <td>2370.0</td>\n",
       "      <td>L2</td>\n",
       "      <td>N</td>\n",
       "    </tr>\n",
       "    <tr>\n",
       "      <td>3381735</td>\n",
       "      <td>173.0</td>\n",
       "      <td>0</td>\n",
       "      <td>2418.0</td>\n",
       "      <td>L2</td>\n",
       "      <td>N</td>\n",
       "    </tr>\n",
       "    <tr>\n",
       "      <td>3567417</td>\n",
       "      <td>196.0</td>\n",
       "      <td>0</td>\n",
       "      <td>2509.0</td>\n",
       "      <td>L4</td>\n",
       "      <td>Y</td>\n",
       "    </tr>\n",
       "    <tr>\n",
       "      <td>3130417</td>\n",
       "      <td>211.0</td>\n",
       "      <td>0</td>\n",
       "      <td>2525.0</td>\n",
       "      <td>L4</td>\n",
       "      <td>Y</td>\n",
       "    </tr>\n",
       "    <tr>\n",
       "      <td>3670417</td>\n",
       "      <td>192.0</td>\n",
       "      <td>0</td>\n",
       "      <td>2546.0</td>\n",
       "      <td>L4</td>\n",
       "      <td>Y</td>\n",
       "    </tr>\n",
       "    <tr>\n",
       "      <td>...</td>\n",
       "      <td>...</td>\n",
       "      <td>...</td>\n",
       "      <td>...</td>\n",
       "      <td>...</td>\n",
       "      <td>...</td>\n",
       "    </tr>\n",
       "    <tr>\n",
       "      <td>3388733</td>\n",
       "      <td>169.0</td>\n",
       "      <td>0</td>\n",
       "      <td>2444.0</td>\n",
       "      <td>L3</td>\n",
       "      <td>Y</td>\n",
       "    </tr>\n",
       "    <tr>\n",
       "      <td>3842783</td>\n",
       "      <td>169.0</td>\n",
       "      <td>0</td>\n",
       "      <td>2448.0</td>\n",
       "      <td>L3</td>\n",
       "      <td>Y</td>\n",
       "    </tr>\n",
       "    <tr>\n",
       "      <td>3973780</td>\n",
       "      <td>174.0</td>\n",
       "      <td>0</td>\n",
       "      <td>2452.0</td>\n",
       "      <td>L3</td>\n",
       "      <td>Y</td>\n",
       "    </tr>\n",
       "    <tr>\n",
       "      <td>3641452</td>\n",
       "      <td>204.0</td>\n",
       "      <td>0</td>\n",
       "      <td>2596.0</td>\n",
       "      <td>L4</td>\n",
       "      <td>Y</td>\n",
       "    </tr>\n",
       "    <tr>\n",
       "      <td>3311443</td>\n",
       "      <td>197.0</td>\n",
       "      <td>0</td>\n",
       "      <td>2388.0</td>\n",
       "      <td>L1</td>\n",
       "      <td>N</td>\n",
       "    </tr>\n",
       "  </tbody>\n",
       "</table>\n",
       "<p>3552 rows × 5 columns</p>\n",
       "</div>"
      ],
      "text/plain": [
       "           Last_G1_RIT  nTreatments   Score LevelCode MetStandard\n",
       "StudentID                                                        \n",
       "3967736          178.0            0  2370.0        L2           N\n",
       "3381735          173.0            0  2418.0        L2           N\n",
       "3567417          196.0            0  2509.0        L4           Y\n",
       "3130417          211.0            0  2525.0        L4           Y\n",
       "3670417          192.0            0  2546.0        L4           Y\n",
       "...                ...          ...     ...       ...         ...\n",
       "3388733          169.0            0  2444.0        L3           Y\n",
       "3842783          169.0            0  2448.0        L3           Y\n",
       "3973780          174.0            0  2452.0        L3           Y\n",
       "3641452          204.0            0  2596.0        L4           Y\n",
       "3311443          197.0            0  2388.0        L1           N\n",
       "\n",
       "[3552 rows x 5 columns]"
      ]
     },
     "execution_count": 34,
     "metadata": {},
     "output_type": "execute_result"
    }
   ],
   "source": [
    "df"
   ]
  },
  {
   "cell_type": "code",
   "execution_count": 35,
   "metadata": {
    "ExecuteTime": {
     "end_time": "2019-10-23T04:14:50.973210Z",
     "start_time": "2019-10-23T04:14:50.968434Z"
    },
    "scrolled": true
   },
   "outputs": [],
   "source": [
    "X = df[['Last_G1_RIT','nTreatments']]\n",
    "Y = df[['MetStandard']]"
   ]
  },
  {
   "cell_type": "code",
   "execution_count": 36,
   "metadata": {
    "ExecuteTime": {
     "end_time": "2019-10-23T04:14:50.983757Z",
     "start_time": "2019-10-23T04:14:50.975921Z"
    },
    "scrolled": true
   },
   "outputs": [
    {
     "data": {
      "text/plain": [
       "Y    2442\n",
       "N    1110\n",
       "Name: MetStandard, dtype: int64"
      ]
     },
     "execution_count": 36,
     "metadata": {},
     "output_type": "execute_result"
    }
   ],
   "source": [
    "Y.MetStandard.value_counts()"
   ]
  },
  {
   "cell_type": "code",
   "execution_count": 37,
   "metadata": {
    "ExecuteTime": {
     "end_time": "2019-10-23T04:14:50.991057Z",
     "start_time": "2019-10-23T04:14:50.985919Z"
    }
   },
   "outputs": [
    {
     "data": {
      "text/plain": [
       "0    3169\n",
       "2     329\n",
       "1      54\n",
       "Name: nTreatments, dtype: int64"
      ]
     },
     "execution_count": 37,
     "metadata": {},
     "output_type": "execute_result"
    }
   ],
   "source": [
    "X.nTreatments.value_counts()"
   ]
  },
  {
   "cell_type": "code",
   "execution_count": 38,
   "metadata": {
    "ExecuteTime": {
     "end_time": "2019-10-23T04:14:51.000437Z",
     "start_time": "2019-10-23T04:14:50.992981Z"
    },
    "scrolled": false
   },
   "outputs": [
    {
     "name": "stdout",
     "output_type": "stream",
     "text": [
      "<class 'pandas.core.frame.DataFrame'>\n",
      "Int64Index: 3552 entries, 3967736 to 3311443\n",
      "Data columns (total 2 columns):\n",
      "Last_G1_RIT    3552 non-null float64\n",
      "nTreatments    3552 non-null int64\n",
      "dtypes: float64(1), int64(1)\n",
      "memory usage: 83.2 KB\n"
     ]
    }
   ],
   "source": [
    "X.info()"
   ]
  },
  {
   "cell_type": "code",
   "execution_count": 39,
   "metadata": {
    "ExecuteTime": {
     "end_time": "2019-10-23T04:14:51.010565Z",
     "start_time": "2019-10-23T04:14:51.003231Z"
    }
   },
   "outputs": [],
   "source": [
    "X_tr, X_te, y_tr, y_te = train_test_split(X, Y, test_size=0.33, random_state=42)"
   ]
  },
  {
   "cell_type": "code",
   "execution_count": 40,
   "metadata": {
    "ExecuteTime": {
     "end_time": "2019-10-23T04:14:51.043316Z",
     "start_time": "2019-10-23T04:14:51.012261Z"
    },
    "scrolled": true
   },
   "outputs": [
    {
     "data": {
      "text/plain": [
       "0.8710462287104623"
      ]
     },
     "execution_count": 40,
     "metadata": {},
     "output_type": "execute_result"
    }
   ],
   "source": [
    "lr = LogisticRegression(solver='lbfgs')\n",
    "lr.fit(X_tr, y_tr.MetStandard.ravel())\n",
    "f1_score(lr.predict(X_te), y_te.MetStandard.ravel(),pos_label='Y')"
   ]
  },
  {
   "cell_type": "code",
   "execution_count": 41,
   "metadata": {
    "ExecuteTime": {
     "end_time": "2019-10-23T04:14:51.050719Z",
     "start_time": "2019-10-23T04:14:51.045592Z"
    }
   },
   "outputs": [
    {
     "name": "stdout",
     "output_type": "stream",
     "text": [
      "[[ 0.12482869 -0.39727777]]\n",
      "[-21.53487145]\n"
     ]
    }
   ],
   "source": [
    "print(lr.coef_)\n",
    "print(lr.intercept_)"
   ]
  },
  {
   "cell_type": "code",
   "execution_count": 42,
   "metadata": {
    "ExecuteTime": {
     "end_time": "2019-10-23T04:14:51.059056Z",
     "start_time": "2019-10-23T04:14:51.053230Z"
    },
    "scrolled": true
   },
   "outputs": [
    {
     "name": "stdout",
     "output_type": "stream",
     "text": [
      "Treatments=0 3169\n",
      "Treatments>0 383\n"
     ]
    }
   ],
   "source": [
    "print('Treatments=0',len(df[df.nTreatments==0]))\n",
    "print('Treatments>0',len(df[df.nTreatments>0]))"
   ]
  },
  {
   "cell_type": "code",
   "execution_count": 43,
   "metadata": {
    "ExecuteTime": {
     "end_time": "2019-10-23T04:14:51.511582Z",
     "start_time": "2019-10-23T04:14:51.061047Z"
    }
   },
   "outputs": [
    {
     "data": {
      "text/plain": [
       "(2000, 2754.666694260485)"
      ]
     },
     "execution_count": 43,
     "metadata": {},
     "output_type": "execute_result"
    },
    {
     "data": {
      "image/png": "[encoded data removed]",
      "text/plain": [
       "<Figure size 432x288 with 1 Axes>"
      ]
     },
     "metadata": {
      "image/png": {
       "height": 261,
       "width": 391
      },
      "needs_background": "light"
     },
     "output_type": "display_data"
    }
   ],
   "source": [
    "pal = dict(enumerate(sns.color_palette(\"colorblind\", 3)))\n",
    "sns.scatterplot('Last_G1_RIT', 'Score', data=df[df.nTreatments>0], hue='nTreatments',\n",
    "           palette=pal, alpha=.2, edgecolor=None)\n",
    "plt.ylim(bottom=2000)"
   ]
  },
  {
   "cell_type": "code",
   "execution_count": 44,
   "metadata": {
    "ExecuteTime": {
     "end_time": "2019-10-23T04:14:52.181537Z",
     "start_time": "2019-10-23T04:14:51.513937Z"
    }
   },
   "outputs": [
    {
     "data": {
      "text/plain": [
       "(2000, 2818.7166942604854)"
      ]
     },
     "execution_count": 44,
     "metadata": {},
     "output_type": "execute_result"
    },
    {
     "data": {
      "image/png": "[encoded data removed]",
      "text/plain": [
       "<Figure size 432x288 with 1 Axes>"
      ]
     },
     "metadata": {
      "image/png": {
       "height": 261,
       "width": 391
      },
      "needs_background": "light"
     },
     "output_type": "display_data"
    }
   ],
   "source": [
    "pal = dict(enumerate(sns.color_palette(\"colorblind\", 2)))\n",
    "pal2={'Y':pal[0],'N':pal[1]}\n",
    "sns.scatterplot('Last_G1_RIT', 'Score', data=df, hue='MetStandard',\n",
    "           palette=pal2, alpha=.2, edgecolor=None)\n",
    "plt.ylim(bottom=2000)"
   ]
  },
  {
   "cell_type": "code",
   "execution_count": 45,
   "metadata": {
    "ExecuteTime": {
     "end_time": "2019-10-23T04:14:52.206836Z",
     "start_time": "2019-10-23T04:14:52.183362Z"
    }
   },
   "outputs": [
    {
     "data": {
      "text/plain": [
       "0.8085561497326204"
      ]
     },
     "execution_count": 45,
     "metadata": {},
     "output_type": "execute_result"
    }
   ],
   "source": [
    "X = df[['nTreatments']]\n",
    "Y = df[['MetStandard']]\n",
    "X_tr, X_te, y_tr, y_te = train_test_split(X, Y, test_size=0.33, random_state=42)\n",
    "lr = LogisticRegression(solver='lbfgs')\n",
    "lr.fit(X_tr, y_tr.MetStandard.ravel())\n",
    "f1_score(lr.predict(X_te), y_te.MetStandard.ravel(),pos_label='Y')"
   ]
  },
  {
   "cell_type": "code",
   "execution_count": 46,
   "metadata": {
    "ExecuteTime": {
     "end_time": "2019-10-23T04:14:52.211622Z",
     "start_time": "2019-10-23T04:14:52.208384Z"
    }
   },
   "outputs": [
    {
     "name": "stdout",
     "output_type": "stream",
     "text": [
      "[[-0.72849735]]\n",
      "[0.98266921]\n"
     ]
    }
   ],
   "source": [
    "print(lr.coef_)\n",
    "print(lr.intercept_)"
   ]
  },
  {
   "cell_type": "code",
   "execution_count": 47,
   "metadata": {
    "ExecuteTime": {
     "end_time": "2019-10-23T04:14:52.244079Z",
     "start_time": "2019-10-23T04:14:52.213442Z"
    }
   },
   "outputs": [
    {
     "data": {
      "text/plain": [
       "0.875"
      ]
     },
     "execution_count": 47,
     "metadata": {},
     "output_type": "execute_result"
    }
   ],
   "source": [
    "X = df[['Last_G1_RIT']]\n",
    "Y = df[['MetStandard']]\n",
    "X_tr, X_te, y_tr, y_te = train_test_split(X, Y, test_size=0.33, random_state=42)\n",
    "lr = LogisticRegression(solver='lbfgs')\n",
    "lr.fit(X_tr, y_tr.MetStandard.ravel())\n",
    "f1_score(lr.predict(X_te), y_te.MetStandard.ravel(),pos_label='Y')"
   ]
  },
  {
   "cell_type": "code",
   "execution_count": 48,
   "metadata": {
    "ExecuteTime": {
     "end_time": "2019-10-23T04:14:52.250435Z",
     "start_time": "2019-10-23T04:14:52.245805Z"
    }
   },
   "outputs": [
    {
     "name": "stdout",
     "output_type": "stream",
     "text": [
      "[[0.12749652]]\n",
      "[-22.1087737]\n"
     ]
    }
   ],
   "source": [
    "print(lr.coef_)\n",
    "print(lr.intercept_)"
   ]
  },
  {
   "cell_type": "code",
   "execution_count": 49,
   "metadata": {
    "ExecuteTime": {
     "end_time": "2019-10-23T04:14:52.258137Z",
     "start_time": "2019-10-23T04:14:52.252268Z"
    }
   },
   "outputs": [
    {
     "data": {
      "text/plain": [
       "Y    2879\n",
       "N    1486\n",
       "Name: MetStandard, dtype: int64"
      ]
     },
     "execution_count": 49,
     "metadata": {},
     "output_type": "execute_result"
    }
   ],
   "source": [
    "Y_df.MetStandard.value_counts()"
   ]
  },
  {
   "cell_type": "code",
   "execution_count": 50,
   "metadata": {
    "ExecuteTime": {
     "end_time": "2019-10-23T04:14:52.275177Z",
     "start_time": "2019-10-23T04:14:52.260640Z"
    }
   },
   "outputs": [
    {
     "data": {
      "text/html": [
       "<div>\n",
       "<style scoped>\n",
       "    .dataframe tbody tr th:only-of-type {\n",
       "        vertical-align: middle;\n",
       "    }\n",
       "\n",
       "    .dataframe tbody tr th {\n",
       "        vertical-align: top;\n",
       "    }\n",
       "\n",
       "    .dataframe thead th {\n",
       "        text-align: right;\n",
       "    }\n",
       "</style>\n",
       "<table border=\"1\" class=\"dataframe\">\n",
       "  <thead>\n",
       "    <tr style=\"text-align: right;\">\n",
       "      <th></th>\n",
       "      <th>Last_G1_RIT</th>\n",
       "      <th>nTreatments</th>\n",
       "      <th>Score</th>\n",
       "      <th>LevelCode</th>\n",
       "      <th>MetStandard</th>\n",
       "    </tr>\n",
       "    <tr>\n",
       "      <th>StudentID</th>\n",
       "      <th></th>\n",
       "      <th></th>\n",
       "      <th></th>\n",
       "      <th></th>\n",
       "      <th></th>\n",
       "    </tr>\n",
       "  </thead>\n",
       "  <tbody>\n",
       "    <tr>\n",
       "      <td>3967736</td>\n",
       "      <td>178.0</td>\n",
       "      <td>0</td>\n",
       "      <td>2370.0</td>\n",
       "      <td>L2</td>\n",
       "      <td>N</td>\n",
       "    </tr>\n",
       "    <tr>\n",
       "      <td>3381735</td>\n",
       "      <td>173.0</td>\n",
       "      <td>0</td>\n",
       "      <td>2418.0</td>\n",
       "      <td>L2</td>\n",
       "      <td>N</td>\n",
       "    </tr>\n",
       "    <tr>\n",
       "      <td>3567417</td>\n",
       "      <td>196.0</td>\n",
       "      <td>0</td>\n",
       "      <td>2509.0</td>\n",
       "      <td>L4</td>\n",
       "      <td>Y</td>\n",
       "    </tr>\n",
       "    <tr>\n",
       "      <td>3130417</td>\n",
       "      <td>211.0</td>\n",
       "      <td>0</td>\n",
       "      <td>2525.0</td>\n",
       "      <td>L4</td>\n",
       "      <td>Y</td>\n",
       "    </tr>\n",
       "    <tr>\n",
       "      <td>3670417</td>\n",
       "      <td>192.0</td>\n",
       "      <td>0</td>\n",
       "      <td>2546.0</td>\n",
       "      <td>L4</td>\n",
       "      <td>Y</td>\n",
       "    </tr>\n",
       "    <tr>\n",
       "      <td>...</td>\n",
       "      <td>...</td>\n",
       "      <td>...</td>\n",
       "      <td>...</td>\n",
       "      <td>...</td>\n",
       "      <td>...</td>\n",
       "    </tr>\n",
       "    <tr>\n",
       "      <td>3388733</td>\n",
       "      <td>169.0</td>\n",
       "      <td>0</td>\n",
       "      <td>2444.0</td>\n",
       "      <td>L3</td>\n",
       "      <td>Y</td>\n",
       "    </tr>\n",
       "    <tr>\n",
       "      <td>3842783</td>\n",
       "      <td>169.0</td>\n",
       "      <td>0</td>\n",
       "      <td>2448.0</td>\n",
       "      <td>L3</td>\n",
       "      <td>Y</td>\n",
       "    </tr>\n",
       "    <tr>\n",
       "      <td>3973780</td>\n",
       "      <td>174.0</td>\n",
       "      <td>0</td>\n",
       "      <td>2452.0</td>\n",
       "      <td>L3</td>\n",
       "      <td>Y</td>\n",
       "    </tr>\n",
       "    <tr>\n",
       "      <td>3641452</td>\n",
       "      <td>204.0</td>\n",
       "      <td>0</td>\n",
       "      <td>2596.0</td>\n",
       "      <td>L4</td>\n",
       "      <td>Y</td>\n",
       "    </tr>\n",
       "    <tr>\n",
       "      <td>3311443</td>\n",
       "      <td>197.0</td>\n",
       "      <td>0</td>\n",
       "      <td>2388.0</td>\n",
       "      <td>L1</td>\n",
       "      <td>N</td>\n",
       "    </tr>\n",
       "  </tbody>\n",
       "</table>\n",
       "<p>3552 rows × 5 columns</p>\n",
       "</div>"
      ],
      "text/plain": [
       "           Last_G1_RIT  nTreatments   Score LevelCode MetStandard\n",
       "StudentID                                                        \n",
       "3967736          178.0            0  2370.0        L2           N\n",
       "3381735          173.0            0  2418.0        L2           N\n",
       "3567417          196.0            0  2509.0        L4           Y\n",
       "3130417          211.0            0  2525.0        L4           Y\n",
       "3670417          192.0            0  2546.0        L4           Y\n",
       "...                ...          ...     ...       ...         ...\n",
       "3388733          169.0            0  2444.0        L3           Y\n",
       "3842783          169.0            0  2448.0        L3           Y\n",
       "3973780          174.0            0  2452.0        L3           Y\n",
       "3641452          204.0            0  2596.0        L4           Y\n",
       "3311443          197.0            0  2388.0        L1           N\n",
       "\n",
       "[3552 rows x 5 columns]"
      ]
     },
     "execution_count": 50,
     "metadata": {},
     "output_type": "execute_result"
    }
   ],
   "source": [
    "df"
   ]
  },
  {
   "cell_type": "code",
   "execution_count": 69,
   "metadata": {
    "ExecuteTime": {
     "end_time": "2019-10-23T04:25:53.614934Z",
     "start_time": "2019-10-23T04:25:53.590468Z"
    }
   },
   "outputs": [
    {
     "data": {
      "text/html": [
       "<div>\n",
       "<style scoped>\n",
       "    .dataframe tbody tr th:only-of-type {\n",
       "        vertical-align: middle;\n",
       "    }\n",
       "\n",
       "    .dataframe tbody tr th {\n",
       "        vertical-align: top;\n",
       "    }\n",
       "\n",
       "    .dataframe thead th {\n",
       "        text-align: right;\n",
       "    }\n",
       "</style>\n",
       "<table border=\"1\" class=\"dataframe\">\n",
       "  <thead>\n",
       "    <tr style=\"text-align: right;\">\n",
       "      <th></th>\n",
       "      <th>StudentID</th>\n",
       "      <th>CurrentEnrollmentSchoolID</th>\n",
       "      <th>CurrentEnrollmentSchoolName</th>\n",
       "      <th>CurrentGrade</th>\n",
       "      <th>TestSchoolYear</th>\n",
       "      <th>TestSeason</th>\n",
       "      <th>TestSchoolID</th>\n",
       "      <th>TestSchoolName</th>\n",
       "      <th>TestGrade</th>\n",
       "      <th>SubjectArea</th>\n",
       "      <th>TestName</th>\n",
       "      <th>AttemptCode</th>\n",
       "      <th>Attempt</th>\n",
       "      <th>Score</th>\n",
       "      <th>LevelCode</th>\n",
       "      <th>MetStandard</th>\n",
       "    </tr>\n",
       "  </thead>\n",
       "  <tbody>\n",
       "    <tr>\n",
       "      <td>474</td>\n",
       "      <td>3019447</td>\n",
       "      <td>245</td>\n",
       "      <td>Lowell Elementary</td>\n",
       "      <td>4</td>\n",
       "      <td>2017-18</td>\n",
       "      <td>Spring</td>\n",
       "      <td>245</td>\n",
       "      <td>Lowell Elementary</td>\n",
       "      <td>3</td>\n",
       "      <td>Reading/ELA</td>\n",
       "      <td>Access to Instruction &amp; Measurement</td>\n",
       "      <td>TS</td>\n",
       "      <td>Tested</td>\n",
       "      <td>116.0</td>\n",
       "      <td>L2</td>\n",
       "      <td>N</td>\n",
       "    </tr>\n",
       "    <tr>\n",
       "      <td>4756</td>\n",
       "      <td>6848596</td>\n",
       "      <td>229</td>\n",
       "      <td>Green Lake Elementary</td>\n",
       "      <td>4</td>\n",
       "      <td>2017-18</td>\n",
       "      <td>Spring</td>\n",
       "      <td>277</td>\n",
       "      <td>View Ridge Elementary</td>\n",
       "      <td>3</td>\n",
       "      <td>Reading/ELA</td>\n",
       "      <td>Access to Instruction &amp; Measurement</td>\n",
       "      <td>TS</td>\n",
       "      <td>Tested</td>\n",
       "      <td>135.0</td>\n",
       "      <td>L3</td>\n",
       "      <td>Y</td>\n",
       "    </tr>\n",
       "    <tr>\n",
       "      <td>5851</td>\n",
       "      <td>3968480</td>\n",
       "      <td>930</td>\n",
       "      <td>Pathfinder K-8 School</td>\n",
       "      <td>4</td>\n",
       "      <td>2017-18</td>\n",
       "      <td>Spring</td>\n",
       "      <td>930</td>\n",
       "      <td>Pathfinder K-8 School</td>\n",
       "      <td>3</td>\n",
       "      <td>Reading/ELA</td>\n",
       "      <td>Access to Instruction &amp; Measurement</td>\n",
       "      <td>TS</td>\n",
       "      <td>Tested</td>\n",
       "      <td>176.0</td>\n",
       "      <td>L4</td>\n",
       "      <td>Y</td>\n",
       "    </tr>\n",
       "    <tr>\n",
       "      <td>7105</td>\n",
       "      <td>3881712</td>\n",
       "      <td>930</td>\n",
       "      <td>Pathfinder K-8 School</td>\n",
       "      <td>4</td>\n",
       "      <td>2017-18</td>\n",
       "      <td>Spring</td>\n",
       "      <td>930</td>\n",
       "      <td>Pathfinder K-8 School</td>\n",
       "      <td>3</td>\n",
       "      <td>Reading/ELA</td>\n",
       "      <td>Access to Instruction &amp; Measurement</td>\n",
       "      <td>TS</td>\n",
       "      <td>Tested</td>\n",
       "      <td>180.0</td>\n",
       "      <td>L4</td>\n",
       "      <td>Y</td>\n",
       "    </tr>\n",
       "    <tr>\n",
       "      <td>10288</td>\n",
       "      <td>3148447</td>\n",
       "      <td>212</td>\n",
       "      <td>Thurgood Marshall Elementary</td>\n",
       "      <td>4</td>\n",
       "      <td>2017-18</td>\n",
       "      <td>Spring</td>\n",
       "      <td>212</td>\n",
       "      <td>Thurgood Marshall Elementary</td>\n",
       "      <td>3</td>\n",
       "      <td>Reading/ELA</td>\n",
       "      <td>Access to Instruction &amp; Measurement</td>\n",
       "      <td>TS</td>\n",
       "      <td>Tested</td>\n",
       "      <td>173.0</td>\n",
       "      <td>L4</td>\n",
       "      <td>Y</td>\n",
       "    </tr>\n",
       "    <tr>\n",
       "      <td>12835</td>\n",
       "      <td>3462714</td>\n",
       "      <td>236</td>\n",
       "      <td>West Seattle Elementary</td>\n",
       "      <td>4</td>\n",
       "      <td>2017-18</td>\n",
       "      <td>Spring</td>\n",
       "      <td>267</td>\n",
       "      <td>Roxhill Elementary</td>\n",
       "      <td>3</td>\n",
       "      <td>Reading/ELA</td>\n",
       "      <td>Access to Instruction &amp; Measurement</td>\n",
       "      <td>TS</td>\n",
       "      <td>Tested</td>\n",
       "      <td>135.0</td>\n",
       "      <td>L3</td>\n",
       "      <td>Y</td>\n",
       "    </tr>\n",
       "    <tr>\n",
       "      <td>13827</td>\n",
       "      <td>3565756</td>\n",
       "      <td>212</td>\n",
       "      <td>Thurgood Marshall Elementary</td>\n",
       "      <td>4</td>\n",
       "      <td>2017-18</td>\n",
       "      <td>Spring</td>\n",
       "      <td>212</td>\n",
       "      <td>Thurgood Marshall Elementary</td>\n",
       "      <td>3</td>\n",
       "      <td>Reading/ELA</td>\n",
       "      <td>Access to Instruction &amp; Measurement</td>\n",
       "      <td>TS</td>\n",
       "      <td>Tested</td>\n",
       "      <td>115.0</td>\n",
       "      <td>L2</td>\n",
       "      <td>N</td>\n",
       "    </tr>\n",
       "    <tr>\n",
       "      <td>20011</td>\n",
       "      <td>3518483</td>\n",
       "      <td>220</td>\n",
       "      <td>Graham Hill Elementary</td>\n",
       "      <td>4</td>\n",
       "      <td>2017-18</td>\n",
       "      <td>Spring</td>\n",
       "      <td>220</td>\n",
       "      <td>Graham Hill Elementary</td>\n",
       "      <td>3</td>\n",
       "      <td>Reading/ELA</td>\n",
       "      <td>Access to Instruction &amp; Measurement</td>\n",
       "      <td>TS</td>\n",
       "      <td>Tested</td>\n",
       "      <td>138.0</td>\n",
       "      <td>L3</td>\n",
       "      <td>Y</td>\n",
       "    </tr>\n",
       "    <tr>\n",
       "      <td>21412</td>\n",
       "      <td>6618723</td>\n",
       "      <td>273</td>\n",
       "      <td>Sanislo Elementary</td>\n",
       "      <td>4</td>\n",
       "      <td>2017-18</td>\n",
       "      <td>Spring</td>\n",
       "      <td>273</td>\n",
       "      <td>Sanislo Elementary</td>\n",
       "      <td>3</td>\n",
       "      <td>Reading/ELA</td>\n",
       "      <td>Access to Instruction &amp; Measurement</td>\n",
       "      <td>TS</td>\n",
       "      <td>Tested</td>\n",
       "      <td>123.0</td>\n",
       "      <td>L2</td>\n",
       "      <td>N</td>\n",
       "    </tr>\n",
       "    <tr>\n",
       "      <td>21891</td>\n",
       "      <td>3173748</td>\n",
       "      <td>268</td>\n",
       "      <td>Sacajawea Elementary</td>\n",
       "      <td>4</td>\n",
       "      <td>2017-18</td>\n",
       "      <td>Spring</td>\n",
       "      <td>268</td>\n",
       "      <td>Sacajawea Elementary</td>\n",
       "      <td>3</td>\n",
       "      <td>Reading/ELA</td>\n",
       "      <td>Access to Instruction &amp; Measurement</td>\n",
       "      <td>TS</td>\n",
       "      <td>Tested</td>\n",
       "      <td>101.0</td>\n",
       "      <td>L1</td>\n",
       "      <td>N</td>\n",
       "    </tr>\n",
       "    <tr>\n",
       "      <td>22092</td>\n",
       "      <td>6890458</td>\n",
       "      <td>207</td>\n",
       "      <td>Martin Luther King Jr. Elementary</td>\n",
       "      <td>4</td>\n",
       "      <td>2017-18</td>\n",
       "      <td>Spring</td>\n",
       "      <td>207</td>\n",
       "      <td>Martin Luther King Jr. Elementary</td>\n",
       "      <td>3</td>\n",
       "      <td>Reading/ELA</td>\n",
       "      <td>Access to Instruction &amp; Measurement</td>\n",
       "      <td>TS</td>\n",
       "      <td>Tested</td>\n",
       "      <td>118.0</td>\n",
       "      <td>L2</td>\n",
       "      <td>N</td>\n",
       "    </tr>\n",
       "    <tr>\n",
       "      <td>24948</td>\n",
       "      <td>3130454</td>\n",
       "      <td>207</td>\n",
       "      <td>Martin Luther King Jr. Elementary</td>\n",
       "      <td>4</td>\n",
       "      <td>2017-18</td>\n",
       "      <td>Spring</td>\n",
       "      <td>207</td>\n",
       "      <td>Martin Luther King Jr. Elementary</td>\n",
       "      <td>3</td>\n",
       "      <td>Reading/ELA</td>\n",
       "      <td>Access to Instruction &amp; Measurement</td>\n",
       "      <td>TS</td>\n",
       "      <td>Tested</td>\n",
       "      <td>118.0</td>\n",
       "      <td>L2</td>\n",
       "      <td>N</td>\n",
       "    </tr>\n",
       "    <tr>\n",
       "      <td>25954</td>\n",
       "      <td>6568418</td>\n",
       "      <td>245</td>\n",
       "      <td>Lowell Elementary</td>\n",
       "      <td>4</td>\n",
       "      <td>2017-18</td>\n",
       "      <td>Spring</td>\n",
       "      <td>245</td>\n",
       "      <td>Lowell Elementary</td>\n",
       "      <td>3</td>\n",
       "      <td>Reading/ELA</td>\n",
       "      <td>Access to Instruction &amp; Measurement</td>\n",
       "      <td>TS</td>\n",
       "      <td>Tested</td>\n",
       "      <td>113.0</td>\n",
       "      <td>L2</td>\n",
       "      <td>N</td>\n",
       "    </tr>\n",
       "    <tr>\n",
       "      <td>31214</td>\n",
       "      <td>3495750</td>\n",
       "      <td>207</td>\n",
       "      <td>Martin Luther King Jr. Elementary</td>\n",
       "      <td>4</td>\n",
       "      <td>2017-18</td>\n",
       "      <td>Spring</td>\n",
       "      <td>207</td>\n",
       "      <td>Martin Luther King Jr. Elementary</td>\n",
       "      <td>3</td>\n",
       "      <td>Reading/ELA</td>\n",
       "      <td>Access to Instruction &amp; Measurement</td>\n",
       "      <td>TS</td>\n",
       "      <td>Tested</td>\n",
       "      <td>118.0</td>\n",
       "      <td>L2</td>\n",
       "      <td>N</td>\n",
       "    </tr>\n",
       "    <tr>\n",
       "      <td>31216</td>\n",
       "      <td>3470750</td>\n",
       "      <td>207</td>\n",
       "      <td>Martin Luther King Jr. Elementary</td>\n",
       "      <td>4</td>\n",
       "      <td>2017-18</td>\n",
       "      <td>Spring</td>\n",
       "      <td>207</td>\n",
       "      <td>Martin Luther King Jr. Elementary</td>\n",
       "      <td>3</td>\n",
       "      <td>Reading/ELA</td>\n",
       "      <td>Access to Instruction &amp; Measurement</td>\n",
       "      <td>TS</td>\n",
       "      <td>Tested</td>\n",
       "      <td>118.0</td>\n",
       "      <td>L2</td>\n",
       "      <td>N</td>\n",
       "    </tr>\n",
       "    <tr>\n",
       "      <td>33085</td>\n",
       "      <td>3007739</td>\n",
       "      <td>236</td>\n",
       "      <td>West Seattle Elementary</td>\n",
       "      <td>4</td>\n",
       "      <td>2017-18</td>\n",
       "      <td>Spring</td>\n",
       "      <td>236</td>\n",
       "      <td>West Seattle Elementary</td>\n",
       "      <td>3</td>\n",
       "      <td>Reading/ELA</td>\n",
       "      <td>Access to Instruction &amp; Measurement</td>\n",
       "      <td>TS</td>\n",
       "      <td>Tested</td>\n",
       "      <td>126.0</td>\n",
       "      <td>L3</td>\n",
       "      <td>Y</td>\n",
       "    </tr>\n",
       "    <tr>\n",
       "      <td>33651</td>\n",
       "      <td>6009581</td>\n",
       "      <td>236</td>\n",
       "      <td>West Seattle Elementary</td>\n",
       "      <td>4</td>\n",
       "      <td>2017-18</td>\n",
       "      <td>Spring</td>\n",
       "      <td>236</td>\n",
       "      <td>West Seattle Elementary</td>\n",
       "      <td>3</td>\n",
       "      <td>Reading/ELA</td>\n",
       "      <td>Access to Instruction &amp; Measurement</td>\n",
       "      <td>TS</td>\n",
       "      <td>Tested</td>\n",
       "      <td>134.0</td>\n",
       "      <td>L3</td>\n",
       "      <td>Y</td>\n",
       "    </tr>\n",
       "    <tr>\n",
       "      <td>36226</td>\n",
       "      <td>3492443</td>\n",
       "      <td>275</td>\n",
       "      <td>Van Asselt Elementary</td>\n",
       "      <td>4</td>\n",
       "      <td>2017-18</td>\n",
       "      <td>Spring</td>\n",
       "      <td>275</td>\n",
       "      <td>Van Asselt Elementary</td>\n",
       "      <td>3</td>\n",
       "      <td>Reading/ELA</td>\n",
       "      <td>Access to Instruction &amp; Measurement</td>\n",
       "      <td>TS</td>\n",
       "      <td>Tested</td>\n",
       "      <td>116.0</td>\n",
       "      <td>L2</td>\n",
       "      <td>N</td>\n",
       "    </tr>\n",
       "    <tr>\n",
       "      <td>38596</td>\n",
       "      <td>3004416</td>\n",
       "      <td>212</td>\n",
       "      <td>Thurgood Marshall Elementary</td>\n",
       "      <td>4</td>\n",
       "      <td>2017-18</td>\n",
       "      <td>Spring</td>\n",
       "      <td>212</td>\n",
       "      <td>Thurgood Marshall Elementary</td>\n",
       "      <td>3</td>\n",
       "      <td>Reading/ELA</td>\n",
       "      <td>Access to Instruction &amp; Measurement</td>\n",
       "      <td>TS</td>\n",
       "      <td>Tested</td>\n",
       "      <td>188.0</td>\n",
       "      <td>L4</td>\n",
       "      <td>Y</td>\n",
       "    </tr>\n",
       "    <tr>\n",
       "      <td>41662</td>\n",
       "      <td>3081744</td>\n",
       "      <td>972</td>\n",
       "      <td>Louisa Boren STEM K-8 School</td>\n",
       "      <td>4</td>\n",
       "      <td>2017-18</td>\n",
       "      <td>Spring</td>\n",
       "      <td>972</td>\n",
       "      <td>Louisa Boren STEM K-8 School</td>\n",
       "      <td>3</td>\n",
       "      <td>Reading/ELA</td>\n",
       "      <td>Access to Instruction &amp; Measurement</td>\n",
       "      <td>TS</td>\n",
       "      <td>Tested</td>\n",
       "      <td>136.0</td>\n",
       "      <td>L3</td>\n",
       "      <td>Y</td>\n",
       "    </tr>\n",
       "    <tr>\n",
       "      <td>41863</td>\n",
       "      <td>3703746</td>\n",
       "      <td>236</td>\n",
       "      <td>West Seattle Elementary</td>\n",
       "      <td>4</td>\n",
       "      <td>2017-18</td>\n",
       "      <td>Spring</td>\n",
       "      <td>236</td>\n",
       "      <td>West Seattle Elementary</td>\n",
       "      <td>3</td>\n",
       "      <td>Reading/ELA</td>\n",
       "      <td>Access to Instruction &amp; Measurement</td>\n",
       "      <td>TS</td>\n",
       "      <td>Tested</td>\n",
       "      <td>162.0</td>\n",
       "      <td>L4</td>\n",
       "      <td>Y</td>\n",
       "    </tr>\n",
       "    <tr>\n",
       "      <td>45017</td>\n",
       "      <td>3086796</td>\n",
       "      <td>264</td>\n",
       "      <td>Rainier View Elementary</td>\n",
       "      <td>4</td>\n",
       "      <td>2017-18</td>\n",
       "      <td>Spring</td>\n",
       "      <td>264</td>\n",
       "      <td>Rainier View Elementary</td>\n",
       "      <td>3</td>\n",
       "      <td>Reading/ELA</td>\n",
       "      <td>Access to Instruction &amp; Measurement</td>\n",
       "      <td>TS</td>\n",
       "      <td>Tested</td>\n",
       "      <td>147.0</td>\n",
       "      <td>L3</td>\n",
       "      <td>Y</td>\n",
       "    </tr>\n",
       "    <tr>\n",
       "      <td>49779</td>\n",
       "      <td>3494755</td>\n",
       "      <td>212</td>\n",
       "      <td>Thurgood Marshall Elementary</td>\n",
       "      <td>4</td>\n",
       "      <td>2017-18</td>\n",
       "      <td>Spring</td>\n",
       "      <td>212</td>\n",
       "      <td>Thurgood Marshall Elementary</td>\n",
       "      <td>3</td>\n",
       "      <td>Reading/ELA</td>\n",
       "      <td>Access to Instruction &amp; Measurement</td>\n",
       "      <td>TS</td>\n",
       "      <td>Tested</td>\n",
       "      <td>115.0</td>\n",
       "      <td>L2</td>\n",
       "      <td>N</td>\n",
       "    </tr>\n",
       "    <tr>\n",
       "      <td>52547</td>\n",
       "      <td>3241784</td>\n",
       "      <td>275</td>\n",
       "      <td>Van Asselt Elementary</td>\n",
       "      <td>4</td>\n",
       "      <td>2017-18</td>\n",
       "      <td>Spring</td>\n",
       "      <td>275</td>\n",
       "      <td>Van Asselt Elementary</td>\n",
       "      <td>3</td>\n",
       "      <td>Reading/ELA</td>\n",
       "      <td>Access to Instruction &amp; Measurement</td>\n",
       "      <td>TS</td>\n",
       "      <td>Tested</td>\n",
       "      <td>131.0</td>\n",
       "      <td>L3</td>\n",
       "      <td>Y</td>\n",
       "    </tr>\n",
       "    <tr>\n",
       "      <td>54502</td>\n",
       "      <td>3837457</td>\n",
       "      <td>930</td>\n",
       "      <td>Pathfinder K-8 School</td>\n",
       "      <td>4</td>\n",
       "      <td>2017-18</td>\n",
       "      <td>Spring</td>\n",
       "      <td>930</td>\n",
       "      <td>Pathfinder K-8 School</td>\n",
       "      <td>3</td>\n",
       "      <td>Reading/ELA</td>\n",
       "      <td>Access to Instruction &amp; Measurement</td>\n",
       "      <td>TS</td>\n",
       "      <td>Tested</td>\n",
       "      <td>168.0</td>\n",
       "      <td>L4</td>\n",
       "      <td>Y</td>\n",
       "    </tr>\n",
       "    <tr>\n",
       "      <td>57119</td>\n",
       "      <td>3154414</td>\n",
       "      <td>273</td>\n",
       "      <td>Sanislo Elementary</td>\n",
       "      <td>4</td>\n",
       "      <td>2017-18</td>\n",
       "      <td>Spring</td>\n",
       "      <td>273</td>\n",
       "      <td>Sanislo Elementary</td>\n",
       "      <td>3</td>\n",
       "      <td>Reading/ELA</td>\n",
       "      <td>Access to Instruction &amp; Measurement</td>\n",
       "      <td>TS</td>\n",
       "      <td>Tested</td>\n",
       "      <td>170.0</td>\n",
       "      <td>L4</td>\n",
       "      <td>Y</td>\n",
       "    </tr>\n",
       "    <tr>\n",
       "      <td>60105</td>\n",
       "      <td>3758792</td>\n",
       "      <td>236</td>\n",
       "      <td>West Seattle Elementary</td>\n",
       "      <td>4</td>\n",
       "      <td>2017-18</td>\n",
       "      <td>Spring</td>\n",
       "      <td>236</td>\n",
       "      <td>West Seattle Elementary</td>\n",
       "      <td>3</td>\n",
       "      <td>Reading/ELA</td>\n",
       "      <td>Access to Instruction &amp; Measurement</td>\n",
       "      <td>TS</td>\n",
       "      <td>Tested</td>\n",
       "      <td>127.0</td>\n",
       "      <td>L3</td>\n",
       "      <td>Y</td>\n",
       "    </tr>\n",
       "    <tr>\n",
       "      <td>60325</td>\n",
       "      <td>3294713</td>\n",
       "      <td>286</td>\n",
       "      <td>Wing Luke Elementary</td>\n",
       "      <td>4</td>\n",
       "      <td>2017-18</td>\n",
       "      <td>Spring</td>\n",
       "      <td>286</td>\n",
       "      <td>Wing Luke Elementary</td>\n",
       "      <td>3</td>\n",
       "      <td>Reading/ELA</td>\n",
       "      <td>Access to Instruction &amp; Measurement</td>\n",
       "      <td>TS</td>\n",
       "      <td>Tested</td>\n",
       "      <td>138.0</td>\n",
       "      <td>L3</td>\n",
       "      <td>Y</td>\n",
       "    </tr>\n",
       "    <tr>\n",
       "      <td>62550</td>\n",
       "      <td>3566417</td>\n",
       "      <td>267</td>\n",
       "      <td>Roxhill Elementary</td>\n",
       "      <td>4</td>\n",
       "      <td>2017-18</td>\n",
       "      <td>Spring</td>\n",
       "      <td>267</td>\n",
       "      <td>Roxhill Elementary</td>\n",
       "      <td>3</td>\n",
       "      <td>Reading/ELA</td>\n",
       "      <td>Access to Instruction &amp; Measurement</td>\n",
       "      <td>TS</td>\n",
       "      <td>Tested</td>\n",
       "      <td>174.0</td>\n",
       "      <td>L4</td>\n",
       "      <td>Y</td>\n",
       "    </tr>\n",
       "  </tbody>\n",
       "</table>\n",
       "</div>"
      ],
      "text/plain": [
       "       StudentID  CurrentEnrollmentSchoolID  \\\n",
       "474      3019447                        245   \n",
       "4756     6848596                        229   \n",
       "5851     3968480                        930   \n",
       "7105     3881712                        930   \n",
       "10288    3148447                        212   \n",
       "12835    3462714                        236   \n",
       "13827    3565756                        212   \n",
       "20011    3518483                        220   \n",
       "21412    6618723                        273   \n",
       "21891    3173748                        268   \n",
       "22092    6890458                        207   \n",
       "24948    3130454                        207   \n",
       "25954    6568418                        245   \n",
       "31214    3495750                        207   \n",
       "31216    3470750                        207   \n",
       "33085    3007739                        236   \n",
       "33651    6009581                        236   \n",
       "36226    3492443                        275   \n",
       "38596    3004416                        212   \n",
       "41662    3081744                        972   \n",
       "41863    3703746                        236   \n",
       "45017    3086796                        264   \n",
       "49779    3494755                        212   \n",
       "52547    3241784                        275   \n",
       "54502    3837457                        930   \n",
       "57119    3154414                        273   \n",
       "60105    3758792                        236   \n",
       "60325    3294713                        286   \n",
       "62550    3566417                        267   \n",
       "\n",
       "             CurrentEnrollmentSchoolName  CurrentGrade TestSchoolYear  \\\n",
       "474                    Lowell Elementary             4        2017-18   \n",
       "4756               Green Lake Elementary             4        2017-18   \n",
       "5851               Pathfinder K-8 School             4        2017-18   \n",
       "7105               Pathfinder K-8 School             4        2017-18   \n",
       "10288       Thurgood Marshall Elementary             4        2017-18   \n",
       "12835            West Seattle Elementary             4        2017-18   \n",
       "13827       Thurgood Marshall Elementary             4        2017-18   \n",
       "20011             Graham Hill Elementary             4        2017-18   \n",
       "21412                 Sanislo Elementary             4        2017-18   \n",
       "21891               Sacajawea Elementary             4        2017-18   \n",
       "22092  Martin Luther King Jr. Elementary             4        2017-18   \n",
       "24948  Martin Luther King Jr. Elementary             4        2017-18   \n",
       "25954                  Lowell Elementary             4        2017-18   \n",
       "31214  Martin Luther King Jr. Elementary             4        2017-18   \n",
       "31216  Martin Luther King Jr. Elementary             4        2017-18   \n",
       "33085            West Seattle Elementary             4        2017-18   \n",
       "33651            West Seattle Elementary             4        2017-18   \n",
       "36226              Van Asselt Elementary             4        2017-18   \n",
       "38596       Thurgood Marshall Elementary             4        2017-18   \n",
       "41662       Louisa Boren STEM K-8 School             4        2017-18   \n",
       "41863            West Seattle Elementary             4        2017-18   \n",
       "45017            Rainier View Elementary             4        2017-18   \n",
       "49779       Thurgood Marshall Elementary             4        2017-18   \n",
       "52547              Van Asselt Elementary             4        2017-18   \n",
       "54502              Pathfinder K-8 School             4        2017-18   \n",
       "57119                 Sanislo Elementary             4        2017-18   \n",
       "60105            West Seattle Elementary             4        2017-18   \n",
       "60325               Wing Luke Elementary             4        2017-18   \n",
       "62550                 Roxhill Elementary             4        2017-18   \n",
       "\n",
       "      TestSeason  TestSchoolID                     TestSchoolName  TestGrade  \\\n",
       "474       Spring           245                  Lowell Elementary          3   \n",
       "4756      Spring           277              View Ridge Elementary          3   \n",
       "5851      Spring           930              Pathfinder K-8 School          3   \n",
       "7105      Spring           930              Pathfinder K-8 School          3   \n",
       "10288     Spring           212       Thurgood Marshall Elementary          3   \n",
       "12835     Spring           267                 Roxhill Elementary          3   \n",
       "13827     Spring           212       Thurgood Marshall Elementary          3   \n",
       "20011     Spring           220             Graham Hill Elementary          3   \n",
       "21412     Spring           273                 Sanislo Elementary          3   \n",
       "21891     Spring           268               Sacajawea Elementary          3   \n",
       "22092     Spring           207  Martin Luther King Jr. Elementary          3   \n",
       "24948     Spring           207  Martin Luther King Jr. Elementary          3   \n",
       "25954     Spring           245                  Lowell Elementary          3   \n",
       "31214     Spring           207  Martin Luther King Jr. Elementary          3   \n",
       "31216     Spring           207  Martin Luther King Jr. Elementary          3   \n",
       "33085     Spring           236            West Seattle Elementary          3   \n",
       "33651     Spring           236            West Seattle Elementary          3   \n",
       "36226     Spring           275              Van Asselt Elementary          3   \n",
       "38596     Spring           212       Thurgood Marshall Elementary          3   \n",
       "41662     Spring           972       Louisa Boren STEM K-8 School          3   \n",
       "41863     Spring           236            West Seattle Elementary          3   \n",
       "45017     Spring           264            Rainier View Elementary          3   \n",
       "49779     Spring           212       Thurgood Marshall Elementary          3   \n",
       "52547     Spring           275              Van Asselt Elementary          3   \n",
       "54502     Spring           930              Pathfinder K-8 School          3   \n",
       "57119     Spring           273                 Sanislo Elementary          3   \n",
       "60105     Spring           236            West Seattle Elementary          3   \n",
       "60325     Spring           286               Wing Luke Elementary          3   \n",
       "62550     Spring           267                 Roxhill Elementary          3   \n",
       "\n",
       "       SubjectArea                             TestName AttemptCode Attempt  \\\n",
       "474    Reading/ELA  Access to Instruction & Measurement          TS  Tested   \n",
       "4756   Reading/ELA  Access to Instruction & Measurement          TS  Tested   \n",
       "5851   Reading/ELA  Access to Instruction & Measurement          TS  Tested   \n",
       "7105   Reading/ELA  Access to Instruction & Measurement          TS  Tested   \n",
       "10288  Reading/ELA  Access to Instruction & Measurement          TS  Tested   \n",
       "12835  Reading/ELA  Access to Instruction & Measurement          TS  Tested   \n",
       "13827  Reading/ELA  Access to Instruction & Measurement          TS  Tested   \n",
       "20011  Reading/ELA  Access to Instruction & Measurement          TS  Tested   \n",
       "21412  Reading/ELA  Access to Instruction & Measurement          TS  Tested   \n",
       "21891  Reading/ELA  Access to Instruction & Measurement          TS  Tested   \n",
       "22092  Reading/ELA  Access to Instruction & Measurement          TS  Tested   \n",
       "24948  Reading/ELA  Access to Instruction & Measurement          TS  Tested   \n",
       "25954  Reading/ELA  Access to Instruction & Measurement          TS  Tested   \n",
       "31214  Reading/ELA  Access to Instruction & Measurement          TS  Tested   \n",
       "31216  Reading/ELA  Access to Instruction & Measurement          TS  Tested   \n",
       "33085  Reading/ELA  Access to Instruction & Measurement          TS  Tested   \n",
       "33651  Reading/ELA  Access to Instruction & Measurement          TS  Tested   \n",
       "36226  Reading/ELA  Access to Instruction & Measurement          TS  Tested   \n",
       "38596  Reading/ELA  Access to Instruction & Measurement          TS  Tested   \n",
       "41662  Reading/ELA  Access to Instruction & Measurement          TS  Tested   \n",
       "41863  Reading/ELA  Access to Instruction & Measurement          TS  Tested   \n",
       "45017  Reading/ELA  Access to Instruction & Measurement          TS  Tested   \n",
       "49779  Reading/ELA  Access to Instruction & Measurement          TS  Tested   \n",
       "52547  Reading/ELA  Access to Instruction & Measurement          TS  Tested   \n",
       "54502  Reading/ELA  Access to Instruction & Measurement          TS  Tested   \n",
       "57119  Reading/ELA  Access to Instruction & Measurement          TS  Tested   \n",
       "60105  Reading/ELA  Access to Instruction & Measurement          TS  Tested   \n",
       "60325  Reading/ELA  Access to Instruction & Measurement          TS  Tested   \n",
       "62550  Reading/ELA  Access to Instruction & Measurement          TS  Tested   \n",
       "\n",
       "       Score LevelCode MetStandard  \n",
       "474    116.0        L2           N  \n",
       "4756   135.0        L3           Y  \n",
       "5851   176.0        L4           Y  \n",
       "7105   180.0        L4           Y  \n",
       "10288  173.0        L4           Y  \n",
       "12835  135.0        L3           Y  \n",
       "13827  115.0        L2           N  \n",
       "20011  138.0        L3           Y  \n",
       "21412  123.0        L2           N  \n",
       "21891  101.0        L1           N  \n",
       "22092  118.0        L2           N  \n",
       "24948  118.0        L2           N  \n",
       "25954  113.0        L2           N  \n",
       "31214  118.0        L2           N  \n",
       "31216  118.0        L2           N  \n",
       "33085  126.0        L3           Y  \n",
       "33651  134.0        L3           Y  \n",
       "36226  116.0        L2           N  \n",
       "38596  188.0        L4           Y  \n",
       "41662  136.0        L3           Y  \n",
       "41863  162.0        L4           Y  \n",
       "45017  147.0        L3           Y  \n",
       "49779  115.0        L2           N  \n",
       "52547  131.0        L3           Y  \n",
       "54502  168.0        L4           Y  \n",
       "57119  170.0        L4           Y  \n",
       "60105  127.0        L3           Y  \n",
       "60325  138.0        L3           Y  \n",
       "62550  174.0        L4           Y  "
      ]
     },
     "execution_count": 69,
     "metadata": {},
     "output_type": "execute_result"
    }
   ],
   "source": [
    "targets_df[targets_df.Score<500].iloc[:,:16]"
   ]
  },
  {
   "cell_type": "code",
   "execution_count": 112,
   "metadata": {
    "ExecuteTime": {
     "end_time": "2019-10-23T05:14:42.552084Z",
     "start_time": "2019-10-23T05:14:42.535684Z"
    }
   },
   "outputs": [
    {
     "data": {
      "text/html": [
       "<div>\n",
       "<style scoped>\n",
       "    .dataframe tbody tr th:only-of-type {\n",
       "        vertical-align: middle;\n",
       "    }\n",
       "\n",
       "    .dataframe tbody tr th {\n",
       "        vertical-align: top;\n",
       "    }\n",
       "\n",
       "    .dataframe thead th {\n",
       "        text-align: right;\n",
       "    }\n",
       "</style>\n",
       "<table border=\"1\" class=\"dataframe\">\n",
       "  <thead>\n",
       "    <tr style=\"text-align: right;\">\n",
       "      <th></th>\n",
       "      <th>Last_G1_RIT</th>\n",
       "      <th>nTreatments</th>\n",
       "      <th>Score</th>\n",
       "      <th>LevelCode</th>\n",
       "      <th>MetStandard</th>\n",
       "    </tr>\n",
       "    <tr>\n",
       "      <th>StudentID</th>\n",
       "      <th></th>\n",
       "      <th></th>\n",
       "      <th></th>\n",
       "      <th></th>\n",
       "      <th></th>\n",
       "    </tr>\n",
       "  </thead>\n",
       "  <tbody>\n",
       "    <tr>\n",
       "      <td>3967736</td>\n",
       "      <td>178.0</td>\n",
       "      <td>0</td>\n",
       "      <td>2370.0</td>\n",
       "      <td>L2</td>\n",
       "      <td>0</td>\n",
       "    </tr>\n",
       "    <tr>\n",
       "      <td>3381735</td>\n",
       "      <td>173.0</td>\n",
       "      <td>0</td>\n",
       "      <td>2418.0</td>\n",
       "      <td>L2</td>\n",
       "      <td>0</td>\n",
       "    </tr>\n",
       "    <tr>\n",
       "      <td>3567417</td>\n",
       "      <td>196.0</td>\n",
       "      <td>0</td>\n",
       "      <td>2509.0</td>\n",
       "      <td>L4</td>\n",
       "      <td>1</td>\n",
       "    </tr>\n",
       "    <tr>\n",
       "      <td>3130417</td>\n",
       "      <td>211.0</td>\n",
       "      <td>0</td>\n",
       "      <td>2525.0</td>\n",
       "      <td>L4</td>\n",
       "      <td>1</td>\n",
       "    </tr>\n",
       "    <tr>\n",
       "      <td>3670417</td>\n",
       "      <td>192.0</td>\n",
       "      <td>0</td>\n",
       "      <td>2546.0</td>\n",
       "      <td>L4</td>\n",
       "      <td>1</td>\n",
       "    </tr>\n",
       "    <tr>\n",
       "      <td>...</td>\n",
       "      <td>...</td>\n",
       "      <td>...</td>\n",
       "      <td>...</td>\n",
       "      <td>...</td>\n",
       "      <td>...</td>\n",
       "    </tr>\n",
       "    <tr>\n",
       "      <td>3388733</td>\n",
       "      <td>169.0</td>\n",
       "      <td>0</td>\n",
       "      <td>2444.0</td>\n",
       "      <td>L3</td>\n",
       "      <td>1</td>\n",
       "    </tr>\n",
       "    <tr>\n",
       "      <td>3842783</td>\n",
       "      <td>169.0</td>\n",
       "      <td>0</td>\n",
       "      <td>2448.0</td>\n",
       "      <td>L3</td>\n",
       "      <td>1</td>\n",
       "    </tr>\n",
       "    <tr>\n",
       "      <td>3973780</td>\n",
       "      <td>174.0</td>\n",
       "      <td>0</td>\n",
       "      <td>2452.0</td>\n",
       "      <td>L3</td>\n",
       "      <td>1</td>\n",
       "    </tr>\n",
       "    <tr>\n",
       "      <td>3641452</td>\n",
       "      <td>204.0</td>\n",
       "      <td>0</td>\n",
       "      <td>2596.0</td>\n",
       "      <td>L4</td>\n",
       "      <td>1</td>\n",
       "    </tr>\n",
       "    <tr>\n",
       "      <td>3311443</td>\n",
       "      <td>197.0</td>\n",
       "      <td>0</td>\n",
       "      <td>2388.0</td>\n",
       "      <td>L1</td>\n",
       "      <td>0</td>\n",
       "    </tr>\n",
       "  </tbody>\n",
       "</table>\n",
       "<p>3552 rows × 5 columns</p>\n",
       "</div>"
      ],
      "text/plain": [
       "           Last_G1_RIT  nTreatments   Score LevelCode  MetStandard\n",
       "StudentID                                                         \n",
       "3967736          178.0            0  2370.0        L2            0\n",
       "3381735          173.0            0  2418.0        L2            0\n",
       "3567417          196.0            0  2509.0        L4            1\n",
       "3130417          211.0            0  2525.0        L4            1\n",
       "3670417          192.0            0  2546.0        L4            1\n",
       "...                ...          ...     ...       ...          ...\n",
       "3388733          169.0            0  2444.0        L3            1\n",
       "3842783          169.0            0  2448.0        L3            1\n",
       "3973780          174.0            0  2452.0        L3            1\n",
       "3641452          204.0            0  2596.0        L4            1\n",
       "3311443          197.0            0  2388.0        L1            0\n",
       "\n",
       "[3552 rows x 5 columns]"
      ]
     },
     "execution_count": 112,
     "metadata": {},
     "output_type": "execute_result"
    }
   ],
   "source": [
    "df2=df.replace({'Y':1,'N':0})\n",
    "df2"
   ]
  },
  {
   "cell_type": "code",
   "execution_count": 114,
   "metadata": {
    "ExecuteTime": {
     "end_time": "2019-10-23T05:14:56.089476Z",
     "start_time": "2019-10-23T05:14:55.555374Z"
    },
    "scrolled": true
   },
   "outputs": [
    {
     "data": {
      "image/png": "[encoded data removed]",
      "text/plain": [
       "<Figure size 432x288 with 3 Axes>"
      ]
     },
     "metadata": {
      "image/png": {
       "height": 283,
       "width": 383
      },
      "needs_background": "light"
     },
     "output_type": "display_data"
    }
   ],
   "source": [
    "fig, ax_new = plt.subplots(1,3,sharey=False)\n",
    "bp = df2.boxplot(by='nTreatments',ax=ax_new)\n",
    "plt.ylim(bottom=2000);"
   ]
  },
  {
   "cell_type": "code",
   "execution_count": 52,
   "metadata": {
    "ExecuteTime": {
     "end_time": "2019-10-23T04:14:52.757167Z",
     "start_time": "2019-10-23T04:14:52.737120Z"
    }
   },
   "outputs": [
    {
     "data": {
      "text/html": [
       "<div>\n",
       "<style scoped>\n",
       "    .dataframe tbody tr th:only-of-type {\n",
       "        vertical-align: middle;\n",
       "    }\n",
       "\n",
       "    .dataframe tbody tr th {\n",
       "        vertical-align: top;\n",
       "    }\n",
       "\n",
       "    .dataframe thead th {\n",
       "        text-align: right;\n",
       "    }\n",
       "</style>\n",
       "<table border=\"1\" class=\"dataframe\">\n",
       "  <thead>\n",
       "    <tr style=\"text-align: right;\">\n",
       "      <th></th>\n",
       "      <th>0</th>\n",
       "      <th>1</th>\n",
       "      <th>2</th>\n",
       "    </tr>\n",
       "  </thead>\n",
       "  <tbody>\n",
       "    <tr>\n",
       "      <td>0</td>\n",
       "      <td>0</td>\n",
       "      <td>1.0</td>\n",
       "      <td>1.0</td>\n",
       "    </tr>\n",
       "    <tr>\n",
       "      <td>1</td>\n",
       "      <td>0</td>\n",
       "      <td>1.0</td>\n",
       "      <td>0.0</td>\n",
       "    </tr>\n",
       "    <tr>\n",
       "      <td>2</td>\n",
       "      <td>1</td>\n",
       "      <td>0.0</td>\n",
       "      <td>0.0</td>\n",
       "    </tr>\n",
       "    <tr>\n",
       "      <td>3</td>\n",
       "      <td>1</td>\n",
       "      <td>1.0</td>\n",
       "      <td>1.0</td>\n",
       "    </tr>\n",
       "    <tr>\n",
       "      <td>4</td>\n",
       "      <td>1</td>\n",
       "      <td>0.0</td>\n",
       "      <td>0.0</td>\n",
       "    </tr>\n",
       "    <tr>\n",
       "      <td>...</td>\n",
       "      <td>...</td>\n",
       "      <td>...</td>\n",
       "      <td>...</td>\n",
       "    </tr>\n",
       "    <tr>\n",
       "      <td>3164</td>\n",
       "      <td>1</td>\n",
       "      <td>NaN</td>\n",
       "      <td>NaN</td>\n",
       "    </tr>\n",
       "    <tr>\n",
       "      <td>3165</td>\n",
       "      <td>1</td>\n",
       "      <td>NaN</td>\n",
       "      <td>NaN</td>\n",
       "    </tr>\n",
       "    <tr>\n",
       "      <td>3166</td>\n",
       "      <td>1</td>\n",
       "      <td>NaN</td>\n",
       "      <td>NaN</td>\n",
       "    </tr>\n",
       "    <tr>\n",
       "      <td>3167</td>\n",
       "      <td>1</td>\n",
       "      <td>NaN</td>\n",
       "      <td>NaN</td>\n",
       "    </tr>\n",
       "    <tr>\n",
       "      <td>3168</td>\n",
       "      <td>0</td>\n",
       "      <td>NaN</td>\n",
       "      <td>NaN</td>\n",
       "    </tr>\n",
       "  </tbody>\n",
       "</table>\n",
       "<p>3169 rows × 3 columns</p>\n",
       "</div>"
      ],
      "text/plain": [
       "      0    1    2\n",
       "0     0  1.0  1.0\n",
       "1     0  1.0  0.0\n",
       "2     1  0.0  0.0\n",
       "3     1  1.0  1.0\n",
       "4     1  0.0  0.0\n",
       "...  ..  ...  ...\n",
       "3164  1  NaN  NaN\n",
       "3165  1  NaN  NaN\n",
       "3166  1  NaN  NaN\n",
       "3167  1  NaN  NaN\n",
       "3168  0  NaN  NaN\n",
       "\n",
       "[3169 rows x 3 columns]"
      ]
     },
     "execution_count": 52,
     "metadata": {},
     "output_type": "execute_result"
    }
   ],
   "source": [
    "Met0=pd.DataFrame(df[df.nTreatments==0].MetStandard.replace({'Y':1,'N':0}))\n",
    "Met1=pd.DataFrame(df[df.nTreatments==1].MetStandard.replace({'Y':1,'N':0}))\n",
    "Met2=pd.DataFrame(df[df.nTreatments==2].MetStandard.replace({'Y':1,'N':0}))\n",
    "Met=pd.concat([Met0.reset_index(drop=True),Met1.reset_index(drop=True),Met2.reset_index(drop=True)],axis=1,ignore_index=True)\n",
    "Met"
   ]
  },
  {
   "cell_type": "code",
   "execution_count": 54,
   "metadata": {
    "ExecuteTime": {
     "end_time": "2019-10-23T04:14:52.968065Z",
     "start_time": "2019-10-23T04:14:52.768573Z"
    }
   },
   "outputs": [
    {
     "data": {
      "image/png": "[encoded data removed]",
      "text/plain": [
       "<Figure size 432x288 with 1 Axes>"
      ]
     },
     "metadata": {
      "image/png": {
       "height": 248,
       "width": 370
      },
      "needs_background": "light"
     },
     "output_type": "display_data"
    }
   ],
   "source": [
    "fig, ax = plt.subplots()\n",
    "ax.boxplot([Met0.MetStandard,Met1.MetStandard,Met2.MetStandard]);"
   ]
  },
  {
   "cell_type": "code",
   "execution_count": 55,
   "metadata": {
    "ExecuteTime": {
     "end_time": "2019-10-23T04:14:53.167392Z",
     "start_time": "2019-10-23T04:14:52.969887Z"
    },
    "scrolled": true
   },
   "outputs": [
    {
     "data": {
      "image/png": "[encoded data removed]",
      "text/plain": [
       "<Figure size 432x288 with 1 Axes>"
      ]
     },
     "metadata": {
      "image/png": {
       "height": 248,
       "width": 370
      },
      "needs_background": "light"
     },
     "output_type": "display_data"
    }
   ],
   "source": [
    "boxplot = Met.boxplot()"
   ]
  },
  {
   "cell_type": "code",
   "execution_count": 56,
   "metadata": {
    "ExecuteTime": {
     "end_time": "2019-10-23T04:14:53.495031Z",
     "start_time": "2019-10-23T04:14:53.169441Z"
    }
   },
   "outputs": [
    {
     "data": {
      "image/png": "[encoded data removed]",
      "text/plain": [
       "<Figure size 432x288 with 1 Axes>"
      ]
     },
     "metadata": {
      "image/png": {
       "height": 249,
       "width": 375
      },
      "needs_background": "light"
     },
     "output_type": "display_data"
    }
   ],
   "source": [
    "fig, ax = plt.subplots()\n",
    "ax.scatter([0,1,2],[Met0.mean(),Met1.mean(),Met2.mean()]);"
   ]
  },
  {
   "cell_type": "code",
   "execution_count": 53,
   "metadata": {
    "ExecuteTime": {
     "end_time": "2019-10-23T04:14:52.766253Z",
     "start_time": "2019-10-23T04:14:52.759492Z"
    },
    "scrolled": true
   },
   "outputs": [
    {
     "data": {
      "text/plain": [
       "0.0    197\n",
       "1.0    132\n",
       "Name: 2, dtype: int64"
      ]
     },
     "execution_count": 53,
     "metadata": {},
     "output_type": "execute_result"
    }
   ],
   "source": [
    "Met[2].value_counts()"
   ]
  },
  {
   "cell_type": "code",
   "execution_count": 106,
   "metadata": {
    "ExecuteTime": {
     "end_time": "2019-10-23T05:10:17.407949Z",
     "start_time": "2019-10-23T05:10:17.404373Z"
    }
   },
   "outputs": [
    {
     "data": {
      "text/plain": [
       "0.4012158054711246"
      ]
     },
     "execution_count": 106,
     "metadata": {},
     "output_type": "execute_result"
    }
   ],
   "source": [
    "132/(132+197)"
   ]
  },
  {
   "cell_type": "code",
   "execution_count": null,
   "metadata": {},
   "outputs": [],
   "source": []
  }
 ],
 "metadata": {
  "kernelspec": {
   "display_name": "Python [conda env:metis] *",
   "language": "python",
   "name": "conda-env-metis-py"
  },
  "language_info": {
   "codemirror_mode": {
    "name": "ipython",
    "version": 3
   },
   "file_extension": ".py",
   "mimetype": "text/x-python",
   "name": "python",
   "nbconvert_exporter": "python",
   "pygments_lexer": "ipython3",
   "version": "3.7.3"
  },
  "toc": {
   "base_numbering": 1,
   "nav_menu": {},
   "number_sections": true,
   "sideBar": true,
   "skip_h1_title": false,
   "title_cell": "Table of Contents",
   "title_sidebar": "Contents",
   "toc_cell": false,
   "toc_position": {},
   "toc_section_display": true,
   "toc_window_display": false
  }
 },
 "nbformat": 4,
 "nbformat_minor": 2
}
